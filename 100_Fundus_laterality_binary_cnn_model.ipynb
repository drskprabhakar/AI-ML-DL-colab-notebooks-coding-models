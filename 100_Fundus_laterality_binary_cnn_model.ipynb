{
  "nbformat": 4,
  "nbformat_minor": 0,
  "metadata": {
    "colab": {
      "provenance": [],
      "mount_file_id": "16HvDrsYEy8u3FglrN-i9Q48VuzSmrcaa",
      "authorship_tag": "ABX9TyOx4PNcNZ9xNjm71bYVc66Y",
      "include_colab_link": true
    },
    "kernelspec": {
      "name": "python3",
      "display_name": "Python 3"
    },
    "language_info": {
      "name": "python"
    }
  },
  "cells": [
    {
      "cell_type": "markdown",
      "metadata": {
        "id": "view-in-github",
        "colab_type": "text"
      },
      "source": [
        "<a href=\"https://colab.research.google.com/github/drskprabhakar/Axial-Length-Prediction-ML-Regression-mode/blob/main/100_Fundus_laterality_binary_cnn_model.ipynb\" target=\"_parent\"><img src=\"https://colab.research.google.com/assets/colab-badge.svg\" alt=\"Open In Colab\"/></a>"
      ]
    },
    {
      "cell_type": "code",
      "execution_count": 2,
      "metadata": {
        "id": "h1oqYxMzj3ym"
      },
      "outputs": [],
      "source": [
        "import os\n",
        "import numpy as np"
      ]
    },
    {
      "cell_type": "code",
      "source": [
        "from keras.preprocessing.image import ImageDataGenerator\n",
        "datagen = ImageDataGenerator(rescale=1/255)\n",
        "\n",
        "trainimages = datagen.flow_from_directory('/content/drive/MyDrive/Nornal internet findus photos/split/train',\n",
        "                                          target_size=(64,64),\n",
        "                                          class_mode='binary')\n",
        "\n",
        "valimages = datagen.flow_from_directory('/content/drive/MyDrive/Nornal internet findus photos/split/val',\n",
        "                                        target_size=(64,64),\n",
        "                                        class_mode='binary')\n",
        "\n",
        "testimages = datagen.flow_from_directory('/content/drive/MyDrive/Nornal internet findus photos/split/test',\n",
        "                                         target_size=(64,64),\n",
        "                                         class_mode='binary')"
      ],
      "metadata": {
        "colab": {
          "base_uri": "https://localhost:8080/"
        },
        "id": "Y_TBhMn0lh5K",
        "outputId": "2a9a6d22-f32f-47ff-aa5a-662adcb42b6a"
      },
      "execution_count": 66,
      "outputs": [
        {
          "output_type": "stream",
          "name": "stdout",
          "text": [
            "Found 80 images belonging to 2 classes.\n",
            "Found 10 images belonging to 2 classes.\n",
            "Found 10 images belonging to 2 classes.\n"
          ]
        }
      ]
    },
    {
      "cell_type": "code",
      "source": [
        "from keras.models import Sequential\n",
        "from keras.layers import Conv2D, MaxPooling2D, Flatten, Dense\n",
        "\n",
        "model = Sequential([Conv2D(32,(3,3), activation='relu', input_shape=(64,64,3)),\n",
        "                    MaxPooling2D(2,2),\n",
        "\n",
        "                    Conv2D(64,(3,3), activation='relu'),\n",
        "                    MaxPooling2D(2,2),\n",
        "\n",
        "                    Conv2D(128,(3,3), activation='relu'),\n",
        "                    MaxPooling2D(2,2),\n",
        "                    Conv2D(128,(3,3), activation='relu'),\n",
        "                    MaxPooling2D(3,2),\n",
        "\n",
        "                    Flatten(),\n",
        "                    Dense(512, activation='relu'),\n",
        "\n",
        "                    Dense(1, activation='sigmoid')])\n",
        "\n",
        "model.compile(optimizer='adam',\n",
        "              loss='binary_crossentropy',\n",
        "              metrics=['accuracy'])\n",
        "model.summary()"
      ],
      "metadata": {
        "colab": {
          "base_uri": "https://localhost:8080/"
        },
        "id": "cvchGO1znTz3",
        "outputId": "79394b66-2060-437a-b718-9cad227761df"
      },
      "execution_count": 102,
      "outputs": [
        {
          "output_type": "stream",
          "name": "stdout",
          "text": [
            "Model: \"sequential_5\"\n",
            "_________________________________________________________________\n",
            " Layer (type)                Output Shape              Param #   \n",
            "=================================================================\n",
            " conv2d_15 (Conv2D)          (None, 62, 62, 32)        896       \n",
            "                                                                 \n",
            " max_pooling2d_15 (MaxPooli  (None, 31, 31, 32)        0         \n",
            " ng2D)                                                           \n",
            "                                                                 \n",
            " conv2d_16 (Conv2D)          (None, 29, 29, 64)        18496     \n",
            "                                                                 \n",
            " max_pooling2d_16 (MaxPooli  (None, 14, 14, 64)        0         \n",
            " ng2D)                                                           \n",
            "                                                                 \n",
            " conv2d_17 (Conv2D)          (None, 12, 12, 128)       73856     \n",
            "                                                                 \n",
            " max_pooling2d_17 (MaxPooli  (None, 6, 6, 128)         0         \n",
            " ng2D)                                                           \n",
            "                                                                 \n",
            " conv2d_18 (Conv2D)          (None, 4, 4, 128)         147584    \n",
            "                                                                 \n",
            " max_pooling2d_18 (MaxPooli  (None, 1, 1, 128)         0         \n",
            " ng2D)                                                           \n",
            "                                                                 \n",
            " flatten_5 (Flatten)         (None, 128)               0         \n",
            "                                                                 \n",
            " dense_11 (Dense)            (None, 512)               66048     \n",
            "                                                                 \n",
            " dense_12 (Dense)            (None, 1)                 513       \n",
            "                                                                 \n",
            "=================================================================\n",
            "Total params: 307393 (1.17 MB)\n",
            "Trainable params: 307393 (1.17 MB)\n",
            "Non-trainable params: 0 (0.00 Byte)\n",
            "_________________________________________________________________\n"
          ]
        }
      ]
    },
    {
      "cell_type": "code",
      "source": [
        "model.fit(trainimages,\n",
        "          batch_size=10,\n",
        "          epochs=10,\n",
        "          validation_data=valimages)\n",
        "model.save('binary_model.keras')"
      ],
      "metadata": {
        "colab": {
          "base_uri": "https://localhost:8080/"
        },
        "id": "ThHf36ggqIVp",
        "outputId": "297c1a91-5b13-4282-c328-9e01582e8f38"
      },
      "execution_count": 111,
      "outputs": [
        {
          "output_type": "stream",
          "name": "stdout",
          "text": [
            "Epoch 1/10\n",
            "3/3 [==============================] - 4s 2s/step - loss: 0.1834 - accuracy: 0.9375 - val_loss: 0.4182 - val_accuracy: 0.8000\n",
            "Epoch 2/10\n",
            "3/3 [==============================] - 3s 1s/step - loss: 0.1333 - accuracy: 0.9750 - val_loss: 0.4628 - val_accuracy: 0.8000\n",
            "Epoch 3/10\n",
            "3/3 [==============================] - 3s 1s/step - loss: 0.1428 - accuracy: 0.9750 - val_loss: 0.4323 - val_accuracy: 0.8000\n",
            "Epoch 4/10\n",
            "3/3 [==============================] - 3s 837ms/step - loss: 0.1009 - accuracy: 0.9750 - val_loss: 0.3750 - val_accuracy: 0.8000\n",
            "Epoch 5/10\n",
            "3/3 [==============================] - 4s 1s/step - loss: 0.1315 - accuracy: 0.9500 - val_loss: 0.4067 - val_accuracy: 0.8000\n",
            "Epoch 6/10\n",
            "3/3 [==============================] - 3s 1s/step - loss: 0.0971 - accuracy: 0.9750 - val_loss: 0.4386 - val_accuracy: 0.8000\n",
            "Epoch 7/10\n",
            "3/3 [==============================] - 3s 1s/step - loss: 0.0880 - accuracy: 0.9750 - val_loss: 0.4343 - val_accuracy: 0.8000\n",
            "Epoch 8/10\n",
            "3/3 [==============================] - 3s 1s/step - loss: 0.0795 - accuracy: 0.9750 - val_loss: 0.4108 - val_accuracy: 0.8000\n",
            "Epoch 9/10\n",
            "3/3 [==============================] - 3s 868ms/step - loss: 0.0974 - accuracy: 0.9750 - val_loss: 0.4682 - val_accuracy: 0.8000\n",
            "Epoch 10/10\n",
            "3/3 [==============================] - 3s 780ms/step - loss: 0.0878 - accuracy: 0.9750 - val_loss: 0.4197 - val_accuracy: 0.8000\n"
          ]
        }
      ]
    },
    {
      "cell_type": "code",
      "source": [
        "y_pred = model.predict(testimages)\n",
        "y_pred"
      ],
      "metadata": {
        "colab": {
          "base_uri": "https://localhost:8080/"
        },
        "id": "8Vg0uCNvrAlf",
        "outputId": "28bfb331-473a-494d-8bec-e872cd6bf20b"
      },
      "execution_count": 112,
      "outputs": [
        {
          "output_type": "stream",
          "name": "stdout",
          "text": [
            "1/1 [==============================] - 0s 81ms/step\n"
          ]
        },
        {
          "output_type": "execute_result",
          "data": {
            "text/plain": [
              "array([[1.1169433e-03],\n",
              "       [9.9933785e-01],\n",
              "       [5.5147060e-03],\n",
              "       [7.0997789e-03],\n",
              "       [9.3833503e-04],\n",
              "       [9.9579602e-01],\n",
              "       [9.7345108e-01],\n",
              "       [9.9829060e-01],\n",
              "       [9.7727126e-01],\n",
              "       [4.4244779e-03]], dtype=float32)"
            ]
          },
          "metadata": {},
          "execution_count": 112
        }
      ]
    },
    {
      "cell_type": "code",
      "source": [
        "y_pred[y_pred<=0.5]=0\n",
        "y_pred[y_pred>0.5]=1"
      ],
      "metadata": {
        "id": "C7TpuYtxrBkI"
      },
      "execution_count": 113,
      "outputs": []
    },
    {
      "cell_type": "code",
      "source": [
        "y_true = testimages.classes\n",
        "y_true"
      ],
      "metadata": {
        "colab": {
          "base_uri": "https://localhost:8080/"
        },
        "id": "ByH0dmXHrk2g",
        "outputId": "f9a2f767-f02f-4e18-99d6-a2f34217af44"
      },
      "execution_count": 21,
      "outputs": [
        {
          "output_type": "execute_result",
          "data": {
            "text/plain": [
              "array([0, 0, 0, 0, 0, 1, 1, 1, 1, 1], dtype=int32)"
            ]
          },
          "metadata": {},
          "execution_count": 21
        }
      ]
    },
    {
      "cell_type": "code",
      "source": [
        "testimages.class_indices"
      ],
      "metadata": {
        "colab": {
          "base_uri": "https://localhost:8080/"
        },
        "id": "6UGkV-d6rsqB",
        "outputId": "0f635df0-c175-4bc0-910c-26f8628c6f03"
      },
      "execution_count": 25,
      "outputs": [
        {
          "output_type": "execute_result",
          "data": {
            "text/plain": [
              "{'LE fundus': 0, 'RE fundus': 1}"
            ]
          },
          "metadata": {},
          "execution_count": 25
        }
      ]
    },
    {
      "cell_type": "code",
      "source": [
        "from sklearn import metrics\n",
        "metrics.confusion_matrix(y_true, y_pred)"
      ],
      "metadata": {
        "colab": {
          "base_uri": "https://localhost:8080/"
        },
        "id": "AJ3Duc6ksZkh",
        "outputId": "5e31c3ef-2c06-4103-f90e-e8cc9045f9fe"
      },
      "execution_count": 114,
      "outputs": [
        {
          "output_type": "execute_result",
          "data": {
            "text/plain": [
              "array([[4, 1],\n",
              "       [1, 4]])"
            ]
          },
          "metadata": {},
          "execution_count": 114
        }
      ]
    },
    {
      "cell_type": "code",
      "source": [
        "metrics.ConfusionMatrixDisplay.from_predictions(y_true, y_pred)"
      ],
      "metadata": {
        "colab": {
          "base_uri": "https://localhost:8080/",
          "height": 473
        },
        "id": "blFrphPO08kI",
        "outputId": "48ddf3b9-c47b-4d67-9640-3c60c5947517"
      },
      "execution_count": 115,
      "outputs": [
        {
          "output_type": "execute_result",
          "data": {
            "text/plain": [
              "<sklearn.metrics._plot.confusion_matrix.ConfusionMatrixDisplay at 0x7b20bc3bc3d0>"
            ]
          },
          "metadata": {},
          "execution_count": 115
        },
        {
          "output_type": "display_data",
          "data": {
            "text/plain": [
              "<Figure size 640x480 with 2 Axes>"
            ],
            "image/png": "[encoded data removed]"
          },
          "metadata": {}
        }
      ]
    },
    {
      "cell_type": "code",
      "source": [
        "print(metrics.classification_report(y_true, y_pred,\n",
        "                                    target_names=['LE Fundus', 'RE Fundus']))\n"
      ],
      "metadata": {
        "colab": {
          "base_uri": "https://localhost:8080/"
        },
        "id": "us4GlouMxar2",
        "outputId": "be3e5682-4542-4ed7-80de-670d67a1b0ed"
      },
      "execution_count": 116,
      "outputs": [
        {
          "output_type": "stream",
          "name": "stdout",
          "text": [
            "              precision    recall  f1-score   support\n",
            "\n",
            "   LE Fundus       0.80      0.80      0.80         5\n",
            "   RE Fundus       0.80      0.80      0.80         5\n",
            "\n",
            "    accuracy                           0.80        10\n",
            "   macro avg       0.80      0.80      0.80        10\n",
            "weighted avg       0.80      0.80      0.80        10\n",
            "\n"
          ]
        }
      ]
    },
    {
      "cell_type": "code",
      "source": [
        "metrics.RocCurveDisplay.from_predictions(y_true, y_pred)"
      ],
      "metadata": {
        "colab": {
          "base_uri": "https://localhost:8080/",
          "height": 467
        },
        "id": "QupQV66zxa6h",
        "outputId": "033c3acf-fb05-479c-e62d-b4a1958aecef"
      },
      "execution_count": 117,
      "outputs": [
        {
          "output_type": "execute_result",
          "data": {
            "text/plain": [
              "<sklearn.metrics._plot.roc_curve.RocCurveDisplay at 0x7b20bc3bca90>"
            ]
          },
          "metadata": {},
          "execution_count": 117
        },
        {
          "output_type": "display_data",
          "data": {
            "text/plain": [
              "<Figure size 640x480 with 1 Axes>"
            ],
            "image/png": "[encoded data removed]"
          },
          "metadata": {}
        }
      ]
    },
    {
      "cell_type": "code",
      "source": [
        "from tensorflow.keras.preprocessing import image\n",
        "from tensorflow.keras.models import load_model\n",
        "\n",
        "# Load the trained CNN model\n",
        "model = load_model('/content/binary_model.keras') # Provide the path to your trained model file\n",
        "\n",
        "# Define a function to predict unknown images\n",
        "def predict_unknown_image(image_path):\n",
        "    img = image.load_img(image_path, target_size=(64,64))  # Assuming images are resized to 150x150\n",
        "    img_array = image.img_to_array(img)\n",
        "    img_array = np.expand_dims(img_array, axis=0)  # Expand dimensions to match batch size\n",
        "    img_array /= 255.0  # Normalize pixel values\n",
        "\n",
        "    prediction = model.predict(img_array)\n",
        "    if prediction[0][0] < 0.5:\n",
        "        return \"left eye fundus\"  # Example class names, modify as per your binary classes\n",
        "    else:\n",
        "        return \"right eye fundus\"\n",
        "\n",
        "# Example usage:\n",
        "unknown_image_path = \"/content/drive/MyDrive/Nornal internet findus photos/LE fundus/1ffa962a-8d87-11e8-9daf-6045cb817f5b..JPG\"\n",
        "# Provide the path to the unknown image\n",
        "prediction = predict_unknown_image(unknown_image_path)\n",
        "print(\"Prediction:\", prediction)\n"
      ],
      "metadata": {
        "colab": {
          "base_uri": "https://localhost:8080/"
        },
        "id": "S-gnyt3NxbH9",
        "outputId": "e7424cd9-ab63-4400-fba1-02e8ff92e02e"
      },
      "execution_count": 123,
      "outputs": [
        {
          "output_type": "stream",
          "name": "stdout",
          "text": [
            "1/1 [==============================] - 0s 128ms/step\n",
            "Prediction: left eye fundus\n"
          ]
        }
      ]
    },
    {
      "cell_type": "code",
      "source": [
        "unknown_image_path = \"/content/drive/MyDrive/Nornal internet findus photos/RE fundus/1ffa9634-8d87-11e8-9daf-6045cb817f5b..JPG\"\n",
        "# Provide the path to the unknown image\n",
        "prediction = predict_unknown_image(unknown_image_path)\n",
        "print(\"Prediction:\", prediction)"
      ],
      "metadata": {
        "colab": {
          "base_uri": "https://localhost:8080/"
        },
        "id": "AghuGYo-6CNZ",
        "outputId": "9dcf43cb-9f1b-4072-c474-ef05d5523fe5"
      },
      "execution_count": 125,
      "outputs": [
        {
          "output_type": "stream",
          "name": "stdout",
          "text": [
            "1/1 [==============================] - 0s 34ms/step\n",
            "Prediction: right eye fundus\n"
          ]
        }
      ]
    }
  ]
}