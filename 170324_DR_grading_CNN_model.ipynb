{
  "nbformat": 4,
  "nbformat_minor": 0,
  "metadata": {
    "colab": {
      "provenance": [],
      "mount_file_id": "10LijoYVg_V3VXWalkV-Jjzu618sQQl-Q",
      "authorship_tag": "ABX9TyMW+8G9oAJj5PvEOSs1CQU4",
      "include_colab_link": true
    },
    "kernelspec": {
      "name": "python3",
      "display_name": "Python 3"
    },
    "language_info": {
      "name": "python"
    }
  },
  "cells": [
    {
      "cell_type": "markdown",
      "metadata": {
        "id": "view-in-github",
        "colab_type": "text"
      },
      "source": [
        "<a href=\"https://colab.research.google.com/github/drskprabhakar/Axial-Length-Prediction-ML-Regression-mode/blob/main/170324_DR_grading_CNN_model.ipynb\" target=\"_parent\"><img src=\"https://colab.research.google.com/assets/colab-badge.svg\" alt=\"Open In Colab\"/></a>"
      ]
    },
    {
      "cell_type": "code",
      "execution_count": 2,
      "metadata": {
        "colab": {
          "base_uri": "https://localhost:8080/"
        },
        "id": "qgPKLddcek1A",
        "outputId": "54b5a2dc-876f-4087-ba28-6350a7908610"
      },
      "outputs": [
        {
          "output_type": "execute_result",
          "data": {
            "text/plain": [
              "['train', 'val', 'test']"
            ]
          },
          "metadata": {},
          "execution_count": 2
        }
      ],
      "source": [
        "import os\n",
        "import numpy as np\n",
        "os.listdir('/content/drive/MyDrive/DR fundus images/split')"
      ]
    },
    {
      "cell_type": "code",
      "source": [
        "os.listdir('/content/drive/MyDrive/DR fundus images/split/train'), os.listdir('/content/drive/MyDrive/DR fundus images/split/val'), os.listdir('/content/drive/MyDrive/DR fundus images/split/test')"
      ],
      "metadata": {
        "colab": {
          "base_uri": "https://localhost:8080/"
        },
        "id": "8VfrtgfVfCQo",
        "outputId": "12744b6c-0059-48fa-d574-d95067805a69"
      },
      "execution_count": 5,
      "outputs": [
        {
          "output_type": "execute_result",
          "data": {
            "text/plain": [
              "(['DR2', 'DR3', 'DR1'], ['DR2', 'DR3', 'DR1'], ['DR2', 'DR3', 'DR1'])"
            ]
          },
          "metadata": {},
          "execution_count": 5
        }
      ]
    },
    {
      "cell_type": "code",
      "source": [
        "from keras.preprocessing.image import ImageDataGenerator\n",
        "datagen=ImageDataGenerator()\n",
        "\n",
        "trainimages=datagen.flow_from_directory('/content/drive/MyDrive/DR fundus images/split/train',\n",
        "                                        target_size=(64,64))\n",
        "valimages=datagen.flow_from_directory('/content/drive/MyDrive/DR fundus images/split/val',\n",
        "                                        target_size=(64,64))\n",
        "testimages=datagen.flow_from_directory('/content/drive/MyDrive/DR fundus images/split/test',\n",
        "                                        target_size=(64,64))"
      ],
      "metadata": {
        "colab": {
          "base_uri": "https://localhost:8080/"
        },
        "id": "mwEoKOTSfKPs",
        "outputId": "911fedcc-096f-4bc5-b762-14f2c49878e2"
      },
      "execution_count": 11,
      "outputs": [
        {
          "output_type": "stream",
          "name": "stdout",
          "text": [
            "Found 78 images belonging to 3 classes.\n",
            "Found 14 images belonging to 3 classes.\n",
            "Found 14 images belonging to 3 classes.\n"
          ]
        }
      ]
    },
    {
      "cell_type": "code",
      "source": [
        "from keras.models import Sequential\n",
        "from keras.layers import Conv2D,MaxPooling2D,Flatten,Dense\n",
        "\n",
        "model=Sequential([Conv2D(32,(3,3), activation='relu', input_shape = (64,64,3)),\n",
        "                  MaxPooling2D(2,2),\n",
        "\n",
        "                  Conv2D(64,(3,3), activation='relu'),\n",
        "                  MaxPooling2D(2,2),\n",
        "                  Conv2D(64,(3,3), activation='relu'),\n",
        "                  MaxPooling2D(2,2),\n",
        "\n",
        "                  Flatten(),\n",
        "                  Dense(128, activation='relu'),\n",
        "                  Dense(3, activation='softmax')])\n",
        "\n",
        "model.compile(optimizer = \"rmsprop\",\n",
        "              loss = 'categorical_crossentropy',\n",
        "              metrics=['accuracy'])\n",
        "\n",
        "model.summary()"
      ],
      "metadata": {
        "colab": {
          "base_uri": "https://localhost:8080/"
        },
        "id": "4qSBIeogfKOe",
        "outputId": "75a3e635-577f-4a65-9ae6-9ab4d3c2cd78"
      },
      "execution_count": 15,
      "outputs": [
        {
          "output_type": "stream",
          "name": "stdout",
          "text": [
            "Model: \"sequential_2\"\n",
            "_________________________________________________________________\n",
            " Layer (type)                Output Shape              Param #   \n",
            "=================================================================\n",
            " conv2d_6 (Conv2D)           (None, 62, 62, 32)        896       \n",
            "                                                                 \n",
            " max_pooling2d_6 (MaxPoolin  (None, 31, 31, 32)        0         \n",
            " g2D)                                                            \n",
            "                                                                 \n",
            " conv2d_7 (Conv2D)           (None, 29, 29, 64)        18496     \n",
            "                                                                 \n",
            " max_pooling2d_7 (MaxPoolin  (None, 14, 14, 64)        0         \n",
            " g2D)                                                            \n",
            "                                                                 \n",
            " conv2d_8 (Conv2D)           (None, 12, 12, 64)        36928     \n",
            "                                                                 \n",
            " max_pooling2d_8 (MaxPoolin  (None, 6, 6, 64)          0         \n",
            " g2D)                                                            \n",
            "                                                                 \n",
            " flatten_2 (Flatten)         (None, 2304)              0         \n",
            "                                                                 \n",
            " dense_4 (Dense)             (None, 128)               295040    \n",
            "                                                                 \n",
            " dense_5 (Dense)             (None, 3)                 387       \n",
            "                                                                 \n",
            "=================================================================\n",
            "Total params: 351747 (1.34 MB)\n",
            "Trainable params: 351747 (1.34 MB)\n",
            "Non-trainable params: 0 (0.00 Byte)\n",
            "_________________________________________________________________\n"
          ]
        }
      ]
    },
    {
      "cell_type": "code",
      "source": [
        "model.fit(trainimages,\n",
        "          batch_size=10,\n",
        "          epochs=45,\n",
        "          validation_data=valimages)\n",
        "model.save('DRgrading_model.keras')"
      ],
      "metadata": {
        "colab": {
          "base_uri": "https://localhost:8080/"
        },
        "id": "yMacWi9nkJ9j",
        "outputId": "a50bc49d-4a6f-40ce-8584-cec8c532aa92"
      },
      "execution_count": 52,
      "outputs": [
        {
          "output_type": "stream",
          "name": "stdout",
          "text": [
            "Epoch 1/45\n",
            "3/3 [==============================] - 7s 3s/step - loss: 6.1842e-04 - accuracy: 1.0000 - val_loss: 1.2742 - val_accuracy: 0.7143\n",
            "Epoch 2/45\n",
            "3/3 [==============================] - 6s 2s/step - loss: 4.5939e-04 - accuracy: 1.0000 - val_loss: 1.4033 - val_accuracy: 0.7143\n",
            "Epoch 3/45\n",
            "3/3 [==============================] - 5s 2s/step - loss: 5.5000e-04 - accuracy: 1.0000 - val_loss: 1.3377 - val_accuracy: 0.7143\n",
            "Epoch 4/45\n",
            "3/3 [==============================] - 7s 2s/step - loss: 3.8204e-04 - accuracy: 1.0000 - val_loss: 1.2781 - val_accuracy: 0.7143\n",
            "Epoch 5/45\n",
            "3/3 [==============================] - 5s 2s/step - loss: 6.6746e-04 - accuracy: 1.0000 - val_loss: 1.2462 - val_accuracy: 0.7143\n",
            "Epoch 6/45\n",
            "3/3 [==============================] - 6s 2s/step - loss: 4.0884e-04 - accuracy: 1.0000 - val_loss: 1.5519 - val_accuracy: 0.7143\n",
            "Epoch 7/45\n",
            "3/3 [==============================] - 6s 2s/step - loss: 2.8870e-04 - accuracy: 1.0000 - val_loss: 1.4091 - val_accuracy: 0.7143\n",
            "Epoch 8/45\n",
            "3/3 [==============================] - 5s 2s/step - loss: 1.4968e-04 - accuracy: 1.0000 - val_loss: 1.4368 - val_accuracy: 0.7143\n",
            "Epoch 9/45\n",
            "3/3 [==============================] - 8s 3s/step - loss: 1.3614e-04 - accuracy: 1.0000 - val_loss: 1.4430 - val_accuracy: 0.7143\n",
            "Epoch 10/45\n",
            "3/3 [==============================] - 5s 2s/step - loss: 1.1134e-04 - accuracy: 1.0000 - val_loss: 1.4792 - val_accuracy: 0.7143\n",
            "Epoch 11/45\n",
            "3/3 [==============================] - 5s 2s/step - loss: 1.0190e-04 - accuracy: 1.0000 - val_loss: 1.5415 - val_accuracy: 0.7143\n",
            "Epoch 12/45\n",
            "3/3 [==============================] - 6s 2s/step - loss: 1.4305e-04 - accuracy: 1.0000 - val_loss: 1.4802 - val_accuracy: 0.7143\n",
            "Epoch 13/45\n",
            "3/3 [==============================] - 6s 2s/step - loss: 7.7665e-05 - accuracy: 1.0000 - val_loss: 1.5406 - val_accuracy: 0.7143\n",
            "Epoch 14/45\n",
            "3/3 [==============================] - 6s 2s/step - loss: 7.5196e-05 - accuracy: 1.0000 - val_loss: 1.5332 - val_accuracy: 0.7143\n",
            "Epoch 15/45\n",
            "3/3 [==============================] - 6s 3s/step - loss: 6.2671e-05 - accuracy: 1.0000 - val_loss: 1.5523 - val_accuracy: 0.7143\n",
            "Epoch 16/45\n",
            "3/3 [==============================] - 5s 2s/step - loss: 6.7335e-05 - accuracy: 1.0000 - val_loss: 1.6364 - val_accuracy: 0.7143\n",
            "Epoch 17/45\n",
            "3/3 [==============================] - 6s 3s/step - loss: 7.2748e-05 - accuracy: 1.0000 - val_loss: 1.5050 - val_accuracy: 0.7143\n",
            "Epoch 18/45\n",
            "3/3 [==============================] - 5s 2s/step - loss: 4.5302e-05 - accuracy: 1.0000 - val_loss: 1.5818 - val_accuracy: 0.7143\n",
            "Epoch 19/45\n",
            "3/3 [==============================] - 6s 2s/step - loss: 3.5327e-05 - accuracy: 1.0000 - val_loss: 1.6343 - val_accuracy: 0.7143\n",
            "Epoch 20/45\n",
            "3/3 [==============================] - 6s 2s/step - loss: 3.2167e-05 - accuracy: 1.0000 - val_loss: 1.6716 - val_accuracy: 0.7143\n",
            "Epoch 21/45\n",
            "3/3 [==============================] - 7s 2s/step - loss: 2.7122e-05 - accuracy: 1.0000 - val_loss: 1.6683 - val_accuracy: 0.7143\n",
            "Epoch 22/45\n",
            "3/3 [==============================] - 5s 2s/step - loss: 2.4809e-05 - accuracy: 1.0000 - val_loss: 1.7075 - val_accuracy: 0.7143\n",
            "Epoch 23/45\n",
            "3/3 [==============================] - 5s 2s/step - loss: 3.3331e-05 - accuracy: 1.0000 - val_loss: 1.8204 - val_accuracy: 0.7143\n",
            "Epoch 24/45\n",
            "3/3 [==============================] - 6s 2s/step - loss: 2.7569e-05 - accuracy: 1.0000 - val_loss: 1.6716 - val_accuracy: 0.7143\n",
            "Epoch 25/45\n",
            "3/3 [==============================] - 5s 1s/step - loss: 3.2416e-05 - accuracy: 1.0000 - val_loss: 1.7293 - val_accuracy: 0.7857\n",
            "Epoch 26/45\n",
            "3/3 [==============================] - 7s 2s/step - loss: 5.1672 - accuracy: 0.7692 - val_loss: 10.4002 - val_accuracy: 0.5000\n",
            "Epoch 27/45\n",
            "3/3 [==============================] - 5s 2s/step - loss: 2.2141 - accuracy: 0.7051 - val_loss: 1.3346 - val_accuracy: 0.4286\n",
            "Epoch 28/45\n",
            "3/3 [==============================] - 5s 2s/step - loss: 0.1208 - accuracy: 0.9231 - val_loss: 1.2019 - val_accuracy: 0.5000\n",
            "Epoch 29/45\n",
            "3/3 [==============================] - 6s 2s/step - loss: 0.0288 - accuracy: 1.0000 - val_loss: 1.1635 - val_accuracy: 0.5000\n",
            "Epoch 30/45\n",
            "3/3 [==============================] - 5s 2s/step - loss: 0.0131 - accuracy: 1.0000 - val_loss: 1.1767 - val_accuracy: 0.5000\n",
            "Epoch 31/45\n",
            "3/3 [==============================] - 5s 2s/step - loss: 0.0080 - accuracy: 1.0000 - val_loss: 1.2481 - val_accuracy: 0.5000\n",
            "Epoch 32/45\n",
            "3/3 [==============================] - 6s 2s/step - loss: 0.0059 - accuracy: 1.0000 - val_loss: 1.1616 - val_accuracy: 0.5714\n",
            "Epoch 33/45\n",
            "3/3 [==============================] - 5s 2s/step - loss: 0.0048 - accuracy: 1.0000 - val_loss: 1.1336 - val_accuracy: 0.5714\n",
            "Epoch 34/45\n",
            "3/3 [==============================] - 5s 2s/step - loss: 0.0025 - accuracy: 1.0000 - val_loss: 1.1581 - val_accuracy: 0.5714\n",
            "Epoch 35/45\n",
            "3/3 [==============================] - 5s 2s/step - loss: 0.0021 - accuracy: 1.0000 - val_loss: 1.1582 - val_accuracy: 0.5000\n",
            "Epoch 36/45\n",
            "3/3 [==============================] - 5s 2s/step - loss: 0.0012 - accuracy: 1.0000 - val_loss: 1.1734 - val_accuracy: 0.5714\n",
            "Epoch 37/45\n",
            "3/3 [==============================] - 6s 2s/step - loss: 0.0010 - accuracy: 1.0000 - val_loss: 1.1605 - val_accuracy: 0.6429\n",
            "Epoch 38/45\n",
            "3/3 [==============================] - 6s 2s/step - loss: 9.0347e-04 - accuracy: 1.0000 - val_loss: 1.2205 - val_accuracy: 0.6429\n",
            "Epoch 39/45\n",
            "3/3 [==============================] - 5s 2s/step - loss: 7.5932e-04 - accuracy: 1.0000 - val_loss: 1.2261 - val_accuracy: 0.5714\n",
            "Epoch 40/45\n",
            "3/3 [==============================] - 5s 1s/step - loss: 6.1185e-04 - accuracy: 1.0000 - val_loss: 1.2088 - val_accuracy: 0.6429\n",
            "Epoch 41/45\n",
            "3/3 [==============================] - 6s 1s/step - loss: 4.9804e-04 - accuracy: 1.0000 - val_loss: 1.2412 - val_accuracy: 0.6429\n",
            "Epoch 42/45\n",
            "3/3 [==============================] - 5s 2s/step - loss: 4.6595e-04 - accuracy: 1.0000 - val_loss: 1.2349 - val_accuracy: 0.6429\n",
            "Epoch 43/45\n",
            "3/3 [==============================] - 6s 3s/step - loss: 3.9765e-04 - accuracy: 1.0000 - val_loss: 1.2438 - val_accuracy: 0.6429\n",
            "Epoch 44/45\n",
            "3/3 [==============================] - 5s 2s/step - loss: 2.9864e-04 - accuracy: 1.0000 - val_loss: 1.2538 - val_accuracy: 0.6429\n",
            "Epoch 45/45\n",
            "3/3 [==============================] - 5s 2s/step - loss: 2.4957e-04 - accuracy: 1.0000 - val_loss: 1.2659 - val_accuracy: 0.6429\n"
          ]
        }
      ]
    },
    {
      "cell_type": "code",
      "source": [
        "y_pred= model.predict(testimages)\n",
        "y_pred"
      ],
      "metadata": {
        "colab": {
          "base_uri": "https://localhost:8080/"
        },
        "id": "A61B02tpkJ7r",
        "outputId": "9199d1b4-0e06-4073-b1b4-d8bc92e4e8fb"
      },
      "execution_count": 53,
      "outputs": [
        {
          "output_type": "stream",
          "name": "stdout",
          "text": [
            "1/1 [==============================] - 1s 756ms/step\n"
          ]
        },
        {
          "output_type": "execute_result",
          "data": {
            "text/plain": [
              "array([[8.4243780e-08, 1.5154593e-02, 9.8484534e-01],\n",
              "       [6.8051054e-04, 9.8900980e-01, 1.0309645e-02],\n",
              "       [9.9206874e-05, 1.1631762e-02, 9.8826897e-01],\n",
              "       [2.7475469e-03, 1.1839815e-06, 9.9725121e-01],\n",
              "       [9.9993688e-01, 1.1431000e-06, 6.1888386e-05],\n",
              "       [9.7727150e-01, 1.1285039e-06, 2.2727368e-02],\n",
              "       [1.3439737e-06, 9.8907417e-01, 1.0924596e-02],\n",
              "       [2.2972115e-06, 5.6166410e-01, 4.3833354e-01],\n",
              "       [1.7349033e-09, 9.9995565e-01, 4.4332111e-05],\n",
              "       [1.5131154e-14, 1.0444483e-05, 9.9998951e-01],\n",
              "       [1.2846315e-01, 4.4880217e-04, 8.7108803e-01],\n",
              "       [3.2316391e-05, 9.7334719e-01, 2.6620429e-02],\n",
              "       [1.3591329e-10, 4.8166299e-01, 5.1833701e-01],\n",
              "       [4.3054078e-07, 5.2637792e-05, 9.9994695e-01]], dtype=float32)"
            ]
          },
          "metadata": {},
          "execution_count": 53
        }
      ]
    },
    {
      "cell_type": "code",
      "source": [
        "y_pred1=np.argmax(y_pred,axis=1)\n",
        "y_pred1"
      ],
      "metadata": {
        "colab": {
          "base_uri": "https://localhost:8080/"
        },
        "id": "U9JFobJtlqET",
        "outputId": "9f554d12-b1e9-4d4a-f173-c6cb969dc573"
      },
      "execution_count": 54,
      "outputs": [
        {
          "output_type": "execute_result",
          "data": {
            "text/plain": [
              "array([2, 1, 2, 2, 0, 0, 1, 1, 1, 2, 2, 1, 2, 2])"
            ]
          },
          "metadata": {},
          "execution_count": 54
        }
      ]
    },
    {
      "cell_type": "code",
      "source": [
        "y_true=testimages.classes\n",
        "y_true"
      ],
      "metadata": {
        "colab": {
          "base_uri": "https://localhost:8080/"
        },
        "id": "B3JSquAImBE0",
        "outputId": "39cf71f1-12d1-4a44-ea87-f6fd9dd8e798"
      },
      "execution_count": 21,
      "outputs": [
        {
          "output_type": "execute_result",
          "data": {
            "text/plain": [
              "array([0, 0, 0, 1, 1, 1, 1, 1, 1, 2, 2, 2, 2, 2], dtype=int32)"
            ]
          },
          "metadata": {},
          "execution_count": 21
        }
      ]
    },
    {
      "cell_type": "code",
      "source": [
        "testimages.class_indices"
      ],
      "metadata": {
        "colab": {
          "base_uri": "https://localhost:8080/"
        },
        "id": "Vw4KSqgrmBDZ",
        "outputId": "12a7d1f8-242b-4637-bced-517e872aa089"
      },
      "execution_count": 22,
      "outputs": [
        {
          "output_type": "execute_result",
          "data": {
            "text/plain": [
              "{'DR1': 0, 'DR2': 1, 'DR3': 2}"
            ]
          },
          "metadata": {},
          "execution_count": 22
        }
      ]
    },
    {
      "cell_type": "code",
      "source": [
        "from sklearn import metrics\n",
        "metrics.confusion_matrix(y_true,y_pred1)"
      ],
      "metadata": {
        "colab": {
          "base_uri": "https://localhost:8080/"
        },
        "id": "uN6qZR3Vmgbf",
        "outputId": "4fa11271-9bc8-4149-ab82-61c8a274a404"
      },
      "execution_count": 55,
      "outputs": [
        {
          "output_type": "execute_result",
          "data": {
            "text/plain": [
              "array([[0, 1, 2],\n",
              "       [2, 3, 1],\n",
              "       [0, 1, 4]])"
            ]
          },
          "metadata": {},
          "execution_count": 55
        }
      ]
    },
    {
      "cell_type": "code",
      "source": [
        "print(metrics.classification_report(y_true,y_pred1))"
      ],
      "metadata": {
        "colab": {
          "base_uri": "https://localhost:8080/"
        },
        "id": "7rj2lQgxm5vt",
        "outputId": "64a4d111-a868-408e-88e6-b3a77d9ede73"
      },
      "execution_count": 47,
      "outputs": [
        {
          "output_type": "stream",
          "name": "stdout",
          "text": [
            "              precision    recall  f1-score   support\n",
            "\n",
            "           0       0.50      0.33      0.40         3\n",
            "           1       0.60      0.50      0.55         6\n",
            "           2       0.57      0.80      0.67         5\n",
            "\n",
            "    accuracy                           0.57        14\n",
            "   macro avg       0.56      0.54      0.54        14\n",
            "weighted avg       0.57      0.57      0.56        14\n",
            "\n"
          ]
        }
      ]
    },
    {
      "cell_type": "code",
      "source": [
        "import numpy as np\n",
        "import matplotlib.pyplot as plt\n",
        "from sklearn.metrics import roc_curve, auc\n",
        "from sklearn.preprocessing import LabelBinarizer\n",
        "from itertools import cycle\n",
        "\n",
        "# Assuming you have your model predictions and ground truth labels\n",
        "# model_predictions = Your model's predicted probabilities for each class\n",
        "# ground_truth_labels = Ground truth labels for each sample\n",
        "\n",
        "# Convert labels to one-hot encoding\n",
        "label_binarizer = LabelBinarizer()\n",
        "ground_truth_labels_binary = label_binarizer.fit_transform(y_true)\n",
        "\n",
        "# Compute ROC curve and ROC area for each class\n",
        "fpr = dict()\n",
        "tpr = dict()\n",
        "roc_auc = dict()\n",
        "n_classes = len(label_binarizer.classes_)\n",
        "\n",
        "for i in range(n_classes):\n",
        "    fpr[i], tpr[i], _ = roc_curve(ground_truth_labels_binary[:, i], y_pred[:, i])\n",
        "    roc_auc[i] = auc(fpr[i], tpr[i])\n",
        "\n",
        "# Plot ROC curves\n",
        "plt.figure(figsize=(10, 8))\n",
        "colors = cycle(['aqua', 'darkorange', 'cornflowerblue'])\n",
        "for i, color in zip(range(n_classes), colors):\n",
        "    plt.plot(fpr[i], tpr[i], color=color, lw=2,\n",
        "             label='ROC curve of class {0} (area = {1:0.2f})'\n",
        "             ''.format(label_binarizer.classes_[i], roc_auc[i]))\n",
        "\n",
        "plt.plot([0, 1], [0, 1], 'k--', lw=2)\n",
        "plt.xlim([0.0, 1.0])\n",
        "plt.ylim([0.0, 1.05])\n",
        "plt.xlabel('False Positive Rate')\n",
        "plt.ylabel('True Positive Rate')\n",
        "plt.title('Receiver Operating Characteristic for Multiclass Classification')\n",
        "plt.legend(loc=\"lower right\")\n",
        "plt.show()\n"
      ],
      "metadata": {
        "colab": {
          "base_uri": "https://localhost:8080/",
          "height": 718
        },
        "id": "MD_-5NQmnK4L",
        "outputId": "81e51ffb-0e7d-4b36-8ee1-90e936df1899"
      },
      "execution_count": 48,
      "outputs": [
        {
          "output_type": "display_data",
          "data": {
            "text/plain": [
              "<Figure size 1000x800 with 1 Axes>"
            ],
            "image/png": "[encoded data removed]"
          },
          "metadata": {}
        }
      ]
    },
    {
      "cell_type": "code",
      "source": [
        "import numpy as np\n",
        "import tensorflow as tf\n",
        "from tensorflow.keras.preprocessing import image\n",
        "from tensorflow.keras.models import load_model\n",
        "\n",
        "# Load the trained CNN model\n",
        "model = load_model('/content/DRgrading_model.keras')  # Provide the path to your trained model file\n",
        "\n",
        "# Define a function to predict unknown images\n",
        "def predict_unknown_image(image_path):\n",
        "    img = image.load_img(image_path, target_size=(64,64))  # Assuming images are resized to 150x150\n",
        "    img_array = image.img_to_array(img)\n",
        "    img_array = np.expand_dims(img_array, axis=0)  # Expand dimensions to match batch size\n",
        "    img_array /= 255.0  # Normalize pixel values\n",
        "\n",
        "    prediction = model.predict(img_array)\n",
        "    predicted_class_index = np.argmax(prediction)  # Get the index of the class with the highest probability\n",
        "    class_names = [\"DR1\", \"DR2\", \"DR3\"]  # Example class names, modify as per your multiclass classes\n",
        "    predicted_class_name = class_names[predicted_class_index]\n",
        "\n",
        "    return predicted_class_name\n",
        "\n",
        "# Example usage:\n",
        "unknown_image_path = \"/content/drive/MyDrive/DR fundus images/split/test/DR1/1ffa95ca-8d87-11e8-9daf-6045cb817f5b..JPG\"  # Provide the path to the unknown image\n",
        "prediction = predict_unknown_image(unknown_image_path)\n",
        "print(\"Prediction:\", prediction)\n"
      ],
      "metadata": {
        "colab": {
          "base_uri": "https://localhost:8080/"
        },
        "id": "oIQEYNDUnK2t",
        "outputId": "1e3a2b40-1a68-40d7-a6fe-69a031ca8c4b"
      },
      "execution_count": 56,
      "outputs": [
        {
          "output_type": "stream",
          "name": "stdout",
          "text": [
            "1/1 [==============================] - 0s 133ms/step\n",
            "Prediction: DR3\n"
          ]
        }
      ]
    },
    {
      "cell_type": "code",
      "source": [
        "# Example usage:\n",
        "unknown_image_path = \"/content/drive/MyDrive/DR fundus images/split/test/DR2/1ffa93de-8d87-11e8-9daf-6045cb817f5b..JPG\"  # Provide the path to the unknown image\n",
        "prediction = predict_unknown_image(unknown_image_path)\n",
        "print(\"Prediction:\", prediction)"
      ],
      "metadata": {
        "colab": {
          "base_uri": "https://localhost:8080/"
        },
        "id": "Xcucxkm9r1c0",
        "outputId": "a0482bfd-f7c5-4dd8-90a5-7e56aabebcdf"
      },
      "execution_count": 50,
      "outputs": [
        {
          "output_type": "stream",
          "name": "stdout",
          "text": [
            "1/1 [==============================] - 0s 24ms/step\n",
            "Prediction: DR3\n"
          ]
        }
      ]
    },
    {
      "cell_type": "code",
      "source": [
        "# Example usage:\n",
        "unknown_image_path = \"/content/drive/MyDrive/DR fundus images/split/test/DR3/1ffa930d-8d87-11e8-9daf-6045cb817f5b..JPG\"  # Provide the path to the unknown image\n",
        "prediction = predict_unknown_image(unknown_image_path)\n",
        "print(\"Prediction:\", prediction)"
      ],
      "metadata": {
        "colab": {
          "base_uri": "https://localhost:8080/"
        },
        "id": "5UzpTIE9sBWn",
        "outputId": "f84f0f18-fbee-4e26-e0df-20d190dbb1ad"
      },
      "execution_count": 51,
      "outputs": [
        {
          "output_type": "stream",
          "name": "stdout",
          "text": [
            "1/1 [==============================] - 0s 88ms/step\n",
            "Prediction: DR3\n"
          ]
        }
      ]
    },
    {
      "cell_type": "code",
      "source": [
        "# Example usage:\n",
        "unknown_image_path = \"\"  # Provide the path to the unknown image\n",
        "prediction = predict_unknown_image(unknown_image_path)\n",
        "print(\"Prediction:\", prediction)"
      ],
      "metadata": {
        "id": "V47GRXRZsBU7"
      },
      "execution_count": null,
      "outputs": []
    }
  ]
}