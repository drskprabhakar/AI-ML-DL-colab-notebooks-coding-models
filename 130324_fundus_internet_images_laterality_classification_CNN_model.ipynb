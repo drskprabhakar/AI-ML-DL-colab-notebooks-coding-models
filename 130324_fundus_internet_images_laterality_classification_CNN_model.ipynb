{
  "nbformat": 4,
  "nbformat_minor": 0,
  "metadata": {
    "colab": {
      "provenance": [],
      "mount_file_id": "1AqyVuhIoW9C1qm6ObMweoAWmD5i83mk2",
      "authorship_tag": "ABX9TyM8Ukndi2m+oFAZlw+vajvA",
      "include_colab_link": true
    },
    "kernelspec": {
      "name": "python3",
      "display_name": "Python 3"
    },
    "language_info": {
      "name": "python"
    }
  },
  "cells": [
    {
      "cell_type": "markdown",
      "metadata": {
        "id": "view-in-github",
        "colab_type": "text"
      },
      "source": [
        "<a href=\"https://colab.research.google.com/github/drskprabhakar/Axial-Length-Prediction-ML-Regression-mode/blob/main/130324_fundus_internet_images_laterality_classification_CNN_model.ipynb\" target=\"_parent\"><img src=\"https://colab.research.google.com/assets/colab-badge.svg\" alt=\"Open In Colab\"/></a>"
      ]
    },
    {
      "cell_type": "code",
      "execution_count": 16,
      "metadata": {
        "id": "h3NIsOCHc-VI"
      },
      "outputs": [],
      "source": [
        "import os\n",
        "import numpy as np"
      ]
    },
    {
      "cell_type": "code",
      "source": [
        "os.listdir('/content/drive/MyDrive/Nornal internet findus photos/split')"
      ],
      "metadata": {
        "colab": {
          "base_uri": "https://localhost:8080/"
        },
        "id": "rvTmvOEVjidT",
        "outputId": "33e255ff-8501-4dbf-f97a-9d96447f8b6b"
      },
      "execution_count": 17,
      "outputs": [
        {
          "output_type": "execute_result",
          "data": {
            "text/plain": [
              "['train', 'val', 'test']"
            ]
          },
          "metadata": {},
          "execution_count": 17
        }
      ]
    },
    {
      "cell_type": "code",
      "source": [
        "os.listdir('/content/drive/MyDrive/Nornal internet findus photos/split/train')"
      ],
      "metadata": {
        "colab": {
          "base_uri": "https://localhost:8080/"
        },
        "id": "IIGUfCkKkGmY",
        "outputId": "4900ae0d-c5b1-416b-fc13-4d051d85b078"
      },
      "execution_count": 18,
      "outputs": [
        {
          "output_type": "execute_result",
          "data": {
            "text/plain": [
              "['RE fundus', 'LE fundus']"
            ]
          },
          "metadata": {},
          "execution_count": 18
        }
      ]
    },
    {
      "cell_type": "code",
      "source": [
        "from keras.preprocessing.image import ImageDataGenerator\n",
        "datagen = ImageDataGenerator(rescale=1/255)"
      ],
      "metadata": {
        "id": "DWhwru-GkOiL"
      },
      "execution_count": 21,
      "outputs": []
    },
    {
      "cell_type": "code",
      "source": [
        "trainimages = datagen.flow_from_directory('/content/drive/MyDrive/Nornal internet findus photos/split/train',\n",
        "                                          target_size=(224,224))\n",
        "\n",
        "validationimages = datagen.flow_from_directory('/content/drive/MyDrive/Nornal internet findus photos/split/val',\n",
        "                                          target_size=(224,224))\n",
        "\n",
        "testimages = datagen.flow_from_directory('/content/drive/MyDrive/Nornal internet findus photos/split/test',\n",
        "                                          target_size=(224,224))"
      ],
      "metadata": {
        "colab": {
          "base_uri": "https://localhost:8080/"
        },
        "id": "p1N_SQMMlbBI",
        "outputId": "006764e9-d704-4190-fd32-3c9ce57a1796"
      },
      "execution_count": 37,
      "outputs": [
        {
          "output_type": "stream",
          "name": "stdout",
          "text": [
            "Found 80 images belonging to 2 classes.\n",
            "Found 10 images belonging to 2 classes.\n",
            "Found 10 images belonging to 2 classes.\n"
          ]
        }
      ]
    },
    {
      "cell_type": "code",
      "source": [
        "import keras\n",
        "from keras.models import Sequential\n",
        "from keras.layers import Conv2D,MaxPooling2D,Flatten,Dense\n",
        "\n",
        "model = Sequential([Conv2D(32,(3,3), activation='relu', input_shape=(224,224,3)),\n",
        "                    MaxPooling2D(2,2),\n",
        "\n",
        "                    Conv2D(64,(3,3), activation='relu'),\n",
        "                    MaxPooling2D(2,2),\n",
        "\n",
        "                    Flatten(),\n",
        "                    Dense(128,activation='relu'),\n",
        "                    Dense(2, activation='softmax')])\n",
        "\n",
        "model.compile(optimizer = \"rmsprop\",\n",
        "              loss='categorical_crossentropy',\n",
        "              metrics=['accuracy'])"
      ],
      "metadata": {
        "id": "dIyXb9StnaTX"
      },
      "execution_count": 38,
      "outputs": []
    },
    {
      "cell_type": "code",
      "source": [
        "model.fit(trainimages,\n",
        "          batch_size = 10,\n",
        "          epochs = 10,\n",
        "          validation_data = validationimages)\n",
        "\n",
        "model.save('funduslaterality_model.keras')\n",
        ""
      ],
      "metadata": {
        "colab": {
          "base_uri": "https://localhost:8080/"
        },
        "id": "U8v04c0Esp-y",
        "outputId": "717a69ae-e2b9-4e14-bc31-a5829851a876"
      },
      "execution_count": 66,
      "outputs": [
        {
          "output_type": "stream",
          "name": "stdout",
          "text": [
            "Epoch 1/10\n",
            "3/3 [==============================] - 12s 3s/step - loss: 0.4763 - accuracy: 0.9500 - val_loss: 1.2023 - val_accuracy: 0.5000\n",
            "Epoch 2/10\n",
            "3/3 [==============================] - 10s 3s/step - loss: 0.6530 - accuracy: 0.6250 - val_loss: 0.5437 - val_accuracy: 0.8000\n",
            "Epoch 3/10\n",
            "3/3 [==============================] - 10s 2s/step - loss: 0.3803 - accuracy: 0.9750 - val_loss: 0.8181 - val_accuracy: 0.5000\n",
            "Epoch 4/10\n",
            "3/3 [==============================] - 11s 2s/step - loss: 0.5387 - accuracy: 0.6000 - val_loss: 0.5073 - val_accuracy: 0.9000\n",
            "Epoch 5/10\n",
            "3/3 [==============================] - 11s 4s/step - loss: 0.3087 - accuracy: 0.9625 - val_loss: 0.5096 - val_accuracy: 0.7000\n",
            "Epoch 6/10\n",
            "3/3 [==============================] - 20s 8s/step - loss: 0.2654 - accuracy: 0.9500 - val_loss: 0.5040 - val_accuracy: 0.8000\n",
            "Epoch 7/10\n",
            "3/3 [==============================] - 14s 3s/step - loss: 0.2086 - accuracy: 0.9375 - val_loss: 0.8114 - val_accuracy: 0.7000\n",
            "Epoch 8/10\n",
            "3/3 [==============================] - 11s 4s/step - loss: 0.3003 - accuracy: 0.8625 - val_loss: 0.5042 - val_accuracy: 0.8000\n",
            "Epoch 9/10\n",
            "3/3 [==============================] - 12s 3s/step - loss: 0.1186 - accuracy: 1.0000 - val_loss: 0.5832 - val_accuracy: 0.8000\n",
            "Epoch 10/10\n",
            "3/3 [==============================] - 10s 3s/step - loss: 0.1079 - accuracy: 0.9875 - val_loss: 0.7548 - val_accuracy: 0.7000\n"
          ]
        }
      ]
    },
    {
      "cell_type": "code",
      "source": [
        "y_pred = model.predict(testimages)\n",
        "y_pred"
      ],
      "metadata": {
        "colab": {
          "base_uri": "https://localhost:8080/"
        },
        "id": "RGDtbUvMtKIl",
        "outputId": "ded8f8f6-4927-42de-c72f-9d734859fca0"
      },
      "execution_count": 67,
      "outputs": [
        {
          "output_type": "stream",
          "name": "stdout",
          "text": [
            "1/1 [==============================] - 0s 354ms/step\n"
          ]
        },
        {
          "output_type": "execute_result",
          "data": {
            "text/plain": [
              "array([[1.1165784e-01, 8.8834208e-01],\n",
              "       [2.1950582e-02, 9.7804946e-01],\n",
              "       [7.6218545e-01, 2.3781452e-01],\n",
              "       [1.1843413e-01, 8.8156587e-01],\n",
              "       [1.1993053e-01, 8.8006943e-01],\n",
              "       [2.6046863e-04, 9.9973953e-01],\n",
              "       [3.5892197e-01, 6.4107805e-01],\n",
              "       [1.6599970e-03, 9.9834007e-01],\n",
              "       [6.3515769e-04, 9.9936491e-01],\n",
              "       [5.9407344e-03, 9.9405932e-01]], dtype=float32)"
            ]
          },
          "metadata": {},
          "execution_count": 67
        }
      ]
    },
    {
      "cell_type": "code",
      "source": [
        "y_true = testimages.classes\n",
        "y_true"
      ],
      "metadata": {
        "colab": {
          "base_uri": "https://localhost:8080/"
        },
        "id": "2BiijBWMuqx7",
        "outputId": "bd3d0364-6f79-4dbc-c853-7d6798e1b1a2"
      },
      "execution_count": 68,
      "outputs": [
        {
          "output_type": "execute_result",
          "data": {
            "text/plain": [
              "array([0, 0, 0, 0, 0, 1, 1, 1, 1, 1], dtype=int32)"
            ]
          },
          "metadata": {},
          "execution_count": 68
        }
      ]
    },
    {
      "cell_type": "code",
      "source": [
        "testimages.class_indices"
      ],
      "metadata": {
        "colab": {
          "base_uri": "https://localhost:8080/"
        },
        "id": "xuTo3dkOv_2i",
        "outputId": "878cbe42-27df-4e37-bdef-009383e06e7f"
      },
      "execution_count": 69,
      "outputs": [
        {
          "output_type": "execute_result",
          "data": {
            "text/plain": [
              "{'LE fundus': 0, 'RE fundus': 1}"
            ]
          },
          "metadata": {},
          "execution_count": 69
        }
      ]
    },
    {
      "cell_type": "code",
      "source": [
        "y_pred1=np.argmax(y_pred,axis=1)\n",
        "y_pred1"
      ],
      "metadata": {
        "colab": {
          "base_uri": "https://localhost:8080/"
        },
        "id": "Mpoq6xdWv_1N",
        "outputId": "5bdf9fe5-c00a-484a-8a03-8384818f6351"
      },
      "execution_count": 70,
      "outputs": [
        {
          "output_type": "execute_result",
          "data": {
            "text/plain": [
              "array([1, 1, 0, 1, 1, 1, 1, 1, 1, 1])"
            ]
          },
          "metadata": {},
          "execution_count": 70
        }
      ]
    },
    {
      "cell_type": "code",
      "source": [
        "from sklearn import metrics\n",
        "metrics.confusion_matrix(y_true,y_pred1)"
      ],
      "metadata": {
        "colab": {
          "base_uri": "https://localhost:8080/"
        },
        "id": "1hs0jhpiwvoX",
        "outputId": "5477e143-a962-46c9-9a0d-ddf0ca03259b"
      },
      "execution_count": 71,
      "outputs": [
        {
          "output_type": "execute_result",
          "data": {
            "text/plain": [
              "array([[1, 4],\n",
              "       [0, 5]])"
            ]
          },
          "metadata": {},
          "execution_count": 71
        }
      ]
    },
    {
      "cell_type": "code",
      "source": [
        "metrics.ConfusionMatrixDisplay.from_predictions(y_true,y_pred1)"
      ],
      "metadata": {
        "colab": {
          "base_uri": "https://localhost:8080/",
          "height": 472
        },
        "id": "5dYy8fPVxXBt",
        "outputId": "92169179-9769-47a7-c0c4-d1a7e9ccccd0"
      },
      "execution_count": 72,
      "outputs": [
        {
          "output_type": "execute_result",
          "data": {
            "text/plain": [
              "<sklearn.metrics._plot.confusion_matrix.ConfusionMatrixDisplay at 0x7d2651463c40>"
            ]
          },
          "metadata": {},
          "execution_count": 72
        },
        {
          "output_type": "display_data",
          "data": {
            "text/plain": [
              "<Figure size 640x480 with 2 Axes>"
            ],
            "image/png": "[encoded data removed]"
          },
          "metadata": {}
        }
      ]
    },
    {
      "cell_type": "code",
      "source": [
        "from sklearn import metrics\n",
        "print(metrics.classification_report(y_true, y_pred1))"
      ],
      "metadata": {
        "colab": {
          "base_uri": "https://localhost:8080/"
        },
        "id": "5kYUdiSpxtyc",
        "outputId": "572da48d-12c0-428e-ba75-9b99a99b9cb0"
      },
      "execution_count": 73,
      "outputs": [
        {
          "output_type": "stream",
          "name": "stdout",
          "text": [
            "              precision    recall  f1-score   support\n",
            "\n",
            "           0       1.00      0.20      0.33         5\n",
            "           1       0.56      1.00      0.71         5\n",
            "\n",
            "    accuracy                           0.60        10\n",
            "   macro avg       0.78      0.60      0.52        10\n",
            "weighted avg       0.78      0.60      0.52        10\n",
            "\n"
          ]
        }
      ]
    },
    {
      "cell_type": "code",
      "source": [
        "metrics.RocCurveDisplay.from_predictions(y_true,y_pred1)"
      ],
      "metadata": {
        "colab": {
          "base_uri": "https://localhost:8080/",
          "height": 466
        },
        "id": "_EUunDcLy3mM",
        "outputId": "01d6da81-c88f-4a51-c59a-b94667e0776b"
      },
      "execution_count": 74,
      "outputs": [
        {
          "output_type": "execute_result",
          "data": {
            "text/plain": [
              "<sklearn.metrics._plot.roc_curve.RocCurveDisplay at 0x7d2651463280>"
            ]
          },
          "metadata": {},
          "execution_count": 74
        },
        {
          "output_type": "display_data",
          "data": {
            "text/plain": [
              "<Figure size 640x480 with 1 Axes>"
            ],
            "image/png": "[encoded data removed]"
          },
          "metadata": {}
        }
      ]
    }
  ]
}