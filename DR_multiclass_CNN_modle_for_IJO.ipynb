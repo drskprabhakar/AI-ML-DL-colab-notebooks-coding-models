{
  "nbformat": 4,
  "nbformat_minor": 0,
  "metadata": {
    "colab": {
      "provenance": [],
      "mount_file_id": "1lbRoBnxWh8-_CUVLwiRdm-eY8CyHu8jx",
      "authorship_tag": "ABX9TyMTEiqYndXjQ+o5Y2eLhD5o",
      "include_colab_link": true
    },
    "kernelspec": {
      "name": "python3",
      "display_name": "Python 3"
    },
    "language_info": {
      "name": "python"
    }
  },
  "cells": [
    {
      "cell_type": "markdown",
      "metadata": {
        "id": "view-in-github",
        "colab_type": "text"
      },
      "source": [
        "<a href=\"https://colab.research.google.com/github/drskprabhakar/AI-ML-DL-colab-notebooks-coding-models/blob/main/DR_multiclass_CNN_modle_for_IJO.ipynb\" target=\"_parent\"><img src=\"https://colab.research.google.com/assets/colab-badge.svg\" alt=\"Open In Colab\"/></a>"
      ]
    },
    {
      "cell_type": "code",
      "execution_count": null,
      "metadata": {
        "colab": {
          "base_uri": "https://localhost:8080/"
        },
        "id": "gczj4qCfm7bp",
        "outputId": "a1bceffe-b109-45b1-9448-ba112ee2e6b8"
      },
      "outputs": [
        {
          "output_type": "stream",
          "name": "stdout",
          "text": [
            "Collecting split-folder\n",
            "  Downloading split_folder-0.1.1-py3-none-any.whl.metadata (378 bytes)\n",
            "Collecting nb-utils<0.2.0,>=0.1.0 (from split-folder)\n",
            "  Downloading nb_utils-0.1.1-py3-none-any.whl.metadata (510 bytes)\n",
            "Downloading split_folder-0.1.1-py3-none-any.whl (5.4 kB)\n",
            "Downloading nb_utils-0.1.1-py3-none-any.whl (24 kB)\n",
            "Installing collected packages: nb-utils, split-folder\n",
            "Successfully installed nb-utils-0.1.1 split-folder-0.1.1\n"
          ]
        }
      ],
      "source": [
        "!pip install split-folder"
      ]
    },
    {
      "cell_type": "code",
      "source": [
        "input = '/content/drive/MyDrive/DR multiclass image dataset'\n",
        "output = '/content/drive/MyDrive/DR multiclass image dataset/split'"
      ],
      "metadata": {
        "id": "8BSQRfDrrwBo"
      },
      "execution_count": null,
      "outputs": []
    },
    {
      "source": [
        "!pip install split-folders # Installs the split-folders package\n",
        "import splitfolders # Imports the splitfolders module\n",
        "\n",
        "input = '/content/drive/MyDrive/DR multiclass image dataset'\n",
        "output = '/content/drive/MyDrive/DR multiclass image dataset/split'\n",
        "\n",
        "splitfolders.ratio(input, output, seed=43, ratio=(0.75, 0.15,0.10), group_prefix=None) # Now you can use functions from splitfolders"
      ],
      "cell_type": "code",
      "metadata": {
        "colab": {
          "base_uri": "https://localhost:8080/"
        },
        "id": "XK_OJE0vucIr",
        "outputId": "86a44fb3-6695-48a5-d8fb-6257aa6cfbfd"
      },
      "execution_count": null,
      "outputs": [
        {
          "output_type": "stream",
          "name": "stdout",
          "text": [
            "Collecting split-folders\n",
            "  Downloading split_folders-0.5.1-py3-none-any.whl.metadata (6.2 kB)\n",
            "Downloading split_folders-0.5.1-py3-none-any.whl (8.4 kB)\n",
            "Installing collected packages: split-folders\n",
            "Successfully installed split-folders-0.5.1\n"
          ]
        },
        {
          "output_type": "stream",
          "name": "stderr",
          "text": [
            "Copying files: 109 files [00:42,  2.57 files/s]\n"
          ]
        }
      ]
    },
    {
      "cell_type": "code",
      "source": [],
      "metadata": {
        "id": "H4nx3gIS8PvJ"
      },
      "execution_count": null,
      "outputs": []
    }
  ]
}