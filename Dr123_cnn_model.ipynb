{
  "nbformat": 4,
  "nbformat_minor": 0,
  "metadata": {
    "colab": {
      "provenance": [],
      "mount_file_id": "1wQ1nMxnCTe5MNX6MNcKnqvswHkrsP3nj",
      "authorship_tag": "ABX9TyOUTiBllBB94ioQa1uUT87e",
      "include_colab_link": true
    },
    "kernelspec": {
      "name": "python3",
      "display_name": "Python 3"
    },
    "language_info": {
      "name": "python"
    }
  },
  "cells": [
    {
      "cell_type": "markdown",
      "metadata": {
        "id": "view-in-github",
        "colab_type": "text"
      },
      "source": [
        "<a href=\"https://colab.research.google.com/github/drskprabhakar/AI-ML-DL-colab-notebooks-coding-models/blob/main/Dr123_cnn_model.ipynb\" target=\"_parent\"><img src=\"https://colab.research.google.com/assets/colab-badge.svg\" alt=\"Open In Colab\"/></a>"
      ]
    },
    {
      "cell_type": "code",
      "execution_count": 1,
      "metadata": {
        "id": "o9IQpDbaUoxA"
      },
      "outputs": [],
      "source": [
        "import os\n",
        "import numpy as np\n"
      ]
    },
    {
      "cell_type": "code",
      "source": [],
      "metadata": {
        "id": "8VVoHS4kVoh3"
      },
      "execution_count": null,
      "outputs": []
    },
    {
      "cell_type": "code",
      "source": [
        "from keras.preprocessing.image import ImageDataGenerator\n",
        "datagen = ImageDataGenerator(rescale=1/255)\n",
        "\n",
        "trainimages = '/content/drive/MyDrive/DR fundus images/split/train'\n",
        "valimages = '/content/drive/MyDrive/DR fundus images/split/val'\n",
        "testimages = '/content/drive/MyDrive/DR fundus images/split/test'\n",
        "\n",
        "traindata = datagen.flow_from_directory(trainimages,\n",
        "                                        target_size=(64,64),\n",
        "                                        class_mode='categorical')\n",
        "valdata = datagen.flow_from_directory(valimages,\n",
        "                                      target_size=(64,64),\n",
        "                                      class_mode='categorical')\n",
        "testdata = datagen.flow_from_directory(testimages,\n",
        "                                       target_size=(64,64),\n",
        "                                       class_mode='categorical')"
      ],
      "metadata": {
        "colab": {
          "base_uri": "https://localhost:8080/"
        },
        "id": "m5Pticl4VDIU",
        "outputId": "b62e6263-5f1e-4060-ab99-eb5c3a959666"
      },
      "execution_count": 3,
      "outputs": [
        {
          "output_type": "stream",
          "name": "stdout",
          "text": [
            "Found 78 images belonging to 3 classes.\n",
            "Found 14 images belonging to 3 classes.\n",
            "Found 14 images belonging to 3 classes.\n"
          ]
        }
      ]
    },
    {
      "cell_type": "code",
      "source": [
        "from keras.models import Sequential\n",
        "from keras.layers import Conv2D,Flatten,Dense\n",
        "\n",
        "model = Sequential([\n",
        "    Conv2D(32,(3,3), activation='relu', input_shape=(64,64,3)),\n",
        "    Flatten(),\n",
        "    Dense(3, activation='softmax')])\n",
        "model.compile(optimizer='adam',\n",
        "              loss='categorical_crossentropy',\n",
        "              metrics=['accuracy'])\n",
        "model.summary()"
      ],
      "metadata": {
        "colab": {
          "base_uri": "https://localhost:8080/"
        },
        "id": "XKP9__cGVDZY",
        "outputId": "eeba606c-706a-4240-dcd2-e65fe50f08ef"
      },
      "execution_count": 4,
      "outputs": [
        {
          "output_type": "stream",
          "name": "stdout",
          "text": [
            "Model: \"sequential\"\n",
            "_________________________________________________________________\n",
            " Layer (type)                Output Shape              Param #   \n",
            "=================================================================\n",
            " conv2d (Conv2D)             (None, 62, 62, 32)        896       \n",
            "                                                                 \n",
            " flatten (Flatten)           (None, 123008)            0         \n",
            "                                                                 \n",
            " dense (Dense)               (None, 3)                 369027    \n",
            "                                                                 \n",
            "=================================================================\n",
            "Total params: 369923 (1.41 MB)\n",
            "Trainable params: 369923 (1.41 MB)\n",
            "Non-trainable params: 0 (0.00 Byte)\n",
            "_________________________________________________________________\n"
          ]
        }
      ]
    },
    {
      "cell_type": "code",
      "source": [
        "model.fit(traindata,\n",
        "          batch_size=32,\n",
        "          epochs=6,\n",
        "          validation_data=valdata)\n",
        "model.save('DR123cnn_model.keras')"
      ],
      "metadata": {
        "colab": {
          "base_uri": "https://localhost:8080/"
        },
        "id": "7V_V4_WIWgX_",
        "outputId": "8d3ebaa1-97da-4be0-c57e-8e708ca49c55"
      },
      "execution_count": 8,
      "outputs": [
        {
          "output_type": "stream",
          "name": "stdout",
          "text": [
            "Epoch 1/6\n",
            "3/3 [==============================] - 6s 2s/step - loss: 0.1297 - accuracy: 0.9872 - val_loss: 0.5992 - val_accuracy: 0.7143\n",
            "Epoch 2/6\n",
            "3/3 [==============================] - 6s 2s/step - loss: 0.1209 - accuracy: 0.9872 - val_loss: 0.5976 - val_accuracy: 0.7143\n",
            "Epoch 3/6\n",
            "3/3 [==============================] - 9s 3s/step - loss: 0.1049 - accuracy: 1.0000 - val_loss: 0.6002 - val_accuracy: 0.7143\n",
            "Epoch 4/6\n",
            "3/3 [==============================] - 13s 5s/step - loss: 0.0960 - accuracy: 1.0000 - val_loss: 0.5794 - val_accuracy: 0.7143\n",
            "Epoch 5/6\n",
            "3/3 [==============================] - 5s 2s/step - loss: 0.0894 - accuracy: 1.0000 - val_loss: 0.5749 - val_accuracy: 0.7143\n",
            "Epoch 6/6\n",
            "3/3 [==============================] - 5s 1s/step - loss: 0.0846 - accuracy: 1.0000 - val_loss: 0.5697 - val_accuracy: 0.7143\n"
          ]
        }
      ]
    },
    {
      "cell_type": "code",
      "source": [
        "predictions = model.predict(testdata)"
      ],
      "metadata": {
        "colab": {
          "base_uri": "https://localhost:8080/"
        },
        "id": "X2UnSk5kWgsl",
        "outputId": "00a7e375-10c7-4498-db82-d84c314b731e"
      },
      "execution_count": 66,
      "outputs": [
        {
          "output_type": "stream",
          "name": "stdout",
          "text": [
            "1/1 [==============================] - 1s 823ms/step\n"
          ]
        }
      ]
    },
    {
      "cell_type": "code",
      "source": [
        "import numpy as np\n",
        "y_pred = np.argmax(predictions, axis=1)\n",
        "y_true = testdata.classes"
      ],
      "metadata": {
        "id": "wIAzw4eCWg4a"
      },
      "execution_count": 67,
      "outputs": []
    },
    {
      "cell_type": "code",
      "source": [
        "from sklearn import metrics\n",
        "metrics.confusion_matrix(y_true, y_pred)\n"
      ],
      "metadata": {
        "colab": {
          "base_uri": "https://localhost:8080/"
        },
        "id": "XWYYpty6Xo_O",
        "outputId": "32efe202-6936-4ee5-9222-12b0fc992963"
      },
      "execution_count": 68,
      "outputs": [
        {
          "output_type": "execute_result",
          "data": {
            "text/plain": [
              "array([[1, 2, 0],\n",
              "       [0, 3, 3],\n",
              "       [1, 0, 4]])"
            ]
          },
          "metadata": {},
          "execution_count": 68
        }
      ]
    }
  ]
}