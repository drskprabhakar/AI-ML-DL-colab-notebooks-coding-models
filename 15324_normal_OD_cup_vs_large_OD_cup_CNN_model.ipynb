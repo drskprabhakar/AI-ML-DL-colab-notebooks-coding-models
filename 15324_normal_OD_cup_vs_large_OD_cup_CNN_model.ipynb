{
  "nbformat": 4,
  "nbformat_minor": 0,
  "metadata": {
    "colab": {
      "provenance": [],
      "mount_file_id": "1wv-vKW8rIJFZTgoN_YNKh_ryINbEMDTk",
      "authorship_tag": "ABX9TyM6vyA4DGpIC8SvwTo0JwZ6",
      "include_colab_link": true
    },
    "kernelspec": {
      "name": "python3",
      "display_name": "Python 3"
    },
    "language_info": {
      "name": "python"
    }
  },
  "cells": [
    {
      "cell_type": "markdown",
      "metadata": {
        "id": "view-in-github",
        "colab_type": "text"
      },
      "source": [
        "<a href=\"https://colab.research.google.com/github/drskprabhakar/Axial-Length-Prediction-ML-Regression-mode/blob/main/15324_normal_OD_cup_vs_large_OD_cup_CNN_model.ipynb\" target=\"_parent\"><img src=\"https://colab.research.google.com/assets/colab-badge.svg\" alt=\"Open In Colab\"/></a>"
      ]
    },
    {
      "cell_type": "code",
      "execution_count": 1,
      "metadata": {
        "id": "txaW1SiptLKZ"
      },
      "outputs": [],
      "source": [
        "import os\n",
        "import numpy as np\n"
      ]
    },
    {
      "cell_type": "code",
      "source": [
        "os.listdir('/content/drive/MyDrive/optic cup images/split')"
      ],
      "metadata": {
        "colab": {
          "base_uri": "https://localhost:8080/"
        },
        "id": "AnjjWdnJv1ZO",
        "outputId": "bff80678-99d0-4069-988c-b46dfae6d5c2"
      },
      "execution_count": null,
      "outputs": [
        {
          "output_type": "execute_result",
          "data": {
            "text/plain": [
              "['train', 'val', 'test']"
            ]
          },
          "metadata": {},
          "execution_count": 2
        }
      ]
    },
    {
      "cell_type": "code",
      "source": [
        "os.listdir('/content/drive/MyDrive/optic cup images/split/train'),os.listdir('/content/drive/MyDrive/optic cup images/split/val'),os.listdir('/content/drive/MyDrive/optic cup images/split/test')"
      ],
      "metadata": {
        "colab": {
          "base_uri": "https://localhost:8080/"
        },
        "id": "AAvb_ry6wHwE",
        "outputId": "cd4fcf22-9978-47e2-c611-6b429ae831cd"
      },
      "execution_count": null,
      "outputs": [
        {
          "output_type": "execute_result",
          "data": {
            "text/plain": [
              "(['normal cup', 'large cup'],\n",
              " ['normal cup', 'large cup'],\n",
              " ['normal cup', 'large cup'])"
            ]
          },
          "metadata": {},
          "execution_count": 4
        }
      ]
    },
    {
      "cell_type": "code",
      "source": [
        "trainnormalcup = os.listdir('/content/drive/MyDrive/optic cup images/split/train/normal cup')\n",
        "trainnormalcup\n",
        "print(len(trainnormalcup))"
      ],
      "metadata": {
        "colab": {
          "base_uri": "https://localhost:8080/"
        },
        "id": "pERN1vSFwy8S",
        "outputId": "d57f773c-56e2-4461-eb5e-09bcc7bbb3b8"
      },
      "execution_count": null,
      "outputs": [
        {
          "output_type": "stream",
          "name": "stdout",
          "text": [
            "30\n"
          ]
        }
      ]
    },
    {
      "cell_type": "code",
      "source": [
        "trainlargecup = os.listdir('/content/drive/MyDrive/optic cup images/split/train/large cup')\n",
        "trainlargecup\n",
        "print(len(trainlargecup))"
      ],
      "metadata": {
        "colab": {
          "base_uri": "https://localhost:8080/"
        },
        "id": "S8CYsZKEwy7E",
        "outputId": "040b8272-d342-4241-9177-6efe4ac2dd98"
      },
      "execution_count": null,
      "outputs": [
        {
          "output_type": "stream",
          "name": "stdout",
          "text": [
            "40\n"
          ]
        }
      ]
    },
    {
      "cell_type": "code",
      "source": [
        "from keras.preprocessing.image import ImageDataGenerator\n",
        "datagen = ImageDataGenerator(rescale=1/255)"
      ],
      "metadata": {
        "id": "PD2C6iB2wyZE"
      },
      "execution_count": 2,
      "outputs": []
    },
    {
      "cell_type": "code",
      "source": [
        "trainimages = datagen.flow_from_directory('/content/drive/MyDrive/optic cup images/split/train',\n",
        "                                          target_size=(224,224))\n",
        "\n",
        "validationimages = datagen.flow_from_directory('/content/drive/MyDrive/optic cup images/split/val',\n",
        "                                          target_size=(224,224))\n",
        "\n",
        "testimages = datagen.flow_from_directory('/content/drive/MyDrive/optic cup images/split/test',\n",
        "                                          target_size=(224,224))"
      ],
      "metadata": {
        "colab": {
          "base_uri": "https://localhost:8080/"
        },
        "id": "JVI9rULsyvW0",
        "outputId": "903ef116-ed39-4ded-8c70-ac3ea334a315"
      },
      "execution_count": 3,
      "outputs": [
        {
          "output_type": "stream",
          "name": "stdout",
          "text": [
            "Found 70 images belonging to 2 classes.\n",
            "Found 8 images belonging to 2 classes.\n",
            "Found 10 images belonging to 2 classes.\n"
          ]
        }
      ]
    },
    {
      "cell_type": "code",
      "source": [
        "from keras.models import Sequential\n",
        "from keras.layers import Conv2D,MaxPooling2D,Flatten,Dense\n",
        "\n",
        "model = Sequential([Conv2D(16,(3,3), activation='relu', input_shape=(224,224,3)),\n",
        "                    MaxPooling2D(2,2),\n",
        "\n",
        "                    Conv2D(32,(3,3), activation='relu',),\n",
        "                    MaxPooling2D(2,2),\n",
        "\n",
        "                    Flatten(),\n",
        "                    Dense(64, activation='relu'),\n",
        "                    Dense(2, activation='softmax')])\n",
        "\n",
        "model.compile(optimizer='adam',\n",
        "              loss='categorical_crossentropy',\n",
        "              metrics=['accuracy'])\n",
        "\n",
        "model.summary()"
      ],
      "metadata": {
        "colab": {
          "base_uri": "https://localhost:8080/"
        },
        "id": "Ir8zpLHpyvU6",
        "outputId": "368cdf07-1d76-4575-9cab-a7b21cafa5a1"
      },
      "execution_count": 4,
      "outputs": [
        {
          "output_type": "stream",
          "name": "stdout",
          "text": [
            "Model: \"sequential\"\n",
            "_________________________________________________________________\n",
            " Layer (type)                Output Shape              Param #   \n",
            "=================================================================\n",
            " conv2d (Conv2D)             (None, 222, 222, 16)      448       \n",
            "                                                                 \n",
            " max_pooling2d (MaxPooling2  (None, 111, 111, 16)      0         \n",
            " D)                                                              \n",
            "                                                                 \n",
            " conv2d_1 (Conv2D)           (None, 109, 109, 32)      4640      \n",
            "                                                                 \n",
            " max_pooling2d_1 (MaxPoolin  (None, 54, 54, 32)        0         \n",
            " g2D)                                                            \n",
            "                                                                 \n",
            " flatten (Flatten)           (None, 93312)             0         \n",
            "                                                                 \n",
            " dense (Dense)               (None, 64)                5972032   \n",
            "                                                                 \n",
            " dense_1 (Dense)             (None, 2)                 130       \n",
            "                                                                 \n",
            "=================================================================\n",
            "Total params: 5977250 (22.80 MB)\n",
            "Trainable params: 5977250 (22.80 MB)\n",
            "Non-trainable params: 0 (0.00 Byte)\n",
            "_________________________________________________________________\n"
          ]
        }
      ]
    },
    {
      "cell_type": "code",
      "source": [
        "model.fit(trainimages,\n",
        "          batch_size=10,\n",
        "          epochs=20,\n",
        "          validation_data=validationimages)\n",
        "model.save('normalcupvslargecup_model.keras')"
      ],
      "metadata": {
        "colab": {
          "base_uri": "https://localhost:8080/"
        },
        "id": "b7Sh2Gze3TYa",
        "outputId": "82ce6519-0f0e-497d-ec71-353354303829"
      },
      "execution_count": 11,
      "outputs": [
        {
          "output_type": "stream",
          "name": "stdout",
          "text": [
            "Epoch 1/20\n",
            "3/3 [==============================] - 4s 2s/step - loss: 0.3856 - accuracy: 0.8429 - val_loss: 0.7574 - val_accuracy: 0.7500\n",
            "Epoch 2/20\n",
            "3/3 [==============================] - 3s 765ms/step - loss: 0.3887 - accuracy: 0.8286 - val_loss: 0.5571 - val_accuracy: 0.7500\n",
            "Epoch 3/20\n",
            "3/3 [==============================] - 4s 2s/step - loss: 0.3005 - accuracy: 0.8286 - val_loss: 0.3807 - val_accuracy: 0.8750\n",
            "Epoch 4/20\n",
            "3/3 [==============================] - 3s 1s/step - loss: 0.2211 - accuracy: 0.9143 - val_loss: 0.5474 - val_accuracy: 0.7500\n",
            "Epoch 5/20\n",
            "3/3 [==============================] - 4s 1s/step - loss: 0.2356 - accuracy: 0.9000 - val_loss: 0.5082 - val_accuracy: 0.7500\n",
            "Epoch 6/20\n",
            "3/3 [==============================] - 3s 807ms/step - loss: 0.1970 - accuracy: 0.9286 - val_loss: 0.2243 - val_accuracy: 1.0000\n",
            "Epoch 7/20\n",
            "3/3 [==============================] - 3s 742ms/step - loss: 0.2196 - accuracy: 0.9000 - val_loss: 0.4413 - val_accuracy: 0.7500\n",
            "Epoch 8/20\n",
            "3/3 [==============================] - 4s 977ms/step - loss: 0.1599 - accuracy: 0.9143 - val_loss: 0.3754 - val_accuracy: 0.7500\n",
            "Epoch 9/20\n",
            "3/3 [==============================] - 3s 816ms/step - loss: 0.1446 - accuracy: 0.9714 - val_loss: 0.3555 - val_accuracy: 0.7500\n",
            "Epoch 10/20\n",
            "3/3 [==============================] - 3s 714ms/step - loss: 0.1172 - accuracy: 0.9429 - val_loss: 0.6099 - val_accuracy: 0.7500\n",
            "Epoch 11/20\n",
            "3/3 [==============================] - 4s 2s/step - loss: 0.1284 - accuracy: 0.9286 - val_loss: 0.3687 - val_accuracy: 0.7500\n",
            "Epoch 12/20\n",
            "3/3 [==============================] - 4s 2s/step - loss: 0.0825 - accuracy: 1.0000 - val_loss: 0.5055 - val_accuracy: 0.7500\n",
            "Epoch 13/20\n",
            "3/3 [==============================] - 4s 906ms/step - loss: 0.0783 - accuracy: 0.9571 - val_loss: 0.4205 - val_accuracy: 0.7500\n",
            "Epoch 14/20\n",
            "3/3 [==============================] - 3s 734ms/step - loss: 0.0582 - accuracy: 1.0000 - val_loss: 0.3808 - val_accuracy: 0.7500\n",
            "Epoch 15/20\n",
            "3/3 [==============================] - 3s 796ms/step - loss: 0.0334 - accuracy: 1.0000 - val_loss: 0.8329 - val_accuracy: 0.7500\n",
            "Epoch 16/20\n",
            "3/3 [==============================] - 4s 1s/step - loss: 0.0638 - accuracy: 0.9571 - val_loss: 0.4308 - val_accuracy: 0.7500\n",
            "Epoch 17/20\n",
            "3/3 [==============================] - 3s 764ms/step - loss: 0.0382 - accuracy: 1.0000 - val_loss: 0.3273 - val_accuracy: 0.7500\n",
            "Epoch 18/20\n",
            "3/3 [==============================] - 3s 2s/step - loss: 0.0275 - accuracy: 1.0000 - val_loss: 0.7123 - val_accuracy: 0.7500\n",
            "Epoch 19/20\n",
            "3/3 [==============================] - 4s 2s/step - loss: 0.0342 - accuracy: 1.0000 - val_loss: 0.6715 - val_accuracy: 0.7500\n",
            "Epoch 20/20\n",
            "3/3 [==============================] - 3s 745ms/step - loss: 0.0250 - accuracy: 1.0000 - val_loss: 0.2150 - val_accuracy: 0.7500\n"
          ]
        }
      ]
    },
    {
      "cell_type": "code",
      "source": [
        "y_pred = model.predict(testimages)\n",
        "y_pred"
      ],
      "metadata": {
        "colab": {
          "base_uri": "https://localhost:8080/"
        },
        "id": "1s2-iWNE53qJ",
        "outputId": "a3e55ff4-654f-47f9-8bd4-5a7cab5e7c24"
      },
      "execution_count": 12,
      "outputs": [
        {
          "output_type": "stream",
          "name": "stdout",
          "text": [
            "1/1 [==============================] - 0s 380ms/step\n"
          ]
        },
        {
          "output_type": "execute_result",
          "data": {
            "text/plain": [
              "array([[7.2723557e-03, 9.9272764e-01],\n",
              "       [9.9902165e-01, 9.7838556e-04],\n",
              "       [9.9380642e-01, 6.1935829e-03],\n",
              "       [9.9601710e-01, 3.9828508e-03],\n",
              "       [9.4720984e-01, 5.2790161e-02],\n",
              "       [7.1816318e-02, 9.2818373e-01],\n",
              "       [8.2123864e-01, 1.7876129e-01],\n",
              "       [4.3473208e-01, 5.6526792e-01],\n",
              "       [4.1939460e-10, 1.0000000e+00],\n",
              "       [9.9767643e-01, 2.3235315e-03]], dtype=float32)"
            ]
          },
          "metadata": {},
          "execution_count": 12
        }
      ]
    },
    {
      "cell_type": "code",
      "source": [
        "y_pred1 = np.argmax(y_pred,axis=1)\n",
        "y_pred1"
      ],
      "metadata": {
        "colab": {
          "base_uri": "https://localhost:8080/"
        },
        "id": "_fRlgKjd6yJf",
        "outputId": "e6022d78-f39b-4175-be68-b3a1545ff25a"
      },
      "execution_count": 13,
      "outputs": [
        {
          "output_type": "execute_result",
          "data": {
            "text/plain": [
              "array([1, 0, 0, 0, 0, 1, 0, 1, 1, 0])"
            ]
          },
          "metadata": {},
          "execution_count": 13
        }
      ]
    },
    {
      "cell_type": "code",
      "source": [
        "y_true=testimages.classes"
      ],
      "metadata": {
        "id": "KK-tYX8x7GZI"
      },
      "execution_count": 8,
      "outputs": []
    },
    {
      "cell_type": "code",
      "source": [
        "testimages.class_indices"
      ],
      "metadata": {
        "colab": {
          "base_uri": "https://localhost:8080/"
        },
        "id": "YrTs6cZs7QKc",
        "outputId": "baee141e-fea6-4a3e-c9ff-09fdf36ca141"
      },
      "execution_count": 9,
      "outputs": [
        {
          "output_type": "execute_result",
          "data": {
            "text/plain": [
              "{'large cup': 0, 'normal cup': 1}"
            ]
          },
          "metadata": {},
          "execution_count": 9
        }
      ]
    },
    {
      "cell_type": "code",
      "source": [
        "from sklearn import metrics\n",
        "metrics.confusion_matrix(y_true,y_pred1)"
      ],
      "metadata": {
        "colab": {
          "base_uri": "https://localhost:8080/"
        },
        "id": "V-IijAki7QIQ",
        "outputId": "2ce3cdab-0a23-42b1-fd50-9389ef08f74b"
      },
      "execution_count": 14,
      "outputs": [
        {
          "output_type": "execute_result",
          "data": {
            "text/plain": [
              "array([[4, 1],\n",
              "       [2, 3]])"
            ]
          },
          "metadata": {},
          "execution_count": 14
        }
      ]
    },
    {
      "cell_type": "code",
      "source": [
        "metrics.ConfusionMatrixDisplay.from_predictions(y_true,y_pred1)"
      ],
      "metadata": {
        "colab": {
          "base_uri": "https://localhost:8080/",
          "height": 472
        },
        "id": "8_b8Pdcq8GxY",
        "outputId": "59b18f02-ca2a-4204-a2ff-f88234150a15"
      },
      "execution_count": 15,
      "outputs": [
        {
          "output_type": "execute_result",
          "data": {
            "text/plain": [
              "<sklearn.metrics._plot.confusion_matrix.ConfusionMatrixDisplay at 0x7dd22e893df0>"
            ]
          },
          "metadata": {},
          "execution_count": 15
        },
        {
          "output_type": "display_data",
          "data": {
            "text/plain": [
              "<Figure size 640x480 with 2 Axes>"
            ],
            "image/png": "[encoded data removed]"
          },
          "metadata": {}
        }
      ]
    },
    {
      "cell_type": "code",
      "source": [
        "print(metrics.classification_report(y_true,y_pred1))"
      ],
      "metadata": {
        "colab": {
          "base_uri": "https://localhost:8080/"
        },
        "id": "75zcbGhH9S1v",
        "outputId": "5ee2cfb9-2a08-4149-fed4-257c18040887"
      },
      "execution_count": 16,
      "outputs": [
        {
          "output_type": "stream",
          "name": "stdout",
          "text": [
            "              precision    recall  f1-score   support\n",
            "\n",
            "           0       0.67      0.80      0.73         5\n",
            "           1       0.75      0.60      0.67         5\n",
            "\n",
            "    accuracy                           0.70        10\n",
            "   macro avg       0.71      0.70      0.70        10\n",
            "weighted avg       0.71      0.70      0.70        10\n",
            "\n"
          ]
        }
      ]
    },
    {
      "cell_type": "code",
      "source": [
        "metrics.RocCurveDisplay.from_predictions(y_true,y_pred1)"
      ],
      "metadata": {
        "colab": {
          "base_uri": "https://localhost:8080/",
          "height": 466
        },
        "id": "gGCjOYFb-X7Q",
        "outputId": "1849bd10-4f16-4009-f455-1c9ffa1faca9"
      },
      "execution_count": 17,
      "outputs": [
        {
          "output_type": "execute_result",
          "data": {
            "text/plain": [
              "<sklearn.metrics._plot.roc_curve.RocCurveDisplay at 0x7dd22e893bb0>"
            ]
          },
          "metadata": {},
          "execution_count": 17
        },
        {
          "output_type": "display_data",
          "data": {
            "text/plain": [
              "<Figure size 640x480 with 1 Axes>"
            ],
            "image/png": "[encoded data removed]"
          },
          "metadata": {}
        }
      ]
    }
  ]
}