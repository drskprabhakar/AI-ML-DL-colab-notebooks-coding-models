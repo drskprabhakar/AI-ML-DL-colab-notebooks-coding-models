{
  "nbformat": 4,
  "nbformat_minor": 0,
  "metadata": {
    "colab": {
      "provenance": [],
      "mount_file_id": "1wv-vKW8rIJFZTgoN_YNKh_ryINbEMDTk",
      "authorship_tag": "ABX9TyMduD4j4MhtXQybEP0E0jxw",
      "include_colab_link": true
    },
    "kernelspec": {
      "name": "python3",
      "display_name": "Python 3"
    },
    "language_info": {
      "name": "python"
    }
  },
  "cells": [
    {
      "cell_type": "markdown",
      "metadata": {
        "id": "view-in-github",
        "colab_type": "text"
      },
      "source": [
        "<a href=\"https://colab.research.google.com/github/drskprabhakar/Axial-Length-Prediction-ML-Regression-mode/blob/main/15324_normal_OD_cup_vs_large_OD_cup_CNN_model.ipynb\" target=\"_parent\"><img src=\"https://colab.research.google.com/assets/colab-badge.svg\" alt=\"Open In Colab\"/></a>"
      ]
    },
    {
      "cell_type": "code",
      "execution_count": 1,
      "metadata": {
        "id": "txaW1SiptLKZ"
      },
      "outputs": [],
      "source": [
        "import os\n",
        "import numpy as np\n"
      ]
    },
    {
      "cell_type": "code",
      "source": [
        "os.listdir('/content/drive/MyDrive/optic cup images/split')"
      ],
      "metadata": {
        "colab": {
          "base_uri": "https://localhost:8080/"
        },
        "id": "AnjjWdnJv1ZO",
        "outputId": "bff80678-99d0-4069-988c-b46dfae6d5c2"
      },
      "execution_count": 2,
      "outputs": [
        {
          "output_type": "execute_result",
          "data": {
            "text/plain": [
              "['train', 'val', 'test']"
            ]
          },
          "metadata": {},
          "execution_count": 2
        }
      ]
    },
    {
      "cell_type": "code",
      "source": [
        "os.listdir('/content/drive/MyDrive/optic cup images/split/train'),os.listdir('/content/drive/MyDrive/optic cup images/split/val'),os.listdir('/content/drive/MyDrive/optic cup images/split/test')"
      ],
      "metadata": {
        "colab": {
          "base_uri": "https://localhost:8080/"
        },
        "id": "AAvb_ry6wHwE",
        "outputId": "cd4fcf22-9978-47e2-c611-6b429ae831cd"
      },
      "execution_count": 4,
      "outputs": [
        {
          "output_type": "execute_result",
          "data": {
            "text/plain": [
              "(['normal cup', 'large cup'],\n",
              " ['normal cup', 'large cup'],\n",
              " ['normal cup', 'large cup'])"
            ]
          },
          "metadata": {},
          "execution_count": 4
        }
      ]
    },
    {
      "cell_type": "code",
      "source": [
        "trainnormalcup = os.listdir('/content/drive/MyDrive/optic cup images/split/train/normal cup')\n",
        "trainnormalcup\n",
        "print(len(trainnormalcup))"
      ],
      "metadata": {
        "colab": {
          "base_uri": "https://localhost:8080/"
        },
        "id": "pERN1vSFwy8S",
        "outputId": "d57f773c-56e2-4461-eb5e-09bcc7bbb3b8"
      },
      "execution_count": 8,
      "outputs": [
        {
          "output_type": "stream",
          "name": "stdout",
          "text": [
            "30\n"
          ]
        }
      ]
    },
    {
      "cell_type": "code",
      "source": [
        "trainlargecup = os.listdir('/content/drive/MyDrive/optic cup images/split/train/large cup')\n",
        "trainlargecup\n",
        "print(len(trainlargecup))"
      ],
      "metadata": {
        "colab": {
          "base_uri": "https://localhost:8080/"
        },
        "id": "S8CYsZKEwy7E",
        "outputId": "040b8272-d342-4241-9177-6efe4ac2dd98"
      },
      "execution_count": 9,
      "outputs": [
        {
          "output_type": "stream",
          "name": "stdout",
          "text": [
            "40\n"
          ]
        }
      ]
    },
    {
      "cell_type": "code",
      "source": [
        "from keras.preprocessing.image import ImageDataGenerator\n",
        "datagen = ImageDataGenerator(rescale=1/255)"
      ],
      "metadata": {
        "id": "PD2C6iB2wyZE"
      },
      "execution_count": 11,
      "outputs": []
    },
    {
      "cell_type": "code",
      "source": [
        "trainimages = datagen.flow_from_directory('/content/drive/MyDrive/optic cup images/split/train',\n",
        "                                          target_size=(224,224))\n",
        "\n",
        "validationimages = datagen.flow_from_directory('/content/drive/MyDrive/optic cup images/split/val',\n",
        "                                          target_size=(224,224))\n",
        "\n",
        "testimages = datagen.flow_from_directory('/content/drive/MyDrive/optic cup images/split/test',\n",
        "                                          target_size=(224,224))"
      ],
      "metadata": {
        "colab": {
          "base_uri": "https://localhost:8080/"
        },
        "id": "JVI9rULsyvW0",
        "outputId": "deab6120-371e-481a-f7ad-d9b957fca00d"
      },
      "execution_count": 12,
      "outputs": [
        {
          "output_type": "stream",
          "name": "stdout",
          "text": [
            "Found 70 images belonging to 2 classes.\n",
            "Found 8 images belonging to 2 classes.\n",
            "Found 10 images belonging to 2 classes.\n"
          ]
        }
      ]
    },
    {
      "cell_type": "code",
      "source": [
        "from keras.models import Sequential\n",
        "from keras.layers import Conv2D,MaxPooling2D,Flatten,Dense\n",
        "\n",
        "model = Sequential([Conv2D(16,(3,3), activation='relu', input_shape=(224,224,3)),\n",
        "                    MaxPooling2D(2,2),\n",
        "\n",
        "                    Conv2D(32,(3,3), activation='relu',),\n",
        "                    MaxPooling2D(2,2),\n",
        "\n",
        "                    Flatten(),\n",
        "                    Dense(64, activation='relu'),\n",
        "                    Dense(2, activation='softmax')])\n",
        "\n",
        "model.compile(optimizer='adam',\n",
        "              loss='categorical_crossentropy',\n",
        "              metrics=['accuracy'])\n",
        "\n",
        "model.summary()"
      ],
      "metadata": {
        "colab": {
          "base_uri": "https://localhost:8080/"
        },
        "id": "Ir8zpLHpyvU6",
        "outputId": "dd3ef13a-f822-4b98-f759-6eb0da298103"
      },
      "execution_count": 17,
      "outputs": [
        {
          "output_type": "stream",
          "name": "stdout",
          "text": [
            "Model: \"sequential_2\"\n",
            "_________________________________________________________________\n",
            " Layer (type)                Output Shape              Param #   \n",
            "=================================================================\n",
            " conv2d_4 (Conv2D)           (None, 222, 222, 16)      448       \n",
            "                                                                 \n",
            " max_pooling2d_4 (MaxPoolin  (None, 111, 111, 16)      0         \n",
            " g2D)                                                            \n",
            "                                                                 \n",
            " conv2d_5 (Conv2D)           (None, 109, 109, 32)      4640      \n",
            "                                                                 \n",
            " max_pooling2d_5 (MaxPoolin  (None, 54, 54, 32)        0         \n",
            " g2D)                                                            \n",
            "                                                                 \n",
            " flatten_2 (Flatten)         (None, 93312)             0         \n",
            "                                                                 \n",
            " dense_4 (Dense)             (None, 64)                5972032   \n",
            "                                                                 \n",
            " dense_5 (Dense)             (None, 2)                 130       \n",
            "                                                                 \n",
            "=================================================================\n",
            "Total params: 5977250 (22.80 MB)\n",
            "Trainable params: 5977250 (22.80 MB)\n",
            "Non-trainable params: 0 (0.00 Byte)\n",
            "_________________________________________________________________\n"
          ]
        }
      ]
    },
    {
      "cell_type": "code",
      "source": [
        "model.fit(trainimages,\n",
        "          batch_size=10,\n",
        "          epochs=10,\n",
        "          validation_data=validationimages)\n",
        "model.save('normalcupvslargecup_model.keras')"
      ],
      "metadata": {
        "colab": {
          "base_uri": "https://localhost:8080/"
        },
        "id": "b7Sh2Gze3TYa",
        "outputId": "a7656e95-48cb-4698-8daf-d7be3a273c5a"
      },
      "execution_count": 29,
      "outputs": [
        {
          "output_type": "stream",
          "name": "stdout",
          "text": [
            "Epoch 1/10\n",
            "3/3 [==============================] - 6s 2s/step - loss: 0.3416 - accuracy: 0.8714 - val_loss: 0.5400 - val_accuracy: 0.7500\n",
            "Epoch 2/10\n",
            "3/3 [==============================] - 7s 2s/step - loss: 0.3837 - accuracy: 0.8429 - val_loss: 0.6167 - val_accuracy: 0.7500\n",
            "Epoch 3/10\n",
            "3/3 [==============================] - 12s 6s/step - loss: 0.3993 - accuracy: 0.8429 - val_loss: 0.4338 - val_accuracy: 0.8750\n",
            "Epoch 4/10\n",
            "3/3 [==============================] - 8s 2s/step - loss: 0.3352 - accuracy: 0.9000 - val_loss: 0.5850 - val_accuracy: 0.7500\n",
            "Epoch 5/10\n",
            "3/3 [==============================] - 6s 3s/step - loss: 0.3406 - accuracy: 0.8286 - val_loss: 0.4551 - val_accuracy: 1.0000\n",
            "Epoch 6/10\n",
            "3/3 [==============================] - 9s 4s/step - loss: 0.2889 - accuracy: 0.8857 - val_loss: 0.5873 - val_accuracy: 0.7500\n",
            "Epoch 7/10\n",
            "3/3 [==============================] - 6s 1s/step - loss: 0.2704 - accuracy: 0.8714 - val_loss: 0.6137 - val_accuracy: 0.7500\n",
            "Epoch 8/10\n",
            "3/3 [==============================] - 7s 3s/step - loss: 0.2666 - accuracy: 0.8857 - val_loss: 0.4419 - val_accuracy: 0.7500\n",
            "Epoch 9/10\n",
            "3/3 [==============================] - 6s 1s/step - loss: 0.2166 - accuracy: 0.9571 - val_loss: 0.6062 - val_accuracy: 0.7500\n",
            "Epoch 10/10\n",
            "3/3 [==============================] - 8s 2s/step - loss: 0.2207 - accuracy: 0.9000 - val_loss: 0.6099 - val_accuracy: 0.7500\n"
          ]
        }
      ]
    },
    {
      "cell_type": "code",
      "source": [
        "y_pred = model.predict(testimages)\n",
        "y_pred"
      ],
      "metadata": {
        "colab": {
          "base_uri": "https://localhost:8080/"
        },
        "id": "1s2-iWNE53qJ",
        "outputId": "05611cc4-4471-4317-f4b4-931e4a9b2dbf"
      },
      "execution_count": 34,
      "outputs": [
        {
          "output_type": "stream",
          "name": "stdout",
          "text": [
            "1/1 [==============================] - 1s 545ms/step\n"
          ]
        },
        {
          "output_type": "execute_result",
          "data": {
            "text/plain": [
              "array([[5.2511126e-01, 4.7488862e-01],\n",
              "       [9.6109205e-01, 3.8907882e-02],\n",
              "       [6.8421406e-01, 3.1578603e-01],\n",
              "       [9.4452173e-01, 5.5478141e-02],\n",
              "       [9.6038646e-01, 3.9613515e-02],\n",
              "       [9.4120389e-01, 5.8796037e-02],\n",
              "       [8.5593528e-01, 1.4406472e-01],\n",
              "       [9.6492612e-01, 3.5073832e-02],\n",
              "       [7.8144509e-01, 2.1855499e-01],\n",
              "       [1.0586700e-04, 9.9989414e-01]], dtype=float32)"
            ]
          },
          "metadata": {},
          "execution_count": 34
        }
      ]
    },
    {
      "cell_type": "code",
      "source": [
        "y_pred1 = np.argmax(y_pred,axis=1)\n",
        "y_pred1"
      ],
      "metadata": {
        "colab": {
          "base_uri": "https://localhost:8080/"
        },
        "id": "_fRlgKjd6yJf",
        "outputId": "07e83297-9bb9-4ec2-cc3f-21b7de5a06ce"
      },
      "execution_count": 31,
      "outputs": [
        {
          "output_type": "execute_result",
          "data": {
            "text/plain": [
              "array([0, 0, 0, 0, 0, 0, 1, 0, 0, 0])"
            ]
          },
          "metadata": {},
          "execution_count": 31
        }
      ]
    },
    {
      "cell_type": "code",
      "source": [
        "y_true=testimages.classes"
      ],
      "metadata": {
        "id": "KK-tYX8x7GZI"
      },
      "execution_count": 25,
      "outputs": []
    },
    {
      "cell_type": "code",
      "source": [
        "testimages.class_indices"
      ],
      "metadata": {
        "colab": {
          "base_uri": "https://localhost:8080/"
        },
        "id": "YrTs6cZs7QKc",
        "outputId": "2686cdb7-ebca-40c8-d6c8-7a9aef5c5609"
      },
      "execution_count": 22,
      "outputs": [
        {
          "output_type": "execute_result",
          "data": {
            "text/plain": [
              "{'large cup': 0, 'normal cup': 1}"
            ]
          },
          "metadata": {},
          "execution_count": 22
        }
      ]
    },
    {
      "cell_type": "code",
      "source": [
        "from sklearn import metrics\n",
        "metrics.confusion_matrix(y_true,y_pred1)"
      ],
      "metadata": {
        "colab": {
          "base_uri": "https://localhost:8080/"
        },
        "id": "V-IijAki7QIQ",
        "outputId": "ae6d1bcc-92cf-4a9d-b877-cd048c613abb"
      },
      "execution_count": 35,
      "outputs": [
        {
          "output_type": "execute_result",
          "data": {
            "text/plain": [
              "array([[5, 0],\n",
              "       [4, 1]])"
            ]
          },
          "metadata": {},
          "execution_count": 35
        }
      ]
    },
    {
      "cell_type": "code",
      "source": [
        "metrics.ConfusionMatrixDisplay.from_predictions(y_true,y_pred1)"
      ],
      "metadata": {
        "colab": {
          "base_uri": "https://localhost:8080/",
          "height": 472
        },
        "id": "8_b8Pdcq8GxY",
        "outputId": "0da15f15-8ed3-4df2-8a1a-6f9b5dc3f547"
      },
      "execution_count": 27,
      "outputs": [
        {
          "output_type": "execute_result",
          "data": {
            "text/plain": [
              "<sklearn.metrics._plot.confusion_matrix.ConfusionMatrixDisplay at 0x7b0dfa0d8070>"
            ]
          },
          "metadata": {},
          "execution_count": 27
        },
        {
          "output_type": "display_data",
          "data": {
            "text/plain": [
              "<Figure size 640x480 with 2 Axes>"
            ],
            "image/png": "[encoded data removed]"
          },
          "metadata": {}
        }
      ]
    },
    {
      "cell_type": "code",
      "source": [
        "print(metrics.classification_report(y_true,y_pred1))"
      ],
      "metadata": {
        "colab": {
          "base_uri": "https://localhost:8080/"
        },
        "id": "75zcbGhH9S1v",
        "outputId": "17d24d31-2a41-4766-e5d4-45a2b432e709"
      },
      "execution_count": 36,
      "outputs": [
        {
          "output_type": "stream",
          "name": "stdout",
          "text": [
            "              precision    recall  f1-score   support\n",
            "\n",
            "           0       0.56      1.00      0.71         5\n",
            "           1       1.00      0.20      0.33         5\n",
            "\n",
            "    accuracy                           0.60        10\n",
            "   macro avg       0.78      0.60      0.52        10\n",
            "weighted avg       0.78      0.60      0.52        10\n",
            "\n"
          ]
        }
      ]
    },
    {
      "cell_type": "code",
      "source": [
        "metrics.RocCurveDisplay.from_predictions(y_true,y_pred1)"
      ],
      "metadata": {
        "colab": {
          "base_uri": "https://localhost:8080/",
          "height": 466
        },
        "id": "gGCjOYFb-X7Q",
        "outputId": "69927059-efc4-4ea6-9df1-8b4bce4694eb"
      },
      "execution_count": 37,
      "outputs": [
        {
          "output_type": "execute_result",
          "data": {
            "text/plain": [
              "<sklearn.metrics._plot.roc_curve.RocCurveDisplay at 0x7b0df921da20>"
            ]
          },
          "metadata": {},
          "execution_count": 37
        },
        {
          "output_type": "display_data",
          "data": {
            "text/plain": [
              "<Figure size 640x480 with 1 Axes>"
            ],
            "image/png": "[encoded data removed]"
          },
          "metadata": {}
        }
      ]
    }
  ]
}