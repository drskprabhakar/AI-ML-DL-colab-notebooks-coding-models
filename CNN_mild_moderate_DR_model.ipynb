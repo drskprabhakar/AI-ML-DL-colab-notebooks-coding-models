{
  "nbformat": 4,
  "nbformat_minor": 0,
  "metadata": {
    "colab": {
      "provenance": [],
      "mount_file_id": "1swgg8MV9AGkwlaZ_g-0mtOYMyKWJBr1y",
      "authorship_tag": "ABX9TyMfkWOGcbSqPLLQb3aBdhoL",
      "include_colab_link": true
    },
    "kernelspec": {
      "name": "python3",
      "display_name": "Python 3"
    },
    "language_info": {
      "name": "python"
    }
  },
  "cells": [
    {
      "cell_type": "markdown",
      "metadata": {
        "id": "view-in-github",
        "colab_type": "text"
      },
      "source": [
        "<a href=\"https://colab.research.google.com/github/drskprabhakar/AI-ML-DL-colab-notebooks-coding-models/blob/main/CNN_mild_moderate_DR_model.ipynb\" target=\"_parent\"><img src=\"https://colab.research.google.com/assets/colab-badge.svg\" alt=\"Open In Colab\"/></a>"
      ]
    },
    {
      "cell_type": "code",
      "execution_count": 26,
      "metadata": {
        "colab": {
          "base_uri": "https://localhost:8080/"
        },
        "id": "2REu8noeC9Zo",
        "outputId": "f0166100-37e7-4dbd-bb00-c05c2e63222b"
      },
      "outputs": [
        {
          "output_type": "execute_result",
          "data": {
            "text/plain": [
              "['train', 'val', 'test']"
            ]
          },
          "metadata": {},
          "execution_count": 26
        }
      ],
      "source": [
        "import os\n",
        "import numpy as np\n",
        "os.listdir('/content/drive/MyDrive/Mild DR undersampled moderate DR folder/split')\n"
      ]
    },
    {
      "cell_type": "code",
      "source": [
        "os.listdir('/content/drive/MyDrive/Mild DR undersampled moderate DR folder/split/train')\n"
      ],
      "metadata": {
        "colab": {
          "base_uri": "https://localhost:8080/"
        },
        "id": "07IR_Ln3DPVq",
        "outputId": "ea023185-32b6-4c57-ddb1-85224e583286"
      },
      "execution_count": 27,
      "outputs": [
        {
          "output_type": "execute_result",
          "data": {
            "text/plain": [
              "['Mild', 'undersampled_Moderate']"
            ]
          },
          "metadata": {},
          "execution_count": 27
        }
      ]
    },
    {
      "cell_type": "code",
      "source": [
        "from keras.preprocessing.image import ImageDataGenerator\n",
        "datagen = ImageDataGenerator(rescale=1/255)\n",
        "\n",
        "trainimages = datagen.flow_from_directory('/content/drive/MyDrive/Mild DR undersampled moderate DR folder/split/train',\n",
        "                                          target_size=(64,64),\n",
        "                                          class_mode='binary')\n",
        "\n",
        "valimages = datagen.flow_from_directory('/content/drive/MyDrive/Mild DR undersampled moderate DR folder/split/val',\n",
        "                                          target_size=(64,64),\n",
        "                                          class_mode='binary')\n",
        "testimages = datagen.flow_from_directory('/content/drive/MyDrive/Mild DR undersampled moderate DR folder/split/test',\n",
        "                                            target_size=(64,64),\n",
        "                                            class_mode='binary')\n"
      ],
      "metadata": {
        "colab": {
          "base_uri": "https://localhost:8080/"
        },
        "id": "iyPJdOKADPol",
        "outputId": "ccc85d1d-2023-4847-f7ce-4678f2764298"
      },
      "execution_count": 28,
      "outputs": [
        {
          "output_type": "stream",
          "name": "stdout",
          "text": [
            "Found 591 images belonging to 2 classes.\n",
            "Found 74 images belonging to 2 classes.\n",
            "Found 75 images belonging to 2 classes.\n"
          ]
        }
      ]
    },
    {
      "cell_type": "code",
      "source": [
        "from keras.models import Sequential\n",
        "from keras.layers import Conv2D, MaxPooling2D, Flatten, Dense\n",
        "\n",
        "model = Sequential([Conv2D(32,(3,3), activation='relu', input_shape=(64,64,3)),\n",
        "                     MaxPooling2D(2,2),\n",
        "\n",
        "                     Conv2D(64,(3,3), activation='relu'),\n",
        "                     MaxPooling2D(2,2),\n",
        "\n",
        "                     Flatten(),\n",
        "                     Dense(64, activation='relu'),\n",
        "                     Dense(1, activation='sigmoid')])\n",
        "model.compile(optimizer='adam',\n",
        "              loss='binary_crossentropy',\n",
        "              metrics=['accuracy'])\n",
        "model.summary()"
      ],
      "metadata": {
        "colab": {
          "base_uri": "https://localhost:8080/"
        },
        "id": "gRbf2irzDR_K",
        "outputId": "f7eec7cd-0ead-4622-f468-f004967d84a5"
      },
      "execution_count": 29,
      "outputs": [
        {
          "output_type": "stream",
          "name": "stdout",
          "text": [
            "Model: \"sequential_4\"\n",
            "_________________________________________________________________\n",
            " Layer (type)                Output Shape              Param #   \n",
            "=================================================================\n",
            " conv2d_8 (Conv2D)           (None, 62, 62, 32)        896       \n",
            "                                                                 \n",
            " max_pooling2d_8 (MaxPoolin  (None, 31, 31, 32)        0         \n",
            " g2D)                                                            \n",
            "                                                                 \n",
            " conv2d_9 (Conv2D)           (None, 29, 29, 64)        18496     \n",
            "                                                                 \n",
            " max_pooling2d_9 (MaxPoolin  (None, 14, 14, 64)        0         \n",
            " g2D)                                                            \n",
            "                                                                 \n",
            " flatten_4 (Flatten)         (None, 12544)             0         \n",
            "                                                                 \n",
            " dense_8 (Dense)             (None, 64)                802880    \n",
            "                                                                 \n",
            " dense_9 (Dense)             (None, 1)                 65        \n",
            "                                                                 \n",
            "=================================================================\n",
            "Total params: 822337 (3.14 MB)\n",
            "Trainable params: 822337 (3.14 MB)\n",
            "Non-trainable params: 0 (0.00 Byte)\n",
            "_________________________________________________________________\n"
          ]
        }
      ]
    },
    {
      "cell_type": "code",
      "source": [
        "model.fit(trainimages,\n",
        "          batch_size=32,\n",
        "          epochs=10,\n",
        "          validation_data=valimages)\n",
        "model.save('mild_moderate_DRVGG16_model.keras')"
      ],
      "metadata": {
        "colab": {
          "base_uri": "https://localhost:8080/"
        },
        "id": "wvSfwymmFFu0",
        "outputId": "d27d127f-2b66-457e-9978-f76a937c3a16"
      },
      "execution_count": 30,
      "outputs": [
        {
          "output_type": "stream",
          "name": "stdout",
          "text": [
            "Epoch 1/10\n",
            "19/19 [==============================] - 10s 472ms/step - loss: 0.6715 - accuracy: 0.5804 - val_loss: 0.6163 - val_accuracy: 0.6622\n",
            "Epoch 2/10\n",
            "19/19 [==============================] - 8s 403ms/step - loss: 0.6582 - accuracy: 0.6447 - val_loss: 0.5859 - val_accuracy: 0.7297\n",
            "Epoch 3/10\n",
            "19/19 [==============================] - 8s 420ms/step - loss: 0.6229 - accuracy: 0.6684 - val_loss: 0.5923 - val_accuracy: 0.6757\n",
            "Epoch 4/10\n",
            "19/19 [==============================] - 6s 317ms/step - loss: 0.5939 - accuracy: 0.7124 - val_loss: 0.5587 - val_accuracy: 0.7162\n",
            "Epoch 5/10\n",
            "19/19 [==============================] - 8s 396ms/step - loss: 0.5740 - accuracy: 0.7310 - val_loss: 0.5543 - val_accuracy: 0.7432\n",
            "Epoch 6/10\n",
            "19/19 [==============================] - 6s 319ms/step - loss: 0.5558 - accuracy: 0.7327 - val_loss: 0.5335 - val_accuracy: 0.7568\n",
            "Epoch 7/10\n",
            "19/19 [==============================] - 8s 404ms/step - loss: 0.5458 - accuracy: 0.7377 - val_loss: 0.5228 - val_accuracy: 0.7432\n",
            "Epoch 8/10\n",
            "19/19 [==============================] - 8s 399ms/step - loss: 0.5335 - accuracy: 0.7462 - val_loss: 0.5557 - val_accuracy: 0.7703\n",
            "Epoch 9/10\n",
            "19/19 [==============================] - 6s 310ms/step - loss: 0.5222 - accuracy: 0.7614 - val_loss: 0.5790 - val_accuracy: 0.6892\n",
            "Epoch 10/10\n",
            "19/19 [==============================] - 7s 403ms/step - loss: 0.5052 - accuracy: 0.7750 - val_loss: 0.5123 - val_accuracy: 0.7838\n"
          ]
        }
      ]
    },
    {
      "cell_type": "code",
      "source": [
        "predictions = model.predict(testimages)"
      ],
      "metadata": {
        "id": "d1hK3t9TLADg",
        "colab": {
          "base_uri": "https://localhost:8080/"
        },
        "outputId": "5cb7af5b-b175-4930-9de8-0c87e34d6b10"
      },
      "execution_count": 96,
      "outputs": [
        {
          "output_type": "stream",
          "name": "stdout",
          "text": [
            "3/3 [==============================] - 1s 157ms/step\n"
          ]
        }
      ]
    },
    {
      "cell_type": "code",
      "source": [
        "predictions[predictions<0.5]=0\n",
        "predictions[predictions>0.5]=1"
      ],
      "metadata": {
        "id": "GClcj630LQ3T"
      },
      "execution_count": 97,
      "outputs": []
    },
    {
      "cell_type": "code",
      "source": [
        "y_true = testimages.classes"
      ],
      "metadata": {
        "id": "d-puuNf1LnJA"
      },
      "execution_count": 94,
      "outputs": []
    },
    {
      "cell_type": "code",
      "source": [
        "from sklearn import metrics\n",
        "metrics.confusion_matrix(y_true, predictions)"
      ],
      "metadata": {
        "colab": {
          "base_uri": "https://localhost:8080/"
        },
        "id": "JYDmia32Lf0B",
        "outputId": "2daaab95-65b2-4f72-881c-640f6d139bda"
      },
      "execution_count": 98,
      "outputs": [
        {
          "output_type": "execute_result",
          "data": {
            "text/plain": [
              "array([[30,  8],\n",
              "       [17, 20]])"
            ]
          },
          "metadata": {},
          "execution_count": 98
        }
      ]
    },
    {
      "cell_type": "code",
      "source": [
        "print(metrics.classification_report(y_true, predictions,\n",
        "                                    target_names=('mild DR', 'moderate DR')))"
      ],
      "metadata": {
        "id": "WTXuCGXTgJjF",
        "colab": {
          "base_uri": "https://localhost:8080/"
        },
        "outputId": "9f4b2b9c-6b2d-43bf-c876-a27c27988066"
      },
      "execution_count": 99,
      "outputs": [
        {
          "output_type": "stream",
          "name": "stdout",
          "text": [
            "              precision    recall  f1-score   support\n",
            "\n",
            "     mild DR       0.64      0.79      0.71        38\n",
            " moderate DR       0.71      0.54      0.62        37\n",
            "\n",
            "    accuracy                           0.67        75\n",
            "   macro avg       0.68      0.67      0.66        75\n",
            "weighted avg       0.68      0.67      0.66        75\n",
            "\n"
          ]
        }
      ]
    },
    {
      "cell_type": "code",
      "source": [
        "metrics.RocCurveDisplay.from_predictions(y_true, predictions)"
      ],
      "metadata": {
        "id": "oV_DHhH4LgAg",
        "colab": {
          "base_uri": "https://localhost:8080/",
          "height": 467
        },
        "outputId": "bde00f54-10f5-4539-d884-45c659d21c57"
      },
      "execution_count": 100,
      "outputs": [
        {
          "output_type": "execute_result",
          "data": {
            "text/plain": [
              "<sklearn.metrics._plot.roc_curve.RocCurveDisplay at 0x7838d8676260>"
            ]
          },
          "metadata": {},
          "execution_count": 100
        },
        {
          "output_type": "display_data",
          "data": {
            "text/plain": [
              "<Figure size 640x480 with 1 Axes>"
            ],
            "image/png": "[encoded data removed]"
          },
          "metadata": {}
        }
      ]
    },
    {
      "cell_type": "code",
      "source": [
        "testimages.class_indices"
      ],
      "metadata": {
        "colab": {
          "base_uri": "https://localhost:8080/"
        },
        "id": "fWPRANIQmVvy",
        "outputId": "57cd5aa2-df3a-4846-910d-6b1a190a97fa"
      },
      "execution_count": 68,
      "outputs": [
        {
          "output_type": "execute_result",
          "data": {
            "text/plain": [
              "{'Mild': 0, 'undersampled_Moderate': 1}"
            ]
          },
          "metadata": {},
          "execution_count": 68
        }
      ]
    },
    {
      "cell_type": "code",
      "source": [
        "metrics.ConfusionMatrixDisplay.from_predictions(y_true, predictions)"
      ],
      "metadata": {
        "colab": {
          "base_uri": "https://localhost:8080/",
          "height": 473
        },
        "id": "c9RbsAHdm_bj",
        "outputId": "b6750f9c-271b-4077-e9f0-86f908fa6811"
      },
      "execution_count": 101,
      "outputs": [
        {
          "output_type": "execute_result",
          "data": {
            "text/plain": [
              "<sklearn.metrics._plot.confusion_matrix.ConfusionMatrixDisplay at 0x7838d86575b0>"
            ]
          },
          "metadata": {},
          "execution_count": 101
        },
        {
          "output_type": "display_data",
          "data": {
            "text/plain": [
              "<Figure size 640x480 with 2 Axes>"
            ],
            "image/png": "[encoded data removed]"
          },
          "metadata": {}
        }
      ]
    }
  ]
}