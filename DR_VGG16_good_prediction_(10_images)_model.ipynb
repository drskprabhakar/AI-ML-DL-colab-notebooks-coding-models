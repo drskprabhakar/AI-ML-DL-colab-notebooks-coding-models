{
  "nbformat": 4,
  "nbformat_minor": 0,
  "metadata": {
    "colab": {
      "provenance": [],
      "gpuType": "T4",
      "mount_file_id": "1Ifc0KYh0lFT3kSVze21ri5jNhYFCidy7",
      "authorship_tag": "ABX9TyNJZJ/ntebn++Wu2Fb0ddvy",
      "include_colab_link": true
    },
    "kernelspec": {
      "name": "python3",
      "display_name": "Python 3"
    },
    "language_info": {
      "name": "python"
    },
    "accelerator": "GPU"
  },
  "cells": [
    {
      "cell_type": "markdown",
      "metadata": {
        "id": "view-in-github",
        "colab_type": "text"
      },
      "source": [
        "<a href=\"https://colab.research.google.com/github/drskprabhakar/Axial-Length-Prediction-ML-Regression-mode/blob/main/DR_VGG16_good_prediction_(10_images)_model.ipynb\" target=\"_parent\"><img src=\"https://colab.research.google.com/assets/colab-badge.svg\" alt=\"Open In Colab\"/></a>"
      ]
    },
    {
      "cell_type": "code",
      "execution_count": 1,
      "metadata": {
        "colab": {
          "base_uri": "https://localhost:8080/"
        },
        "id": "K4dZUo-6umIe",
        "outputId": "af41b934-457b-4219-d0e9-64707deeddfa"
      },
      "outputs": [
        {
          "output_type": "execute_result",
          "data": {
            "text/plain": [
              "['train', 'val', 'test']"
            ]
          },
          "metadata": {},
          "execution_count": 1
        }
      ],
      "source": [
        "import os\n",
        "import numpy as np\n",
        "os.listdir('/content/drive/MyDrive/DR fundus images/split')"
      ]
    },
    {
      "cell_type": "code",
      "source": [
        "os.listdir('/content/drive/MyDrive/DR fundus images/split/train')"
      ],
      "metadata": {
        "colab": {
          "base_uri": "https://localhost:8080/"
        },
        "id": "iHnehByevJ5a",
        "outputId": "524c3507-b5f5-4e65-88c8-6ba4201c2e6d"
      },
      "execution_count": 2,
      "outputs": [
        {
          "output_type": "execute_result",
          "data": {
            "text/plain": [
              "['DR2', 'DR3', 'DR1']"
            ]
          },
          "metadata": {},
          "execution_count": 2
        }
      ]
    },
    {
      "cell_type": "code",
      "source": [
        "from keras.preprocessing.image import ImageDataGenerator\n",
        "datagenaug = ImageDataGenerator(rotation_range=20,\n",
        "                             width_shift_range= 0.2,\n",
        "                             height_shift_range= 0.2,\n",
        "                             brightness_range= None,\n",
        "                             shear_range= 0.2,\n",
        "                             zoom_range=0.2,\n",
        "                             channel_shift_range= 0.2,\n",
        "                             fill_mode= \"nearest\",\n",
        "\n",
        "                             horizontal_flip=0.2,\n",
        "                             vertical_flip=0.2,\n",
        "                             rescale=1/255)\n",
        "datagen = ImageDataGenerator()\n",
        "\n",
        "trainimages = datagen.flow_from_directory('/content/drive/MyDrive/DR fundus images/split/train',\n",
        "                                          target_size=(224,224),\n",
        "                                          class_mode='categorical')\n",
        "\n",
        "valimages = datagen.flow_from_directory('/content/drive/MyDrive/DR fundus images/split/val',\n",
        "                                        target_size=(224,224),\n",
        "                                        class_mode='categorical')\n",
        "\n",
        "testimages = datagen.flow_from_directory('/content/drive/MyDrive/DR fundus images/split/test',\n",
        "                                         target_size=(224,224),\n",
        "                                         class_mode='categorical')\n"
      ],
      "metadata": {
        "colab": {
          "base_uri": "https://localhost:8080/"
        },
        "id": "F8fkyDIhvRVZ",
        "outputId": "8f79903d-36dc-4a97-da7d-163b3fcf078c"
      },
      "execution_count": 69,
      "outputs": [
        {
          "output_type": "stream",
          "name": "stdout",
          "text": [
            "Found 78 images belonging to 3 classes.\n",
            "Found 14 images belonging to 3 classes.\n",
            "Found 14 images belonging to 3 classes.\n"
          ]
        }
      ]
    },
    {
      "cell_type": "code",
      "source": [
        "import keras\n",
        "VGG = keras.applications.VGG16(include_top=False,\n",
        "                               weights=\"imagenet\",\n",
        "                               input_shape=(224,224,3))\n",
        "VGG.trainable=False"
      ],
      "metadata": {
        "id": "XzI3ifT6wWYZ"
      },
      "execution_count": 70,
      "outputs": []
    },
    {
      "cell_type": "code",
      "source": [
        "from keras.models import Sequential\n",
        "model = keras.Sequential([\n",
        "    VGG,\n",
        "    keras.layers.Flatten(),\n",
        "    keras.layers.Dense(256, activation='relu'),\n",
        "    keras.layers.Dense(256, activation='relu'),\n",
        "    keras.layers.Dense(3, activation='softmax')\n",
        "])\n",
        "model.compile(optimizer='adam',\n",
        "              loss='categorical_crossentropy',\n",
        "              metrics=['accuracy'])\n",
        "model.summary()"
      ],
      "metadata": {
        "colab": {
          "base_uri": "https://localhost:8080/"
        },
        "id": "pA71vM1owWoU",
        "outputId": "3668daa4-fa23-4b4f-86f6-5b492a956435"
      },
      "execution_count": 71,
      "outputs": [
        {
          "output_type": "stream",
          "name": "stdout",
          "text": [
            "Model: \"sequential_3\"\n",
            "_________________________________________________________________\n",
            " Layer (type)                Output Shape              Param #   \n",
            "=================================================================\n",
            " vgg16 (Functional)          (None, 7, 7, 512)         14714688  \n",
            "                                                                 \n",
            " flatten_3 (Flatten)         (None, 25088)             0         \n",
            "                                                                 \n",
            " dense_9 (Dense)             (None, 256)               6422784   \n",
            "                                                                 \n",
            " dense_10 (Dense)            (None, 256)               65792     \n",
            "                                                                 \n",
            " dense_11 (Dense)            (None, 3)                 771       \n",
            "                                                                 \n",
            "=================================================================\n",
            "Total params: 21204035 (80.89 MB)\n",
            "Trainable params: 6489347 (24.75 MB)\n",
            "Non-trainable params: 14714688 (56.13 MB)\n",
            "_________________________________________________________________\n"
          ]
        }
      ]
    },
    {
      "cell_type": "code",
      "source": [
        "model.fit(trainimages,\n",
        "          batch_size=32,\n",
        "          epochs=3,\n",
        "          validation_data=valimages)\n",
        "model.save('DRVGG16_model.keras')"
      ],
      "metadata": {
        "colab": {
          "base_uri": "https://localhost:8080/"
        },
        "id": "Mq7f12AoxMPs",
        "outputId": "aa8c5163-63a3-4c6f-b955-0eca0b58effa"
      },
      "execution_count": 88,
      "outputs": [
        {
          "output_type": "stream",
          "name": "stdout",
          "text": [
            "Epoch 1/3\n",
            "3/3 [==============================] - 5s 1s/step - loss: 1.8080e-06 - accuracy: 1.0000 - val_loss: 6.3898 - val_accuracy: 0.7143\n",
            "Epoch 2/3\n",
            "3/3 [==============================] - 5s 2s/step - loss: 1.7774e-06 - accuracy: 1.0000 - val_loss: 6.3883 - val_accuracy: 0.7143\n",
            "Epoch 3/3\n",
            "3/3 [==============================] - 4s 2s/step - loss: 1.7438e-06 - accuracy: 1.0000 - val_loss: 6.3868 - val_accuracy: 0.7143\n"
          ]
        }
      ]
    },
    {
      "cell_type": "code",
      "source": [
        "y_pred = model.predict(testimages)\n",
        "y_pred"
      ],
      "metadata": {
        "colab": {
          "base_uri": "https://localhost:8080/"
        },
        "id": "bYnHPs6yzROb",
        "outputId": "9a2967c7-34fe-4dd9-ad0d-e519d014127a"
      },
      "execution_count": 89,
      "outputs": [
        {
          "output_type": "stream",
          "name": "stdout",
          "text": [
            "1/1 [==============================] - 1s 542ms/step\n"
          ]
        },
        {
          "output_type": "execute_result",
          "data": {
            "text/plain": [
              "array([[0.0000000e+00, 0.0000000e+00, 1.0000000e+00],\n",
              "       [2.1914015e-02, 1.5264156e-01, 8.2544446e-01],\n",
              "       [1.0000000e+00, 1.1685217e-14, 1.3397105e-08],\n",
              "       [1.7128879e-16, 1.0000000e+00, 1.5981508e-19],\n",
              "       [2.9055759e-22, 1.0000000e+00, 2.0982919e-29],\n",
              "       [1.1911364e-11, 1.0000000e+00, 2.5368029e-11],\n",
              "       [6.3699460e-34, 1.0000000e+00, 2.0905542e-14],\n",
              "       [2.2607070e-15, 2.4911715e-17, 1.0000000e+00],\n",
              "       [2.3756903e-22, 1.0000000e+00, 1.7276503e-19],\n",
              "       [9.9999988e-01, 2.0027704e-13, 9.8248755e-08],\n",
              "       [3.0044011e-22, 4.4535441e-06, 9.9999559e-01],\n",
              "       [1.9596456e-29, 1.6020980e-05, 9.9998403e-01],\n",
              "       [2.0673692e-29, 9.0396365e-21, 1.0000000e+00],\n",
              "       [2.6184316e-27, 8.4302509e-11, 1.0000000e+00]], dtype=float32)"
            ]
          },
          "metadata": {},
          "execution_count": 89
        }
      ]
    },
    {
      "cell_type": "code",
      "source": [
        "y_pred1 = np.argmax(y_pred, axis=1)\n",
        "y_pred1"
      ],
      "metadata": {
        "colab": {
          "base_uri": "https://localhost:8080/"
        },
        "id": "CsgOkCLLzcyk",
        "outputId": "736472b3-130b-4149-a8e4-9c4b8512b7bc"
      },
      "execution_count": 90,
      "outputs": [
        {
          "output_type": "execute_result",
          "data": {
            "text/plain": [
              "array([2, 2, 0, 1, 1, 1, 1, 2, 1, 0, 2, 2, 2, 2])"
            ]
          },
          "metadata": {},
          "execution_count": 90
        }
      ]
    },
    {
      "cell_type": "code",
      "source": [
        "y_true = testimages.classes\n",
        "y_true"
      ],
      "metadata": {
        "colab": {
          "base_uri": "https://localhost:8080/"
        },
        "id": "_3mvP_t5zsf5",
        "outputId": "20e11bfc-8690-4c45-84ae-7dccbefd0f57"
      },
      "execution_count": 10,
      "outputs": [
        {
          "output_type": "execute_result",
          "data": {
            "text/plain": [
              "array([0, 0, 0, 1, 1, 1, 1, 1, 1, 2, 2, 2, 2, 2], dtype=int32)"
            ]
          },
          "metadata": {},
          "execution_count": 10
        }
      ]
    },
    {
      "cell_type": "code",
      "source": [
        "from sklearn import metrics\n",
        "metrics.confusion_matrix(y_true, y_pred1)"
      ],
      "metadata": {
        "colab": {
          "base_uri": "https://localhost:8080/"
        },
        "id": "5XLEVz02zsrl",
        "outputId": "d3745dba-b22e-457b-9337-3104b346827d"
      },
      "execution_count": 91,
      "outputs": [
        {
          "output_type": "execute_result",
          "data": {
            "text/plain": [
              "array([[1, 0, 2],\n",
              "       [0, 5, 1],\n",
              "       [1, 0, 4]])"
            ]
          },
          "metadata": {},
          "execution_count": 91
        }
      ]
    },
    {
      "cell_type": "code",
      "source": [
        "metrics.ConfusionMatrixDisplay.from_predictions(y_true, y_pred1)"
      ],
      "metadata": {
        "id": "UczqmWLzAQrX",
        "colab": {
          "base_uri": "https://localhost:8080/",
          "height": 473
        },
        "outputId": "976e6086-4ec4-44ce-aa08-86fb03b59ad3"
      },
      "execution_count": 92,
      "outputs": [
        {
          "output_type": "execute_result",
          "data": {
            "text/plain": [
              "<sklearn.metrics._plot.confusion_matrix.ConfusionMatrixDisplay at 0x7882799bef50>"
            ]
          },
          "metadata": {},
          "execution_count": 92
        },
        {
          "output_type": "display_data",
          "data": {
            "text/plain": [
              "<Figure size 640x480 with 2 Axes>"
            ],
            "image/png": "[encoded data removed]"
          },
          "metadata": {}
        }
      ]
    },
    {
      "cell_type": "code",
      "source": [
        "print(metrics.classification_report(y_true,y_pred1,\n",
        "                                    target_names=['DR1', 'DR2', 'DR3']))"
      ],
      "metadata": {
        "id": "pOCUh5rPAQ62",
        "colab": {
          "base_uri": "https://localhost:8080/"
        },
        "outputId": "6cf47984-2051-4b01-d261-ac6cc4267aa2"
      },
      "execution_count": 93,
      "outputs": [
        {
          "output_type": "stream",
          "name": "stdout",
          "text": [
            "              precision    recall  f1-score   support\n",
            "\n",
            "         DR1       0.50      0.33      0.40         3\n",
            "         DR2       1.00      0.83      0.91         6\n",
            "         DR3       0.57      0.80      0.67         5\n",
            "\n",
            "    accuracy                           0.71        14\n",
            "   macro avg       0.69      0.66      0.66        14\n",
            "weighted avg       0.74      0.71      0.71        14\n",
            "\n"
          ]
        }
      ]
    },
    {
      "cell_type": "code",
      "source": [
        "import numpy as np\n",
        "import matplotlib.pyplot as plt\n",
        "from sklearn.metrics import roc_curve, auc\n",
        "from sklearn.preprocessing import LabelBinarizer\n",
        "from itertools import cycle\n",
        "\n",
        "# Assuming you have your model predictions and ground truth labels\n",
        "# model_predictions = Your model's predicted probabilities for each class\n",
        "# ground_truth_labels = Ground truth labels for each sample\n",
        "\n",
        "# Convert labels to one-hot encoding\n",
        "label_binarizer = LabelBinarizer()\n",
        "ground_truth_labels_binary = label_binarizer.fit_transform(y_true)\n",
        "\n",
        "# Compute ROC curve and ROC area for each class\n",
        "fpr = dict()\n",
        "tpr = dict()\n",
        "roc_auc = dict()\n",
        "n_classes = len(label_binarizer.classes_)\n",
        "\n",
        "for i in range(n_classes):\n",
        "    fpr[i], tpr[i], _ = roc_curve(ground_truth_labels_binary[:, i], y_pred[:, i])\n",
        "    roc_auc[i] = auc(fpr[i], tpr[i])\n",
        "\n",
        "# Plot ROC curves\n",
        "plt.figure(figsize=(10, 8))\n",
        "colors = cycle(['aqua', 'darkorange', 'cornflowerblue'])\n",
        "for i, color in zip(range(n_classes), colors):\n",
        "    plt.plot(fpr[i], tpr[i], color=color, lw=2,\n",
        "             label='ROC curve of class {0} (area = {1:0.2f})'\n",
        "             ''.format(label_binarizer.classes_[i], roc_auc[i]))\n",
        "\n",
        "plt.plot([0, 1], [0, 1], 'k--', lw=2)\n",
        "plt.xlim([0.0, 1.0])\n",
        "plt.ylim([0.0, 1.05])\n",
        "plt.xlabel('False Positive Rate')\n",
        "plt.ylabel('True Positive Rate')\n",
        "plt.title('Receiver Operating Characteristic for Multiclass Classification')\n",
        "plt.legend(loc=\"lower right\")\n",
        "plt.show()\n"
      ],
      "metadata": {
        "id": "1AHDg1CQARm6",
        "colab": {
          "base_uri": "https://localhost:8080/",
          "height": 582
        },
        "outputId": "be6aeedd-3c49-42d2-9114-f8e6536e0bcc"
      },
      "execution_count": 94,
      "outputs": [
        {
          "output_type": "display_data",
          "data": {
            "text/plain": [
              "<Figure size 1000x800 with 1 Axes>"
            ],
            "image/png": "[encoded data removed]"
          },
          "metadata": {}
        }
      ]
    },
    {
      "cell_type": "code",
      "source": [
        "import numpy as np\n",
        "import tensorflow as tf\n",
        "from tensorflow.keras.preprocessing import image\n",
        "from tensorflow.keras.models import load_model\n",
        "\n",
        "# Load the trained CNN model\n",
        "model = load_model('/content/DRVGG16_model.keras')  # Provide the path to your trained model file\n",
        "\n",
        "# Define a function to predict unknown images\n",
        "def predict_unknown_image(image_path):\n",
        "    img = image.load_img(image_path, target_size=(224,224))  # Assuming images are resized to 150x150\n",
        "    img_array = image.img_to_array(img)\n",
        "    img_array = np.expand_dims(img_array, axis=0)  # Expand dimensions to match batch size\n",
        "    img_array /= 255.0  # Normalize pixel values\n",
        "\n",
        "    prediction = model.predict(img_array)\n",
        "    predicted_class_index = np.argmax(prediction)  # Get the index of the class with the highest probability\n",
        "    class_names = [\"DR1\", \"DR2\", \"DR3\"]  # Example class names, modify as per your multiclass classes\n",
        "    predicted_class_name = class_names[predicted_class_index]\n",
        "\n",
        "    return predicted_class_name\n",
        "\n",
        "# Example usage:\n",
        "unknown_image_path = \"/content/drive/MyDrive/DR fundus images/split/test/DR3/1ffa92ed-8d87-11e8-9daf-6045cb817f5b..JPG\"\n",
        "# Provide the path to the unknown image\n",
        "prediction = predict_unknown_image(unknown_image_path)\n",
        "print(\"Prediction:\", prediction)\n"
      ],
      "metadata": {
        "colab": {
          "base_uri": "https://localhost:8080/"
        },
        "id": "whCOxv8x9JS-",
        "outputId": "e47d86d8-1251-4153-b6b1-64f122981111"
      },
      "execution_count": 95,
      "outputs": [
        {
          "output_type": "stream",
          "name": "stdout",
          "text": [
            "1/1 [==============================] - 0s 147ms/step\n",
            "Prediction: DR3\n"
          ]
        }
      ]
    },
    {
      "cell_type": "code",
      "source": [],
      "metadata": {
        "id": "lyUZZ9t89Jot"
      },
      "execution_count": null,
      "outputs": []
    },
    {
      "cell_type": "code",
      "source": [],
      "metadata": {
        "id": "KJGxmND69J79"
      },
      "execution_count": null,
      "outputs": []
    }
  ]
}