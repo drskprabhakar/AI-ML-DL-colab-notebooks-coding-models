{
  "nbformat": 4,
  "nbformat_minor": 0,
  "metadata": {
    "colab": {
      "provenance": [],
      "authorship_tag": "ABX9TyPV7GYq237WycOETBvoc7b8",
      "include_colab_link": true
    },
    "kernelspec": {
      "name": "python3",
      "display_name": "Python 3"
    },
    "language_info": {
      "name": "python"
    }
  },
  "cells": [
    {
      "cell_type": "markdown",
      "metadata": {
        "id": "view-in-github",
        "colab_type": "text"
      },
      "source": [
        "<a href=\"https://colab.research.google.com/github/drskprabhakar/AI-ML-DL-colab-notebooks-coding-models/blob/main/tan_inverse_function.ipynb\" target=\"_parent\"><img src=\"https://colab.research.google.com/assets/colab-badge.svg\" alt=\"Open In Colab\"/></a>"
      ]
    },
    {
      "cell_type": "code",
      "execution_count": 24,
      "metadata": {
        "colab": {
          "base_uri": "https://localhost:8080/"
        },
        "id": "5bik8RwjaCsw",
        "outputId": "835a7998-58d5-4c24-d4e1-435b95793205"
      },
      "outputs": [
        {
          "output_type": "execute_result",
          "data": {
            "text/plain": [
              "0.7796839398782511"
            ]
          },
          "metadata": {},
          "execution_count": 24
        }
      ],
      "source": [
        "kh=43.5\n",
        "kv=44\n",
        "import math\n",
        "theta=math.atan(kh/kv)\n",
        "theta"
      ]
    },
    {
      "cell_type": "code",
      "source": [
        "preopaxis=theta*57.2958*2\n",
        "preopaxis"
      ],
      "metadata": {
        "colab": {
          "base_uri": "https://localhost:8080/"
        },
        "id": "4-o2beZmkHC_",
        "outputId": "7a03c3ea-1192-4ae7-fb1a-72dcfa2b1179"
      },
      "execution_count": 28,
      "outputs": [
        {
          "output_type": "execute_result",
          "data": {
            "text/plain": [
              "89.3452301649526"
            ]
          },
          "metadata": {},
          "execution_count": 28
        }
      ]
    },
    {
      "cell_type": "code",
      "source": [
        "kh1= 43.25\n",
        "kv1 = 44.75\n",
        "theta1=math.atan(kh1/kv1)\n",
        "theta1"
      ],
      "metadata": {
        "colab": {
          "base_uri": "https://localhost:8080/"
        },
        "id": "HPBBXl5VjXcq",
        "outputId": "675cf971-9189-4ad8-91b1-27ed8fe3daea"
      },
      "execution_count": 31,
      "outputs": [
        {
          "output_type": "execute_result",
          "data": {
            "text/plain": [
              "0.7683543594024509"
            ]
          },
          "metadata": {},
          "execution_count": 31
        }
      ]
    },
    {
      "cell_type": "code",
      "source": [
        "postopaxis=theta1*57.2958*2\n",
        "postopaxis"
      ],
      "metadata": {
        "colab": {
          "base_uri": "https://localhost:8080/"
        },
        "id": "eGPTw2YGkcps",
        "outputId": "e2cab23d-e6ce-470f-857f-7041aff6fa26"
      },
      "execution_count": 32,
      "outputs": [
        {
          "output_type": "execute_result",
          "data": {
            "text/plain": [
              "88.04695541090189"
            ]
          },
          "metadata": {},
          "execution_count": 32
        }
      ]
    },
    {
      "cell_type": "code",
      "source": [
        "siaaxis=postopaxis-preopaxis\n",
        "siaaxis"
      ],
      "metadata": {
        "colab": {
          "base_uri": "https://localhost:8080/"
        },
        "id": "kWScr26jkrLZ",
        "outputId": "d1ad0c82-f13a-40e4-a700-34c0a66ae3af"
      },
      "execution_count": 33,
      "outputs": [
        {
          "output_type": "execute_result",
          "data": {
            "text/plain": [
              "-1.2982747540507091"
            ]
          },
          "metadata": {},
          "execution_count": 33
        }
      ]
    },
    {
      "cell_type": "code",
      "source": [
        "kh2=44.25\n",
        "kv2=44.5\n",
        "theta3=math.atan(kh2/kv2)\n",
        "theta3"
      ],
      "metadata": {
        "colab": {
          "base_uri": "https://localhost:8080/"
        },
        "id": "Cv2IjxJAl9ao",
        "outputId": "714399ad-394d-4861-8ff1-605ffc8d459b"
      },
      "execution_count": 34,
      "outputs": [
        {
          "output_type": "execute_result",
          "data": {
            "text/plain": [
              "0.7825812694396039"
            ]
          },
          "metadata": {},
          "execution_count": 34
        }
      ]
    },
    {
      "cell_type": "code",
      "source": [
        "preopaxis1=theta3*57.2958*2\n",
        "preopaxis1"
      ],
      "metadata": {
        "colab": {
          "base_uri": "https://localhost:8080/"
        },
        "id": "F-PJUTCImfaw",
        "outputId": "651a7f96-a01b-4ef4-a9cf-620eed8ddcea"
      },
      "execution_count": 36,
      "outputs": [
        {
          "output_type": "execute_result",
          "data": {
            "text/plain": [
              "89.67723979511531"
            ]
          },
          "metadata": {},
          "execution_count": 36
        }
      ]
    },
    {
      "cell_type": "code",
      "source": [
        "kh3=41.25\n",
        "kv3=44.5\n",
        "theta4=math.atan(kh3/kv3)\n",
        "theta4"
      ],
      "metadata": {
        "colab": {
          "base_uri": "https://localhost:8080/"
        },
        "id": "6K8L1ONZmVtx",
        "outputId": "94d56c18-44d6-46bc-fae4-db5bf51458ed"
      },
      "execution_count": 37,
      "outputs": [
        {
          "output_type": "execute_result",
          "data": {
            "text/plain": [
              "0.7475154210391892"
            ]
          },
          "metadata": {},
          "execution_count": 37
        }
      ]
    },
    {
      "cell_type": "code",
      "source": [
        "postopaxis1=theta4*57.2958*2\n",
        "postopaxis1"
      ],
      "metadata": {
        "colab": {
          "base_uri": "https://localhost:8080/"
        },
        "id": "_AxP8SAZm2k0",
        "outputId": "8674809d-217d-4d0f-9e67-2960fcf2298a"
      },
      "execution_count": 38,
      "outputs": [
        {
          "output_type": "execute_result",
          "data": {
            "text/plain": [
              "85.65898812155436"
            ]
          },
          "metadata": {},
          "execution_count": 38
        }
      ]
    },
    {
      "cell_type": "code",
      "source": [
        "siaaxis1=preopaxis1-postopaxis1\n",
        "siaaxis1"
      ],
      "metadata": {
        "colab": {
          "base_uri": "https://localhost:8080/"
        },
        "id": "OVeBWMDOnB7a",
        "outputId": "888c3298-9980-42cb-bd9a-c07cfba1df69"
      },
      "execution_count": 39,
      "outputs": [
        {
          "output_type": "execute_result",
          "data": {
            "text/plain": [
              "4.018251673560954"
            ]
          },
          "metadata": {},
          "execution_count": 39
        }
      ]
    },
    {
      "cell_type": "code",
      "source": [
        "\n",
        "\n",
        "\n",
        "\n",
        "\n",
        "\n",
        "\n",
        "\n",
        "\n",
        "\n",
        "\n",
        "\n",
        "\n",
        "\n",
        "\n"
      ],
      "metadata": {
        "id": "bpxouHMcjwpe"
      },
      "execution_count": null,
      "outputs": []
    },
    {
      "cell_type": "code",
      "source": [
        "# conver to degrees\n",
        "# 1 radian is 57.2958\n",
        "axis = theta*57.2958*2\n",
        "axis"
      ],
      "metadata": {
        "colab": {
          "base_uri": "https://localhost:8080/"
        },
        "id": "xTYrOTlCclji",
        "outputId": "6eeabdd5-451c-42ec-dbc4-0268d4b05bc3"
      },
      "execution_count": null,
      "outputs": [
        {
          "output_type": "execute_result",
          "data": {
            "text/plain": [
              "88.71254029206348"
            ]
          },
          "metadata": {},
          "execution_count": 23
        }
      ]
    }
  ]
}