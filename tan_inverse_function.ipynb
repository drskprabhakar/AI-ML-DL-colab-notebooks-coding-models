{
  "nbformat": 4,
  "nbformat_minor": 0,
  "metadata": {
    "colab": {
      "provenance": [],
      "authorship_tag": "ABX9TyMxflpf0P2hBglNgbEMqIfU",
      "include_colab_link": true
    },
    "kernelspec": {
      "name": "python3",
      "display_name": "Python 3"
    },
    "language_info": {
      "name": "python"
    }
  },
  "cells": [
    {
      "cell_type": "markdown",
      "metadata": {
        "id": "view-in-github",
        "colab_type": "text"
      },
      "source": [
        "<a href=\"https://colab.research.google.com/github/drskprabhakar/AI-ML-DL-colab-notebooks-coding-models/blob/main/tan_inverse_function.ipynb\" target=\"_parent\"><img src=\"https://colab.research.google.com/assets/colab-badge.svg\" alt=\"Open In Colab\"/></a>"
      ]
    },
    {
      "cell_type": "code",
      "execution_count": 16,
      "metadata": {
        "colab": {
          "base_uri": "https://localhost:8080/"
        },
        "id": "5bik8RwjaCsw",
        "outputId": "c1e3b12e-d982-4ae3-d7df-e298a183db15"
      },
      "outputs": [
        {
          "output_type": "execute_result",
          "data": {
            "text/plain": [
              "0.7741626811394856"
            ]
          },
          "metadata": {},
          "execution_count": 16
        }
      ],
      "source": [
        "kh=44\n",
        "kv=45\n",
        "import math\n",
        "theta=math.atan(kh/kv)\n",
        "theta"
      ]
    },
    {
      "cell_type": "code",
      "source": [
        "# conver to degrees\n",
        "# 1 radian is 57.2958\n",
        "axis = theta*57.2958\n",
        "axis\n",
        "axis1=axis *2\n",
        "axis1"
      ],
      "metadata": {
        "colab": {
          "base_uri": "https://localhost:8080/"
        },
        "id": "xTYrOTlCclji",
        "outputId": "e2d1e620-6b8b-4c87-8b9e-b1109cd8c84c"
      },
      "execution_count": 19,
      "outputs": [
        {
          "output_type": "execute_result",
          "data": {
            "text/plain": [
              "88.71254029206348"
            ]
          },
          "metadata": {},
          "execution_count": 19
        }
      ]
    }
  ]
}