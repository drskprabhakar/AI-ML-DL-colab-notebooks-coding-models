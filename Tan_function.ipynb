{
  "nbformat": 4,
  "nbformat_minor": 0,
  "metadata": {
    "colab": {
      "provenance": [],
      "authorship_tag": "ABX9TyO9JQZUxO0Nu4jB/Jva0qyU",
      "include_colab_link": true
    },
    "kernelspec": {
      "name": "python3",
      "display_name": "Python 3"
    },
    "language_info": {
      "name": "python"
    }
  },
  "cells": [
    {
      "cell_type": "markdown",
      "metadata": {
        "id": "view-in-github",
        "colab_type": "text"
      },
      "source": [
        "<a href=\"https://colab.research.google.com/github/drskprabhakar/AI-ML-DL-colab-notebooks-coding-models/blob/main/Tan_function.ipynb\" target=\"_parent\"><img src=\"https://colab.research.google.com/assets/colab-badge.svg\" alt=\"Open In Colab\"/></a>"
      ]
    },
    {
      "cell_type": "code",
      "execution_count": 3,
      "metadata": {
        "colab": {
          "base_uri": "https://localhost:8080/"
        },
        "id": "u_R-OKCeSNQZ",
        "outputId": "db0fdbbe-899d-4421-f2be-ac7d056adb3e"
      },
      "outputs": [
        {
          "output_type": "execute_result",
          "data": {
            "text/plain": [
              "0.7142857142857143"
            ]
          },
          "metadata": {},
          "execution_count": 3
        }
      ],
      "source": [
        "kv=5\n",
        "kh=7\n",
        "tan = 5/7\n",
        "tan"
      ]
    },
    {
      "cell_type": "code",
      "source": [
        "import math\n",
        "math.degrees(math.atan(tan))"
      ],
      "metadata": {
        "colab": {
          "base_uri": "https://localhost:8080/"
        },
        "id": "xzNS7rrlS04Y",
        "outputId": "7e99057b-bce5-4fa8-d3ec-34a2ea6805a1"
      },
      "execution_count": 12,
      "outputs": [
        {
          "output_type": "execute_result",
          "data": {
            "text/plain": [
              "35.53767779197438"
            ]
          },
          "metadata": {},
          "execution_count": 12
        }
      ]
    },
    {
      "cell_type": "code",
      "source": [
        "kv1=44\n",
        "kh1=43\n",
        "tan1=kv1/kh1\n",
        "tan1"
      ],
      "metadata": {
        "colab": {
          "base_uri": "https://localhost:8080/"
        },
        "id": "iQrY7DzhUtNQ",
        "outputId": "8a236aa5-cc0c-410c-e22f-d3dd981a471c"
      },
      "execution_count": 10,
      "outputs": [
        {
          "output_type": "execute_result",
          "data": {
            "text/plain": [
              "1.0232558139534884"
            ]
          },
          "metadata": {},
          "execution_count": 10
        }
      ]
    },
    {
      "cell_type": "code",
      "source": [
        "2*math.degrees(math.atan(tan1))"
      ],
      "metadata": {
        "colab": {
          "base_uri": "https://localhost:8080/"
        },
        "id": "E6U5yyWRVAzH",
        "outputId": "8b191c7c-511c-4a04-a4a5-b2d6f5e359c9"
      },
      "execution_count": 18,
      "outputs": [
        {
          "output_type": "execute_result",
          "data": {
            "text/plain": [
              "91.31708635512722"
            ]
          },
          "metadata": {},
          "execution_count": 18
        }
      ]
    }
  ]
}