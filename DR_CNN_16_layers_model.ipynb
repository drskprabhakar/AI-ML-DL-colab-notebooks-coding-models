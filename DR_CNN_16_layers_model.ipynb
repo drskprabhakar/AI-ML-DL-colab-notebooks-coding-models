{
  "nbformat": 4,
  "nbformat_minor": 0,
  "metadata": {
    "colab": {
      "provenance": [],
      "mount_file_id": "1FI-E0Y3QVc8NvbPhr7SjSlCGozHWeFHG",
      "authorship_tag": "ABX9TyNLwj/YL4+J5D/+9/njxyhq",
      "include_colab_link": true
    },
    "kernelspec": {
      "name": "python3",
      "display_name": "Python 3"
    },
    "language_info": {
      "name": "python"
    }
  },
  "cells": [
    {
      "cell_type": "markdown",
      "metadata": {
        "id": "view-in-github",
        "colab_type": "text"
      },
      "source": [
        "<a href=\"https://colab.research.google.com/github/drskprabhakar/Axial-Length-Prediction-ML-Regression-mode/blob/main/DR_CNN_16_layers_model.ipynb\" target=\"_parent\"><img src=\"https://colab.research.google.com/assets/colab-badge.svg\" alt=\"Open In Colab\"/></a>"
      ]
    },
    {
      "cell_type": "code",
      "execution_count": 2,
      "metadata": {
        "colab": {
          "base_uri": "https://localhost:8080/"
        },
        "id": "_Xu6sLJi1jtb",
        "outputId": "db7655af-d07e-451b-d700-b61ef1be90c9"
      },
      "outputs": [
        {
          "output_type": "execute_result",
          "data": {
            "text/plain": [
              "['train', 'val', 'test']"
            ]
          },
          "metadata": {},
          "execution_count": 2
        }
      ],
      "source": [
        "import os\n",
        "import numpy as np\n",
        "os.listdir('/content/drive/MyDrive/DR fundus images/split')"
      ]
    },
    {
      "cell_type": "code",
      "source": [
        "os.listdir('/content/drive/MyDrive/DR fundus images/split/train')"
      ],
      "metadata": {
        "colab": {
          "base_uri": "https://localhost:8080/"
        },
        "id": "clcOdxzr2TOi",
        "outputId": "1b9491be-5a12-4134-f909-5da56fb244db"
      },
      "execution_count": 3,
      "outputs": [
        {
          "output_type": "execute_result",
          "data": {
            "text/plain": [
              "['DR2', 'DR3', 'DR1']"
            ]
          },
          "metadata": {},
          "execution_count": 3
        }
      ]
    },
    {
      "cell_type": "code",
      "source": [
        "from keras.preprocessing.image import ImageDataGenerator\n",
        "datagen = ImageDataGenerator()\n",
        "\n",
        "trainimages = datagen.flow_from_directory('/content/drive/MyDrive/DR fundus images/split/train',\n",
        "                                          target_size=(224,224))\n",
        "\n",
        "valimages = datagen.flow_from_directory('/content/drive/MyDrive/DR fundus images/split/val',\n",
        "                                          target_size=(224,224))\n",
        "\n",
        "testimages = datagen.flow_from_directory('/content/drive/MyDrive/DR fundus images/split/test',\n",
        "                                          target_size=(224,224))\n"
      ],
      "metadata": {
        "colab": {
          "base_uri": "https://localhost:8080/"
        },
        "id": "QDV_pWew2dUj",
        "outputId": "bef342af-9a4c-496a-9b4e-77827fbde9b5"
      },
      "execution_count": 41,
      "outputs": [
        {
          "output_type": "stream",
          "name": "stdout",
          "text": [
            "Found 78 images belonging to 3 classes.\n",
            "Found 14 images belonging to 3 classes.\n",
            "Found 14 images belonging to 3 classes.\n"
          ]
        }
      ]
    },
    {
      "cell_type": "code",
      "source": [
        "from tensorflow.keras.models import Sequential\n",
        "from tensorflow.keras.layers import Conv2D, MaxPooling2D, Flatten, Dense\n",
        "\n",
        "\n",
        "model = Sequential()\n",
        "\n",
        "# Block 1\n",
        "model.add(Conv2D(16, (3, 3), activation='relu', padding='same', input_shape=(224,224, 3)))\n",
        "\n",
        "model.add(MaxPooling2D((2, 2), strides=(2, 2)))\n",
        "\n",
        "# Block 2\n",
        "model.add(Conv2D(16, (3, 3), activation='relu', padding='same'))\n",
        "\n",
        "model.add(MaxPooling2D((2, 2), strides=(2, 2)))\n",
        "\n",
        "# Block 3\n",
        "model.add(Conv2D(64, (3, 3), activation='relu', padding='same'))\n",
        "\n",
        "model.add(MaxPooling2D((2, 2), strides=(2, 2)))\n",
        "\n",
        "# Block 4\n",
        "model.add(Conv2D(64, (3, 3), activation='relu', padding='same'))\n",
        "\n",
        "model.add(MaxPooling2D((2, 2), strides=(2, 2)))\n",
        "\n",
        "# Block 5\n",
        "model.add(Conv2D(64, (3, 3), activation='relu', padding='same'))\n",
        "\n",
        "model.add(MaxPooling2D((2, 2), strides=(2, 2)))\n",
        "\n",
        "# Flatten\n",
        "model.add(Flatten())\n",
        "\n",
        "# Fully connected layers\n",
        "\n",
        "model.add(Dense(128, activation='relu'))\n",
        "model.add(Dense(3, activation='softmax'))\n",
        "\n",
        "model.compile(optimizer='adam',\n",
        "              loss='categorical_crossentropy',\n",
        "              metrics=['accuracy'])\n",
        "\n",
        "model.summary()"
      ],
      "metadata": {
        "colab": {
          "base_uri": "https://localhost:8080/"
        },
        "id": "ObkE64iR3Ubr",
        "outputId": "4f50c407-c96c-4f6e-8abc-2b2e94d49161"
      },
      "execution_count": 68,
      "outputs": [
        {
          "output_type": "stream",
          "name": "stdout",
          "text": [
            "Model: \"sequential_5\"\n",
            "_________________________________________________________________\n",
            " Layer (type)                Output Shape              Param #   \n",
            "=================================================================\n",
            " conv2d_49 (Conv2D)          (None, 224, 224, 16)      448       \n",
            "                                                                 \n",
            " max_pooling2d_25 (MaxPooli  (None, 112, 112, 16)      0         \n",
            " ng2D)                                                           \n",
            "                                                                 \n",
            " conv2d_50 (Conv2D)          (None, 112, 112, 16)      2320      \n",
            "                                                                 \n",
            " max_pooling2d_26 (MaxPooli  (None, 56, 56, 16)        0         \n",
            " ng2D)                                                           \n",
            "                                                                 \n",
            " conv2d_51 (Conv2D)          (None, 56, 56, 64)        9280      \n",
            "                                                                 \n",
            " max_pooling2d_27 (MaxPooli  (None, 28, 28, 64)        0         \n",
            " ng2D)                                                           \n",
            "                                                                 \n",
            " conv2d_52 (Conv2D)          (None, 28, 28, 64)        36928     \n",
            "                                                                 \n",
            " max_pooling2d_28 (MaxPooli  (None, 14, 14, 64)        0         \n",
            " ng2D)                                                           \n",
            "                                                                 \n",
            " conv2d_53 (Conv2D)          (None, 14, 14, 64)        36928     \n",
            "                                                                 \n",
            " max_pooling2d_29 (MaxPooli  (None, 7, 7, 64)          0         \n",
            " ng2D)                                                           \n",
            "                                                                 \n",
            " flatten_5 (Flatten)         (None, 3136)              0         \n",
            "                                                                 \n",
            " dense_13 (Dense)            (None, 128)               401536    \n",
            "                                                                 \n",
            " dense_14 (Dense)            (None, 3)                 387       \n",
            "                                                                 \n",
            "=================================================================\n",
            "Total params: 487827 (1.86 MB)\n",
            "Trainable params: 487827 (1.86 MB)\n",
            "Non-trainable params: 0 (0.00 Byte)\n",
            "_________________________________________________________________\n"
          ]
        }
      ]
    },
    {
      "cell_type": "code",
      "source": [
        "model.fit(trainimages,\n",
        "          batch_size=32,\n",
        "          epochs=10,\n",
        "          validation_data=valimages)\n",
        "model.save('DRCNN16layers_model.keras')"
      ],
      "metadata": {
        "colab": {
          "base_uri": "https://localhost:8080/"
        },
        "id": "6-FHebLg3Urn",
        "outputId": "d7ac7c7d-ea75-48a5-b587-5440f7b03ce2"
      },
      "execution_count": 69,
      "outputs": [
        {
          "output_type": "stream",
          "name": "stdout",
          "text": [
            "Epoch 1/10\n",
            "3/3 [==============================] - 12s 3s/step - loss: 26.9370 - accuracy: 0.3462 - val_loss: 3.7464 - val_accuracy: 0.5000\n",
            "Epoch 2/10\n",
            "3/3 [==============================] - 8s 2s/step - loss: 3.6995 - accuracy: 0.4487 - val_loss: 1.3921 - val_accuracy: 0.5000\n",
            "Epoch 3/10\n",
            "3/3 [==============================] - 9s 4s/step - loss: 1.4684 - accuracy: 0.4744 - val_loss: 1.2847 - val_accuracy: 0.5000\n",
            "Epoch 4/10\n",
            "3/3 [==============================] - 8s 3s/step - loss: 0.9250 - accuracy: 0.5385 - val_loss: 1.0181 - val_accuracy: 0.5000\n",
            "Epoch 5/10\n",
            "3/3 [==============================] - 9s 3s/step - loss: 0.8969 - accuracy: 0.5513 - val_loss: 0.7916 - val_accuracy: 0.6429\n",
            "Epoch 6/10\n",
            "3/3 [==============================] - 9s 4s/step - loss: 0.7404 - accuracy: 0.6538 - val_loss: 0.7876 - val_accuracy: 0.5714\n",
            "Epoch 7/10\n",
            "3/3 [==============================] - 8s 3s/step - loss: 0.6868 - accuracy: 0.6923 - val_loss: 0.6804 - val_accuracy: 0.7143\n",
            "Epoch 8/10\n",
            "3/3 [==============================] - 9s 4s/step - loss: 0.6118 - accuracy: 0.7564 - val_loss: 0.6302 - val_accuracy: 0.6429\n",
            "Epoch 9/10\n",
            "3/3 [==============================] - 8s 2s/step - loss: 0.5677 - accuracy: 0.7564 - val_loss: 0.6050 - val_accuracy: 0.7857\n",
            "Epoch 10/10\n",
            "3/3 [==============================] - 8s 3s/step - loss: 0.5263 - accuracy: 0.7564 - val_loss: 0.6136 - val_accuracy: 0.6429\n"
          ]
        }
      ]
    },
    {
      "cell_type": "code",
      "source": [
        "y_pred = model.predict(testimages)\n",
        "y_pred"
      ],
      "metadata": {
        "colab": {
          "base_uri": "https://localhost:8080/"
        },
        "id": "1pwJxtOM3pfv",
        "outputId": "feb8a1fb-de57-447b-c6e7-5270bf07edc1"
      },
      "execution_count": 70,
      "outputs": [
        {
          "output_type": "stream",
          "name": "stderr",
          "text": [
            "WARNING:tensorflow:5 out of the last 12 calls to <function Model.make_predict_function.<locals>.predict_function at 0x7a5878285480> triggered tf.function retracing. Tracing is expensive and the excessive number of tracings could be due to (1) creating @tf.function repeatedly in a loop, (2) passing tensors with different shapes, (3) passing Python objects instead of tensors. For (1), please define your @tf.function outside of the loop. For (2), @tf.function has reduce_retracing=True option that can avoid unnecessary retracing. For (3), please refer to https://www.tensorflow.org/guide/function#controlling_retracing and https://www.tensorflow.org/api_docs/python/tf/function for  more details.\n"
          ]
        },
        {
          "output_type": "stream",
          "name": "stdout",
          "text": [
            "1/1 [==============================] - 1s 1s/step\n"
          ]
        },
        {
          "output_type": "execute_result",
          "data": {
            "text/plain": [
              "array([[7.5772399e-01, 5.5236313e-02, 1.8703970e-01],\n",
              "       [7.2642851e-01, 4.0456153e-02, 2.3311530e-01],\n",
              "       [2.2634497e-02, 3.2429752e-01, 6.5306789e-01],\n",
              "       [8.8139996e-03, 9.4268012e-01, 4.8505835e-02],\n",
              "       [7.6633454e-03, 9.7769834e-02, 8.9456689e-01],\n",
              "       [2.9744754e-02, 2.6828232e-01, 7.0197290e-01],\n",
              "       [8.0566789e-04, 9.7429085e-01, 2.4903499e-02],\n",
              "       [1.5201463e-02, 2.6057389e-01, 7.2422463e-01],\n",
              "       [5.8089342e-02, 3.2738864e-01, 6.1452192e-01],\n",
              "       [2.0575097e-02, 1.3878417e-01, 8.4064078e-01],\n",
              "       [1.1866937e-01, 5.1049125e-01, 3.7083933e-01],\n",
              "       [3.4524032e-01, 8.9488380e-02, 5.6527120e-01],\n",
              "       [1.1066073e-02, 1.1319434e-01, 8.7573957e-01],\n",
              "       [3.6262579e-02, 3.9701375e-01, 5.6672364e-01]], dtype=float32)"
            ]
          },
          "metadata": {},
          "execution_count": 70
        }
      ]
    },
    {
      "cell_type": "code",
      "source": [
        "y_pred1 = np.argmax(y_pred, axis=1)\n",
        "y_pred1"
      ],
      "metadata": {
        "colab": {
          "base_uri": "https://localhost:8080/"
        },
        "id": "Ft-aLlEA4aBt",
        "outputId": "e979a3a7-8300-4a32-c81b-fcaaa8f4d065"
      },
      "execution_count": 71,
      "outputs": [
        {
          "output_type": "execute_result",
          "data": {
            "text/plain": [
              "array([0, 0, 2, 1, 2, 2, 1, 2, 2, 2, 1, 2, 2, 2])"
            ]
          },
          "metadata": {},
          "execution_count": 71
        }
      ]
    },
    {
      "cell_type": "code",
      "source": [
        "y_true = testimages.classes\n",
        "y_true"
      ],
      "metadata": {
        "colab": {
          "base_uri": "https://localhost:8080/"
        },
        "id": "xZYpZkap4aw7",
        "outputId": "da2c69d7-0a0a-4f33-9246-50c623a24b6b"
      },
      "execution_count": 14,
      "outputs": [
        {
          "output_type": "execute_result",
          "data": {
            "text/plain": [
              "array([0, 0, 0, 1, 1, 1, 1, 1, 1, 2, 2, 2, 2, 2], dtype=int32)"
            ]
          },
          "metadata": {},
          "execution_count": 14
        }
      ]
    },
    {
      "cell_type": "code",
      "source": [
        "from sklearn import metrics\n",
        "metrics.confusion_matrix(y_true, y_pred1)"
      ],
      "metadata": {
        "colab": {
          "base_uri": "https://localhost:8080/"
        },
        "id": "knNy5pFV4a7x",
        "outputId": "d7bb0228-0929-42b3-d386-519b9ebbe59d"
      },
      "execution_count": 72,
      "outputs": [
        {
          "output_type": "execute_result",
          "data": {
            "text/plain": [
              "array([[2, 0, 1],\n",
              "       [0, 2, 4],\n",
              "       [0, 1, 4]])"
            ]
          },
          "metadata": {},
          "execution_count": 72
        }
      ]
    },
    {
      "cell_type": "code",
      "source": [
        "print(metrics.classification_report(y_true, y_pred1,\n",
        "                                    target_names=['DR1','DR2','DR3']))"
      ],
      "metadata": {
        "colab": {
          "base_uri": "https://localhost:8080/"
        },
        "id": "NK0ORAWy4bH6",
        "outputId": "a3dde3d7-bbf9-4639-b002-30d472417ace"
      },
      "execution_count": 73,
      "outputs": [
        {
          "output_type": "stream",
          "name": "stdout",
          "text": [
            "              precision    recall  f1-score   support\n",
            "\n",
            "         DR1       1.00      0.67      0.80         3\n",
            "         DR2       0.67      0.33      0.44         6\n",
            "         DR3       0.44      0.80      0.57         5\n",
            "\n",
            "    accuracy                           0.57        14\n",
            "   macro avg       0.70      0.60      0.61        14\n",
            "weighted avg       0.66      0.57      0.57        14\n",
            "\n"
          ]
        }
      ]
    }
  ]
}