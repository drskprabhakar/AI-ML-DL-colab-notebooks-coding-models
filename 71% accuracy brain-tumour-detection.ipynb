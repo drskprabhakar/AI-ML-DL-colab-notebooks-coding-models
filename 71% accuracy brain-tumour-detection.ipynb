{
 "cells": [
  {
   "cell_type": "code",
   "execution_count": 1,
   "id": "f54fa275",
   "metadata": {
    "_cell_guid": "b1076dfc-b9ad-4769-8c92-a6c4dae69d19",
    "_uuid": "8f2839f25d086af736a60e9eeb907d3b93b6e0e5",
    "execution": {
     "iopub.execute_input": "2024-06-23T16:27:46.240344Z",
     "iopub.status.busy": "2024-06-23T16:27:46.239862Z",
     "iopub.status.idle": "2024-06-23T16:27:47.348235Z",
     "shell.execute_reply": "2024-06-23T16:27:47.347034Z"
    },
    "papermill": {
     "duration": 1.120454,
     "end_time": "2024-06-23T16:27:47.352592",
     "exception": false,
     "start_time": "2024-06-23T16:27:46.232138",
     "status": "completed"
    },
    "scrolled": true,
    "tags": []
   },
   "outputs": [
    {
     "name": "stdout",
     "output_type": "stream",
     "text": [
      "/kaggle/input/brain-tumor-ct-images-binary-classification/split/val/no/34 no.jpg\n",
      "/kaggle/input/brain-tumor-ct-images-binary-classification/split/val/no/N15.jpg\n",
      "/kaggle/input/brain-tumor-ct-images-binary-classification/split/val/no/no 1.jpg\n",
      "/kaggle/input/brain-tumor-ct-images-binary-classification/split/val/no/6 no.jpg\n",
      "/kaggle/input/brain-tumor-ct-images-binary-classification/split/val/no/46 no.jpg\n",
      "/kaggle/input/brain-tumor-ct-images-binary-classification/split/val/no/no 90.jpg\n",
      "/kaggle/input/brain-tumor-ct-images-binary-classification/split/val/no/N22.JPG\n",
      "/kaggle/input/brain-tumor-ct-images-binary-classification/split/val/no/No12.jpg\n",
      "/kaggle/input/brain-tumor-ct-images-binary-classification/split/val/no/11 no.jpg\n",
      "/kaggle/input/brain-tumor-ct-images-binary-classification/split/val/no/N11.jpg\n",
      "/kaggle/input/brain-tumor-ct-images-binary-classification/split/val/no/no 98.jpg\n",
      "/kaggle/input/brain-tumor-ct-images-binary-classification/split/val/no/18 no.jpg\n",
      "/kaggle/input/brain-tumor-ct-images-binary-classification/split/val/no/N19.JPG\n",
      "/kaggle/input/brain-tumor-ct-images-binary-classification/split/val/no/24 no.jpg\n",
      "/kaggle/input/brain-tumor-ct-images-binary-classification/split/val/no/22 no.jpg\n",
      "/kaggle/input/brain-tumor-ct-images-binary-classification/split/val/no/no 89.jpg\n",
      "/kaggle/input/brain-tumor-ct-images-binary-classification/split/val/no/39 no.jpg\n",
      "/kaggle/input/brain-tumor-ct-images-binary-classification/split/val/no/no.jpg\n",
      "/kaggle/input/brain-tumor-ct-images-binary-classification/split/val/no/50 no.jpg\n",
      "/kaggle/input/brain-tumor-ct-images-binary-classification/split/val/yes/Y155.JPG\n",
      "/kaggle/input/brain-tumor-ct-images-binary-classification/split/val/yes/Y106.jpg\n",
      "/kaggle/input/brain-tumor-ct-images-binary-classification/split/val/yes/Y258.JPG\n",
      "/kaggle/input/brain-tumor-ct-images-binary-classification/split/val/yes/Y147.JPG\n",
      "/kaggle/input/brain-tumor-ct-images-binary-classification/split/val/yes/Y27.jpg\n",
      "/kaggle/input/brain-tumor-ct-images-binary-classification/split/val/yes/Y158.JPG\n",
      "/kaggle/input/brain-tumor-ct-images-binary-classification/split/val/yes/Y58.JPG\n",
      "/kaggle/input/brain-tumor-ct-images-binary-classification/split/val/yes/Y19.JPG\n",
      "/kaggle/input/brain-tumor-ct-images-binary-classification/split/val/yes/Y55.jpg\n",
      "/kaggle/input/brain-tumor-ct-images-binary-classification/split/val/yes/Y4.jpg\n",
      "/kaggle/input/brain-tumor-ct-images-binary-classification/split/val/yes/Y26.jpg\n",
      "/kaggle/input/brain-tumor-ct-images-binary-classification/split/val/yes/Y25.jpg\n",
      "/kaggle/input/brain-tumor-ct-images-binary-classification/split/val/yes/Y167.JPG\n",
      "/kaggle/input/brain-tumor-ct-images-binary-classification/split/val/yes/Y38.jpg\n",
      "/kaggle/input/brain-tumor-ct-images-binary-classification/split/val/yes/Y6.jpg\n",
      "/kaggle/input/brain-tumor-ct-images-binary-classification/split/val/yes/Y28.jpg\n",
      "/kaggle/input/brain-tumor-ct-images-binary-classification/split/val/yes/Y164.JPG\n",
      "/kaggle/input/brain-tumor-ct-images-binary-classification/split/val/yes/Y46.jpg\n",
      "/kaggle/input/brain-tumor-ct-images-binary-classification/split/val/yes/Y2.jpg\n",
      "/kaggle/input/brain-tumor-ct-images-binary-classification/split/val/yes/Y246.JPG\n",
      "/kaggle/input/brain-tumor-ct-images-binary-classification/split/val/yes/Y243.JPG\n",
      "/kaggle/input/brain-tumor-ct-images-binary-classification/split/val/yes/Y23.JPG\n",
      "/kaggle/input/brain-tumor-ct-images-binary-classification/split/val/yes/Y102.jpg\n",
      "/kaggle/input/brain-tumor-ct-images-binary-classification/split/val/yes/Y253.JPG\n",
      "/kaggle/input/brain-tumor-ct-images-binary-classification/split/val/yes/Y36.JPG\n",
      "/kaggle/input/brain-tumor-ct-images-binary-classification/split/val/yes/Y74.jpg\n",
      "/kaggle/input/brain-tumor-ct-images-binary-classification/split/val/yes/Y251.JPG\n",
      "/kaggle/input/brain-tumor-ct-images-binary-classification/split/val/yes/Y76.jpg\n",
      "/kaggle/input/brain-tumor-ct-images-binary-classification/split/val/yes/Y78.jpg\n",
      "/kaggle/input/brain-tumor-ct-images-binary-classification/split/val/yes/Y8.jpg\n",
      "/kaggle/input/brain-tumor-ct-images-binary-classification/split/test/no/N1.JPG\n",
      "/kaggle/input/brain-tumor-ct-images-binary-classification/split/test/no/49 no.jpg\n",
      "/kaggle/input/brain-tumor-ct-images-binary-classification/split/test/no/3 no.jpg\n",
      "/kaggle/input/brain-tumor-ct-images-binary-classification/split/test/no/no 5.jpeg\n",
      "/kaggle/input/brain-tumor-ct-images-binary-classification/split/test/no/No21.jpg\n",
      "/kaggle/input/brain-tumor-ct-images-binary-classification/split/test/no/No22.jpg\n",
      "/kaggle/input/brain-tumor-ct-images-binary-classification/split/test/no/no 94.jpg\n",
      "/kaggle/input/brain-tumor-ct-images-binary-classification/split/test/no/No16.jpg\n",
      "/kaggle/input/brain-tumor-ct-images-binary-classification/split/test/no/7 no.jpg\n",
      "/kaggle/input/brain-tumor-ct-images-binary-classification/split/test/no/no 3.jpg\n",
      "/kaggle/input/brain-tumor-ct-images-binary-classification/split/test/no/no 97.jpg\n",
      "/kaggle/input/brain-tumor-ct-images-binary-classification/split/test/yes/Y3.jpg\n",
      "/kaggle/input/brain-tumor-ct-images-binary-classification/split/test/yes/Y250.jpg\n",
      "/kaggle/input/brain-tumor-ct-images-binary-classification/split/test/yes/Y98.JPG\n",
      "/kaggle/input/brain-tumor-ct-images-binary-classification/split/test/yes/Y95.jpg\n",
      "/kaggle/input/brain-tumor-ct-images-binary-classification/split/test/yes/Y35.jpg\n",
      "/kaggle/input/brain-tumor-ct-images-binary-classification/split/test/yes/Y114.JPG\n",
      "/kaggle/input/brain-tumor-ct-images-binary-classification/split/test/yes/Y257.jpg\n",
      "/kaggle/input/brain-tumor-ct-images-binary-classification/split/test/yes/Y39.jpg\n",
      "/kaggle/input/brain-tumor-ct-images-binary-classification/split/test/yes/Y15.jpg\n",
      "/kaggle/input/brain-tumor-ct-images-binary-classification/split/test/yes/Y37.jpg\n",
      "/kaggle/input/brain-tumor-ct-images-binary-classification/split/test/yes/Y30.jpg\n",
      "/kaggle/input/brain-tumor-ct-images-binary-classification/split/test/yes/Y90.jpg\n",
      "/kaggle/input/brain-tumor-ct-images-binary-classification/split/test/yes/Y7.jpg\n",
      "/kaggle/input/brain-tumor-ct-images-binary-classification/split/test/yes/Y45.JPG\n",
      "/kaggle/input/brain-tumor-ct-images-binary-classification/split/test/yes/Y166.JPG\n",
      "/kaggle/input/brain-tumor-ct-images-binary-classification/split/test/yes/Y183.jpg\n",
      "/kaggle/input/brain-tumor-ct-images-binary-classification/split/test/yes/Y77.jpg\n",
      "/kaggle/input/brain-tumor-ct-images-binary-classification/split/train/no/N20.JPG\n",
      "/kaggle/input/brain-tumor-ct-images-binary-classification/split/train/no/No18.jpg\n",
      "/kaggle/input/brain-tumor-ct-images-binary-classification/split/train/no/31 no.jpg\n",
      "/kaggle/input/brain-tumor-ct-images-binary-classification/split/train/no/no 6.jpg\n",
      "/kaggle/input/brain-tumor-ct-images-binary-classification/split/train/no/26 no.jpg\n",
      "/kaggle/input/brain-tumor-ct-images-binary-classification/split/train/no/N26.JPG\n",
      "/kaggle/input/brain-tumor-ct-images-binary-classification/split/train/no/N5.jpg\n",
      "/kaggle/input/brain-tumor-ct-images-binary-classification/split/train/no/17 no.jpg\n",
      "/kaggle/input/brain-tumor-ct-images-binary-classification/split/train/no/29 no.jpg\n",
      "/kaggle/input/brain-tumor-ct-images-binary-classification/split/train/no/32 no.jpg\n",
      "/kaggle/input/brain-tumor-ct-images-binary-classification/split/train/no/42 no.jpg\n",
      "/kaggle/input/brain-tumor-ct-images-binary-classification/split/train/no/No19.jpg\n",
      "/kaggle/input/brain-tumor-ct-images-binary-classification/split/train/no/47 no.jpg\n",
      "/kaggle/input/brain-tumor-ct-images-binary-classification/split/train/no/15 no.jpg\n",
      "/kaggle/input/brain-tumor-ct-images-binary-classification/split/train/no/20 no.jpg\n",
      "/kaggle/input/brain-tumor-ct-images-binary-classification/split/train/no/No13.jpg\n",
      "/kaggle/input/brain-tumor-ct-images-binary-classification/split/train/no/No17.jpg\n",
      "/kaggle/input/brain-tumor-ct-images-binary-classification/split/train/no/25 no.jpg\n",
      "/kaggle/input/brain-tumor-ct-images-binary-classification/split/train/no/no 91.jpeg\n",
      "/kaggle/input/brain-tumor-ct-images-binary-classification/split/train/no/45 no.jpg\n",
      "/kaggle/input/brain-tumor-ct-images-binary-classification/split/train/no/44no.jpg\n",
      "/kaggle/input/brain-tumor-ct-images-binary-classification/split/train/no/4 no.jpg\n",
      "/kaggle/input/brain-tumor-ct-images-binary-classification/split/train/no/36 no.jpg\n",
      "/kaggle/input/brain-tumor-ct-images-binary-classification/split/train/no/8 no.jpg\n",
      "/kaggle/input/brain-tumor-ct-images-binary-classification/split/train/no/48 no.jpeg\n",
      "/kaggle/input/brain-tumor-ct-images-binary-classification/split/train/no/No20.jpg\n",
      "/kaggle/input/brain-tumor-ct-images-binary-classification/split/train/no/no 2.jpg\n",
      "/kaggle/input/brain-tumor-ct-images-binary-classification/split/train/no/no 10.jpg\n",
      "/kaggle/input/brain-tumor-ct-images-binary-classification/split/train/no/10 no.jpg\n",
      "/kaggle/input/brain-tumor-ct-images-binary-classification/split/train/no/N17.jpg\n",
      "/kaggle/input/brain-tumor-ct-images-binary-classification/split/train/no/14 no.jpg\n",
      "/kaggle/input/brain-tumor-ct-images-binary-classification/split/train/no/no 8.jpg\n",
      "/kaggle/input/brain-tumor-ct-images-binary-classification/split/train/no/38 no.jpg\n",
      "/kaggle/input/brain-tumor-ct-images-binary-classification/split/train/no/40 no.jpg\n",
      "/kaggle/input/brain-tumor-ct-images-binary-classification/split/train/no/N3.jpg\n",
      "/kaggle/input/brain-tumor-ct-images-binary-classification/split/train/no/19 no.jpg\n",
      "/kaggle/input/brain-tumor-ct-images-binary-classification/split/train/no/12 no.jpg\n",
      "/kaggle/input/brain-tumor-ct-images-binary-classification/split/train/no/N2.JPG\n",
      "/kaggle/input/brain-tumor-ct-images-binary-classification/split/train/no/No11.jpg\n",
      "/kaggle/input/brain-tumor-ct-images-binary-classification/split/train/no/no 92.jpg\n",
      "/kaggle/input/brain-tumor-ct-images-binary-classification/split/train/no/No14.jpg\n",
      "/kaggle/input/brain-tumor-ct-images-binary-classification/split/train/no/no 7.jpeg\n",
      "/kaggle/input/brain-tumor-ct-images-binary-classification/split/train/no/27 no.jpg\n",
      "/kaggle/input/brain-tumor-ct-images-binary-classification/split/train/no/5 no.jpg\n",
      "/kaggle/input/brain-tumor-ct-images-binary-classification/split/train/no/no 95.jpg\n",
      "/kaggle/input/brain-tumor-ct-images-binary-classification/split/train/no/No15.jpg\n",
      "/kaggle/input/brain-tumor-ct-images-binary-classification/split/train/no/no 923.jpg\n",
      "/kaggle/input/brain-tumor-ct-images-binary-classification/split/train/no/28 no.jpg\n",
      "/kaggle/input/brain-tumor-ct-images-binary-classification/split/train/no/no 100.jpg\n",
      "/kaggle/input/brain-tumor-ct-images-binary-classification/split/train/no/23 no.jpg\n",
      "/kaggle/input/brain-tumor-ct-images-binary-classification/split/train/no/13 no.jpg\n",
      "/kaggle/input/brain-tumor-ct-images-binary-classification/split/train/no/37 no.jpg\n",
      "/kaggle/input/brain-tumor-ct-images-binary-classification/split/train/no/21 no.jpg\n",
      "/kaggle/input/brain-tumor-ct-images-binary-classification/split/train/no/30 no.jpg\n",
      "/kaggle/input/brain-tumor-ct-images-binary-classification/split/train/no/no 4.jpg\n",
      "/kaggle/input/brain-tumor-ct-images-binary-classification/split/train/no/9 no.jpg\n",
      "/kaggle/input/brain-tumor-ct-images-binary-classification/split/train/no/no 99.jpg\n",
      "/kaggle/input/brain-tumor-ct-images-binary-classification/split/train/no/N21.jpg\n",
      "/kaggle/input/brain-tumor-ct-images-binary-classification/split/train/no/43 no.jpg\n",
      "/kaggle/input/brain-tumor-ct-images-binary-classification/split/train/no/no 96.jpg\n",
      "/kaggle/input/brain-tumor-ct-images-binary-classification/split/train/no/41 no.jpg\n",
      "/kaggle/input/brain-tumor-ct-images-binary-classification/split/train/no/N16.jpg\n",
      "/kaggle/input/brain-tumor-ct-images-binary-classification/split/train/no/1 no.jpeg\n",
      "/kaggle/input/brain-tumor-ct-images-binary-classification/split/train/no/2 no.jpeg\n",
      "/kaggle/input/brain-tumor-ct-images-binary-classification/split/train/no/35 no.jpg\n",
      "/kaggle/input/brain-tumor-ct-images-binary-classification/split/train/no/N6.jpg\n",
      "/kaggle/input/brain-tumor-ct-images-binary-classification/split/train/no/33 no.jpg\n",
      "/kaggle/input/brain-tumor-ct-images-binary-classification/split/train/yes/Y115.JPG\n",
      "/kaggle/input/brain-tumor-ct-images-binary-classification/split/train/yes/Y192.JPG\n",
      "/kaggle/input/brain-tumor-ct-images-binary-classification/split/train/yes/Y162.jpg\n",
      "/kaggle/input/brain-tumor-ct-images-binary-classification/split/train/yes/Y9.jpg\n",
      "/kaggle/input/brain-tumor-ct-images-binary-classification/split/train/yes/Y108.jpg\n",
      "/kaggle/input/brain-tumor-ct-images-binary-classification/split/train/yes/Y103.jpg\n",
      "/kaggle/input/brain-tumor-ct-images-binary-classification/split/train/yes/Y185.jpg\n",
      "/kaggle/input/brain-tumor-ct-images-binary-classification/split/train/yes/Y180.jpg\n",
      "/kaggle/input/brain-tumor-ct-images-binary-classification/split/train/yes/Y120.JPG\n",
      "/kaggle/input/brain-tumor-ct-images-binary-classification/split/train/yes/Y54.jpg\n",
      "/kaggle/input/brain-tumor-ct-images-binary-classification/split/train/yes/Y165.JPG\n",
      "/kaggle/input/brain-tumor-ct-images-binary-classification/split/train/yes/Y112.JPG\n",
      "/kaggle/input/brain-tumor-ct-images-binary-classification/split/train/yes/Y99.JPG\n",
      "/kaggle/input/brain-tumor-ct-images-binary-classification/split/train/yes/Y184.JPG\n",
      "/kaggle/input/brain-tumor-ct-images-binary-classification/split/train/yes/Y82.jpg\n",
      "/kaggle/input/brain-tumor-ct-images-binary-classification/split/train/yes/Y169.jpg\n",
      "/kaggle/input/brain-tumor-ct-images-binary-classification/split/train/yes/Y146.JPG\n",
      "/kaggle/input/brain-tumor-ct-images-binary-classification/split/train/yes/Y116.JPG\n",
      "/kaggle/input/brain-tumor-ct-images-binary-classification/split/train/yes/Y73.jpg\n",
      "/kaggle/input/brain-tumor-ct-images-binary-classification/split/train/yes/Y181.jpg\n",
      "/kaggle/input/brain-tumor-ct-images-binary-classification/split/train/yes/Y81.jpg\n",
      "/kaggle/input/brain-tumor-ct-images-binary-classification/split/train/yes/Y161.JPG\n",
      "/kaggle/input/brain-tumor-ct-images-binary-classification/split/train/yes/Y17.jpg\n",
      "/kaggle/input/brain-tumor-ct-images-binary-classification/split/train/yes/Y69.jpg\n",
      "/kaggle/input/brain-tumor-ct-images-binary-classification/split/train/yes/Y32.jpg\n",
      "/kaggle/input/brain-tumor-ct-images-binary-classification/split/train/yes/Y186.jpg\n",
      "/kaggle/input/brain-tumor-ct-images-binary-classification/split/train/yes/Y259.JPG\n",
      "/kaggle/input/brain-tumor-ct-images-binary-classification/split/train/yes/Y42.jpg\n",
      "/kaggle/input/brain-tumor-ct-images-binary-classification/split/train/yes/Y60.jpg\n",
      "/kaggle/input/brain-tumor-ct-images-binary-classification/split/train/yes/Y252.jpg\n",
      "/kaggle/input/brain-tumor-ct-images-binary-classification/split/train/yes/Y182.JPG\n",
      "/kaggle/input/brain-tumor-ct-images-binary-classification/split/train/yes/Y154.jpg\n",
      "/kaggle/input/brain-tumor-ct-images-binary-classification/split/train/yes/Y79.jpg\n",
      "/kaggle/input/brain-tumor-ct-images-binary-classification/split/train/yes/Y31.jpg\n",
      "/kaggle/input/brain-tumor-ct-images-binary-classification/split/train/yes/Y91.jpg\n",
      "/kaggle/input/brain-tumor-ct-images-binary-classification/split/train/yes/Y22.jpg\n",
      "/kaggle/input/brain-tumor-ct-images-binary-classification/split/train/yes/Y33.jpg\n",
      "/kaggle/input/brain-tumor-ct-images-binary-classification/split/train/yes/Y247.JPG\n",
      "/kaggle/input/brain-tumor-ct-images-binary-classification/split/train/yes/Y160.JPG\n",
      "/kaggle/input/brain-tumor-ct-images-binary-classification/split/train/yes/Y13.jpg\n",
      "/kaggle/input/brain-tumor-ct-images-binary-classification/split/train/yes/Y29.jpg\n",
      "/kaggle/input/brain-tumor-ct-images-binary-classification/split/train/yes/Y50.JPG\n",
      "/kaggle/input/brain-tumor-ct-images-binary-classification/split/train/yes/Y97.JPG\n",
      "/kaggle/input/brain-tumor-ct-images-binary-classification/split/train/yes/Y14.jpg\n",
      "/kaggle/input/brain-tumor-ct-images-binary-classification/split/train/yes/Y170.JPG\n",
      "/kaggle/input/brain-tumor-ct-images-binary-classification/split/train/yes/Y51.jpg\n",
      "/kaggle/input/brain-tumor-ct-images-binary-classification/split/train/yes/Y34.jpg\n",
      "/kaggle/input/brain-tumor-ct-images-binary-classification/split/train/yes/Y104.jpg\n",
      "/kaggle/input/brain-tumor-ct-images-binary-classification/split/train/yes/Y187.jpg\n",
      "/kaggle/input/brain-tumor-ct-images-binary-classification/split/train/yes/Y40.JPG\n",
      "/kaggle/input/brain-tumor-ct-images-binary-classification/split/train/yes/Y111.JPG\n",
      "/kaggle/input/brain-tumor-ct-images-binary-classification/split/train/yes/Y24.jpg\n",
      "/kaggle/input/brain-tumor-ct-images-binary-classification/split/train/yes/Y157.JPG\n",
      "/kaggle/input/brain-tumor-ct-images-binary-classification/split/train/yes/Y92.jpg\n",
      "/kaggle/input/brain-tumor-ct-images-binary-classification/split/train/yes/Y86.JPG\n",
      "/kaggle/input/brain-tumor-ct-images-binary-classification/split/train/yes/Y248.JPG\n",
      "/kaggle/input/brain-tumor-ct-images-binary-classification/split/train/yes/Y1.jpg\n",
      "/kaggle/input/brain-tumor-ct-images-binary-classification/split/train/yes/Y62.jpg\n",
      "/kaggle/input/brain-tumor-ct-images-binary-classification/split/train/yes/Y67.JPG\n",
      "/kaggle/input/brain-tumor-ct-images-binary-classification/split/train/yes/Y109.JPG\n",
      "/kaggle/input/brain-tumor-ct-images-binary-classification/split/train/yes/Y117.JPG\n",
      "/kaggle/input/brain-tumor-ct-images-binary-classification/split/train/yes/Y194.jpg\n",
      "/kaggle/input/brain-tumor-ct-images-binary-classification/split/train/yes/Y71.JPG\n",
      "/kaggle/input/brain-tumor-ct-images-binary-classification/split/train/yes/Y59.JPG\n",
      "/kaggle/input/brain-tumor-ct-images-binary-classification/split/train/yes/Y66.JPG\n",
      "/kaggle/input/brain-tumor-ct-images-binary-classification/split/train/yes/Y148.JPG\n",
      "/kaggle/input/brain-tumor-ct-images-binary-classification/split/train/yes/Y56.jpg\n",
      "/kaggle/input/brain-tumor-ct-images-binary-classification/split/train/yes/Y18.JPG\n",
      "/kaggle/input/brain-tumor-ct-images-binary-classification/split/train/yes/Y96.jpg\n",
      "/kaggle/input/brain-tumor-ct-images-binary-classification/split/train/yes/Y195.JPG\n",
      "/kaggle/input/brain-tumor-ct-images-binary-classification/split/train/yes/Y65.JPG\n",
      "/kaggle/input/brain-tumor-ct-images-binary-classification/split/train/yes/Y16.JPG\n",
      "/kaggle/input/brain-tumor-ct-images-binary-classification/split/train/yes/Y193.JPG\n",
      "/kaggle/input/brain-tumor-ct-images-binary-classification/split/train/yes/Y53.jpg\n",
      "/kaggle/input/brain-tumor-ct-images-binary-classification/split/train/yes/Y245.jpg\n",
      "/kaggle/input/brain-tumor-ct-images-binary-classification/split/train/yes/Y159.JPG\n",
      "/kaggle/input/brain-tumor-ct-images-binary-classification/split/train/yes/Y12.jpg\n",
      "/kaggle/input/brain-tumor-ct-images-binary-classification/split/train/yes/Y100.JPG\n",
      "/kaggle/input/brain-tumor-ct-images-binary-classification/split/train/yes/Y75.JPG\n",
      "/kaggle/input/brain-tumor-ct-images-binary-classification/split/train/yes/Y256.JPG\n",
      "/kaggle/input/brain-tumor-ct-images-binary-classification/split/train/yes/Y10.jpg\n",
      "/kaggle/input/brain-tumor-ct-images-binary-classification/split/train/yes/Y105.jpg\n",
      "/kaggle/input/brain-tumor-ct-images-binary-classification/split/train/yes/Y61.jpg\n",
      "/kaggle/input/brain-tumor-ct-images-binary-classification/split/train/yes/Y47.JPG\n",
      "/kaggle/input/brain-tumor-ct-images-binary-classification/split/train/yes/Y255.JPG\n",
      "/kaggle/input/brain-tumor-ct-images-binary-classification/split/train/yes/Y70.jpg\n",
      "/kaggle/input/brain-tumor-ct-images-binary-classification/split/train/yes/Y168.jpg\n",
      "/kaggle/input/brain-tumor-ct-images-binary-classification/split/train/yes/Y163.JPG\n",
      "/kaggle/input/brain-tumor-ct-images-binary-classification/split/train/yes/Y188.jpg\n",
      "/kaggle/input/brain-tumor-ct-images-binary-classification/split/train/yes/Y242.JPG\n",
      "/kaggle/input/brain-tumor-ct-images-binary-classification/split/train/yes/Y21.jpg\n",
      "/kaggle/input/brain-tumor-ct-images-binary-classification/split/train/yes/Y254.jpg\n",
      "/kaggle/input/brain-tumor-ct-images-binary-classification/split/train/yes/Y52.jpg\n",
      "/kaggle/input/brain-tumor-ct-images-binary-classification/split/train/yes/Y153.jpg\n",
      "/kaggle/input/brain-tumor-ct-images-binary-classification/split/train/yes/Y156.JPG\n",
      "/kaggle/input/brain-tumor-ct-images-binary-classification/split/train/yes/Y11.jpg\n",
      "/kaggle/input/brain-tumor-ct-images-binary-classification/split/train/yes/Y249.JPG\n",
      "/kaggle/input/brain-tumor-ct-images-binary-classification/split/train/yes/Y41.jpg\n",
      "/kaggle/input/brain-tumor-ct-images-binary-classification/split/train/yes/Y20.jpg\n",
      "/kaggle/input/brain-tumor-ct-images-binary-classification/split/train/yes/Y85.JPG\n",
      "/kaggle/input/brain-tumor-ct-images-binary-classification/split/train/yes/Y49.JPG\n",
      "/kaggle/input/brain-tumor-ct-images-binary-classification/split/train/yes/Y244.JPG\n",
      "/kaggle/input/brain-tumor-ct-images-binary-classification/split/train/yes/Y107.jpg\n",
      "/kaggle/input/brain-tumor-ct-images-binary-classification/split/train/yes/Y113.JPG\n",
      "/kaggle/input/brain-tumor-ct-images-binary-classification/split/train/yes/Y101.jpg\n",
      "/kaggle/input/brain-tumor-ct-images-binary-classification/split/train/yes/Y89.JPG\n",
      "/kaggle/input/brain-tumor-ct-images-binary-classification/split/train/yes/Y44.JPG\n"
     ]
    }
   ],
   "source": [
    "# This Python 3 environment comes with many helpful analytics libraries installed\n",
    "# It is defined by the kaggle/python Docker image: https://github.com/kaggle/docker-python\n",
    "# For example, here's several helpful packages to load\n",
    "\n",
    "import numpy as np # linear algebra\n",
    "import pandas as pd # data processing, CSV file I/O (e.g. pd.read_csv)\n",
    "\n",
    "# Input data files are available in the read-only \"../input/\" directory\n",
    "# For example, running this (by clicking run or pressing Shift+Enter) will list all files under the input directory\n",
    "\n",
    "import os\n",
    "for dirname, _, filenames in os.walk('/kaggle/input'):\n",
    "    for filename in filenames:\n",
    "        print(os.path.join(dirname, filename))\n",
    "\n",
    "# You can write up to 20GB to the current directory (/kaggle/working/) that gets preserved as output when you create a version using \"Save & Run All\" \n",
    "# You can also write temporary files to /kaggle/temp/, but they won't be saved outside of the current session"
   ]
  },
  {
   "cell_type": "code",
   "execution_count": 2,
   "id": "c5fb2161",
   "metadata": {
    "execution": {
     "iopub.execute_input": "2024-06-23T16:27:47.366467Z",
     "iopub.status.busy": "2024-06-23T16:27:47.365919Z",
     "iopub.status.idle": "2024-06-23T16:28:02.798978Z",
     "shell.execute_reply": "2024-06-23T16:28:02.797248Z"
    },
    "papermill": {
     "duration": 15.443211,
     "end_time": "2024-06-23T16:28:02.802037",
     "exception": false,
     "start_time": "2024-06-23T16:27:47.358826",
     "status": "completed"
    },
    "tags": []
   },
   "outputs": [
    {
     "name": "stderr",
     "output_type": "stream",
     "text": [
      "2024-06-23 16:27:49.720704: E external/local_xla/xla/stream_executor/cuda/cuda_dnn.cc:9261] Unable to register cuDNN factory: Attempting to register factory for plugin cuDNN when one has already been registered\n",
      "2024-06-23 16:27:49.720974: E external/local_xla/xla/stream_executor/cuda/cuda_fft.cc:607] Unable to register cuFFT factory: Attempting to register factory for plugin cuFFT when one has already been registered\n",
      "2024-06-23 16:27:49.893056: E external/local_xla/xla/stream_executor/cuda/cuda_blas.cc:1515] Unable to register cuBLAS factory: Attempting to register factory for plugin cuBLAS when one has already been registered\n"
     ]
    },
    {
     "name": "stdout",
     "output_type": "stream",
     "text": [
      "Found 174 images belonging to 2 classes.\n",
      "Found 49 images belonging to 2 classes.\n",
      "Found 28 images belonging to 2 classes.\n"
     ]
    }
   ],
   "source": [
    "from tensorflow.keras.preprocessing.image import ImageDataGenerator\n",
    "datagen=ImageDataGenerator(rescale=1/255)\n",
    "\n",
    "train=datagen.flow_from_directory('/kaggle/input/brain-tumor-ct-images-binary-classification/split/train',\n",
    "                                 target_size=(64,64),\n",
    "                                 class_mode='binary')\n",
    "val=datagen.flow_from_directory('/kaggle/input/brain-tumor-ct-images-binary-classification/split/val',\n",
    "                                 target_size=(64,64),\n",
    "                                 class_mode='binary')\n",
    "test=datagen.flow_from_directory('/kaggle/input/brain-tumor-ct-images-binary-classification/split/test',\n",
    "                                 target_size=(64,64),\n",
    "                                 class_mode='binary')"
   ]
  },
  {
   "cell_type": "code",
   "execution_count": 3,
   "id": "cc095372",
   "metadata": {
    "execution": {
     "iopub.execute_input": "2024-06-23T16:28:02.817484Z",
     "iopub.status.busy": "2024-06-23T16:28:02.816745Z",
     "iopub.status.idle": "2024-06-23T16:28:03.031097Z",
     "shell.execute_reply": "2024-06-23T16:28:03.030008Z"
    },
    "papermill": {
     "duration": 0.225132,
     "end_time": "2024-06-23T16:28:03.033972",
     "exception": false,
     "start_time": "2024-06-23T16:28:02.808840",
     "status": "completed"
    },
    "tags": []
   },
   "outputs": [
    {
     "name": "stderr",
     "output_type": "stream",
     "text": [
      "/opt/conda/lib/python3.10/site-packages/keras/src/layers/convolutional/base_conv.py:107: UserWarning: Do not pass an `input_shape`/`input_dim` argument to a layer. When using Sequential models, prefer using an `Input(shape)` object as the first layer in the model instead.\n",
      "  super().__init__(activity_regularizer=activity_regularizer, **kwargs)\n"
     ]
    },
    {
     "data": {
      "text/html": [
       "<pre style=\"white-space:pre;overflow-x:auto;line-height:normal;font-family:Menlo,'DejaVu Sans Mono',consolas,'Courier New',monospace\"><span style=\"font-weight: bold\">Model: \"sequential\"</span>\n",
       "</pre>\n"
      ],
      "text/plain": [
       "\u001b[1mModel: \"sequential\"\u001b[0m\n"
      ]
     },
     "metadata": {},
     "output_type": "display_data"
    },
    {
     "data": {
      "text/html": [
       "<pre style=\"white-space:pre;overflow-x:auto;line-height:normal;font-family:Menlo,'DejaVu Sans Mono',consolas,'Courier New',monospace\">┏━━━━━━━━━━━━━━━━━━━━━━━━━━━━━━━━━┳━━━━━━━━━━━━━━━━━━━━━━━━┳━━━━━━━━━━━━━━━┓\n",
       "┃<span style=\"font-weight: bold\"> Layer (type)                    </span>┃<span style=\"font-weight: bold\"> Output Shape           </span>┃<span style=\"font-weight: bold\">       Param # </span>┃\n",
       "┡━━━━━━━━━━━━━━━━━━━━━━━━━━━━━━━━━╇━━━━━━━━━━━━━━━━━━━━━━━━╇━━━━━━━━━━━━━━━┩\n",
       "│ conv2d (<span style=\"color: #0087ff; text-decoration-color: #0087ff\">Conv2D</span>)                 │ (<span style=\"color: #00d7ff; text-decoration-color: #00d7ff\">None</span>, <span style=\"color: #00af00; text-decoration-color: #00af00\">62</span>, <span style=\"color: #00af00; text-decoration-color: #00af00\">62</span>, <span style=\"color: #00af00; text-decoration-color: #00af00\">32</span>)     │           <span style=\"color: #00af00; text-decoration-color: #00af00\">896</span> │\n",
       "├─────────────────────────────────┼────────────────────────┼───────────────┤\n",
       "│ flatten (<span style=\"color: #0087ff; text-decoration-color: #0087ff\">Flatten</span>)               │ (<span style=\"color: #00d7ff; text-decoration-color: #00d7ff\">None</span>, <span style=\"color: #00af00; text-decoration-color: #00af00\">123008</span>)         │             <span style=\"color: #00af00; text-decoration-color: #00af00\">0</span> │\n",
       "├─────────────────────────────────┼────────────────────────┼───────────────┤\n",
       "│ dense (<span style=\"color: #0087ff; text-decoration-color: #0087ff\">Dense</span>)                   │ (<span style=\"color: #00d7ff; text-decoration-color: #00d7ff\">None</span>, <span style=\"color: #00af00; text-decoration-color: #00af00\">64</span>)             │     <span style=\"color: #00af00; text-decoration-color: #00af00\">7,872,576</span> │\n",
       "├─────────────────────────────────┼────────────────────────┼───────────────┤\n",
       "│ dense_1 (<span style=\"color: #0087ff; text-decoration-color: #0087ff\">Dense</span>)                 │ (<span style=\"color: #00d7ff; text-decoration-color: #00d7ff\">None</span>, <span style=\"color: #00af00; text-decoration-color: #00af00\">1</span>)              │            <span style=\"color: #00af00; text-decoration-color: #00af00\">65</span> │\n",
       "└─────────────────────────────────┴────────────────────────┴───────────────┘\n",
       "</pre>\n"
      ],
      "text/plain": [
       "┏━━━━━━━━━━━━━━━━━━━━━━━━━━━━━━━━━┳━━━━━━━━━━━━━━━━━━━━━━━━┳━━━━━━━━━━━━━━━┓\n",
       "┃\u001b[1m \u001b[0m\u001b[1mLayer (type)                   \u001b[0m\u001b[1m \u001b[0m┃\u001b[1m \u001b[0m\u001b[1mOutput Shape          \u001b[0m\u001b[1m \u001b[0m┃\u001b[1m \u001b[0m\u001b[1m      Param #\u001b[0m\u001b[1m \u001b[0m┃\n",
       "┡━━━━━━━━━━━━━━━━━━━━━━━━━━━━━━━━━╇━━━━━━━━━━━━━━━━━━━━━━━━╇━━━━━━━━━━━━━━━┩\n",
       "│ conv2d (\u001b[38;5;33mConv2D\u001b[0m)                 │ (\u001b[38;5;45mNone\u001b[0m, \u001b[38;5;34m62\u001b[0m, \u001b[38;5;34m62\u001b[0m, \u001b[38;5;34m32\u001b[0m)     │           \u001b[38;5;34m896\u001b[0m │\n",
       "├─────────────────────────────────┼────────────────────────┼───────────────┤\n",
       "│ flatten (\u001b[38;5;33mFlatten\u001b[0m)               │ (\u001b[38;5;45mNone\u001b[0m, \u001b[38;5;34m123008\u001b[0m)         │             \u001b[38;5;34m0\u001b[0m │\n",
       "├─────────────────────────────────┼────────────────────────┼───────────────┤\n",
       "│ dense (\u001b[38;5;33mDense\u001b[0m)                   │ (\u001b[38;5;45mNone\u001b[0m, \u001b[38;5;34m64\u001b[0m)             │     \u001b[38;5;34m7,872,576\u001b[0m │\n",
       "├─────────────────────────────────┼────────────────────────┼───────────────┤\n",
       "│ dense_1 (\u001b[38;5;33mDense\u001b[0m)                 │ (\u001b[38;5;45mNone\u001b[0m, \u001b[38;5;34m1\u001b[0m)              │            \u001b[38;5;34m65\u001b[0m │\n",
       "└─────────────────────────────────┴────────────────────────┴───────────────┘\n"
      ]
     },
     "metadata": {},
     "output_type": "display_data"
    },
    {
     "data": {
      "text/html": [
       "<pre style=\"white-space:pre;overflow-x:auto;line-height:normal;font-family:Menlo,'DejaVu Sans Mono',consolas,'Courier New',monospace\"><span style=\"font-weight: bold\"> Total params: </span><span style=\"color: #00af00; text-decoration-color: #00af00\">7,873,537</span> (30.04 MB)\n",
       "</pre>\n"
      ],
      "text/plain": [
       "\u001b[1m Total params: \u001b[0m\u001b[38;5;34m7,873,537\u001b[0m (30.04 MB)\n"
      ]
     },
     "metadata": {},
     "output_type": "display_data"
    },
    {
     "data": {
      "text/html": [
       "<pre style=\"white-space:pre;overflow-x:auto;line-height:normal;font-family:Menlo,'DejaVu Sans Mono',consolas,'Courier New',monospace\"><span style=\"font-weight: bold\"> Trainable params: </span><span style=\"color: #00af00; text-decoration-color: #00af00\">7,873,537</span> (30.04 MB)\n",
       "</pre>\n"
      ],
      "text/plain": [
       "\u001b[1m Trainable params: \u001b[0m\u001b[38;5;34m7,873,537\u001b[0m (30.04 MB)\n"
      ]
     },
     "metadata": {},
     "output_type": "display_data"
    },
    {
     "data": {
      "text/html": [
       "<pre style=\"white-space:pre;overflow-x:auto;line-height:normal;font-family:Menlo,'DejaVu Sans Mono',consolas,'Courier New',monospace\"><span style=\"font-weight: bold\"> Non-trainable params: </span><span style=\"color: #00af00; text-decoration-color: #00af00\">0</span> (0.00 B)\n",
       "</pre>\n"
      ],
      "text/plain": [
       "\u001b[1m Non-trainable params: \u001b[0m\u001b[38;5;34m0\u001b[0m (0.00 B)\n"
      ]
     },
     "metadata": {},
     "output_type": "display_data"
    }
   ],
   "source": [
    "from keras.models import Sequential\n",
    "from keras.layers import Conv2D,Flatten,Dense,MaxPooling2D\n",
    "\n",
    "model=Sequential()\n",
    "model.add(Conv2D(32,(3,3),\n",
    "                activation='relu', input_shape=(64,64,3)))\n",
    "model.add(Flatten())\n",
    "model.add(Dense(64,activation='relu'))\n",
    "model.add(Dense(1, activation='sigmoid'))\n",
    "model.summary()\n",
    "\n",
    "model.compile(optimizer='adam',\n",
    "             loss='binary_crossentropy',\n",
    "             metrics=['accuracy'])"
   ]
  },
  {
   "cell_type": "code",
   "execution_count": 4,
   "id": "a32a974f",
   "metadata": {
    "execution": {
     "iopub.execute_input": "2024-06-23T16:28:03.050858Z",
     "iopub.status.busy": "2024-06-23T16:28:03.049981Z",
     "iopub.status.idle": "2024-06-23T16:28:28.881297Z",
     "shell.execute_reply": "2024-06-23T16:28:28.880077Z"
    },
    "papermill": {
     "duration": 25.842944,
     "end_time": "2024-06-23T16:28:28.884348",
     "exception": false,
     "start_time": "2024-06-23T16:28:03.041404",
     "status": "completed"
    },
    "tags": []
   },
   "outputs": [
    {
     "name": "stdout",
     "output_type": "stream",
     "text": [
      "Epoch 1/20\n"
     ]
    },
    {
     "name": "stderr",
     "output_type": "stream",
     "text": [
      "/opt/conda/lib/python3.10/site-packages/keras/src/trainers/data_adapters/py_dataset_adapter.py:121: UserWarning: Your `PyDataset` class should call `super().__init__(**kwargs)` in its constructor. `**kwargs` can include `workers`, `use_multiprocessing`, `max_queue_size`. Do not pass these arguments to `fit()`, as they will be ignored.\n",
      "  self._warn_if_super_not_called()\n"
     ]
    },
    {
     "name": "stdout",
     "output_type": "stream",
     "text": [
      "\u001b[1m6/6\u001b[0m \u001b[32m━━━━━━━━━━━━━━━━━━━━\u001b[0m\u001b[37m\u001b[0m \u001b[1m4s\u001b[0m 221ms/step - accuracy: 0.5675 - loss: 2.2032 - val_accuracy: 0.6122 - val_loss: 1.2888\n",
      "Epoch 2/20\n",
      "\u001b[1m6/6\u001b[0m \u001b[32m━━━━━━━━━━━━━━━━━━━━\u001b[0m\u001b[37m\u001b[0m \u001b[1m1s\u001b[0m 112ms/step - accuracy: 0.6863 - loss: 1.1245 - val_accuracy: 0.6939 - val_loss: 0.6303\n",
      "Epoch 3/20\n",
      "\u001b[1m6/6\u001b[0m \u001b[32m━━━━━━━━━━━━━━━━━━━━\u001b[0m\u001b[37m\u001b[0m \u001b[1m1s\u001b[0m 116ms/step - accuracy: 0.7356 - loss: 0.5087 - val_accuracy: 0.7959 - val_loss: 0.4686\n",
      "Epoch 4/20\n",
      "\u001b[1m6/6\u001b[0m \u001b[32m━━━━━━━━━━━━━━━━━━━━\u001b[0m\u001b[37m\u001b[0m \u001b[1m1s\u001b[0m 110ms/step - accuracy: 0.8297 - loss: 0.4394 - val_accuracy: 0.7755 - val_loss: 0.4282\n",
      "Epoch 5/20\n",
      "\u001b[1m6/6\u001b[0m \u001b[32m━━━━━━━━━━━━━━━━━━━━\u001b[0m\u001b[37m\u001b[0m \u001b[1m1s\u001b[0m 136ms/step - accuracy: 0.8991 - loss: 0.3244 - val_accuracy: 0.8571 - val_loss: 0.4066\n",
      "Epoch 6/20\n",
      "\u001b[1m6/6\u001b[0m \u001b[32m━━━━━━━━━━━━━━━━━━━━\u001b[0m\u001b[37m\u001b[0m \u001b[1m1s\u001b[0m 143ms/step - accuracy: 0.9190 - loss: 0.2128 - val_accuracy: 0.7959 - val_loss: 0.4186\n",
      "Epoch 7/20\n",
      "\u001b[1m6/6\u001b[0m \u001b[32m━━━━━━━━━━━━━━━━━━━━\u001b[0m\u001b[37m\u001b[0m \u001b[1m1s\u001b[0m 114ms/step - accuracy: 0.9232 - loss: 0.1645 - val_accuracy: 0.7959 - val_loss: 0.3920\n",
      "Epoch 8/20\n",
      "\u001b[1m6/6\u001b[0m \u001b[32m━━━━━━━━━━━━━━━━━━━━\u001b[0m\u001b[37m\u001b[0m \u001b[1m1s\u001b[0m 119ms/step - accuracy: 0.9716 - loss: 0.0875 - val_accuracy: 0.8163 - val_loss: 0.4350\n",
      "Epoch 9/20\n",
      "\u001b[1m6/6\u001b[0m \u001b[32m━━━━━━━━━━━━━━━━━━━━\u001b[0m\u001b[37m\u001b[0m \u001b[1m1s\u001b[0m 112ms/step - accuracy: 1.0000 - loss: 0.0434 - val_accuracy: 0.8163 - val_loss: 0.5618\n",
      "Epoch 10/20\n",
      "\u001b[1m6/6\u001b[0m \u001b[32m━━━━━━━━━━━━━━━━━━━━\u001b[0m\u001b[37m\u001b[0m \u001b[1m1s\u001b[0m 112ms/step - accuracy: 1.0000 - loss: 0.0178 - val_accuracy: 0.7959 - val_loss: 0.5519\n",
      "Epoch 11/20\n",
      "\u001b[1m6/6\u001b[0m \u001b[32m━━━━━━━━━━━━━━━━━━━━\u001b[0m\u001b[37m\u001b[0m \u001b[1m1s\u001b[0m 113ms/step - accuracy: 1.0000 - loss: 0.0068 - val_accuracy: 0.7959 - val_loss: 0.6295\n",
      "Epoch 12/20\n",
      "\u001b[1m6/6\u001b[0m \u001b[32m━━━━━━━━━━━━━━━━━━━━\u001b[0m\u001b[37m\u001b[0m \u001b[1m1s\u001b[0m 113ms/step - accuracy: 1.0000 - loss: 0.0034 - val_accuracy: 0.7959 - val_loss: 0.6249\n",
      "Epoch 13/20\n",
      "\u001b[1m6/6\u001b[0m \u001b[32m━━━━━━━━━━━━━━━━━━━━\u001b[0m\u001b[37m\u001b[0m \u001b[1m1s\u001b[0m 106ms/step - accuracy: 1.0000 - loss: 0.0024 - val_accuracy: 0.8163 - val_loss: 0.6912\n",
      "Epoch 14/20\n",
      "\u001b[1m6/6\u001b[0m \u001b[32m━━━━━━━━━━━━━━━━━━━━\u001b[0m\u001b[37m\u001b[0m \u001b[1m1s\u001b[0m 110ms/step - accuracy: 1.0000 - loss: 0.0013 - val_accuracy: 0.7959 - val_loss: 0.7106\n",
      "Epoch 15/20\n",
      "\u001b[1m6/6\u001b[0m \u001b[32m━━━━━━━━━━━━━━━━━━━━\u001b[0m\u001b[37m\u001b[0m \u001b[1m1s\u001b[0m 110ms/step - accuracy: 1.0000 - loss: 9.7980e-04 - val_accuracy: 0.7959 - val_loss: 0.6974\n",
      "Epoch 16/20\n",
      "\u001b[1m6/6\u001b[0m \u001b[32m━━━━━━━━━━━━━━━━━━━━\u001b[0m\u001b[37m\u001b[0m \u001b[1m1s\u001b[0m 110ms/step - accuracy: 1.0000 - loss: 7.2381e-04 - val_accuracy: 0.7959 - val_loss: 0.7302\n",
      "Epoch 17/20\n",
      "\u001b[1m6/6\u001b[0m \u001b[32m━━━━━━━━━━━━━━━━━━━━\u001b[0m\u001b[37m\u001b[0m \u001b[1m1s\u001b[0m 111ms/step - accuracy: 1.0000 - loss: 5.4994e-04 - val_accuracy: 0.7755 - val_loss: 0.7335\n",
      "Epoch 18/20\n",
      "\u001b[1m6/6\u001b[0m \u001b[32m━━━━━━━━━━━━━━━━━━━━\u001b[0m\u001b[37m\u001b[0m \u001b[1m1s\u001b[0m 135ms/step - accuracy: 1.0000 - loss: 4.6071e-04 - val_accuracy: 0.7959 - val_loss: 0.7207\n",
      "Epoch 19/20\n",
      "\u001b[1m6/6\u001b[0m \u001b[32m━━━━━━━━━━━━━━━━━━━━\u001b[0m\u001b[37m\u001b[0m \u001b[1m1s\u001b[0m 128ms/step - accuracy: 1.0000 - loss: 4.1542e-04 - val_accuracy: 0.7959 - val_loss: 0.7294\n",
      "Epoch 20/20\n",
      "\u001b[1m6/6\u001b[0m \u001b[32m━━━━━━━━━━━━━━━━━━━━\u001b[0m\u001b[37m\u001b[0m \u001b[1m1s\u001b[0m 111ms/step - accuracy: 1.0000 - loss: 3.2957e-04 - val_accuracy: 0.8163 - val_loss: 0.7420\n"
     ]
    }
   ],
   "source": [
    "model.fit(train,\n",
    "         batch_size=32,\n",
    "         epochs=20,\n",
    "         validation_data=val)\n",
    "model.save('mribrain_model.h5')"
   ]
  },
  {
   "cell_type": "code",
   "execution_count": 5,
   "id": "e88e1adb",
   "metadata": {
    "execution": {
     "iopub.execute_input": "2024-06-23T16:28:28.931497Z",
     "iopub.status.busy": "2024-06-23T16:28:28.931086Z",
     "iopub.status.idle": "2024-06-23T16:28:28.936138Z",
     "shell.execute_reply": "2024-06-23T16:28:28.934995Z"
    },
    "papermill": {
     "duration": 0.031263,
     "end_time": "2024-06-23T16:28:28.938529",
     "exception": false,
     "start_time": "2024-06-23T16:28:28.907266",
     "status": "completed"
    },
    "tags": []
   },
   "outputs": [],
   "source": [
    "y_true=test.classes"
   ]
  },
  {
   "cell_type": "code",
   "execution_count": 6,
   "id": "90e72b34",
   "metadata": {
    "execution": {
     "iopub.execute_input": "2024-06-23T16:28:28.984686Z",
     "iopub.status.busy": "2024-06-23T16:28:28.984285Z",
     "iopub.status.idle": "2024-06-23T16:28:29.346074Z",
     "shell.execute_reply": "2024-06-23T16:28:29.344665Z"
    },
    "papermill": {
     "duration": 0.388254,
     "end_time": "2024-06-23T16:28:29.349021",
     "exception": false,
     "start_time": "2024-06-23T16:28:28.960767",
     "status": "completed"
    },
    "tags": []
   },
   "outputs": [
    {
     "name": "stdout",
     "output_type": "stream",
     "text": [
      "\u001b[1m1/1\u001b[0m \u001b[32m━━━━━━━━━━━━━━━━━━━━\u001b[0m\u001b[37m\u001b[0m \u001b[1m0s\u001b[0m 156ms/step\n"
     ]
    }
   ],
   "source": [
    "y_pred=model.predict(test)"
   ]
  },
  {
   "cell_type": "code",
   "execution_count": 7,
   "id": "588dad9d",
   "metadata": {
    "execution": {
     "iopub.execute_input": "2024-06-23T16:28:29.396682Z",
     "iopub.status.busy": "2024-06-23T16:28:29.396254Z",
     "iopub.status.idle": "2024-06-23T16:28:29.401749Z",
     "shell.execute_reply": "2024-06-23T16:28:29.400700Z"
    },
    "papermill": {
     "duration": 0.032113,
     "end_time": "2024-06-23T16:28:29.404150",
     "exception": false,
     "start_time": "2024-06-23T16:28:29.372037",
     "status": "completed"
    },
    "tags": []
   },
   "outputs": [],
   "source": [
    "y_pred[y_pred<=0.5]=0\n",
    "y_pred[y_pred>0.5]=1"
   ]
  },
  {
   "cell_type": "code",
   "execution_count": 8,
   "id": "3694705a",
   "metadata": {
    "execution": {
     "iopub.execute_input": "2024-06-23T16:28:29.452711Z",
     "iopub.status.busy": "2024-06-23T16:28:29.452282Z",
     "iopub.status.idle": "2024-06-23T16:28:30.763972Z",
     "shell.execute_reply": "2024-06-23T16:28:30.762691Z"
    },
    "papermill": {
     "duration": 1.338167,
     "end_time": "2024-06-23T16:28:30.766583",
     "exception": false,
     "start_time": "2024-06-23T16:28:29.428416",
     "status": "completed"
    },
    "tags": []
   },
   "outputs": [
    {
     "data": {
      "text/plain": [
       "0.5"
      ]
     },
     "execution_count": 8,
     "metadata": {},
     "output_type": "execute_result"
    }
   ],
   "source": [
    "from sklearn import metrics\n",
    "metrics.accuracy_score(y_true, y_pred)"
   ]
  },
  {
   "cell_type": "code",
   "execution_count": 9,
   "id": "6b0e403e",
   "metadata": {
    "execution": {
     "iopub.execute_input": "2024-06-23T16:28:30.814685Z",
     "iopub.status.busy": "2024-06-23T16:28:30.814253Z",
     "iopub.status.idle": "2024-06-23T16:28:30.824790Z",
     "shell.execute_reply": "2024-06-23T16:28:30.823593Z"
    },
    "papermill": {
     "duration": 0.037213,
     "end_time": "2024-06-23T16:28:30.827205",
     "exception": false,
     "start_time": "2024-06-23T16:28:30.789992",
     "status": "completed"
    },
    "tags": []
   },
   "outputs": [
    {
     "data": {
      "text/plain": [
       "array([[ 4,  7],\n",
       "       [ 7, 10]])"
      ]
     },
     "execution_count": 9,
     "metadata": {},
     "output_type": "execute_result"
    }
   ],
   "source": [
    "metrics.confusion_matrix(y_true,y_pred)"
   ]
  },
  {
   "cell_type": "code",
   "execution_count": 10,
   "id": "67bae4eb",
   "metadata": {
    "execution": {
     "iopub.execute_input": "2024-06-23T16:28:30.874836Z",
     "iopub.status.busy": "2024-06-23T16:28:30.874422Z",
     "iopub.status.idle": "2024-06-23T16:28:31.199654Z",
     "shell.execute_reply": "2024-06-23T16:28:31.198371Z"
    },
    "papermill": {
     "duration": 0.352145,
     "end_time": "2024-06-23T16:28:31.202508",
     "exception": false,
     "start_time": "2024-06-23T16:28:30.850363",
     "status": "completed"
    },
    "tags": []
   },
   "outputs": [
    {
     "data": {
      "text/plain": [
       "<sklearn.metrics._plot.roc_curve.RocCurveDisplay at 0x7dbc3ead2fe0>"
      ]
     },
     "execution_count": 10,
     "metadata": {},
     "output_type": "execute_result"
    },
    {
     "data": {
      "image/png": "[encoded data removed]",
      "text/plain": [
       "<Figure size 640x480 with 1 Axes>"
      ]
     },
     "metadata": {},
     "output_type": "display_data"
    }
   ],
   "source": [
    "metrics.RocCurveDisplay.from_predictions(y_true,y_pred)"
   ]
  },
  {
   "cell_type": "code",
   "execution_count": 11,
   "id": "0490ce01",
   "metadata": {
    "execution": {
     "iopub.execute_input": "2024-06-23T16:28:31.256892Z",
     "iopub.status.busy": "2024-06-23T16:28:31.255674Z",
     "iopub.status.idle": "2024-06-23T16:28:31.263555Z",
     "shell.execute_reply": "2024-06-23T16:28:31.262450Z"
    },
    "papermill": {
     "duration": 0.037007,
     "end_time": "2024-06-23T16:28:31.265962",
     "exception": false,
     "start_time": "2024-06-23T16:28:31.228955",
     "status": "completed"
    },
    "tags": []
   },
   "outputs": [
    {
     "data": {
      "text/plain": [
       "<module 'sklearn.metrics' from '/opt/conda/lib/python3.10/site-packages/sklearn/metrics/__init__.py'>"
      ]
     },
     "execution_count": 11,
     "metadata": {},
     "output_type": "execute_result"
    }
   ],
   "source": [
    "metrics"
   ]
  },
  {
   "cell_type": "code",
   "execution_count": null,
   "id": "872ce425",
   "metadata": {
    "papermill": {
     "duration": 0.024533,
     "end_time": "2024-06-23T16:28:31.315495",
     "exception": false,
     "start_time": "2024-06-23T16:28:31.290962",
     "status": "completed"
    },
    "tags": []
   },
   "outputs": [],
   "source": []
  },
  {
   "cell_type": "code",
   "execution_count": null,
   "id": "1dbbbe7a",
   "metadata": {
    "papermill": {
     "duration": 0.023832,
     "end_time": "2024-06-23T16:28:31.363262",
     "exception": false,
     "start_time": "2024-06-23T16:28:31.339430",
     "status": "completed"
    },
    "tags": []
   },
   "outputs": [],
   "source": []
  },
  {
   "cell_type": "code",
   "execution_count": null,
   "id": "321bc673",
   "metadata": {
    "papermill": {
     "duration": 0.023394,
     "end_time": "2024-06-23T16:28:31.410337",
     "exception": false,
     "start_time": "2024-06-23T16:28:31.386943",
     "status": "completed"
    },
    "tags": []
   },
   "outputs": [],
   "source": []
  }
 ],
 "metadata": {
  "kaggle": {
   "accelerator": "none",
   "dataSources": [
    {
     "datasetId": 4775312,
     "sourceId": 8088982,
     "sourceType": "datasetVersion"
    }
   ],
   "dockerImageVersionId": 30732,
   "isGpuEnabled": false,
   "isInternetEnabled": true,
   "language": "python",
   "sourceType": "notebook"
  },
  "kernelspec": {
   "display_name": "Python 3",
   "language": "python",
   "name": "python3"
  },
  "language_info": {
   "codemirror_mode": {
    "name": "ipython",
    "version": 3
   },
   "file_extension": ".py",
   "mimetype": "text/x-python",
   "name": "python",
   "nbconvert_exporter": "python",
   "pygments_lexer": "ipython3",
   "version": "3.10.13"
  },
  "papermill": {
   "default_parameters": {},
   "duration": 50.173636,
   "end_time": "2024-06-23T16:28:33.159797",
   "environment_variables": {},
   "exception": null,
   "input_path": "__notebook__.ipynb",
   "output_path": "__notebook__.ipynb",
   "parameters": {},
   "start_time": "2024-06-23T16:27:42.986161",
   "version": "2.5.0"
  }
 },
 "nbformat": 4,
 "nbformat_minor": 5
}
