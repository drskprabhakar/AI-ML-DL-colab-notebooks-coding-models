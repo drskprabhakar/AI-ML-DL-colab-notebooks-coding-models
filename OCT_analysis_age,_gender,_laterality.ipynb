{
  "nbformat": 4,
  "nbformat_minor": 0,
  "metadata": {
    "colab": {
      "provenance": [],
      "mount_file_id": "1sFvsq_W8AxcXo5ArjSXEmQKd1OqAEU_6",
      "authorship_tag": "ABX9TyOBXHRasnir9hHUviymydKi",
      "include_colab_link": true
    },
    "kernelspec": {
      "name": "python3",
      "display_name": "Python 3"
    },
    "language_info": {
      "name": "python"
    }
  },
  "cells": [
    {
      "cell_type": "markdown",
      "metadata": {
        "id": "view-in-github",
        "colab_type": "text"
      },
      "source": [
        "<a href=\"https://colab.research.google.com/github/drskprabhakar/AI-ML-DL-colab-notebooks-coding-models/blob/main/OCT_analysis_age%2C_gender%2C_laterality.ipynb\" target=\"_parent\"><img src=\"https://colab.research.google.com/assets/colab-badge.svg\" alt=\"Open In Colab\"/></a>"
      ]
    },
    {
      "cell_type": "code",
      "execution_count": 1,
      "metadata": {
        "id": "fU57B198qIzd"
      },
      "outputs": [],
      "source": [
        "import pandas as pd\n",
        "import numpy as np\n",
        "import seaborn"
      ]
    },
    {
      "cell_type": "code",
      "source": [
        "main_data = pd.ExcelFile('/content/drive/MyDrive/OCT analysis original dataset in hemodialysis patients thesis Dr Poojitha.xlsx')\n",
        "main_data.sheet_names\n"
      ],
      "metadata": {
        "colab": {
          "base_uri": "https://localhost:8080/"
        },
        "id": "vL7h88LhqdeU",
        "outputId": "6cddb50f-bd7a-4ddc-e289-b882fa0eafcc"
      },
      "execution_count": 2,
      "outputs": [
        {
          "output_type": "execute_result",
          "data": {
            "text/plain": [
              "['Patient-control demo (CKD-DM)',\n",
              " 'Patient-control demo (CKD-HTN)',\n",
              " 'Pre+post HD-VA,IOP,CCT-DM',\n",
              " 'Pre+post HD-VA,IOP,CCT-HTN',\n",
              " 'Pre+post HD-RNFL-DM',\n",
              " 'Pre+post HD-CMT-DM',\n",
              " 'Pre+post HD-VFA-DM']"
            ]
          },
          "metadata": {},
          "execution_count": 2
        }
      ]
    },
    {
      "cell_type": "code",
      "source": [
        "dm_patients = pd.read_excel(main_data, 'Patient-control demo (CKD-DM)')\n",
        "dm_patients.shape"
      ],
      "metadata": {
        "colab": {
          "base_uri": "https://localhost:8080/"
        },
        "id": "pdoN3izmqdvh",
        "outputId": "ee320b93-dcd4-4079-ac98-7041d3564e97"
      },
      "execution_count": 3,
      "outputs": [
        {
          "output_type": "execute_result",
          "data": {
            "text/plain": [
              "(30, 10)"
            ]
          },
          "metadata": {},
          "execution_count": 3
        }
      ]
    },
    {
      "cell_type": "code",
      "source": [
        "dm_patients.columns"
      ],
      "metadata": {
        "colab": {
          "base_uri": "https://localhost:8080/"
        },
        "id": "VugrIsXRqd8k",
        "outputId": "76d6c216-4312-4a8d-def9-45bdbcdd1d8e"
      },
      "execution_count": null,
      "outputs": [
        {
          "output_type": "execute_result",
          "data": {
            "text/plain": [
              "Index(['Age-DM', 'Males-DM', 'Females-DM', 'RE-DM', 'LE-DM', 'Age-Control(DM)',\n",
              "       'Males-Control(DM)', 'Females-Control(DM)', 'RE-Control(DM)',\n",
              "       'LE-Control(DM)'],\n",
              "      dtype='object')"
            ]
          },
          "metadata": {},
          "execution_count": 6
        }
      ]
    },
    {
      "cell_type": "code",
      "source": [
        "dm_control_age = dm_patients.drop(['Males-DM', 'Females-DM', 'RE-DM', 'LE-DM',\n",
        "       'Males-Control(DM)', 'Females-Control(DM)', 'RE-Control(DM)',\n",
        "       'LE-Control(DM)'], axis=1)\n",
        "dm_control_age.columns"
      ],
      "metadata": {
        "colab": {
          "base_uri": "https://localhost:8080/"
        },
        "id": "sgS5jkniqeJB",
        "outputId": "afe554b9-8130-4a72-ff65-911467877e00"
      },
      "execution_count": 4,
      "outputs": [
        {
          "output_type": "execute_result",
          "data": {
            "text/plain": [
              "Index(['Age-DM', 'Age-Control(DM)'], dtype='object')"
            ]
          },
          "metadata": {},
          "execution_count": 4
        }
      ]
    },
    {
      "cell_type": "code",
      "source": [
        "htn_patients = pd.read_excel(main_data, 'Patient-control demo (CKD-HTN)')\n",
        "htn_patients.columns"
      ],
      "metadata": {
        "colab": {
          "base_uri": "https://localhost:8080/"
        },
        "id": "4wJ7y9Gftqje",
        "outputId": "3b46bc18-9036-462a-d9c4-d1cf74aa32a8"
      },
      "execution_count": 5,
      "outputs": [
        {
          "output_type": "execute_result",
          "data": {
            "text/plain": [
              "Index(['Age-HTN', 'Males-HTN', 'Females-HTN', 'RE-HTN', 'LE-HTN',\n",
              "       'Age-Control(HTN)', 'Males-Control(HTN)', 'Females-Control(HTN)',\n",
              "       'RE-Control(HTN)', 'LE-Control(HTN)'],\n",
              "      dtype='object')"
            ]
          },
          "metadata": {},
          "execution_count": 5
        }
      ]
    },
    {
      "cell_type": "code",
      "source": [
        "htn_control_age = htn_patients.drop(['Males-HTN', 'Females-HTN', 'RE-HTN', 'LE-HTN',\n",
        "       'Males-Control(HTN)', 'Females-Control(HTN)',\n",
        "       'RE-Control(HTN)', 'LE-Control(HTN)'], axis=1)\n",
        "htn_control_age.columns"
      ],
      "metadata": {
        "colab": {
          "base_uri": "https://localhost:8080/"
        },
        "id": "8IVKPDJUtqv0",
        "outputId": "e3ec5911-8c7f-4487-c58f-0125db30e8a7"
      },
      "execution_count": 6,
      "outputs": [
        {
          "output_type": "execute_result",
          "data": {
            "text/plain": [
              "Index(['Age-HTN', 'Age-Control(HTN)'], dtype='object')"
            ]
          },
          "metadata": {},
          "execution_count": 6
        }
      ]
    },
    {
      "cell_type": "code",
      "source": [
        "age_dataset = pd.concat([dm_control_age, htn_control_age], axis=1)\n",
        "age_dataset.columns"
      ],
      "metadata": {
        "colab": {
          "base_uri": "https://localhost:8080/"
        },
        "id": "AR5bkkxOtrGa",
        "outputId": "43aaff9a-9ac5-4b1e-d7da-b552ae063b79"
      },
      "execution_count": 7,
      "outputs": [
        {
          "output_type": "execute_result",
          "data": {
            "text/plain": [
              "Index(['Age-DM', 'Age-Control(DM)', 'Age-HTN', 'Age-Control(HTN)'], dtype='object')"
            ]
          },
          "metadata": {},
          "execution_count": 7
        }
      ]
    },
    {
      "cell_type": "code",
      "source": [
        "# prompt: barplot\n",
        "\n",
        "import matplotlib.pyplot as plt\n",
        "seaborn.barplot(data=age_dataset)\n",
        "plt.xticks(rotation=90)\n",
        "plt.show()\n"
      ],
      "metadata": {
        "colab": {
          "base_uri": "https://localhost:8080/",
          "height": 538
        },
        "id": "wIEjQsaovluQ",
        "outputId": "6263fc3e-519a-42ab-8c4b-92408fe0cafe"
      },
      "execution_count": 43,
      "outputs": [
        {
          "output_type": "display_data",
          "data": {
            "text/plain": [
              "<Figure size 640x480 with 1 Axes>"
            ],
            "image/png": "[encoded data removed]"
          },
          "metadata": {}
        }
      ]
    },
    {
      "cell_type": "code",
      "source": [
        "age_dataset.describe()"
      ],
      "metadata": {
        "colab": {
          "base_uri": "https://localhost:8080/",
          "height": 297
        },
        "id": "_-ZsUSl5wcP2",
        "outputId": "ea3f2e90-1747-4959-c8b7-572150c47536"
      },
      "execution_count": null,
      "outputs": [
        {
          "output_type": "execute_result",
          "data": {
            "text/plain": [
              "          Age-DM  Age-Control(DM)    Age-HTN  Age-Control(HTN)\n",
              "count  24.000000        30.000000  28.000000         30.000000\n",
              "mean   57.916667        61.133333  56.464286         62.100000\n",
              "std     5.740146         8.818997  11.334909         11.030835\n",
              "min    52.000000        49.000000  35.000000         42.000000\n",
              "25%    53.750000        55.250000  50.000000         57.250000\n",
              "50%    56.500000        59.000000  57.500000         61.000000\n",
              "75%    59.500000        66.500000  65.000000         71.500000\n",
              "max    69.000000        81.000000  74.000000         84.000000"
            ],
            "text/html": [
              "\n",
              "  <div id=\"df-59c3b7f5-e487-425e-90a1-7642da4d68f1\" class=\"colab-df-container\">\n",
              "    <div>\n",
              "<style scoped>\n",
              "    .dataframe tbody tr th:only-of-type {\n",
              "        vertical-align: middle;\n",
              "    }\n",
              "\n",
              "    .dataframe tbody tr th {\n",
              "        vertical-align: top;\n",
              "    }\n",
              "\n",
              "    .dataframe thead th {\n",
              "        text-align: right;\n",
              "    }\n",
              "</style>\n",
              "<table border=\"1\" class=\"dataframe\">\n",
              "  <thead>\n",
              "    <tr style=\"text-align: right;\">\n",
              "      <th></th>\n",
              "      <th>Age-DM</th>\n",
              "      <th>Age-Control(DM)</th>\n",
              "      <th>Age-HTN</th>\n",
              "      <th>Age-Control(HTN)</th>\n",
              "    </tr>\n",
              "  </thead>\n",
              "  <tbody>\n",
              "    <tr>\n",
              "      <th>count</th>\n",
              "      <td>24.000000</td>\n",
              "      <td>30.000000</td>\n",
              "      <td>28.000000</td>\n",
              "      <td>30.000000</td>\n",
              "    </tr>\n",
              "    <tr>\n",
              "      <th>mean</th>\n",
              "      <td>57.916667</td>\n",
              "      <td>61.133333</td>\n",
              "      <td>56.464286</td>\n",
              "      <td>62.100000</td>\n",
              "    </tr>\n",
              "    <tr>\n",
              "      <th>std</th>\n",
              "      <td>5.740146</td>\n",
              "      <td>8.818997</td>\n",
              "      <td>11.334909</td>\n",
              "      <td>11.030835</td>\n",
              "    </tr>\n",
              "    <tr>\n",
              "      <th>min</th>\n",
              "      <td>52.000000</td>\n",
              "      <td>49.000000</td>\n",
              "      <td>35.000000</td>\n",
              "      <td>42.000000</td>\n",
              "    </tr>\n",
              "    <tr>\n",
              "      <th>25%</th>\n",
              "      <td>53.750000</td>\n",
              "      <td>55.250000</td>\n",
              "      <td>50.000000</td>\n",
              "      <td>57.250000</td>\n",
              "    </tr>\n",
              "    <tr>\n",
              "      <th>50%</th>\n",
              "      <td>56.500000</td>\n",
              "      <td>59.000000</td>\n",
              "      <td>57.500000</td>\n",
              "      <td>61.000000</td>\n",
              "    </tr>\n",
              "    <tr>\n",
              "      <th>75%</th>\n",
              "      <td>59.500000</td>\n",
              "      <td>66.500000</td>\n",
              "      <td>65.000000</td>\n",
              "      <td>71.500000</td>\n",
              "    </tr>\n",
              "    <tr>\n",
              "      <th>max</th>\n",
              "      <td>69.000000</td>\n",
              "      <td>81.000000</td>\n",
              "      <td>74.000000</td>\n",
              "      <td>84.000000</td>\n",
              "    </tr>\n",
              "  </tbody>\n",
              "</table>\n",
              "</div>\n",
              "    <div class=\"colab-df-buttons\">\n",
              "\n",
              "  <div class=\"colab-df-container\">\n",
              "    <button class=\"colab-df-convert\" onclick=\"convertToInteractive('df-59c3b7f5-e487-425e-90a1-7642da4d68f1')\"\n",
              "            title=\"Convert this dataframe to an interactive table.\"\n",
              "            style=\"display:none;\">\n",
              "\n",
              "  <svg xmlns=\"http://www.w3.org/2000/svg\" height=\"24px\" viewBox=\"0 -960 960 960\">\n",
              "    <path d=\"M120-120v-720h720v720H120Zm60-500h600v-160H180v160Zm220 220h160v-160H400v160Zm0 220h160v-160H400v160ZM180-400h160v-160H180v160Zm440 0h160v-160H620v160ZM180-180h160v-160H180v160Zm440 0h160v-160H620v160Z\"/>\n",
              "  </svg>\n",
              "    </button>\n",
              "\n",
              "  <style>\n",
              "    .colab-df-container {\n",
              "      display:flex;\n",
              "      gap: 12px;\n",
              "    }\n",
              "\n",
              "    .colab-df-convert {\n",
              "      background-color: #E8F0FE;\n",
              "      border: none;\n",
              "      border-radius: 50%;\n",
              "      cursor: pointer;\n",
              "      display: none;\n",
              "      fill: #1967D2;\n",
              "      height: 32px;\n",
              "      padding: 0 0 0 0;\n",
              "      width: 32px;\n",
              "    }\n",
              "\n",
              "    .colab-df-convert:hover {\n",
              "      background-color: #E2EBFA;\n",
              "      box-shadow: 0px 1px 2px rgba(60, 64, 67, 0.3), 0px 1px 3px 1px rgba(60, 64, 67, 0.15);\n",
              "      fill: #174EA6;\n",
              "    }\n",
              "\n",
              "    .colab-df-buttons div {\n",
              "      margin-bottom: 4px;\n",
              "    }\n",
              "\n",
              "    [theme=dark] .colab-df-convert {\n",
              "      background-color: #3B4455;\n",
              "      fill: #D2E3FC;\n",
              "    }\n",
              "\n",
              "    [theme=dark] .colab-df-convert:hover {\n",
              "      background-color: #434B5C;\n",
              "      box-shadow: 0px 1px 3px 1px rgba(0, 0, 0, 0.15);\n",
              "      filter: drop-shadow(0px 1px 2px rgba(0, 0, 0, 0.3));\n",
              "      fill: #FFFFFF;\n",
              "    }\n",
              "  </style>\n",
              "\n",
              "    <script>\n",
              "      const buttonEl =\n",
              "        document.querySelector('#df-59c3b7f5-e487-425e-90a1-7642da4d68f1 button.colab-df-convert');\n",
              "      buttonEl.style.display =\n",
              "        google.colab.kernel.accessAllowed ? 'block' : 'none';\n",
              "\n",
              "      async function convertToInteractive(key) {\n",
              "        const element = document.querySelector('#df-59c3b7f5-e487-425e-90a1-7642da4d68f1');\n",
              "        const dataTable =\n",
              "          await google.colab.kernel.invokeFunction('convertToInteractive',\n",
              "                                                    [key], {});\n",
              "        if (!dataTable) return;\n",
              "\n",
              "        const docLinkHtml = 'Like what you see? Visit the ' +\n",
              "          '<a target=\"_blank\" href=https://colab.research.google.com/notebooks/data_table.ipynb>data table notebook</a>'\n",
              "          + ' to learn more about interactive tables.';\n",
              "        element.innerHTML = '';\n",
              "        dataTable['output_type'] = 'display_data';\n",
              "        await google.colab.output.renderOutput(dataTable, element);\n",
              "        const docLink = document.createElement('div');\n",
              "        docLink.innerHTML = docLinkHtml;\n",
              "        element.appendChild(docLink);\n",
              "      }\n",
              "    </script>\n",
              "  </div>\n",
              "\n",
              "\n",
              "<div id=\"df-906c278c-c7f5-4a60-ba25-3a9c6c0cc318\">\n",
              "  <button class=\"colab-df-quickchart\" onclick=\"quickchart('df-906c278c-c7f5-4a60-ba25-3a9c6c0cc318')\"\n",
              "            title=\"Suggest charts\"\n",
              "            style=\"display:none;\">\n",
              "\n",
              "<svg xmlns=\"http://www.w3.org/2000/svg\" height=\"24px\"viewBox=\"0 0 24 24\"\n",
              "     width=\"24px\">\n",
              "    <g>\n",
              "        <path d=\"M19 3H5c-1.1 0-2 .9-2 2v14c0 1.1.9 2 2 2h14c1.1 0 2-.9 2-2V5c0-1.1-.9-2-2-2zM9 17H7v-7h2v7zm4 0h-2V7h2v10zm4 0h-2v-4h2v4z\"/>\n",
              "    </g>\n",
              "</svg>\n",
              "  </button>\n",
              "\n",
              "<style>\n",
              "  .colab-df-quickchart {\n",
              "      --bg-color: #E8F0FE;\n",
              "      --fill-color: #1967D2;\n",
              "      --hover-bg-color: #E2EBFA;\n",
              "      --hover-fill-color: #174EA6;\n",
              "      --disabled-fill-color: #AAA;\n",
              "      --disabled-bg-color: #DDD;\n",
              "  }\n",
              "\n",
              "  [theme=dark] .colab-df-quickchart {\n",
              "      --bg-color: #3B4455;\n",
              "      --fill-color: #D2E3FC;\n",
              "      --hover-bg-color: #434B5C;\n",
              "      --hover-fill-color: #FFFFFF;\n",
              "      --disabled-bg-color: #3B4455;\n",
              "      --disabled-fill-color: #666;\n",
              "  }\n",
              "\n",
              "  .colab-df-quickchart {\n",
              "    background-color: var(--bg-color);\n",
              "    border: none;\n",
              "    border-radius: 50%;\n",
              "    cursor: pointer;\n",
              "    display: none;\n",
              "    fill: var(--fill-color);\n",
              "    height: 32px;\n",
              "    padding: 0;\n",
              "    width: 32px;\n",
              "  }\n",
              "\n",
              "  .colab-df-quickchart:hover {\n",
              "    background-color: var(--hover-bg-color);\n",
              "    box-shadow: 0 1px 2px rgba(60, 64, 67, 0.3), 0 1px 3px 1px rgba(60, 64, 67, 0.15);\n",
              "    fill: var(--button-hover-fill-color);\n",
              "  }\n",
              "\n",
              "  .colab-df-quickchart-complete:disabled,\n",
              "  .colab-df-quickchart-complete:disabled:hover {\n",
              "    background-color: var(--disabled-bg-color);\n",
              "    fill: var(--disabled-fill-color);\n",
              "    box-shadow: none;\n",
              "  }\n",
              "\n",
              "  .colab-df-spinner {\n",
              "    border: 2px solid var(--fill-color);\n",
              "    border-color: transparent;\n",
              "    border-bottom-color: var(--fill-color);\n",
              "    animation:\n",
              "      spin 1s steps(1) infinite;\n",
              "  }\n",
              "\n",
              "  @keyframes spin {\n",
              "    0% {\n",
              "      border-color: transparent;\n",
              "      border-bottom-color: var(--fill-color);\n",
              "      border-left-color: var(--fill-color);\n",
              "    }\n",
              "    20% {\n",
              "      border-color: transparent;\n",
              "      border-left-color: var(--fill-color);\n",
              "      border-top-color: var(--fill-color);\n",
              "    }\n",
              "    30% {\n",
              "      border-color: transparent;\n",
              "      border-left-color: var(--fill-color);\n",
              "      border-top-color: var(--fill-color);\n",
              "      border-right-color: var(--fill-color);\n",
              "    }\n",
              "    40% {\n",
              "      border-color: transparent;\n",
              "      border-right-color: var(--fill-color);\n",
              "      border-top-color: var(--fill-color);\n",
              "    }\n",
              "    60% {\n",
              "      border-color: transparent;\n",
              "      border-right-color: var(--fill-color);\n",
              "    }\n",
              "    80% {\n",
              "      border-color: transparent;\n",
              "      border-right-color: var(--fill-color);\n",
              "      border-bottom-color: var(--fill-color);\n",
              "    }\n",
              "    90% {\n",
              "      border-color: transparent;\n",
              "      border-bottom-color: var(--fill-color);\n",
              "    }\n",
              "  }\n",
              "</style>\n",
              "\n",
              "  <script>\n",
              "    async function quickchart(key) {\n",
              "      const quickchartButtonEl =\n",
              "        document.querySelector('#' + key + ' button');\n",
              "      quickchartButtonEl.disabled = true;  // To prevent multiple clicks.\n",
              "      quickchartButtonEl.classList.add('colab-df-spinner');\n",
              "      try {\n",
              "        const charts = await google.colab.kernel.invokeFunction(\n",
              "            'suggestCharts', [key], {});\n",
              "      } catch (error) {\n",
              "        console.error('Error during call to suggestCharts:', error);\n",
              "      }\n",
              "      quickchartButtonEl.classList.remove('colab-df-spinner');\n",
              "      quickchartButtonEl.classList.add('colab-df-quickchart-complete');\n",
              "    }\n",
              "    (() => {\n",
              "      let quickchartButtonEl =\n",
              "        document.querySelector('#df-906c278c-c7f5-4a60-ba25-3a9c6c0cc318 button');\n",
              "      quickchartButtonEl.style.display =\n",
              "        google.colab.kernel.accessAllowed ? 'block' : 'none';\n",
              "    })();\n",
              "  </script>\n",
              "</div>\n",
              "\n",
              "    </div>\n",
              "  </div>\n"
            ],
            "application/vnd.google.colaboratory.intrinsic+json": {
              "type": "dataframe",
              "summary": "{\n  \"name\": \"age_dataset\",\n  \"rows\": 8,\n  \"fields\": [\n    {\n      \"column\": \"Age-DM\",\n      \"properties\": {\n        \"dtype\": \"number\",\n        \"std\": 21.21619184612638,\n        \"min\": 5.740145935629061,\n        \"max\": 69.0,\n        \"num_unique_values\": 8,\n        \"samples\": [\n          57.916666666666664,\n          56.5,\n          24.0\n        ],\n        \"semantic_type\": \"\",\n        \"description\": \"\"\n      }\n    },\n    {\n      \"column\": \"Age-Control(DM)\",\n      \"properties\": {\n        \"dtype\": \"number\",\n        \"std\": 22.514506792932032,\n        \"min\": 8.81899725840065,\n        \"max\": 81.0,\n        \"num_unique_values\": 8,\n        \"samples\": [\n          61.13333333333333,\n          59.0,\n          30.0\n        ],\n        \"semantic_type\": \"\",\n        \"description\": \"\"\n      }\n    },\n    {\n      \"column\": \"Age-HTN\",\n      \"properties\": {\n        \"dtype\": \"number\",\n        \"std\": 20.834759562578025,\n        \"min\": 11.334908854073717,\n        \"max\": 74.0,\n        \"num_unique_values\": 8,\n        \"samples\": [\n          56.464285714285715,\n          57.5,\n          28.0\n        ],\n        \"semantic_type\": \"\",\n        \"description\": \"\"\n      }\n    },\n    {\n      \"column\": \"Age-Control(HTN)\",\n      \"properties\": {\n        \"dtype\": \"number\",\n        \"std\": 23.53191637716167,\n        \"min\": 11.03083452621911,\n        \"max\": 84.0,\n        \"num_unique_values\": 8,\n        \"samples\": [\n          62.1,\n          61.0,\n          30.0\n        ],\n        \"semantic_type\": \"\",\n        \"description\": \"\"\n      }\n    }\n  ]\n}"
            }
          },
          "metadata": {},
          "execution_count": 19
        }
      ]
    },
    {
      "cell_type": "code",
      "source": [
        "age_dataset.corr()"
      ],
      "metadata": {
        "colab": {
          "base_uri": "https://localhost:8080/",
          "height": 173
        },
        "id": "znks0zJXwcV5",
        "outputId": "84498498-7efc-44a8-a435-8d0780fa3786"
      },
      "execution_count": null,
      "outputs": [
        {
          "output_type": "execute_result",
          "data": {
            "text/plain": [
              "                    Age-DM  Age-Control(DM)   Age-HTN  Age-Control(HTN)\n",
              "Age-DM            1.000000         0.221437 -0.145157          0.476860\n",
              "Age-Control(DM)   0.221437         1.000000 -0.550009          0.235932\n",
              "Age-HTN          -0.145157        -0.550009  1.000000         -0.020705\n",
              "Age-Control(HTN)  0.476860         0.235932 -0.020705          1.000000"
            ],
            "text/html": [
              "\n",
              "  <div id=\"df-f1ecf00b-1f04-4202-9931-0db950278472\" class=\"colab-df-container\">\n",
              "    <div>\n",
              "<style scoped>\n",
              "    .dataframe tbody tr th:only-of-type {\n",
              "        vertical-align: middle;\n",
              "    }\n",
              "\n",
              "    .dataframe tbody tr th {\n",
              "        vertical-align: top;\n",
              "    }\n",
              "\n",
              "    .dataframe thead th {\n",
              "        text-align: right;\n",
              "    }\n",
              "</style>\n",
              "<table border=\"1\" class=\"dataframe\">\n",
              "  <thead>\n",
              "    <tr style=\"text-align: right;\">\n",
              "      <th></th>\n",
              "      <th>Age-DM</th>\n",
              "      <th>Age-Control(DM)</th>\n",
              "      <th>Age-HTN</th>\n",
              "      <th>Age-Control(HTN)</th>\n",
              "    </tr>\n",
              "  </thead>\n",
              "  <tbody>\n",
              "    <tr>\n",
              "      <th>Age-DM</th>\n",
              "      <td>1.000000</td>\n",
              "      <td>0.221437</td>\n",
              "      <td>-0.145157</td>\n",
              "      <td>0.476860</td>\n",
              "    </tr>\n",
              "    <tr>\n",
              "      <th>Age-Control(DM)</th>\n",
              "      <td>0.221437</td>\n",
              "      <td>1.000000</td>\n",
              "      <td>-0.550009</td>\n",
              "      <td>0.235932</td>\n",
              "    </tr>\n",
              "    <tr>\n",
              "      <th>Age-HTN</th>\n",
              "      <td>-0.145157</td>\n",
              "      <td>-0.550009</td>\n",
              "      <td>1.000000</td>\n",
              "      <td>-0.020705</td>\n",
              "    </tr>\n",
              "    <tr>\n",
              "      <th>Age-Control(HTN)</th>\n",
              "      <td>0.476860</td>\n",
              "      <td>0.235932</td>\n",
              "      <td>-0.020705</td>\n",
              "      <td>1.000000</td>\n",
              "    </tr>\n",
              "  </tbody>\n",
              "</table>\n",
              "</div>\n",
              "    <div class=\"colab-df-buttons\">\n",
              "\n",
              "  <div class=\"colab-df-container\">\n",
              "    <button class=\"colab-df-convert\" onclick=\"convertToInteractive('df-f1ecf00b-1f04-4202-9931-0db950278472')\"\n",
              "            title=\"Convert this dataframe to an interactive table.\"\n",
              "            style=\"display:none;\">\n",
              "\n",
              "  <svg xmlns=\"http://www.w3.org/2000/svg\" height=\"24px\" viewBox=\"0 -960 960 960\">\n",
              "    <path d=\"M120-120v-720h720v720H120Zm60-500h600v-160H180v160Zm220 220h160v-160H400v160Zm0 220h160v-160H400v160ZM180-400h160v-160H180v160Zm440 0h160v-160H620v160ZM180-180h160v-160H180v160Zm440 0h160v-160H620v160Z\"/>\n",
              "  </svg>\n",
              "    </button>\n",
              "\n",
              "  <style>\n",
              "    .colab-df-container {\n",
              "      display:flex;\n",
              "      gap: 12px;\n",
              "    }\n",
              "\n",
              "    .colab-df-convert {\n",
              "      background-color: #E8F0FE;\n",
              "      border: none;\n",
              "      border-radius: 50%;\n",
              "      cursor: pointer;\n",
              "      display: none;\n",
              "      fill: #1967D2;\n",
              "      height: 32px;\n",
              "      padding: 0 0 0 0;\n",
              "      width: 32px;\n",
              "    }\n",
              "\n",
              "    .colab-df-convert:hover {\n",
              "      background-color: #E2EBFA;\n",
              "      box-shadow: 0px 1px 2px rgba(60, 64, 67, 0.3), 0px 1px 3px 1px rgba(60, 64, 67, 0.15);\n",
              "      fill: #174EA6;\n",
              "    }\n",
              "\n",
              "    .colab-df-buttons div {\n",
              "      margin-bottom: 4px;\n",
              "    }\n",
              "\n",
              "    [theme=dark] .colab-df-convert {\n",
              "      background-color: #3B4455;\n",
              "      fill: #D2E3FC;\n",
              "    }\n",
              "\n",
              "    [theme=dark] .colab-df-convert:hover {\n",
              "      background-color: #434B5C;\n",
              "      box-shadow: 0px 1px 3px 1px rgba(0, 0, 0, 0.15);\n",
              "      filter: drop-shadow(0px 1px 2px rgba(0, 0, 0, 0.3));\n",
              "      fill: #FFFFFF;\n",
              "    }\n",
              "  </style>\n",
              "\n",
              "    <script>\n",
              "      const buttonEl =\n",
              "        document.querySelector('#df-f1ecf00b-1f04-4202-9931-0db950278472 button.colab-df-convert');\n",
              "      buttonEl.style.display =\n",
              "        google.colab.kernel.accessAllowed ? 'block' : 'none';\n",
              "\n",
              "      async function convertToInteractive(key) {\n",
              "        const element = document.querySelector('#df-f1ecf00b-1f04-4202-9931-0db950278472');\n",
              "        const dataTable =\n",
              "          await google.colab.kernel.invokeFunction('convertToInteractive',\n",
              "                                                    [key], {});\n",
              "        if (!dataTable) return;\n",
              "\n",
              "        const docLinkHtml = 'Like what you see? Visit the ' +\n",
              "          '<a target=\"_blank\" href=https://colab.research.google.com/notebooks/data_table.ipynb>data table notebook</a>'\n",
              "          + ' to learn more about interactive tables.';\n",
              "        element.innerHTML = '';\n",
              "        dataTable['output_type'] = 'display_data';\n",
              "        await google.colab.output.renderOutput(dataTable, element);\n",
              "        const docLink = document.createElement('div');\n",
              "        docLink.innerHTML = docLinkHtml;\n",
              "        element.appendChild(docLink);\n",
              "      }\n",
              "    </script>\n",
              "  </div>\n",
              "\n",
              "\n",
              "<div id=\"df-8f4ddcd6-1242-442c-9ec0-74582dd9d480\">\n",
              "  <button class=\"colab-df-quickchart\" onclick=\"quickchart('df-8f4ddcd6-1242-442c-9ec0-74582dd9d480')\"\n",
              "            title=\"Suggest charts\"\n",
              "            style=\"display:none;\">\n",
              "\n",
              "<svg xmlns=\"http://www.w3.org/2000/svg\" height=\"24px\"viewBox=\"0 0 24 24\"\n",
              "     width=\"24px\">\n",
              "    <g>\n",
              "        <path d=\"M19 3H5c-1.1 0-2 .9-2 2v14c0 1.1.9 2 2 2h14c1.1 0 2-.9 2-2V5c0-1.1-.9-2-2-2zM9 17H7v-7h2v7zm4 0h-2V7h2v10zm4 0h-2v-4h2v4z\"/>\n",
              "    </g>\n",
              "</svg>\n",
              "  </button>\n",
              "\n",
              "<style>\n",
              "  .colab-df-quickchart {\n",
              "      --bg-color: #E8F0FE;\n",
              "      --fill-color: #1967D2;\n",
              "      --hover-bg-color: #E2EBFA;\n",
              "      --hover-fill-color: #174EA6;\n",
              "      --disabled-fill-color: #AAA;\n",
              "      --disabled-bg-color: #DDD;\n",
              "  }\n",
              "\n",
              "  [theme=dark] .colab-df-quickchart {\n",
              "      --bg-color: #3B4455;\n",
              "      --fill-color: #D2E3FC;\n",
              "      --hover-bg-color: #434B5C;\n",
              "      --hover-fill-color: #FFFFFF;\n",
              "      --disabled-bg-color: #3B4455;\n",
              "      --disabled-fill-color: #666;\n",
              "  }\n",
              "\n",
              "  .colab-df-quickchart {\n",
              "    background-color: var(--bg-color);\n",
              "    border: none;\n",
              "    border-radius: 50%;\n",
              "    cursor: pointer;\n",
              "    display: none;\n",
              "    fill: var(--fill-color);\n",
              "    height: 32px;\n",
              "    padding: 0;\n",
              "    width: 32px;\n",
              "  }\n",
              "\n",
              "  .colab-df-quickchart:hover {\n",
              "    background-color: var(--hover-bg-color);\n",
              "    box-shadow: 0 1px 2px rgba(60, 64, 67, 0.3), 0 1px 3px 1px rgba(60, 64, 67, 0.15);\n",
              "    fill: var(--button-hover-fill-color);\n",
              "  }\n",
              "\n",
              "  .colab-df-quickchart-complete:disabled,\n",
              "  .colab-df-quickchart-complete:disabled:hover {\n",
              "    background-color: var(--disabled-bg-color);\n",
              "    fill: var(--disabled-fill-color);\n",
              "    box-shadow: none;\n",
              "  }\n",
              "\n",
              "  .colab-df-spinner {\n",
              "    border: 2px solid var(--fill-color);\n",
              "    border-color: transparent;\n",
              "    border-bottom-color: var(--fill-color);\n",
              "    animation:\n",
              "      spin 1s steps(1) infinite;\n",
              "  }\n",
              "\n",
              "  @keyframes spin {\n",
              "    0% {\n",
              "      border-color: transparent;\n",
              "      border-bottom-color: var(--fill-color);\n",
              "      border-left-color: var(--fill-color);\n",
              "    }\n",
              "    20% {\n",
              "      border-color: transparent;\n",
              "      border-left-color: var(--fill-color);\n",
              "      border-top-color: var(--fill-color);\n",
              "    }\n",
              "    30% {\n",
              "      border-color: transparent;\n",
              "      border-left-color: var(--fill-color);\n",
              "      border-top-color: var(--fill-color);\n",
              "      border-right-color: var(--fill-color);\n",
              "    }\n",
              "    40% {\n",
              "      border-color: transparent;\n",
              "      border-right-color: var(--fill-color);\n",
              "      border-top-color: var(--fill-color);\n",
              "    }\n",
              "    60% {\n",
              "      border-color: transparent;\n",
              "      border-right-color: var(--fill-color);\n",
              "    }\n",
              "    80% {\n",
              "      border-color: transparent;\n",
              "      border-right-color: var(--fill-color);\n",
              "      border-bottom-color: var(--fill-color);\n",
              "    }\n",
              "    90% {\n",
              "      border-color: transparent;\n",
              "      border-bottom-color: var(--fill-color);\n",
              "    }\n",
              "  }\n",
              "</style>\n",
              "\n",
              "  <script>\n",
              "    async function quickchart(key) {\n",
              "      const quickchartButtonEl =\n",
              "        document.querySelector('#' + key + ' button');\n",
              "      quickchartButtonEl.disabled = true;  // To prevent multiple clicks.\n",
              "      quickchartButtonEl.classList.add('colab-df-spinner');\n",
              "      try {\n",
              "        const charts = await google.colab.kernel.invokeFunction(\n",
              "            'suggestCharts', [key], {});\n",
              "      } catch (error) {\n",
              "        console.error('Error during call to suggestCharts:', error);\n",
              "      }\n",
              "      quickchartButtonEl.classList.remove('colab-df-spinner');\n",
              "      quickchartButtonEl.classList.add('colab-df-quickchart-complete');\n",
              "    }\n",
              "    (() => {\n",
              "      let quickchartButtonEl =\n",
              "        document.querySelector('#df-8f4ddcd6-1242-442c-9ec0-74582dd9d480 button');\n",
              "      quickchartButtonEl.style.display =\n",
              "        google.colab.kernel.accessAllowed ? 'block' : 'none';\n",
              "    })();\n",
              "  </script>\n",
              "</div>\n",
              "\n",
              "    </div>\n",
              "  </div>\n"
            ],
            "application/vnd.google.colaboratory.intrinsic+json": {
              "type": "dataframe",
              "summary": "{\n  \"name\": \"age_dataset\",\n  \"rows\": 4,\n  \"fields\": [\n    {\n      \"column\": \"Age-DM\",\n      \"properties\": {\n        \"dtype\": \"number\",\n        \"std\": 0.4811236642084545,\n        \"min\": -0.14515740355569604,\n        \"max\": 1.0,\n        \"num_unique_values\": 4,\n        \"samples\": [\n          0.22143687326557687,\n          0.47686041562447257,\n          1.0\n        ],\n        \"semantic_type\": \"\",\n        \"description\": \"\"\n      }\n    },\n    {\n      \"column\": \"Age-Control(DM)\",\n      \"properties\": {\n        \"dtype\": \"number\",\n        \"std\": 0.6328196024552217,\n        \"min\": -0.5500085664094275,\n        \"max\": 1.0,\n        \"num_unique_values\": 4,\n        \"samples\": [\n          1.0,\n          0.23593248283032447,\n          0.22143687326557687\n        ],\n        \"semantic_type\": \"\",\n        \"description\": \"\"\n      }\n    },\n    {\n      \"column\": \"Age-HTN\",\n      \"properties\": {\n        \"dtype\": \"number\",\n        \"std\": 0.6592486698625845,\n        \"min\": -0.5500085664094275,\n        \"max\": 1.0,\n        \"num_unique_values\": 4,\n        \"samples\": [\n          -0.5500085664094275,\n          -0.020704785354826564,\n          -0.14515740355569604\n        ],\n        \"semantic_type\": \"\",\n        \"description\": \"\"\n      }\n    },\n    {\n      \"column\": \"Age-Control(HTN)\",\n      \"properties\": {\n        \"dtype\": \"number\",\n        \"std\": 0.43500886387791415,\n        \"min\": -0.020704785354826564,\n        \"max\": 1.0,\n        \"num_unique_values\": 4,\n        \"samples\": [\n          0.23593248283032447,\n          1.0,\n          0.47686041562447257\n        ],\n        \"semantic_type\": \"\",\n        \"description\": \"\"\n      }\n    }\n  ]\n}"
            }
          },
          "metadata": {},
          "execution_count": 20
        }
      ]
    },
    {
      "cell_type": "code",
      "source": [
        "seaborn.heatmap(age_dataset.corr(), annot=True)"
      ],
      "metadata": {
        "colab": {
          "base_uri": "https://localhost:8080/",
          "height": 453
        },
        "id": "PVZqySjawccp",
        "outputId": "9c9aa2e2-5037-499f-c3b0-76c4a55b1c30"
      },
      "execution_count": null,
      "outputs": [
        {
          "output_type": "execute_result",
          "data": {
            "text/plain": [
              "<Axes: >"
            ]
          },
          "metadata": {},
          "execution_count": 22
        },
        {
          "output_type": "display_data",
          "data": {
            "text/plain": [
              "<Figure size 640x480 with 2 Axes>"
            ],
            "image/png": "[encoded data removed]"
          },
          "metadata": {}
        }
      ]
    },
    {
      "cell_type": "code",
      "source": [
        "age_dataset.boxplot()"
      ],
      "metadata": {
        "colab": {
          "base_uri": "https://localhost:8080/",
          "height": 448
        },
        "id": "3IQZBnkAwcjx",
        "outputId": "f20cdc05-eb13-4be6-b707-47a05f3f7baa"
      },
      "execution_count": null,
      "outputs": [
        {
          "output_type": "execute_result",
          "data": {
            "text/plain": [
              "<Axes: >"
            ]
          },
          "metadata": {},
          "execution_count": 24
        },
        {
          "output_type": "display_data",
          "data": {
            "text/plain": [
              "<Figure size 640x480 with 1 Axes>"
            ],
            "image/png": "[encoded data removed]"
          },
          "metadata": {}
        }
      ]
    },
    {
      "cell_type": "code",
      "source": [
        "seaborn.boxplot(age_dataset)"
      ],
      "metadata": {
        "colab": {
          "base_uri": "https://localhost:8080/",
          "height": 448
        },
        "id": "qpCd19UYwc6h",
        "outputId": "4d5e95d9-096e-4779-a324-f75c9c1e51f5"
      },
      "execution_count": null,
      "outputs": [
        {
          "output_type": "execute_result",
          "data": {
            "text/plain": [
              "<Axes: >"
            ]
          },
          "metadata": {},
          "execution_count": 25
        },
        {
          "output_type": "display_data",
          "data": {
            "text/plain": [
              "<Figure size 640x480 with 1 Axes>"
            ],
            "image/png": "[encoded data removed]"
          },
          "metadata": {}
        }
      ]
    },
    {
      "cell_type": "code",
      "source": [
        "age_dataset.hist()"
      ],
      "metadata": {
        "colab": {
          "base_uri": "https://localhost:8080/",
          "height": 524
        },
        "id": "_WioZl9pwdBn",
        "outputId": "5b22713a-40dd-4972-ed5f-c353da0bbe8e"
      },
      "execution_count": null,
      "outputs": [
        {
          "output_type": "execute_result",
          "data": {
            "text/plain": [
              "array([[<Axes: title={'center': 'Age-DM'}>,\n",
              "        <Axes: title={'center': 'Age-Control(DM)'}>],\n",
              "       [<Axes: title={'center': 'Age-HTN'}>,\n",
              "        <Axes: title={'center': 'Age-Control(HTN)'}>]], dtype=object)"
            ]
          },
          "metadata": {},
          "execution_count": 26
        },
        {
          "output_type": "display_data",
          "data": {
            "text/plain": [
              "<Figure size 640x480 with 4 Axes>"
            ],
            "image/png": "[encoded data removed]"
          },
          "metadata": {}
        }
      ]
    },
    {
      "cell_type": "code",
      "source": [
        "seaborn.pairplot(age_dataset)"
      ],
      "metadata": {
        "colab": {
          "base_uri": "https://localhost:8080/",
          "height": 726
        },
        "id": "AP3SphZByFjm",
        "outputId": "871edaed-c57f-47d5-cc3e-f9012f9886a6"
      },
      "execution_count": null,
      "outputs": [
        {
          "output_type": "execute_result",
          "data": {
            "text/plain": [
              "<seaborn.axisgrid.PairGrid at 0x7af1702cfd30>"
            ]
          },
          "metadata": {},
          "execution_count": 27
        },
        {
          "output_type": "display_data",
          "data": {
            "text/plain": [
              "<Figure size 1000x1000 with 20 Axes>"
            ],
            "image/png": "[encoded data removed]"
          },
          "metadata": {}
        }
      ]
    },
    {
      "cell_type": "code",
      "source": [
        "main_data.sheet_names"
      ],
      "metadata": {
        "colab": {
          "base_uri": "https://localhost:8080/"
        },
        "id": "C6yYKpmoSuP5",
        "outputId": "3d7a9375-257b-4043-b85f-df8a3ff7c013"
      },
      "execution_count": null,
      "outputs": [
        {
          "output_type": "execute_result",
          "data": {
            "text/plain": [
              "['Patient-control demo (CKD-DM)',\n",
              " 'Patient-control demo (CKD-HTN)',\n",
              " 'Pre+post HD-VA,IOP,CCT-DM',\n",
              " 'Pre+post HD-VA,IOP,CCT-HTN',\n",
              " 'Pre+post HD-RNFL-DM',\n",
              " 'Pre+post HD-CMT-DM',\n",
              " 'Pre+post HD-VFA-DM']"
            ]
          },
          "metadata": {},
          "execution_count": 10
        }
      ]
    },
    {
      "cell_type": "code",
      "source": [
        "dm_control_gender = dm_patients.drop(['Age-DM', 'RE-DM', 'LE-DM', 'Age-Control(DM)',\n",
        "                                      'RE-Control(DM)','LE-Control(DM)'], axis=1)\n",
        "dm_control_gender.columns\n"
      ],
      "metadata": {
        "colab": {
          "base_uri": "https://localhost:8080/"
        },
        "id": "RfyvsRVWTXo4",
        "outputId": "8ba018aa-340c-4e2b-b637-520cd5d428b8"
      },
      "execution_count": 8,
      "outputs": [
        {
          "output_type": "execute_result",
          "data": {
            "text/plain": [
              "Index(['Males-DM', 'Females-DM', 'Males-Control(DM)', 'Females-Control(DM)'], dtype='object')"
            ]
          },
          "metadata": {},
          "execution_count": 8
        }
      ]
    },
    {
      "cell_type": "code",
      "source": [
        "# prompt: Value counts\n",
        "\n",
        "dm_control_gender['Males-DM'].value_counts(),dm_control_gender['Females-DM'].value_counts(),dm_control_gender['Males-Control(DM)'].value_counts(),dm_control_gender['Females-Control(DM)'].value_counts()\n"
      ],
      "metadata": {
        "colab": {
          "base_uri": "https://localhost:8080/"
        },
        "id": "UxxoQRsOVwt2",
        "outputId": "40cf8f1f-0cf9-4669-b655-b222a794d1e2"
      },
      "execution_count": 9,
      "outputs": [
        {
          "output_type": "execute_result",
          "data": {
            "text/plain": [
              "(Males-DM\n",
              " 1.0    14\n",
              " 0.0    10\n",
              " Name: count, dtype: int64,\n",
              " Females-DM\n",
              " 0.0    14\n",
              " 1.0    10\n",
              " Name: count, dtype: int64,\n",
              " Males-Control(DM)\n",
              " 1    20\n",
              " 0    10\n",
              " Name: count, dtype: int64,\n",
              " Females-Control(DM)\n",
              " 0    20\n",
              " 1    10\n",
              " Name: count, dtype: int64)"
            ]
          },
          "metadata": {},
          "execution_count": 9
        }
      ]
    },
    {
      "cell_type": "code",
      "source": [
        "import scipy.stats as stats\n",
        "\n",
        "# Define the contingency table\n",
        "data = [[14, 20], [10, 20]]\n",
        "\n",
        "# Perform the chi-square test\n",
        "chi2, p, dof, expected = stats.chi2_contingency(data)\n",
        "\n",
        "# Print the results\n",
        "print(f\"Chi2 statistic: {chi2}\")\n",
        "print(f\"P-value: {p}\")\n",
        "print(f\"Degrees of freedom: {dof}\")\n",
        "print(\"Expected frequencies:\")\n",
        "print(expected)\n"
      ],
      "metadata": {
        "colab": {
          "base_uri": "https://localhost:8080/"
        },
        "id": "paJIyrFWVw63",
        "outputId": "b547b223-46ae-4076-eb50-15fc32de7e38"
      },
      "execution_count": 10,
      "outputs": [
        {
          "output_type": "stream",
          "name": "stdout",
          "text": [
            "Chi2 statistic: 0.15058823529411763\n",
            "P-value: 0.6979738522659524\n",
            "Degrees of freedom: 1\n",
            "Expected frequencies:\n",
            "[[12.75 21.25]\n",
            " [11.25 18.75]]\n"
          ]
        }
      ]
    },
    {
      "cell_type": "code",
      "source": [
        "htn_control_gender = htn_patients.drop(['Age-HTN', 'RE-HTN', 'LE-HTN',\n",
        "       'Age-Control(HTN)', 'RE-Control(HTN)',\n",
        "       'LE-Control(HTN)'], axis=1)\n",
        "htn_control_gender.columns"
      ],
      "metadata": {
        "id": "coLIMOhpVxGl",
        "colab": {
          "base_uri": "https://localhost:8080/"
        },
        "outputId": "dbb6aa95-4b13-407d-bfa6-0e061a2d34d5"
      },
      "execution_count": 17,
      "outputs": [
        {
          "output_type": "execute_result",
          "data": {
            "text/plain": [
              "Index(['Males-HTN', 'Females-HTN', 'Males-Control(HTN)',\n",
              "       'Females-Control(HTN)'],\n",
              "      dtype='object')"
            ]
          },
          "metadata": {},
          "execution_count": 17
        }
      ]
    },
    {
      "cell_type": "code",
      "source": [
        "dm_patients.columns"
      ],
      "metadata": {
        "colab": {
          "base_uri": "https://localhost:8080/"
        },
        "id": "-69EmP0vTXuk",
        "outputId": "620ab502-4618-4842-e0ec-e6feb455aaae"
      },
      "execution_count": 11,
      "outputs": [
        {
          "output_type": "execute_result",
          "data": {
            "text/plain": [
              "Index(['Age-DM', 'Males-DM', 'Females-DM', 'RE-DM', 'LE-DM', 'Age-Control(DM)',\n",
              "       'Males-Control(DM)', 'Females-Control(DM)', 'RE-Control(DM)',\n",
              "       'LE-Control(DM)'],\n",
              "      dtype='object')"
            ]
          },
          "metadata": {},
          "execution_count": 11
        }
      ]
    },
    {
      "cell_type": "code",
      "source": [
        "htn_patients.columns"
      ],
      "metadata": {
        "id": "i5dXRKhOTYOp",
        "colab": {
          "base_uri": "https://localhost:8080/"
        },
        "outputId": "a2489b59-0904-4b13-e060-d1adc37be11d"
      },
      "execution_count": 12,
      "outputs": [
        {
          "output_type": "execute_result",
          "data": {
            "text/plain": [
              "Index(['Age-HTN', 'Males-HTN', 'Females-HTN', 'RE-HTN', 'LE-HTN',\n",
              "       'Age-Control(HTN)', 'Males-Control(HTN)', 'Females-Control(HTN)',\n",
              "       'RE-Control(HTN)', 'LE-Control(HTN)'],\n",
              "      dtype='object')"
            ]
          },
          "metadata": {},
          "execution_count": 12
        }
      ]
    },
    {
      "cell_type": "code",
      "source": [
        "# prompt: Value counts\n",
        "\n",
        "htn_control_gender['Males-HTN'].value_counts(),htn_control_gender['Females-HTN'].value_counts(),htn_control_gender['Males-Control(HTN)'].value_counts(),htn_control_gender['Females-Control(HTN)'].value_counts()\n"
      ],
      "metadata": {
        "id": "JI5L1F-rTYcA",
        "colab": {
          "base_uri": "https://localhost:8080/"
        },
        "outputId": "24802503-ad1e-44a6-a59d-5a29698f19a6"
      },
      "execution_count": 18,
      "outputs": [
        {
          "output_type": "execute_result",
          "data": {
            "text/plain": [
              "(Males-HTN\n",
              " 0.0    15\n",
              " 1.0    13\n",
              " Name: count, dtype: int64,\n",
              " Females-HTN\n",
              " 1.0    15\n",
              " 0.0    13\n",
              " Name: count, dtype: int64,\n",
              " Males-Control(HTN)\n",
              " 1    17\n",
              " 0    13\n",
              " Name: count, dtype: int64,\n",
              " Females-Control(HTN)\n",
              " 0    17\n",
              " 1    13\n",
              " Name: count, dtype: int64)"
            ]
          },
          "metadata": {},
          "execution_count": 18
        }
      ]
    },
    {
      "cell_type": "code",
      "source": [
        "import scipy.stats as stats\n",
        "\n",
        "# Define the contingency table\n",
        "data = [[13, 17], [15, 13]]\n",
        "\n",
        "# Perform the chi-square test\n",
        "chi2, p, dof, expected = stats.chi2_contingency(data)\n",
        "\n",
        "# Print the results\n",
        "print(f\"Chi2 statistic: {chi2}\")\n",
        "print(f\"P-value: {p}\")\n",
        "print(f\"Degrees of freedom: {dof}\")\n",
        "print(\"Expected frequencies:\")\n",
        "print(expected)\n"
      ],
      "metadata": {
        "id": "A0lau8Y9TYhn",
        "colab": {
          "base_uri": "https://localhost:8080/"
        },
        "outputId": "a4e88326-a312-4b89-d61c-35f129f81d52"
      },
      "execution_count": 19,
      "outputs": [
        {
          "output_type": "stream",
          "name": "stdout",
          "text": [
            "Chi2 statistic: 0.267066326530612\n",
            "P-value: 0.6053065289578156\n",
            "Degrees of freedom: 1\n",
            "Expected frequencies:\n",
            "[[14.48275862 15.51724138]\n",
            " [13.51724138 14.48275862]]\n"
          ]
        }
      ]
    },
    {
      "cell_type": "code",
      "source": [
        "chi_test_gender = pd.concat([dm_control_gender, htn_control_gender], axis=1)\n",
        "chi_test_gender.columns\n",
        "\n"
      ],
      "metadata": {
        "id": "dAZ5IuzFSuWW",
        "colab": {
          "base_uri": "https://localhost:8080/"
        },
        "outputId": "b87463d1-9738-4b47-9ded-9b281402809c"
      },
      "execution_count": 24,
      "outputs": [
        {
          "output_type": "execute_result",
          "data": {
            "text/plain": [
              "Index(['Males-DM', 'Females-DM', 'Males-Control(DM)', 'Females-Control(DM)',\n",
              "       'Males-HTN', 'Females-HTN', 'Males-Control(HTN)',\n",
              "       'Females-Control(HTN)'],\n",
              "      dtype='object')"
            ]
          },
          "metadata": {},
          "execution_count": 24
        }
      ]
    },
    {
      "cell_type": "code",
      "source": [
        "# prompt: barplot\n",
        "\n",
        "import matplotlib.pyplot as plt\n",
        "plt.figure(figsize=(10, 6))\n",
        "seaborn.barplot(data=chi_test_gender)\n",
        "plt.xticks(rotation=90)\n",
        "plt.show()\n"
      ],
      "metadata": {
        "colab": {
          "base_uri": "https://localhost:8080/",
          "height": 556
        },
        "id": "dl_Tpyt4wrJ_",
        "outputId": "8a96cc19-e33f-47b2-f93b-fbe083e07188"
      },
      "execution_count": 41,
      "outputs": [
        {
          "output_type": "display_data",
          "data": {
            "text/plain": [
              "<Figure size 1000x600 with 1 Axes>"
            ],
            "image/png": "[encoded data removed]"
          },
          "metadata": {}
        }
      ]
    },
    {
      "cell_type": "code",
      "source": [
        "# prompt: Value counts\n",
        "\n",
        "chi_test_gender['Males-DM'].value_counts(), chi_test_gender['Females-DM'].value_counts(), chi_test_gender['Males-Control(DM)'].value_counts(), chi_test_gender['Females-Control(DM)'].value_counts(), chi_test_gender['Males-HTN'].value_counts(), chi_test_gender['Females-HTN'].value_counts(), chi_test_gender['Males-Control(HTN)'].value_counts(), chi_test_gender['Females-Control(HTN)'].value_counts()\n"
      ],
      "metadata": {
        "id": "BBorHppISutw",
        "colab": {
          "base_uri": "https://localhost:8080/"
        },
        "outputId": "cbe99550-f77a-43ef-9425-2ded1b151795"
      },
      "execution_count": 25,
      "outputs": [
        {
          "output_type": "execute_result",
          "data": {
            "text/plain": [
              "(Males-DM\n",
              " 1.0    14\n",
              " 0.0    10\n",
              " Name: count, dtype: int64,\n",
              " Females-DM\n",
              " 0.0    14\n",
              " 1.0    10\n",
              " Name: count, dtype: int64,\n",
              " Males-Control(DM)\n",
              " 1    20\n",
              " 0    10\n",
              " Name: count, dtype: int64,\n",
              " Females-Control(DM)\n",
              " 0    20\n",
              " 1    10\n",
              " Name: count, dtype: int64,\n",
              " Males-HTN\n",
              " 0.0    15\n",
              " 1.0    13\n",
              " Name: count, dtype: int64,\n",
              " Females-HTN\n",
              " 1.0    15\n",
              " 0.0    13\n",
              " Name: count, dtype: int64,\n",
              " Males-Control(HTN)\n",
              " 1    17\n",
              " 0    13\n",
              " Name: count, dtype: int64,\n",
              " Females-Control(HTN)\n",
              " 0    17\n",
              " 1    13\n",
              " Name: count, dtype: int64)"
            ]
          },
          "metadata": {},
          "execution_count": 25
        }
      ]
    },
    {
      "cell_type": "code",
      "source": [
        "import scipy.stats as stats\n",
        "\n",
        "# Define the contingency table\n",
        "data = [[14, 13, 20, 17],\n",
        "        [10, 15, 10, 13]]\n",
        "\n",
        "# Perform the chi-square test\n",
        "chi2, p, dof, expected = stats.chi2_contingency(data)\n",
        "\n",
        "# Print the results\n",
        "print(f\"Chi2 statistic: {chi2}\")\n",
        "print(f\"P-value: {p}\")\n",
        "print(f\"Degrees of freedom: {dof}\")\n",
        "print(\"Expected frequencies:\")\n",
        "print(expected)\n"
      ],
      "metadata": {
        "colab": {
          "base_uri": "https://localhost:8080/"
        },
        "id": "4V5Ahp_xquqX",
        "outputId": "5d7a3204-9424-4c66-870d-97b338e2c3ad"
      },
      "execution_count": 29,
      "outputs": [
        {
          "output_type": "stream",
          "name": "stdout",
          "text": [
            "Chi2 statistic: 2.440277777777778\n",
            "P-value: 0.4861809683325261\n",
            "Degrees of freedom: 3\n",
            "Expected frequencies:\n",
            "[[13.71428571 16.         17.14285714 17.14285714]\n",
            " [10.28571429 12.         12.85714286 12.85714286]]\n"
          ]
        }
      ]
    },
    {
      "cell_type": "code",
      "source": [
        "laterality_dm_data = dm_patients.drop(['Age-DM', 'Males-DM', 'Females-DM', 'Age-Control(DM)',\n",
        "       'Males-Control(DM)', 'Females-Control(DM)'], axis=1)\n",
        "laterality_dm_data.columns"
      ],
      "metadata": {
        "colab": {
          "base_uri": "https://localhost:8080/"
        },
        "id": "QhHMk4KxqvFo",
        "outputId": "409ae519-dd5c-4032-b55c-af8f3e1f5249"
      },
      "execution_count": 46,
      "outputs": [
        {
          "output_type": "execute_result",
          "data": {
            "text/plain": [
              "Index(['RE-DM', 'LE-DM', 'RE-Control(DM)', 'LE-Control(DM)'], dtype='object')"
            ]
          },
          "metadata": {},
          "execution_count": 46
        }
      ]
    },
    {
      "cell_type": "code",
      "source": [
        "laterality_htn_data = htn_patients.drop(['Age-HTN', 'Males-HTN', 'Females-HTN',\n",
        "       'Age-Control(HTN)', 'Males-Control(HTN)', 'Females-Control(HTN)'], axis=1)\n",
        "laterality_htn_data.columns\n"
      ],
      "metadata": {
        "colab": {
          "base_uri": "https://localhost:8080/"
        },
        "id": "vA0jx1TMyZka",
        "outputId": "42d49b42-80ce-4108-8a91-a072797d88aa"
      },
      "execution_count": 50,
      "outputs": [
        {
          "output_type": "execute_result",
          "data": {
            "text/plain": [
              "Index(['RE-HTN', 'LE-HTN', 'RE-Control(HTN)', 'LE-Control(HTN)'], dtype='object')"
            ]
          },
          "metadata": {},
          "execution_count": 50
        }
      ]
    },
    {
      "cell_type": "code",
      "source": [
        "laterality_dataset = pd.concat([laterality_dm_data, laterality_htn_data], axis=1)\n",
        "laterality_dataset.columns\n",
        "\n"
      ],
      "metadata": {
        "colab": {
          "base_uri": "https://localhost:8080/"
        },
        "id": "5uhnDjGpyZ3y",
        "outputId": "006655ca-dde2-46fa-fccd-93c7754972d0"
      },
      "execution_count": 53,
      "outputs": [
        {
          "output_type": "execute_result",
          "data": {
            "text/plain": [
              "Index(['RE-DM', 'LE-DM', 'RE-Control(DM)', 'LE-Control(DM)', 'RE-HTN',\n",
              "       'LE-HTN', 'RE-Control(HTN)', 'LE-Control(HTN)'],\n",
              "      dtype='object')"
            ]
          },
          "metadata": {},
          "execution_count": 53
        }
      ]
    },
    {
      "cell_type": "code",
      "source": [
        "# prompt: barplot\n",
        "\n",
        "import matplotlib.pyplot as plt\n",
        "plt.figure(figsize=(10, 6))\n",
        "seaborn.barplot(data=laterality_dataset)\n",
        "plt.xticks(rotation=90)\n",
        "plt.show()\n"
      ],
      "metadata": {
        "colab": {
          "base_uri": "https://localhost:8080/",
          "height": 523
        },
        "id": "fKLcldtcz9gN",
        "outputId": "5bd1cb79-e3be-439a-dcde-5d92e8b4d3f2"
      },
      "execution_count": 56,
      "outputs": [
        {
          "output_type": "display_data",
          "data": {
            "text/plain": [
              "<Figure size 1000x600 with 1 Axes>"
            ],
            "image/png": "[encoded data removed]"
          },
          "metadata": {}
        }
      ]
    },
    {
      "cell_type": "code",
      "source": [
        "# prompt: Value counts\n",
        "\n",
        "laterality_dataset['RE-DM'].value_counts(), laterality_dataset['LE-DM'].value_counts(), laterality_dataset['RE-Control(DM)'].value_counts(), laterality_dataset['LE-Control(DM)'].value_counts(), laterality_dataset['RE-HTN'].value_counts(), laterality_dataset['LE-HTN'].value_counts(), laterality_dataset['RE-Control(HTN)'].value_counts(), laterality_dataset['LE-Control(HTN)'].value_counts()\n"
      ],
      "metadata": {
        "colab": {
          "base_uri": "https://localhost:8080/"
        },
        "id": "v9kZyApx0Xwl",
        "outputId": "ca1fbcb4-6c13-47b1-cec7-d4de4e065b68"
      },
      "execution_count": 57,
      "outputs": [
        {
          "output_type": "execute_result",
          "data": {
            "text/plain": [
              "(RE-DM\n",
              " 1.0    12\n",
              " 0.0    12\n",
              " Name: count, dtype: int64,\n",
              " LE-DM\n",
              " 0.0    12\n",
              " 1.0    12\n",
              " Name: count, dtype: int64,\n",
              " RE-Control(DM)\n",
              " 1    17\n",
              " 0    13\n",
              " Name: count, dtype: int64,\n",
              " LE-Control(DM)\n",
              " 0    17\n",
              " 1    13\n",
              " Name: count, dtype: int64,\n",
              " RE-HTN\n",
              " 1.0    15\n",
              " 0.0    13\n",
              " Name: count, dtype: int64,\n",
              " LE-HTN\n",
              " 0.0    15\n",
              " 1.0    13\n",
              " Name: count, dtype: int64,\n",
              " RE-Control(HTN)\n",
              " 1    16\n",
              " 0    14\n",
              " Name: count, dtype: int64,\n",
              " LE-Control(HTN)\n",
              " 0    16\n",
              " 1    14\n",
              " Name: count, dtype: int64)"
            ]
          },
          "metadata": {},
          "execution_count": 57
        }
      ]
    },
    {
      "cell_type": "code",
      "source": [
        "import scipy.stats as stats\n",
        "\n",
        "# Define the contingency table\n",
        "data = [[12, 17, 15, 16],\n",
        "        [12, 13, 13, 14]]\n",
        "\n",
        "# Perform the chi-square test\n",
        "chi2, p, dof, expected = stats.chi2_contingency(data)\n",
        "\n",
        "# Print the results\n",
        "print(f\"Chi2 statistic: {chi2}\")\n",
        "print(f\"P-value: {p}\")\n",
        "print(f\"Degrees of freedom: {dof}\")\n",
        "print(\"Expected frequencies:\")\n",
        "print(expected)"
      ],
      "metadata": {
        "colab": {
          "base_uri": "https://localhost:8080/"
        },
        "id": "w5OwedNz0Y-E",
        "outputId": "317be0b8-9cf7-4a93-d857-0e543e439d7d"
      },
      "execution_count": 58,
      "outputs": [
        {
          "output_type": "stream",
          "name": "stdout",
          "text": [
            "Chi2 statistic: 0.2393162393162393\n",
            "P-value: 0.9710058166434837\n",
            "Degrees of freedom: 3\n",
            "Expected frequencies:\n",
            "[[12.85714286 16.07142857 15.         16.07142857]\n",
            " [11.14285714 13.92857143 13.         13.92857143]]\n"
          ]
        }
      ]
    },
    {
      "cell_type": "code",
      "source": [
        "htn_patients.columns"
      ],
      "metadata": {
        "colab": {
          "base_uri": "https://localhost:8080/"
        },
        "id": "tUPSDsmzyZqY",
        "outputId": "98ff7400-fc86-4755-91ff-155adcd61ef2"
      },
      "execution_count": 47,
      "outputs": [
        {
          "output_type": "execute_result",
          "data": {
            "text/plain": [
              "Index(['Age-HTN', 'Males-HTN', 'Females-HTN', 'RE-HTN', 'LE-HTN',\n",
              "       'Age-Control(HTN)', 'Males-Control(HTN)', 'Females-Control(HTN)',\n",
              "       'RE-Control(HTN)', 'LE-Control(HTN)'],\n",
              "      dtype='object')"
            ]
          },
          "metadata": {},
          "execution_count": 47
        }
      ]
    },
    {
      "cell_type": "code",
      "source": [
        "dm_patients.columns"
      ],
      "metadata": {
        "colab": {
          "base_uri": "https://localhost:8080/"
        },
        "id": "rfg_fy3zqvYB",
        "outputId": "0a55c1fc-5257-48e3-d106-af0b3e536248"
      },
      "execution_count": 44,
      "outputs": [
        {
          "output_type": "execute_result",
          "data": {
            "text/plain": [
              "Index(['Age-DM', 'Males-DM', 'Females-DM', 'RE-DM', 'LE-DM', 'Age-Control(DM)',\n",
              "       'Males-Control(DM)', 'Females-Control(DM)', 'RE-Control(DM)',\n",
              "       'LE-Control(DM)'],\n",
              "      dtype='object')"
            ]
          },
          "metadata": {},
          "execution_count": 44
        }
      ]
    },
    {
      "cell_type": "code",
      "source": [],
      "metadata": {
        "id": "wTd_647Dqvht"
      },
      "execution_count": null,
      "outputs": []
    },
    {
      "cell_type": "code",
      "source": [],
      "metadata": {
        "id": "GuLiI8xHqv8p"
      },
      "execution_count": null,
      "outputs": []
    },
    {
      "cell_type": "code",
      "source": [],
      "metadata": {
        "id": "VnBFyNrKqwFa"
      },
      "execution_count": null,
      "outputs": []
    }
  ]
}