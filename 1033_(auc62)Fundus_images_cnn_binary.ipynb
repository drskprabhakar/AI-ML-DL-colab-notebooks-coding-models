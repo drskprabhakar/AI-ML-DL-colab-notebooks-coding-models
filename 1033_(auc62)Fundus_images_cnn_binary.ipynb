{
  "nbformat": 4,
  "nbformat_minor": 0,
  "metadata": {
    "colab": {
      "provenance": [],
      "mount_file_id": "1flCX5kZ320f89uNxpPJ9PQ5omEX0A4l4",
      "authorship_tag": "ABX9TyNG4XM4bhD0kj4qF9ez6PC6",
      "include_colab_link": true
    },
    "kernelspec": {
      "name": "python3",
      "display_name": "Python 3"
    },
    "language_info": {
      "name": "python"
    }
  },
  "cells": [
    {
      "cell_type": "markdown",
      "metadata": {
        "id": "view-in-github",
        "colab_type": "text"
      },
      "source": [
        "<a href=\"https://colab.research.google.com/github/drskprabhakar/Axial-Length-Prediction-ML-Regression-mode/blob/main/1033_(auc62)Fundus_images_cnn_binary.ipynb\" target=\"_parent\"><img src=\"https://colab.research.google.com/assets/colab-badge.svg\" alt=\"Open In Colab\"/></a>"
      ]
    },
    {
      "cell_type": "code",
      "execution_count": 4,
      "metadata": {
        "colab": {
          "base_uri": "https://localhost:8080/"
        },
        "id": "e1iCTBGStAL2",
        "outputId": "c6cff5a3-c7d7-4b15-b1fe-964ce7298d8f"
      },
      "outputs": [
        {
          "output_type": "execute_result",
          "data": {
            "text/plain": [
              "['left eye fundus', 'right eye fundus']"
            ]
          },
          "metadata": {},
          "execution_count": 4
        }
      ],
      "source": [
        "import os\n",
        "import numpy as np\n",
        "os.listdir('/content/drive/MyDrive/Normal Fundus Images/spilt/train')"
      ]
    },
    {
      "cell_type": "code",
      "source": [
        "from keras.preprocessing.image import ImageDataGenerator\n",
        "datagen = ImageDataGenerator(rescale=1/255)\n",
        "\n",
        "traindata = datagen.flow_from_directory('/content/drive/MyDrive/Normal Fundus Images/spilt/train',\n",
        "                                        target_size=(32,32),\n",
        "                                        class_mode='binary')\n",
        "\n",
        "valdata = datagen.flow_from_directory('/content/drive/MyDrive/Normal Fundus Images/spilt/val',\n",
        "                                        target_size=(32,32),\n",
        "                                        class_mode='binary')\n",
        "\n",
        "testdata = datagen.flow_from_directory('/content/drive/MyDrive/Normal Fundus Images/spilt/test',\n",
        "                                        target_size=(32,32),\n",
        "                                        class_mode='binary')\n"
      ],
      "metadata": {
        "colab": {
          "base_uri": "https://localhost:8080/"
        },
        "id": "Ehat4S6Zt2hn",
        "outputId": "20a1aefd-e7ea-4c13-a5d2-91277fb610c8"
      },
      "execution_count": 8,
      "outputs": [
        {
          "output_type": "stream",
          "name": "stdout",
          "text": [
            "Found 721 images belonging to 2 classes.\n",
            "Found 206 images belonging to 2 classes.\n",
            "Found 106 images belonging to 2 classes.\n"
          ]
        }
      ]
    },
    {
      "cell_type": "code",
      "source": [
        "from keras.models import Sequential\n",
        "from keras.layers import Conv2D, MaxPooling2D, Flatten, Dense\n",
        "\n",
        "model = Sequential([Conv2D(64,(3,3), activation='relu', input_shape=(32,32,3)),\n",
        "                    MaxPooling2D(2,2),\n",
        "\n",
        "                    Conv2D(32,(3,3), activation='relu'),\n",
        "                    MaxPooling2D(2,2),\n",
        "                    Conv2D(32,(3,3), activation='relu'),\n",
        "                    MaxPooling2D(2,2),\n",
        "\n",
        "\n",
        "\n",
        "                    Flatten(),\n",
        "                    Dense(512, activation='relu'),\n",
        "\n",
        "                    Dense(1, activation='sigmoid')])\n",
        "model.compile(optimizer='adam',\n",
        "              loss='binary_crossentropy',\n",
        "              metrics=['accuracy'])\n",
        "model.summary()"
      ],
      "metadata": {
        "colab": {
          "base_uri": "https://localhost:8080/"
        },
        "id": "YxWUlI02uNxw",
        "outputId": "84149faa-8909-41f1-bcc0-126b48e2447f"
      },
      "execution_count": 196,
      "outputs": [
        {
          "output_type": "stream",
          "name": "stdout",
          "text": [
            "Model: \"sequential_12\"\n",
            "_________________________________________________________________\n",
            " Layer (type)                Output Shape              Param #   \n",
            "=================================================================\n",
            " conv2d_45 (Conv2D)          (None, 30, 30, 64)        1792      \n",
            "                                                                 \n",
            " max_pooling2d_45 (MaxPooli  (None, 15, 15, 64)        0         \n",
            " ng2D)                                                           \n",
            "                                                                 \n",
            " conv2d_46 (Conv2D)          (None, 13, 13, 32)        18464     \n",
            "                                                                 \n",
            " max_pooling2d_46 (MaxPooli  (None, 6, 6, 32)          0         \n",
            " ng2D)                                                           \n",
            "                                                                 \n",
            " conv2d_47 (Conv2D)          (None, 4, 4, 32)          9248      \n",
            "                                                                 \n",
            " max_pooling2d_47 (MaxPooli  (None, 2, 2, 32)          0         \n",
            " ng2D)                                                           \n",
            "                                                                 \n",
            " flatten_12 (Flatten)        (None, 128)               0         \n",
            "                                                                 \n",
            " dense_30 (Dense)            (None, 512)               66048     \n",
            "                                                                 \n",
            " dense_31 (Dense)            (None, 1)                 513       \n",
            "                                                                 \n",
            "=================================================================\n",
            "Total params: 96065 (375.25 KB)\n",
            "Trainable params: 96065 (375.25 KB)\n",
            "Non-trainable params: 0 (0.00 Byte)\n",
            "_________________________________________________________________\n"
          ]
        }
      ]
    },
    {
      "cell_type": "code",
      "source": [
        "model.fit(traindata,\n",
        "          batch_size=32,\n",
        "          epochs=4,\n",
        "          validation_data=valdata)\n",
        "model.save('binary_model.keras')"
      ],
      "metadata": {
        "colab": {
          "base_uri": "https://localhost:8080/"
        },
        "id": "bjcJnzvAvJmx",
        "outputId": "6fed1750-4088-46a2-ce41-c415456eabbf"
      },
      "execution_count": 219,
      "outputs": [
        {
          "output_type": "stream",
          "name": "stdout",
          "text": [
            "Epoch 1/4\n",
            "23/23 [==============================] - 12s 540ms/step - loss: 0.1642 - accuracy: 0.9390 - val_loss: 0.1992 - val_accuracy: 0.9175\n",
            "Epoch 2/4\n",
            "23/23 [==============================] - 10s 420ms/step - loss: 0.1333 - accuracy: 0.9584 - val_loss: 0.1802 - val_accuracy: 0.9272\n",
            "Epoch 3/4\n",
            "23/23 [==============================] - 9s 385ms/step - loss: 0.1147 - accuracy: 0.9653 - val_loss: 0.1729 - val_accuracy: 0.9175\n",
            "Epoch 4/4\n",
            "23/23 [==============================] - 9s 394ms/step - loss: 0.1119 - accuracy: 0.9598 - val_loss: 0.1581 - val_accuracy: 0.9320\n"
          ]
        }
      ]
    },
    {
      "cell_type": "code",
      "source": [
        "predictions = model.predict(testdata)"
      ],
      "metadata": {
        "colab": {
          "base_uri": "https://localhost:8080/"
        },
        "id": "sm1COZpoxN5B",
        "outputId": "a141f2fe-bce6-495e-e4cb-4e39e6bc6690"
      },
      "execution_count": 250,
      "outputs": [
        {
          "output_type": "stream",
          "name": "stdout",
          "text": [
            "4/4 [==============================] - 1s 199ms/step\n"
          ]
        }
      ]
    },
    {
      "cell_type": "code",
      "source": [
        "predictions[predictions<0.5]=0\n",
        "predictions[predictions>0.5]=1"
      ],
      "metadata": {
        "id": "WCvAj8sOxqJO"
      },
      "execution_count": 251,
      "outputs": []
    },
    {
      "cell_type": "code",
      "source": [
        "y_true = testdata.classes"
      ],
      "metadata": {
        "id": "cAoGlWdqyDQ7"
      },
      "execution_count": 151,
      "outputs": []
    },
    {
      "cell_type": "code",
      "source": [
        "from sklearn import metrics\n",
        "metrics.confusion_matrix(y_true, predictions)"
      ],
      "metadata": {
        "colab": {
          "base_uri": "https://localhost:8080/"
        },
        "id": "zEreze1ZyN-T",
        "outputId": "72af963c-7ce4-4b64-cb47-71e5f79132e1"
      },
      "execution_count": 252,
      "outputs": [
        {
          "output_type": "execute_result",
          "data": {
            "text/plain": [
              "array([[33, 20],\n",
              "       [20, 33]])"
            ]
          },
          "metadata": {},
          "execution_count": 252
        }
      ]
    },
    {
      "cell_type": "code",
      "source": [
        "print(metrics.classification_report(y_true, predictions))"
      ],
      "metadata": {
        "colab": {
          "base_uri": "https://localhost:8080/"
        },
        "id": "ZpnwY3r2zTHf",
        "outputId": "9a78c588-c1f7-4292-992c-75a050b1bed6"
      },
      "execution_count": 253,
      "outputs": [
        {
          "output_type": "stream",
          "name": "stdout",
          "text": [
            "              precision    recall  f1-score   support\n",
            "\n",
            "           0       0.62      0.62      0.62        53\n",
            "           1       0.62      0.62      0.62        53\n",
            "\n",
            "    accuracy                           0.62       106\n",
            "   macro avg       0.62      0.62      0.62       106\n",
            "weighted avg       0.62      0.62      0.62       106\n",
            "\n"
          ]
        }
      ]
    },
    {
      "cell_type": "code",
      "source": [
        "metrics.RocCurveDisplay.from_predictions(y_true, predictions)"
      ],
      "metadata": {
        "colab": {
          "base_uri": "https://localhost:8080/",
          "height": 467
        },
        "id": "Rtu585te3COo",
        "outputId": "c64c0b2f-7bda-482a-f091-9429cb4c5e6a"
      },
      "execution_count": 254,
      "outputs": [
        {
          "output_type": "execute_result",
          "data": {
            "text/plain": [
              "<sklearn.metrics._plot.roc_curve.RocCurveDisplay at 0x7ec9e6b1b910>"
            ]
          },
          "metadata": {},
          "execution_count": 254
        },
        {
          "output_type": "display_data",
          "data": {
            "text/plain": [
              "<Figure size 640x480 with 1 Axes>"
            ],
            "image/png": "[encoded data removed]"
          },
          "metadata": {}
        }
      ]
    },
    {
      "cell_type": "code",
      "source": [
        "metrics.ConfusionMatrixDisplay.from_predictions(y_true, predictions)"
      ],
      "metadata": {
        "colab": {
          "base_uri": "https://localhost:8080/",
          "height": 467
        },
        "id": "zo7RlFea7XFR",
        "outputId": "678f0d72-b18c-4135-9104-f6168f5b0b83"
      },
      "execution_count": 255,
      "outputs": [
        {
          "output_type": "execute_result",
          "data": {
            "text/plain": [
              "<sklearn.metrics._plot.confusion_matrix.ConfusionMatrixDisplay at 0x7ec9e6a03a00>"
            ]
          },
          "metadata": {},
          "execution_count": 255
        },
        {
          "output_type": "display_data",
          "data": {
            "text/plain": [
              "<Figure size 640x480 with 2 Axes>"
            ],
            "image/png": "[encoded data removed]"
          },
          "metadata": {}
        }
      ]
    }
  ]
}