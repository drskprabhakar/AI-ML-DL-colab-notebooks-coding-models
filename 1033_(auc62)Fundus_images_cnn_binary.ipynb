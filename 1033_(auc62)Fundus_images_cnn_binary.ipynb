{
  "nbformat": 4,
  "nbformat_minor": 0,
  "metadata": {
    "colab": {
      "provenance": [],
      "mount_file_id": "1flCX5kZ320f89uNxpPJ9PQ5omEX0A4l4",
      "authorship_tag": "ABX9TyOjdd+U5ZMAAulqIvgpDzEC",
      "include_colab_link": true
    },
    "kernelspec": {
      "name": "python3",
      "display_name": "Python 3"
    },
    "language_info": {
      "name": "python"
    }
  },
  "cells": [
    {
      "cell_type": "markdown",
      "metadata": {
        "id": "view-in-github",
        "colab_type": "text"
      },
      "source": [
        "<a href=\"https://colab.research.google.com/github/drskprabhakar/Axial-Length-Prediction-ML-Regression-mode/blob/main/1033_(auc62)Fundus_images_cnn_binary.ipynb\" target=\"_parent\"><img src=\"https://colab.research.google.com/assets/colab-badge.svg\" alt=\"Open In Colab\"/></a>"
      ]
    },
    {
      "cell_type": "code",
      "execution_count": 4,
      "metadata": {
        "colab": {
          "base_uri": "https://localhost:8080/"
        },
        "id": "e1iCTBGStAL2",
        "outputId": "c6cff5a3-c7d7-4b15-b1fe-964ce7298d8f"
      },
      "outputs": [
        {
          "output_type": "execute_result",
          "data": {
            "text/plain": [
              "['left eye fundus', 'right eye fundus']"
            ]
          },
          "metadata": {},
          "execution_count": 4
        }
      ],
      "source": [
        "import os\n",
        "import numpy as np\n",
        "os.listdir('/content/drive/MyDrive/Normal Fundus Images/spilt/train')"
      ]
    },
    {
      "cell_type": "code",
      "source": [
        "from keras.preprocessing.image import ImageDataGenerator\n",
        "datagen = ImageDataGenerator(rescale=1/255)\n",
        "\n",
        "traindata = datagen.flow_from_directory('/content/drive/MyDrive/Normal Fundus Images/spilt/train',\n",
        "                                        target_size=(32,32),\n",
        "                                        class_mode='binary')\n",
        "\n",
        "valdata = datagen.flow_from_directory('/content/drive/MyDrive/Normal Fundus Images/spilt/val',\n",
        "                                        target_size=(32,32),\n",
        "                                        class_mode='binary')\n",
        "\n",
        "testdata = datagen.flow_from_directory('/content/drive/MyDrive/Normal Fundus Images/spilt/test',\n",
        "                                        target_size=(32,32),\n",
        "                                        class_mode='binary')\n"
      ],
      "metadata": {
        "colab": {
          "base_uri": "https://localhost:8080/"
        },
        "id": "Ehat4S6Zt2hn",
        "outputId": "20a1aefd-e7ea-4c13-a5d2-91277fb610c8"
      },
      "execution_count": 8,
      "outputs": [
        {
          "output_type": "stream",
          "name": "stdout",
          "text": [
            "Found 721 images belonging to 2 classes.\n",
            "Found 206 images belonging to 2 classes.\n",
            "Found 106 images belonging to 2 classes.\n"
          ]
        }
      ]
    },
    {
      "cell_type": "code",
      "source": [
        "from keras.models import Sequential\n",
        "from keras.layers import Conv2D, MaxPooling2D, Flatten, Dense\n",
        "\n",
        "model = Sequential([Conv2D(32,(3,3), activation='relu', input_shape=(32,32,3)),\n",
        "                    MaxPooling2D(2,2),\n",
        "\n",
        "                    Conv2D(64,(3,3), activation='relu'),\n",
        "                    MaxPooling2D(2,2),\n",
        "                    Conv2D(64,(3,3), activation='relu'),\n",
        "                    MaxPooling2D(2,2),\n",
        "\n",
        "                    Flatten(),\n",
        "                    Dense(128, activation='relu'),\n",
        "                    Dense(128,activation='relu'),\n",
        "                    Dense(1, activation='sigmoid')])\n",
        "model.compile(optimizer='adam',\n",
        "              loss='binary_crossentropy',\n",
        "              metrics=['accuracy'])\n",
        "model.summary()"
      ],
      "metadata": {
        "colab": {
          "base_uri": "https://localhost:8080/"
        },
        "id": "YxWUlI02uNxw",
        "outputId": "0a3cc5c2-7c90-4fe2-adb5-616806ea20be"
      },
      "execution_count": 10,
      "outputs": [
        {
          "output_type": "stream",
          "name": "stdout",
          "text": [
            "Model: \"sequential_1\"\n",
            "_________________________________________________________________\n",
            " Layer (type)                Output Shape              Param #   \n",
            "=================================================================\n",
            " conv2d_3 (Conv2D)           (None, 30, 30, 32)        896       \n",
            "                                                                 \n",
            " max_pooling2d_3 (MaxPoolin  (None, 15, 15, 32)        0         \n",
            " g2D)                                                            \n",
            "                                                                 \n",
            " conv2d_4 (Conv2D)           (None, 13, 13, 64)        18496     \n",
            "                                                                 \n",
            " max_pooling2d_4 (MaxPoolin  (None, 6, 6, 64)          0         \n",
            " g2D)                                                            \n",
            "                                                                 \n",
            " conv2d_5 (Conv2D)           (None, 4, 4, 64)          36928     \n",
            "                                                                 \n",
            " max_pooling2d_5 (MaxPoolin  (None, 2, 2, 64)          0         \n",
            " g2D)                                                            \n",
            "                                                                 \n",
            " flatten_1 (Flatten)         (None, 256)               0         \n",
            "                                                                 \n",
            " dense_2 (Dense)             (None, 128)               32896     \n",
            "                                                                 \n",
            " dense_3 (Dense)             (None, 128)               16512     \n",
            "                                                                 \n",
            " dense_4 (Dense)             (None, 1)                 129       \n",
            "                                                                 \n",
            "=================================================================\n",
            "Total params: 105857 (413.50 KB)\n",
            "Trainable params: 105857 (413.50 KB)\n",
            "Non-trainable params: 0 (0.00 Byte)\n",
            "_________________________________________________________________\n"
          ]
        }
      ]
    },
    {
      "cell_type": "code",
      "source": [
        "model.fit(traindata,\n",
        "          batch_size=32,\n",
        "          epochs=3,\n",
        "          validation_data=valdata)\n",
        "model.save('binary_model.keras')"
      ],
      "metadata": {
        "colab": {
          "base_uri": "https://localhost:8080/"
        },
        "id": "bjcJnzvAvJmx",
        "outputId": "82168019-2239-4398-cf7f-08f1d6d4f06b"
      },
      "execution_count": 158,
      "outputs": [
        {
          "output_type": "stream",
          "name": "stdout",
          "text": [
            "Epoch 1/3\n",
            "23/23 [==============================] - 13s 549ms/step - loss: 0.0031 - accuracy: 0.9986 - val_loss: 0.2137 - val_accuracy: 0.9660\n",
            "Epoch 2/3\n",
            "23/23 [==============================] - 10s 448ms/step - loss: 0.0027 - accuracy: 0.9986 - val_loss: 0.2191 - val_accuracy: 0.9709\n",
            "Epoch 3/3\n",
            "23/23 [==============================] - 9s 416ms/step - loss: 0.0026 - accuracy: 0.9972 - val_loss: 0.2283 - val_accuracy: 0.9660\n"
          ]
        }
      ]
    },
    {
      "cell_type": "code",
      "source": [
        "predictions = model.predict(testdata)"
      ],
      "metadata": {
        "colab": {
          "base_uri": "https://localhost:8080/"
        },
        "id": "sm1COZpoxN5B",
        "outputId": "b1eedb19-ec47-43ff-85f3-ef7fbb3bbc98"
      },
      "execution_count": 180,
      "outputs": [
        {
          "output_type": "stream",
          "name": "stdout",
          "text": [
            "4/4 [==============================] - 1s 211ms/step\n"
          ]
        }
      ]
    },
    {
      "cell_type": "code",
      "source": [
        "predictions[predictions<0.5]=0\n",
        "predictions[predictions>0.5]=1"
      ],
      "metadata": {
        "id": "WCvAj8sOxqJO"
      },
      "execution_count": 181,
      "outputs": []
    },
    {
      "cell_type": "code",
      "source": [
        "y_true = testdata.classes"
      ],
      "metadata": {
        "id": "cAoGlWdqyDQ7"
      },
      "execution_count": 151,
      "outputs": []
    },
    {
      "cell_type": "code",
      "source": [
        "from sklearn import metrics\n",
        "metrics.confusion_matrix(y_true, predictions)"
      ],
      "metadata": {
        "colab": {
          "base_uri": "https://localhost:8080/"
        },
        "id": "zEreze1ZyN-T",
        "outputId": "37f95033-993b-462e-bd51-814b8a0db8d9"
      },
      "execution_count": 182,
      "outputs": [
        {
          "output_type": "execute_result",
          "data": {
            "text/plain": [
              "array([[34, 19],\n",
              "       [21, 32]])"
            ]
          },
          "metadata": {},
          "execution_count": 182
        }
      ]
    },
    {
      "cell_type": "code",
      "source": [
        "print(metrics.classification_report(y_true, predictions))"
      ],
      "metadata": {
        "colab": {
          "base_uri": "https://localhost:8080/"
        },
        "id": "ZpnwY3r2zTHf",
        "outputId": "4ddd9ef1-bd27-439b-c348-1b68d1149474"
      },
      "execution_count": 183,
      "outputs": [
        {
          "output_type": "stream",
          "name": "stdout",
          "text": [
            "              precision    recall  f1-score   support\n",
            "\n",
            "           0       0.62      0.64      0.63        53\n",
            "           1       0.63      0.60      0.62        53\n",
            "\n",
            "    accuracy                           0.62       106\n",
            "   macro avg       0.62      0.62      0.62       106\n",
            "weighted avg       0.62      0.62      0.62       106\n",
            "\n"
          ]
        }
      ]
    },
    {
      "cell_type": "code",
      "source": [
        "metrics.RocCurveDisplay.from_predictions(y_true, predictions)"
      ],
      "metadata": {
        "colab": {
          "base_uri": "https://localhost:8080/",
          "height": 467
        },
        "id": "Rtu585te3COo",
        "outputId": "cfed85be-342f-47b5-b319-aff4a4c980f9"
      },
      "execution_count": 185,
      "outputs": [
        {
          "output_type": "execute_result",
          "data": {
            "text/plain": [
              "<sklearn.metrics._plot.roc_curve.RocCurveDisplay at 0x7ec9e75073d0>"
            ]
          },
          "metadata": {},
          "execution_count": 185
        },
        {
          "output_type": "display_data",
          "data": {
            "text/plain": [
              "<Figure size 640x480 with 1 Axes>"
            ],
            "image/png": "[encoded data removed]"
          },
          "metadata": {}
        }
      ]
    }
  ]
}