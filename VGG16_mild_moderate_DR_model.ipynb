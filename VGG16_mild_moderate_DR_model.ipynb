{
  "nbformat": 4,
  "nbformat_minor": 0,
  "metadata": {
    "colab": {
      "provenance": [],
      "mount_file_id": "1swgg8MV9AGkwlaZ_g-0mtOYMyKWJBr1y",
      "authorship_tag": "ABX9TyO/dAUXjBiy8oiIa0HjZagJ",
      "include_colab_link": true
    },
    "kernelspec": {
      "name": "python3",
      "display_name": "Python 3"
    },
    "language_info": {
      "name": "python"
    }
  },
  "cells": [
    {
      "cell_type": "markdown",
      "metadata": {
        "id": "view-in-github",
        "colab_type": "text"
      },
      "source": [
        "<a href=\"https://colab.research.google.com/github/drskprabhakar/AI-ML-DL-colab-notebooks-coding-models/blob/main/VGG16_mild_moderate_DR_model.ipynb\" target=\"_parent\"><img src=\"https://colab.research.google.com/assets/colab-badge.svg\" alt=\"Open In Colab\"/></a>"
      ]
    },
    {
      "cell_type": "code",
      "execution_count": null,
      "metadata": {
        "colab": {
          "base_uri": "https://localhost:8080/"
        },
        "id": "2REu8noeC9Zo",
        "outputId": "3e847e66-1437-4fd9-acff-cdc101250d94"
      },
      "outputs": [
        {
          "output_type": "execute_result",
          "data": {
            "text/plain": [
              "['train', 'val', 'test']"
            ]
          },
          "metadata": {},
          "execution_count": 1
        }
      ],
      "source": [
        "import os\n",
        "import numpy as np\n",
        "os.listdir('/content/drive/MyDrive/Mild DR undersampled moderate DR folder/split')\n"
      ]
    },
    {
      "cell_type": "code",
      "source": [
        "os.listdir('/content/drive/MyDrive/Mild DR undersampled moderate DR folder/split/train')\n"
      ],
      "metadata": {
        "colab": {
          "base_uri": "https://localhost:8080/"
        },
        "id": "07IR_Ln3DPVq",
        "outputId": "3653cced-1411-41f9-d098-09b59b6420dc"
      },
      "execution_count": null,
      "outputs": [
        {
          "output_type": "execute_result",
          "data": {
            "text/plain": [
              "['Mild', 'undersampled_Moderate']"
            ]
          },
          "metadata": {},
          "execution_count": 2
        }
      ]
    },
    {
      "cell_type": "code",
      "source": [
        "from keras.preprocessing.image import ImageDataGenerator\n",
        "datagen = ImageDataGenerator(rescale=1/255)\n",
        "\n",
        "trainimages = datagen.flow_from_directory('/content/drive/MyDrive/Mild DR undersampled moderate DR folder/split/train',\n",
        "                                          target_size=(64,64),\n",
        "                                          class_mode='categorical')\n",
        "\n",
        "valimages = datagen.flow_from_directory('/content/drive/MyDrive/Mild DR undersampled moderate DR folder/split/val',\n",
        "                                          target_size=(64,64),\n",
        "                                          class_mode='categorical')\n",
        "testimages = datagen.flow_from_directory('/content/drive/MyDrive/Mild DR undersampled moderate DR folder/split/test',\n",
        "                                            target_size=(64,64),\n",
        "                                            class_mode='categorical')\n"
      ],
      "metadata": {
        "colab": {
          "base_uri": "https://localhost:8080/"
        },
        "id": "iyPJdOKADPol",
        "outputId": "2a16fb20-6a97-4622-8c79-ad9370b9969e"
      },
      "execution_count": null,
      "outputs": [
        {
          "output_type": "stream",
          "name": "stdout",
          "text": [
            "Found 591 images belonging to 2 classes.\n",
            "Found 74 images belonging to 2 classes.\n",
            "Found 75 images belonging to 2 classes.\n"
          ]
        }
      ]
    },
    {
      "cell_type": "code",
      "source": [
        "import keras\n",
        "VGG = keras.applications.VGG16(include_top=False,\n",
        "                               weights=\"imagenet\",\n",
        "                               input_shape=(64,64,3))\n",
        "VGG.trainable=False"
      ],
      "metadata": {
        "id": "Fk-ZGg_TFFWQ",
        "colab": {
          "base_uri": "https://localhost:8080/"
        },
        "outputId": "1988c24f-27d0-4d2e-a741-8c2548a4d67f"
      },
      "execution_count": null,
      "outputs": [
        {
          "output_type": "stream",
          "name": "stdout",
          "text": [
            "Downloading data from https://storage.googleapis.com/tensorflow/keras-applications/vgg16/vgg16_weights_tf_dim_ordering_tf_kernels_notop.h5\n",
            "58889256/58889256 [==============================] - 0s 0us/step\n"
          ]
        }
      ]
    },
    {
      "cell_type": "code",
      "source": [
        "from keras.models import Sequential\n",
        "model = keras.Sequential([\n",
        "    VGG,\n",
        "    keras.layers.Flatten(),\n",
        "    keras.layers.Dense(64, activation='relu'),\n",
        "    keras.layers.Dense(64, activation='relu'),\n",
        "    keras.layers.Dense(2, activation='softmax')\n",
        "])\n",
        "model.compile(optimizer='adam',\n",
        "              loss='categorical_crossentropy',\n",
        "              metrics=['accuracy'])\n",
        "model.summary()"
      ],
      "metadata": {
        "colab": {
          "base_uri": "https://localhost:8080/"
        },
        "id": "dNA2mRHHFFjZ",
        "outputId": "8afda1cf-257e-4f85-e2d2-ef911a1a5b08"
      },
      "execution_count": null,
      "outputs": [
        {
          "output_type": "stream",
          "name": "stdout",
          "text": [
            "Model: \"sequential\"\n",
            "_________________________________________________________________\n",
            " Layer (type)                Output Shape              Param #   \n",
            "=================================================================\n",
            " vgg16 (Functional)          (None, 2, 2, 512)         14714688  \n",
            "                                                                 \n",
            " flatten (Flatten)           (None, 2048)              0         \n",
            "                                                                 \n",
            " dense (Dense)               (None, 64)                131136    \n",
            "                                                                 \n",
            " dense_1 (Dense)             (None, 64)                4160      \n",
            "                                                                 \n",
            " dense_2 (Dense)             (None, 2)                 130       \n",
            "                                                                 \n",
            "=================================================================\n",
            "Total params: 14850114 (56.65 MB)\n",
            "Trainable params: 135426 (529.01 KB)\n",
            "Non-trainable params: 14714688 (56.13 MB)\n",
            "_________________________________________________________________\n"
          ]
        }
      ]
    },
    {
      "cell_type": "code",
      "source": [
        "model.fit(trainimages,\n",
        "          batch_size=32,\n",
        "          epochs=10,\n",
        "          validation_data=valimages)\n",
        "model.save('mild_moderate_DRVGG16_model.keras')"
      ],
      "metadata": {
        "colab": {
          "base_uri": "https://localhost:8080/"
        },
        "id": "wvSfwymmFFu0",
        "outputId": "39ce1b96-1f7a-4e60-9642-308700ef2261"
      },
      "execution_count": null,
      "outputs": [
        {
          "output_type": "stream",
          "name": "stdout",
          "text": [
            "Epoch 1/10\n",
            "19/19 [==============================] - 154s 8s/step - loss: 0.7208 - accuracy: 0.5178 - val_loss: 0.6251 - val_accuracy: 0.6622\n",
            "Epoch 2/10\n",
            "19/19 [==============================] - 37s 2s/step - loss: 0.6294 - accuracy: 0.6667 - val_loss: 0.5699 - val_accuracy: 0.7568\n",
            "Epoch 3/10\n",
            "19/19 [==============================] - 50s 3s/step - loss: 0.6111 - accuracy: 0.6785 - val_loss: 0.5594 - val_accuracy: 0.7297\n",
            "Epoch 4/10\n",
            "19/19 [==============================] - 61s 3s/step - loss: 0.5809 - accuracy: 0.7090 - val_loss: 0.5471 - val_accuracy: 0.7162\n",
            "Epoch 5/10\n",
            "19/19 [==============================] - 58s 3s/step - loss: 0.5705 - accuracy: 0.7107 - val_loss: 0.5847 - val_accuracy: 0.7297\n",
            "Epoch 6/10\n",
            "19/19 [==============================] - 55s 3s/step - loss: 0.5474 - accuracy: 0.7411 - val_loss: 0.5391 - val_accuracy: 0.7297\n",
            "Epoch 7/10\n",
            "19/19 [==============================] - 46s 2s/step - loss: 0.5411 - accuracy: 0.7327 - val_loss: 0.5586 - val_accuracy: 0.7162\n",
            "Epoch 8/10\n",
            "19/19 [==============================] - 39s 2s/step - loss: 0.5401 - accuracy: 0.7343 - val_loss: 0.5217 - val_accuracy: 0.7568\n",
            "Epoch 9/10\n",
            "19/19 [==============================] - 36s 2s/step - loss: 0.5223 - accuracy: 0.7479 - val_loss: 0.5594 - val_accuracy: 0.7297\n",
            "Epoch 10/10\n",
            "19/19 [==============================] - 37s 2s/step - loss: 0.5255 - accuracy: 0.7462 - val_loss: 0.5303 - val_accuracy: 0.7432\n"
          ]
        }
      ]
    },
    {
      "cell_type": "code",
      "source": [
        "predictions = model.predict(testimages)"
      ],
      "metadata": {
        "id": "d1hK3t9TLADg",
        "colab": {
          "base_uri": "https://localhost:8080/"
        },
        "outputId": "57329cc7-5b40-410c-dd2b-dd1e11fd3730"
      },
      "execution_count": 39,
      "outputs": [
        {
          "output_type": "stream",
          "name": "stdout",
          "text": [
            "3/3 [==============================] - 4s 923ms/step\n"
          ]
        }
      ]
    },
    {
      "cell_type": "code",
      "source": [
        "y_pred = np.argmax(predictions, axis=1)"
      ],
      "metadata": {
        "id": "GClcj630LQ3T"
      },
      "execution_count": 40,
      "outputs": []
    },
    {
      "cell_type": "code",
      "source": [
        "y_true = testimages.classes"
      ],
      "metadata": {
        "id": "d-puuNf1LnJA"
      },
      "execution_count": 9,
      "outputs": []
    },
    {
      "cell_type": "code",
      "source": [
        "from sklearn import metrics\n",
        "metrics.confusion_matrix(y_true, y_pred)"
      ],
      "metadata": {
        "colab": {
          "base_uri": "https://localhost:8080/"
        },
        "id": "JYDmia32Lf0B",
        "outputId": "e800dd1f-5957-426f-8359-910bd4430ecb"
      },
      "execution_count": 41,
      "outputs": [
        {
          "output_type": "execute_result",
          "data": {
            "text/plain": [
              "array([[27, 11],\n",
              "       [17, 20]])"
            ]
          },
          "metadata": {},
          "execution_count": 41
        }
      ]
    },
    {
      "cell_type": "code",
      "source": [
        "print(metrics.classification_report(y_true, y_pred,\n",
        "                                    target_names=('mild DR', 'moderate DR')))"
      ],
      "metadata": {
        "id": "WTXuCGXTgJjF",
        "colab": {
          "base_uri": "https://localhost:8080/"
        },
        "outputId": "c4bb5cbb-8ca6-4e1a-cb4e-8f3632a4cc62"
      },
      "execution_count": 42,
      "outputs": [
        {
          "output_type": "stream",
          "name": "stdout",
          "text": [
            "              precision    recall  f1-score   support\n",
            "\n",
            "     mild DR       0.61      0.71      0.66        38\n",
            " moderate DR       0.65      0.54      0.59        37\n",
            "\n",
            "    accuracy                           0.63        75\n",
            "   macro avg       0.63      0.63      0.62        75\n",
            "weighted avg       0.63      0.63      0.62        75\n",
            "\n"
          ]
        }
      ]
    },
    {
      "cell_type": "code",
      "source": [
        "metrics.RocCurveDisplay.from_predictions(y_true, y_pred)"
      ],
      "metadata": {
        "id": "oV_DHhH4LgAg",
        "colab": {
          "base_uri": "https://localhost:8080/",
          "height": 467
        },
        "outputId": "65e03bab-4246-463d-adce-f27189e045f3"
      },
      "execution_count": 43,
      "outputs": [
        {
          "output_type": "execute_result",
          "data": {
            "text/plain": [
              "<sklearn.metrics._plot.roc_curve.RocCurveDisplay at 0x782ccb51d2a0>"
            ]
          },
          "metadata": {},
          "execution_count": 43
        },
        {
          "output_type": "display_data",
          "data": {
            "text/plain": [
              "<Figure size 640x480 with 1 Axes>"
            ],
            "image/png": "[encoded data removed]"
          },
          "metadata": {}
        }
      ]
    },
    {
      "cell_type": "code",
      "source": [
        "testimages.class_indices"
      ],
      "metadata": {
        "colab": {
          "base_uri": "https://localhost:8080/"
        },
        "id": "fWPRANIQmVvy",
        "outputId": "d202a882-934f-46c9-86ec-79c81199d3f4"
      },
      "execution_count": 25,
      "outputs": [
        {
          "output_type": "execute_result",
          "data": {
            "text/plain": [
              "{'Mild': 0, 'undersampled_Moderate': 1}"
            ]
          },
          "metadata": {},
          "execution_count": 25
        }
      ]
    },
    {
      "cell_type": "code",
      "source": [
        "metrics.ConfusionMatrixDisplay.from_predictions(y_true, y_pred)"
      ],
      "metadata": {
        "colab": {
          "base_uri": "https://localhost:8080/",
          "height": 467
        },
        "id": "c9RbsAHdm_bj",
        "outputId": "527f3205-9256-483e-a25e-4b32bd25faa9"
      },
      "execution_count": 44,
      "outputs": [
        {
          "output_type": "execute_result",
          "data": {
            "text/plain": [
              "<sklearn.metrics._plot.confusion_matrix.ConfusionMatrixDisplay at 0x782ccb5f10c0>"
            ]
          },
          "metadata": {},
          "execution_count": 44
        },
        {
          "output_type": "display_data",
          "data": {
            "text/plain": [
              "<Figure size 640x480 with 2 Axes>"
            ],
            "image/png": "[encoded data removed]"
          },
          "metadata": {}
        }
      ]
    }
  ]
}