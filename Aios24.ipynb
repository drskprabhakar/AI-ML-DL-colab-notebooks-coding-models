{
  "nbformat": 4,
  "nbformat_minor": 0,
  "metadata": {
    "colab": {
      "provenance": [],
      "mount_file_id": "1veDPs2n-zqaqT0Tr6JeRdvjXHs4yE-0x",
      "authorship_tag": "ABX9TyOGI1snmJnRpyrqN3iStjp9",
      "include_colab_link": true
    },
    "kernelspec": {
      "name": "python3",
      "display_name": "Python 3"
    },
    "language_info": {
      "name": "python"
    }
  },
  "cells": [
    {
      "cell_type": "markdown",
      "metadata": {
        "id": "view-in-github",
        "colab_type": "text"
      },
      "source": [
        "<a href=\"https://colab.research.google.com/github/drskprabhakar/Axial-Length-Prediction-ML-Regression-mode/blob/main/Aios24.ipynb\" target=\"_parent\"><img src=\"https://colab.research.google.com/assets/colab-badge.svg\" alt=\"Open In Colab\"/></a>"
      ]
    },
    {
      "cell_type": "code",
      "execution_count": 1,
      "metadata": {
        "id": "7KDMq2VDoyFE"
      },
      "outputs": [],
      "source": [
        "import os\n",
        "import numpy as np # linear algebra\n",
        "import matplotlib.pyplot as plt\n",
        "from sklearn.model_selection import train_test_split\n",
        "from sklearn.metrics import accuracy_score\n",
        "import pandas as pd # data processing, CSV file I/O (e.g. pd.read_csv)\n",
        "import tensorflow as tf\n",
        "import PIL\n",
        "import PIL.Image\n",
        "from tensorflow import keras\n",
        "import tensorflow_datasets as tfds\n",
        "import matplotlib.pyplot as plt"
      ]
    },
    {
      "cell_type": "code",
      "source": [
        "# Trains a model to classify images of 3 classes: dr1, dr2, and dr3\n",
        "# Defines & compiles the model\n",
        "model = tf.keras.models.Sequential([\n",
        "        tf.keras.layers.Conv2D(16, (3,3), activation='relu', input_shape=(150, 150, 3)),\n",
        "    tf.keras.layers.MaxPooling2D(2, 2),\n",
        "    keras.layers.Dropout(rate=0.15), #adding dropout regularization throughout the model to deal with overfitting\n",
        "    # The second convolution\n",
        "    tf.keras.layers.Conv2D(32, (3,3), activation='relu'),\n",
        "    tf.keras.layers.MaxPooling2D(2,2),\n",
        "    keras.layers.Dropout(rate=0.1),\n",
        "    # The third convolution\n",
        "    tf.keras.layers.Conv2D(64, (3,3), activation='relu'),\n",
        "    tf.keras.layers.MaxPooling2D(2,2),\n",
        "    keras.layers.Dropout(rate=0.10),\n",
        "    # Flatten the results to feed into a DNN\n",
        "    tf.keras.layers.Flatten(),\n",
        "    # 512 neuron hidden layer\n",
        "    tf.keras.layers.Dense(512, activation='relu'),\n",
        "\n",
        "    # 3 output neuron for the 3 classes of Animal Images\n",
        "    tf.keras.layers.Dense(3, activation='softmax')\n",
        "    ])"
      ],
      "metadata": {
        "id": "bW0qSzWppaTa"
      },
      "execution_count": 9,
      "outputs": []
    },
    {
      "cell_type": "code",
      "source": [
        "from tensorflow.keras.optimizers import RMSprop\n",
        "model.compile(loss='categorical_crossentropy',\n",
        "              optimizer=\"adam\",\n",
        "              metrics=['acc'])\n",
        "\n",
        "# Creates an instance of an ImageDataGenerator called train_datagen, and a train_generator, train_datagen.flow_from_directory\n",
        "from tensorflow.keras.preprocessing.image import ImageDataGenerator\n",
        "\n",
        "#splits data into training and testing(validation) sets\n",
        "train_datagen =ImageDataGenerator(rescale=1./255, validation_split=0.25)\n",
        "\n",
        "import matplotlib.pyplot as plt\n"
      ],
      "metadata": {
        "id": "tMZz5Gwyp1fB"
      },
      "execution_count": 11,
      "outputs": []
    },
    {
      "cell_type": "code",
      "source": [
        "#training data\n",
        "train_generator = train_datagen.flow_from_directory(\n",
        "        '/content/drive/MyDrive/DR image data set/training set',  # Source directory\n",
        "        target_size=(150, 150),  # Resizes images\n",
        "        batch_size=15,\n",
        "        class_mode='categorical',\n",
        "        subset = 'training')\n",
        "\n",
        "#Testing data\n",
        "validation_generator = train_datagen.flow_from_directory(\n",
        "    '/content/drive/MyDrive/DR image data set/validation set',\n",
        "    target_size=(150, 150),\n",
        "    batch_size=5,\n",
        "    class_mode='categorical',\n",
        "    subset='validation') # set as validation data\n",
        ""
      ],
      "metadata": {
        "colab": {
          "base_uri": "https://localhost:8080/"
        },
        "id": "19N-Z0Ecq5_9",
        "outputId": "50837258-ecac-4e8f-bd9c-7d5fdcc2557e"
      },
      "execution_count": 37,
      "outputs": [
        {
          "output_type": "stream",
          "name": "stdout",
          "text": [
            "Found 81 images belonging to 3 classes.\n",
            "Found 8 images belonging to 3 classes.\n"
          ]
        }
      ]
    },
    {
      "cell_type": "code",
      "source": [
        "history = model.fit_generator(\n",
        "    train_generator,\n",
        "    epochs=15,\n",
        "    validation_data=validation_generator,\n",
        "    verbose=1\n",
        ")"
      ],
      "metadata": {
        "id": "slXB1SKoA_QE"
      },
      "execution_count": null,
      "outputs": []
    },
    {
      "cell_type": "markdown",
      "source": [
        "# plotting the model metrics"
      ],
      "metadata": {
        "id": "itvAc_NHGGBG"
      }
    },
    {
      "cell_type": "code",
      "source": [
        "acc = history.history['acc']\n",
        "val_acc = history.history['val_acc']\n",
        "\n",
        "loss = history.history['loss']\n",
        "val_loss = history.history['val_loss']\n",
        "\n",
        "#This code is used to plot the training and validation accuracy\n",
        "\n",
        "plt.figure(figsize=(8, 8))\n",
        "plt.subplot(1, 2, 1)\n",
        "plt.plot(acc, label='Training Accuracy')\n",
        "plt.plot(val_acc, label='Validation Accuracy')\n",
        "plt.legend(loc='lower right')\n",
        "plt.title('Training and Validation Accuracy')\n",
        "\n",
        "plt.subplot(1, 2, 2)\n",
        "plt.plot(loss, label='Training Loss')\n",
        "plt.plot(val_loss, label='Validation Loss')\n",
        "plt.legend(loc='upper right')\n",
        "plt.title('Training and Validation Loss')\n",
        "plt.show()\n",
        "\n",
        "print(\"Training Accuracy:\"), print(history.history['acc'][-1])\n",
        "print(\"Testing Accuracy:\"), print (history.history['val_acc'][-1])"
      ],
      "metadata": {
        "id": "Tku5hWnrvHDk"
      },
      "execution_count": null,
      "outputs": []
    },
    {
      "cell_type": "code",
      "source": [
        "labels = {value: key for key, value in train_generator.class_indices.items()}\n",
        "\n",
        "print(\"Label Mappings for classes present in the training and validation datasets\\n\")\n",
        "for key, value in labels.items():\n",
        "    print(f\"{key} : {value}\")\n",
        "# Label Mappings for classes present in the training and validation datasets\n",
        "\n"
      ],
      "metadata": {
        "colab": {
          "base_uri": "https://localhost:8080/"
        },
        "id": "vpZNu3lt-fc5",
        "outputId": "71050e78-f4f6-4f24-d795-eb5978050789"
      },
      "execution_count": 38,
      "outputs": [
        {
          "output_type": "stream",
          "name": "stdout",
          "text": [
            "Label Mappings for classes present in the training and validation datasets\n",
            "\n",
            "0 : dr1_train\n",
            "1 : dr2_train\n",
            "2 : dr3_train\n"
          ]
        }
      ]
    },
    {
      "cell_type": "markdown",
      "source": [
        "# plotting sample training images"
      ],
      "metadata": {
        "id": "IK8BTThFDv4L"
      }
    },
    {
      "cell_type": "code",
      "source": [
        "fig, ax = plt.subplots(nrows=2, ncols=5, figsize=(15, 12))\n",
        "idx = 0\n",
        "\n",
        "for i in range(2):\n",
        "    for j in range(5):\n",
        "        label = labels[np.argmax(train_generator[0][1][idx])]\n",
        "        ax[i, j].set_title(f\"{label}\")\n",
        "        ax[i, j].imshow(train_generator[0][0][idx][:, :, :])\n",
        "        ax[i, j].axis(\"off\")\n",
        "        idx += 1\n",
        "\n",
        "plt.tight_layout()\n",
        "plt.suptitle(\"Sample Training Images\", fontsize=21)\n",
        "plt.show()"
      ],
      "metadata": {
        "id": "pB1gxUNmDr10"
      },
      "execution_count": null,
      "outputs": []
    },
    {
      "cell_type": "markdown",
      "source": [
        "# testing the model on test set"
      ],
      "metadata": {
        "id": "yvl2g0kUGrzi"
      }
    },
    {
      "cell_type": "code",
      "source": [
        "test_generator = train_datagen.flow_from_directory(\n",
        "    '/content/drive/MyDrive/DR image data set/validation set',\n",
        "    shuffle=False,\n",
        "    batch_size=5,\n",
        "    target_size = (150, 150),\n",
        "    class_mode='categorical')\n"
      ],
      "metadata": {
        "colab": {
          "base_uri": "https://localhost:8080/"
        },
        "id": "C6B3xCssFwy9",
        "outputId": "c24ca63d-789c-4f63-891b-7fabfc3fbc5a"
      },
      "execution_count": 43,
      "outputs": [
        {
          "output_type": "stream",
          "name": "stdout",
          "text": [
            "Found 37 images belonging to 3 classes.\n"
          ]
        }
      ]
    },
    {
      "cell_type": "markdown",
      "source": [
        "# model prediction on the test dataset"
      ],
      "metadata": {
        "id": "jrY9mbu5J5EA"
      }
    },
    {
      "cell_type": "code",
      "source": [
        "predictions = model.predict(test_generator)"
      ],
      "metadata": {
        "colab": {
          "base_uri": "https://localhost:8080/"
        },
        "id": "0ZNXQMY-KMu1",
        "outputId": "3a4da851-44a5-405c-8631-38c4752d15e5"
      },
      "execution_count": 44,
      "outputs": [
        {
          "output_type": "stream",
          "name": "stdout",
          "text": [
            "8/8 [==============================] - 13s 2s/step\n"
          ]
        }
      ]
    },
    {
      "cell_type": "code",
      "source": [
        "fig, ax = plt.subplots(nrows=2, ncols=5, figsize=(12, 10))\n",
        "idx = 0\n",
        "\n",
        "for i in range(1):\n",
        "    for j in range(5):\n",
        "        predicted_label = labels[np.argmax(predictions[idx])]\n",
        "        ax[i, j].set_title(f\"{predicted_label}\")\n",
        "        ax[i, j].imshow(test_generator[0][0][idx])\n",
        "        ax[i, j].axis(\"off\")\n",
        "        idx += 1\n",
        "\n",
        "plt.tight_layout()\n",
        "plt.suptitle(\"Test Dataset Predictions\", fontsize=20)\n",
        "plt.show()"
      ],
      "metadata": {
        "id": "Z2qr2QpHNSsq"
      },
      "execution_count": null,
      "outputs": []
    },
    {
      "cell_type": "code",
      "source": [
        "test_loss, test_accuracy = model.evaluate(test_generator,\n",
        "                          batch_size=5)\n"
      ],
      "metadata": {
        "colab": {
          "base_uri": "https://localhost:8080/"
        },
        "id": "NduU5ZmdOao-",
        "outputId": "aff46c64-2833-4fee-a586-bfc86c3da7b2"
      },
      "execution_count": 71,
      "outputs": [
        {
          "output_type": "stream",
          "name": "stdout",
          "text": [
            "8/8 [==============================] - 2s 247ms/step - loss: 0.7562 - acc: 0.8649\n"
          ]
        }
      ]
    },
    {
      "cell_type": "code",
      "source": [
        "print(f\"Test Loss:     {test_loss}\")\n",
        "print(f\"Test Accuracy: {test_accuracy}\")"
      ],
      "metadata": {
        "colab": {
          "base_uri": "https://localhost:8080/"
        },
        "id": "smoSf6u0Pzbv",
        "outputId": "29767eb6-0eff-4371-f8d4-1cd425d23e94"
      },
      "execution_count": 72,
      "outputs": [
        {
          "output_type": "stream",
          "name": "stdout",
          "text": [
            "Test Loss:     0.756205677986145\n",
            "Test Accuracy: 0.8648648858070374\n"
          ]
        }
      ]
    },
    {
      "cell_type": "markdown",
      "source": [
        "# plotting the classification report\n",
        "# confusion matrix"
      ],
      "metadata": {
        "id": "RRtdiDzyQChw"
      }
    },
    {
      "cell_type": "code",
      "source": [
        "y_pred = np.argmax(predictions, axis=1)\n",
        "y_true = test_generator.classes"
      ],
      "metadata": {
        "id": "HAAlRzb9QLXy"
      },
      "execution_count": 73,
      "outputs": []
    },
    {
      "cell_type": "code",
      "source": [
        "from sklearn.metrics import confusion_matrix, classification_report\n",
        "\n",
        "cf_mtx = confusion_matrix(y_true, y_pred)\n",
        "\n",
        "\n",
        "import seaborn as sns\n",
        "sns.heatmap(cf_mtx)"
      ],
      "metadata": {
        "colab": {
          "base_uri": "https://localhost:8080/",
          "height": 448
        },
        "id": "bCg2nMwxQdZx",
        "outputId": "55b074ae-1776-47c2-9a08-caf39258baf7"
      },
      "execution_count": 81,
      "outputs": [
        {
          "output_type": "execute_result",
          "data": {
            "text/plain": [
              "<Axes: >"
            ]
          },
          "metadata": {},
          "execution_count": 81
        },
        {
          "output_type": "display_data",
          "data": {
            "text/plain": [
              "<Figure size 640x480 with 2 Axes>"
            ],
            "image/png": "[encoded data removed]"
          },
          "metadata": {}
        }
      ]
    },
    {
      "cell_type": "code",
      "source": [
        "print(classification_report(y_true, y_pred, target_names=labels.values()))\n",
        "\n",
        "\n"
      ],
      "metadata": {
        "colab": {
          "base_uri": "https://localhost:8080/"
        },
        "id": "_sbMveHiR9d8",
        "outputId": "c0cfc64e-ab09-4715-d11b-3fa594ab1ed6"
      },
      "execution_count": 78,
      "outputs": [
        {
          "output_type": "stream",
          "name": "stdout",
          "text": [
            "              precision    recall  f1-score   support\n",
            "\n",
            "   dr1_train       1.00      0.70      0.82        10\n",
            "   dr2_train       0.88      0.88      0.88        17\n",
            "   dr3_train       0.77      1.00      0.87        10\n",
            "\n",
            "    accuracy                           0.86        37\n",
            "   macro avg       0.88      0.86      0.86        37\n",
            "weighted avg       0.88      0.86      0.86        37\n",
            "\n"
          ]
        }
      ]
    },
    {
      "cell_type": "code",
      "source": [],
      "metadata": {
        "id": "NFXaEPbfVou_"
      },
      "execution_count": null,
      "outputs": []
    }
  ]
}