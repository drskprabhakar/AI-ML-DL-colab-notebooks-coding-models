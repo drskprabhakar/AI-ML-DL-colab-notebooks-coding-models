{
  "nbformat": 4,
  "nbformat_minor": 0,
  "metadata": {
    "colab": {
      "provenance": [],
      "mount_file_id": "1NuAV7IoXXTUpFqhaiouhFzn9rcQV6KyA",
      "authorship_tag": "ABX9TyOCkl/lLxNjp2UiKPvj+zsi",
      "include_colab_link": true
    },
    "kernelspec": {
      "name": "python3",
      "display_name": "Python 3"
    },
    "language_info": {
      "name": "python"
    }
  },
  "cells": [
    {
      "cell_type": "markdown",
      "metadata": {
        "id": "view-in-github",
        "colab_type": "text"
      },
      "source": [
        "<a href=\"https://colab.research.google.com/github/drskprabhakar/Axial-Length-Prediction-ML-Regression-mode/blob/main/DR_CNN_model.ipynb\" target=\"_parent\"><img src=\"https://colab.research.google.com/assets/colab-badge.svg\" alt=\"Open In Colab\"/></a>"
      ]
    },
    {
      "cell_type": "code",
      "execution_count": 2,
      "metadata": {
        "colab": {
          "base_uri": "https://localhost:8080/"
        },
        "id": "75_kWp9o2VT6",
        "outputId": "3069171a-c8ae-4d10-caac-59011efac1f4"
      },
      "outputs": [
        {
          "output_type": "execute_result",
          "data": {
            "text/plain": [
              "['train', 'val', 'test']"
            ]
          },
          "metadata": {},
          "execution_count": 2
        }
      ],
      "source": [
        "import os\n",
        "import numpy as np\n",
        "os.listdir('/content/drive/MyDrive/DR fundus images/split')"
      ]
    },
    {
      "cell_type": "code",
      "source": [
        "os.listdir('/content/drive/MyDrive/DR fundus images/split/train')"
      ],
      "metadata": {
        "colab": {
          "base_uri": "https://localhost:8080/"
        },
        "id": "R9DgjjXa5Aig",
        "outputId": "d3d478d1-bba7-45d5-b61f-adccd1259af1"
      },
      "execution_count": 3,
      "outputs": [
        {
          "output_type": "execute_result",
          "data": {
            "text/plain": [
              "['DR2', 'DR1', 'DR3']"
            ]
          },
          "metadata": {},
          "execution_count": 3
        }
      ]
    },
    {
      "cell_type": "code",
      "source": [
        "from keras.preprocessing.image import ImageDataGenerator\n",
        "datagen = ImageDataGenerator(rescale=1/255,\n",
        "                             rotation_range=20,\n",
        "                             width_shift_range = 0.2,\n",
        "                             height_shift_range = 0.2,\n",
        "                             horizontal_flip = 0.2,\n",
        "                             vertical_flip = 0.2)"
      ],
      "metadata": {
        "id": "ORQyxf3n5M7H"
      },
      "execution_count": 9,
      "outputs": []
    },
    {
      "cell_type": "code",
      "source": [
        "trainimages = datagen.flow_from_directory('/content/drive/MyDrive/DR fundus images/split/train',\n",
        "                                          target_size=(64,64), class_mode='categorical')\n",
        "valimages = datagen.flow_from_directory('/content/drive/MyDrive/DR fundus images/split/val',\n",
        "                                          target_size=(64,64), class_mode='categorical')\n",
        "testimages = datagen.flow_from_directory('/content/drive/MyDrive/DR fundus images/split/test',\n",
        "                                          target_size=(64,64), class_mode='categorical')"
      ],
      "metadata": {
        "colab": {
          "base_uri": "https://localhost:8080/"
        },
        "id": "38MyxLEH5SA7",
        "outputId": "5252562d-9cc6-4bad-9d9e-fd40c6dcabe1"
      },
      "execution_count": 10,
      "outputs": [
        {
          "output_type": "stream",
          "name": "stdout",
          "text": [
            "Found 78 images belonging to 3 classes.\n",
            "Found 14 images belonging to 3 classes.\n",
            "Found 14 images belonging to 3 classes.\n"
          ]
        }
      ]
    },
    {
      "cell_type": "code",
      "source": [
        "from keras.models import Sequential\n",
        "from keras.layers import Conv2D, MaxPooling2D, Flatten, Dense\n",
        "\n",
        "model = Sequential([Conv2D(32,(3,3), activation='relu', input_shape=(64,64,3)),\n",
        "                    MaxPooling2D(2,2),\n",
        "\n",
        "                    Conv2D(64,(3,3), activation='relu'),\n",
        "                    MaxPooling2D(2,2),\n",
        "\n",
        "                    Flatten(),\n",
        "                    Dense(128, activation='relu'),\n",
        "                    Dense(3, activation='softmax')])\n",
        "\n",
        "model.compile(optimizer='adam', loss='categorical_crossentropy', metrics=['accuracy'])\n",
        "model.summary()"
      ],
      "metadata": {
        "colab": {
          "base_uri": "https://localhost:8080/"
        },
        "id": "WkAuPWy58D3n",
        "outputId": "3f8ea0ba-2685-4923-eeb9-a00ec93451ed"
      },
      "execution_count": 14,
      "outputs": [
        {
          "output_type": "stream",
          "name": "stdout",
          "text": [
            "Model: \"sequential_2\"\n",
            "_________________________________________________________________\n",
            " Layer (type)                Output Shape              Param #   \n",
            "=================================================================\n",
            " conv2d_4 (Conv2D)           (None, 62, 62, 32)        896       \n",
            "                                                                 \n",
            " max_pooling2d_4 (MaxPoolin  (None, 31, 31, 32)        0         \n",
            " g2D)                                                            \n",
            "                                                                 \n",
            " conv2d_5 (Conv2D)           (None, 29, 29, 64)        18496     \n",
            "                                                                 \n",
            " max_pooling2d_5 (MaxPoolin  (None, 14, 14, 64)        0         \n",
            " g2D)                                                            \n",
            "                                                                 \n",
            " flatten_2 (Flatten)         (None, 12544)             0         \n",
            "                                                                 \n",
            " dense_4 (Dense)             (None, 128)               1605760   \n",
            "                                                                 \n",
            " dense_5 (Dense)             (None, 3)                 387       \n",
            "                                                                 \n",
            "=================================================================\n",
            "Total params: 1625539 (6.20 MB)\n",
            "Trainable params: 1625539 (6.20 MB)\n",
            "Non-trainable params: 0 (0.00 Byte)\n",
            "_________________________________________________________________\n"
          ]
        }
      ]
    },
    {
      "cell_type": "code",
      "source": [
        "model.fit(trainimages, batch_size=32, epochs=5, validation_data=valimages)\n",
        "model.save('DRCNN_model.keras')"
      ],
      "metadata": {
        "colab": {
          "base_uri": "https://localhost:8080/"
        },
        "id": "aBuiDcFf-5oN",
        "outputId": "2142fd53-f8ef-48f1-ad82-8e8b4f068551"
      },
      "execution_count": 46,
      "outputs": [
        {
          "output_type": "stream",
          "name": "stdout",
          "text": [
            "Epoch 1/5\n",
            "3/3 [==============================] - 8s 2s/step - loss: 0.5434 - accuracy: 0.7308 - val_loss: 0.6711 - val_accuracy: 0.7143\n",
            "Epoch 2/5\n",
            "3/3 [==============================] - 7s 3s/step - loss: 0.5232 - accuracy: 0.7308 - val_loss: 0.7035 - val_accuracy: 0.8571\n",
            "Epoch 3/5\n",
            "3/3 [==============================] - 6s 2s/step - loss: 0.5002 - accuracy: 0.8077 - val_loss: 0.7806 - val_accuracy: 0.7143\n",
            "Epoch 4/5\n",
            "3/3 [==============================] - 6s 2s/step - loss: 0.5665 - accuracy: 0.7564 - val_loss: 0.7985 - val_accuracy: 0.7857\n",
            "Epoch 5/5\n",
            "3/3 [==============================] - 7s 3s/step - loss: 0.4552 - accuracy: 0.8077 - val_loss: 0.9352 - val_accuracy: 0.6429\n"
          ]
        }
      ]
    },
    {
      "cell_type": "code",
      "source": [
        "y_pred = model.predict(testimages)\n",
        "y_pred"
      ],
      "metadata": {
        "colab": {
          "base_uri": "https://localhost:8080/"
        },
        "id": "PyTqcYyIAbQ9",
        "outputId": "0d194084-7530-4c3c-de4e-e1a4cea33bee"
      },
      "execution_count": 47,
      "outputs": [
        {
          "output_type": "stream",
          "name": "stdout",
          "text": [
            "1/1 [==============================] - 1s 811ms/step\n"
          ]
        },
        {
          "output_type": "execute_result",
          "data": {
            "text/plain": [
              "array([[1.4704975e-02, 1.3363993e-01, 8.5165513e-01],\n",
              "       [4.0224344e-02, 4.3055732e-03, 9.5547009e-01],\n",
              "       [2.8529261e-05, 9.7944152e-01, 2.0529905e-02],\n",
              "       [4.1786034e-06, 1.0493715e-02, 9.8950201e-01],\n",
              "       [2.4884129e-01, 2.7807951e-01, 4.7307920e-01],\n",
              "       [2.1729728e-03, 8.3127785e-01, 1.6654927e-01],\n",
              "       [1.0374848e-09, 9.9533367e-01, 4.6662316e-03],\n",
              "       [3.4910328e-05, 4.7767486e-02, 9.5219761e-01],\n",
              "       [2.6319982e-04, 8.8097245e-02, 9.1163951e-01],\n",
              "       [6.6219158e-03, 4.6147475e-01, 5.3190327e-01],\n",
              "       [9.6081151e-03, 1.0238337e-01, 8.8800853e-01],\n",
              "       [7.9007283e-02, 2.2680758e-02, 8.9831197e-01],\n",
              "       [1.4781894e-02, 1.0726230e-01, 8.7795579e-01],\n",
              "       [4.2269957e-01, 1.3053136e-02, 5.6424731e-01]], dtype=float32)"
            ]
          },
          "metadata": {},
          "execution_count": 47
        }
      ]
    },
    {
      "cell_type": "code",
      "source": [
        "y_pred1 = np.argmax(y_pred, axis=1)\n",
        "y_pred1"
      ],
      "metadata": {
        "colab": {
          "base_uri": "https://localhost:8080/"
        },
        "id": "IEhqTJyjBDSV",
        "outputId": "b9277edd-ea06-4d08-a60e-4e0e4cd27e63"
      },
      "execution_count": 48,
      "outputs": [
        {
          "output_type": "execute_result",
          "data": {
            "text/plain": [
              "array([2, 2, 1, 2, 2, 1, 1, 2, 2, 2, 2, 2, 2, 2])"
            ]
          },
          "metadata": {},
          "execution_count": 48
        }
      ]
    },
    {
      "cell_type": "code",
      "source": [
        "y_true = testimages.classes\n",
        "y_true"
      ],
      "metadata": {
        "colab": {
          "base_uri": "https://localhost:8080/"
        },
        "id": "Rm65NGPZBV38",
        "outputId": "9f013746-4226-4eb0-b4ff-e00b7ffe7687"
      },
      "execution_count": 20,
      "outputs": [
        {
          "output_type": "execute_result",
          "data": {
            "text/plain": [
              "array([0, 0, 0, 1, 1, 1, 1, 1, 1, 2, 2, 2, 2, 2], dtype=int32)"
            ]
          },
          "metadata": {},
          "execution_count": 20
        }
      ]
    },
    {
      "cell_type": "code",
      "source": [
        "testimages.class_indices"
      ],
      "metadata": {
        "colab": {
          "base_uri": "https://localhost:8080/"
        },
        "id": "y-JHmc6qBj6E",
        "outputId": "830c42bc-0f39-4801-85bd-d288abc41445"
      },
      "execution_count": 21,
      "outputs": [
        {
          "output_type": "execute_result",
          "data": {
            "text/plain": [
              "{'DR1': 0, 'DR2': 1, 'DR3': 2}"
            ]
          },
          "metadata": {},
          "execution_count": 21
        }
      ]
    },
    {
      "cell_type": "code",
      "source": [
        "from sklearn import metrics\n",
        "metrics.confusion_matrix(y_true, y_pred1)"
      ],
      "metadata": {
        "colab": {
          "base_uri": "https://localhost:8080/"
        },
        "id": "m5vJVQp-Bj4n",
        "outputId": "a5ddf1c2-4798-403e-8b35-8cce68be0ef3"
      },
      "execution_count": 49,
      "outputs": [
        {
          "output_type": "execute_result",
          "data": {
            "text/plain": [
              "array([[0, 1, 2],\n",
              "       [0, 2, 4],\n",
              "       [0, 0, 5]])"
            ]
          },
          "metadata": {},
          "execution_count": 49
        }
      ]
    },
    {
      "cell_type": "code",
      "source": [
        "print(metrics.classification_report(y_true, y_pred1, target_names=['DR1', 'DR2', 'DR3']))"
      ],
      "metadata": {
        "colab": {
          "base_uri": "https://localhost:8080/"
        },
        "id": "ZmmQBaKyCWE6",
        "outputId": "e9ca0801-449a-409d-e758-610f25ab4dfd"
      },
      "execution_count": 33,
      "outputs": [
        {
          "output_type": "stream",
          "name": "stdout",
          "text": [
            "              precision    recall  f1-score   support\n",
            "\n",
            "         DR1       0.00      0.00      0.00         3\n",
            "         DR2       0.75      0.50      0.60         6\n",
            "         DR3       0.44      0.80      0.57         5\n",
            "\n",
            "    accuracy                           0.50        14\n",
            "   macro avg       0.40      0.43      0.39        14\n",
            "weighted avg       0.48      0.50      0.46        14\n",
            "\n"
          ]
        }
      ]
    },
    {
      "cell_type": "code",
      "source": [
        "metrics.ConfusionMatrixDisplay.from_predictions(y_true, y_pred1)"
      ],
      "metadata": {
        "colab": {
          "base_uri": "https://localhost:8080/",
          "height": 473
        },
        "id": "VSbCHIFwCFbk",
        "outputId": "20d92727-5b65-4d12-fabf-c8560ef5987b"
      },
      "execution_count": 24,
      "outputs": [
        {
          "output_type": "execute_result",
          "data": {
            "text/plain": [
              "<sklearn.metrics._plot.confusion_matrix.ConfusionMatrixDisplay at 0x7f63678ab370>"
            ]
          },
          "metadata": {},
          "execution_count": 24
        },
        {
          "output_type": "display_data",
          "data": {
            "text/plain": [
              "<Figure size 640x480 with 2 Axes>"
            ],
            "image/png": "[encoded data removed]"
          },
          "metadata": {}
        }
      ]
    },
    {
      "cell_type": "code",
      "source": [
        "import numpy as np\n",
        "import matplotlib.pyplot as plt\n",
        "from sklearn.metrics import roc_curve, auc\n",
        "from sklearn.preprocessing import LabelBinarizer\n",
        "from itertools import cycle\n",
        "\n",
        "# Assuming you have your model predictions and ground truth labels\n",
        "# model_predictions = Your model's predicted probabilities for each class\n",
        "# ground_truth_labels = Ground truth labels for each sample\n",
        "\n",
        "# Convert labels to one-hot encoding\n",
        "label_binarizer = LabelBinarizer()\n",
        "ground_truth_labels_binary = label_binarizer.fit_transform(y_true)\n",
        "\n",
        "# Compute ROC curve and ROC area for each class\n",
        "fpr = dict()\n",
        "tpr = dict()\n",
        "roc_auc = dict()\n",
        "n_classes = len(label_binarizer.classes_)\n",
        "\n",
        "for i in range(n_classes):\n",
        "    fpr[i], tpr[i], _ = roc_curve(ground_truth_labels_binary[:, i], y_pred[:, i])\n",
        "    roc_auc[i] = auc(fpr[i], tpr[i])\n",
        "\n",
        "# Plot ROC curves\n",
        "plt.figure(figsize=(10, 8))\n",
        "colors = cycle(['aqua', 'darkorange', 'cornflowerblue'])\n",
        "for i, color in zip(range(n_classes), colors):\n",
        "    plt.plot(fpr[i], tpr[i], color=color, lw=2,\n",
        "             label='ROC curve of class {0} (area = {1:0.2f})'\n",
        "             ''.format(label_binarizer.classes_[i], roc_auc[i]))\n",
        "\n",
        "plt.plot([0, 1], [0, 1], 'k--', lw=2)\n",
        "plt.xlim([0.0, 1.0])\n",
        "plt.ylim([0.0, 1.05])\n",
        "plt.xlabel('False Positive Rate')\n",
        "plt.ylabel('True Positive Rate')\n",
        "plt.title('Receiver Operating Characteristic for Multiclass Classification')\n",
        "plt.legend(loc=\"lower right\")\n",
        "plt.show()\n"
      ],
      "metadata": {
        "colab": {
          "base_uri": "https://localhost:8080/",
          "height": 718
        },
        "id": "GyzfO_DUCWDj",
        "outputId": "0cd475a1-5fda-4fcf-e55c-ad219c0a3bf9"
      },
      "execution_count": 28,
      "outputs": [
        {
          "output_type": "display_data",
          "data": {
            "text/plain": [
              "<Figure size 1000x800 with 1 Axes>"
            ],
            "image/png": "[encoded data removed]"
          },
          "metadata": {}
        }
      ]
    },
    {
      "cell_type": "code",
      "source": [
        "import numpy as np\n",
        "import tensorflow as tf\n",
        "from tensorflow.keras.preprocessing import image\n",
        "from tensorflow.keras.models import load_model\n",
        "\n",
        "# Load the trained CNN model\n",
        "model = load_model('multiclass_classification_cnn_model.h5')  # Provide the path to your trained model file\n",
        "\n",
        "# Define a function to predict unknown images\n",
        "def predict_unknown_image(image_path):\n",
        "    img = image.load_img(image_path, target_size=(150, 150))  # Assuming images are resized to 150x150\n",
        "    img_array = image.img_to_array(img)\n",
        "    img_array = np.expand_dims(img_array, axis=0)  # Expand dimensions to match batch size\n",
        "    img_array /= 255.0  # Normalize pixel values\n",
        "\n",
        "    prediction = model.predict(img_array)\n",
        "    predicted_class_index = np.argmax(prediction)  # Get the index of the class with the highest probability\n",
        "    class_names = [\"Class A\", \"Class B\", \"Class C\"]  # Example class names, modify as per your multiclass classes\n",
        "    predicted_class_name = class_names[predicted_class_index]\n",
        "\n",
        "    return predicted_class_name\n",
        "\n",
        "# Example usage:\n",
        "unknown_image_path = \"unknown_image.jpg\"  # Provide the path to the unknown image\n",
        "prediction = predict_unknown_image(unknown_image_path)\n",
        "print(\"Prediction:\", prediction)\n"
      ],
      "metadata": {
        "id": "eCckHeZTGMwZ"
      },
      "execution_count": null,
      "outputs": []
    }
  ]
}