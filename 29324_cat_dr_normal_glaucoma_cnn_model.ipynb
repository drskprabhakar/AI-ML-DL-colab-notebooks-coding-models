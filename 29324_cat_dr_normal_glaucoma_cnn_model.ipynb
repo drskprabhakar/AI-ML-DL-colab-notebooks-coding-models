{
  "nbformat": 4,
  "nbformat_minor": 0,
  "metadata": {
    "colab": {
      "provenance": [],
      "mount_file_id": "1R9Ex-jS8kj-17Sf14CLWD9VgWl8mDDg5",
      "authorship_tag": "ABX9TyMAbgmlNPnVISeXbVIA6f8c",
      "include_colab_link": true
    },
    "kernelspec": {
      "name": "python3",
      "display_name": "Python 3"
    },
    "language_info": {
      "name": "python"
    },
    "accelerator": "TPU"
  },
  "cells": [
    {
      "cell_type": "markdown",
      "metadata": {
        "id": "view-in-github",
        "colab_type": "text"
      },
      "source": [
        "<a href=\"https://colab.research.google.com/github/drskprabhakar/Axial-Length-Prediction-ML-Regression-mode/blob/main/29324_cat_dr_normal_glaucoma_cnn_model.ipynb\" target=\"_parent\"><img src=\"https://colab.research.google.com/assets/colab-badge.svg\" alt=\"Open In Colab\"/></a>"
      ]
    },
    {
      "cell_type": "code",
      "execution_count": 2,
      "metadata": {
        "colab": {
          "base_uri": "https://localhost:8080/"
        },
        "id": "gEUZXhwCEq3w",
        "outputId": "578ba524-046d-4a16-90a6-dad57d4ccc01"
      },
      "outputs": [
        {
          "output_type": "execute_result",
          "data": {
            "text/plain": [
              "['train', 'val', 'test']"
            ]
          },
          "metadata": {},
          "execution_count": 2
        }
      ],
      "source": [
        "import os\n",
        "import numpy as np\n",
        "os.listdir('/content/drive/MyDrive/fundus images cataract DR glaucoma normal/split')"
      ]
    },
    {
      "cell_type": "code",
      "source": [
        "os.listdir('/content/drive/MyDrive/fundus images cataract DR glaucoma normal/split/train')\n"
      ],
      "metadata": {
        "colab": {
          "base_uri": "https://localhost:8080/"
        },
        "id": "kT-71zd3FMtq",
        "outputId": "43d5aad3-f7ff-46ec-d8e4-d11fbfcc2eba"
      },
      "execution_count": 3,
      "outputs": [
        {
          "output_type": "execute_result",
          "data": {
            "text/plain": [
              "['cataract', 'diabetic_retinopathy', 'normal', 'glaucoma']"
            ]
          },
          "metadata": {},
          "execution_count": 3
        }
      ]
    },
    {
      "cell_type": "code",
      "source": [
        "from keras.preprocessing.image import ImageDataGenerator\n",
        "datagen=ImageDataGenerator(rescale=1/255,\n",
        "                           rotation_range = 20,\n",
        "                           width_shift_range = 0.2,\n",
        "                           height_shift_range = 0.2,\n",
        "                           shear_range = 0.2,\n",
        "                           zoom_range = 0.2,\n",
        "                           horizontal_flip = 0.2,\n",
        "                           vertical_flip = 0.2)\n",
        "\n",
        "trainimages=datagen.flow_from_directory('/content/drive/MyDrive/fundus images cataract DR glaucoma normal/split/train',\n",
        "                                        target_size=(64,64),\n",
        "                                        class_mode='categorical')\n",
        "\n",
        "valimages=datagen.flow_from_directory('/content/drive/MyDrive/fundus images cataract DR glaucoma normal/split/val',\n",
        "                                        target_size=(64,64),\n",
        "                                        class_mode='categorical')\n",
        "\n",
        "testimages=datagen.flow_from_directory('/content/drive/MyDrive/fundus images cataract DR glaucoma normal/split/test',\n",
        "                                        target_size=(64,64),\n",
        "                                        class_mode='categorical')\n"
      ],
      "metadata": {
        "colab": {
          "base_uri": "https://localhost:8080/"
        },
        "id": "VCcwEfz-GHwh",
        "outputId": "2d89620c-d308-45d5-cd54-2b54f03c4960"
      },
      "execution_count": 5,
      "outputs": [
        {
          "output_type": "stream",
          "name": "stdout",
          "text": [
            "Found 2945 images belonging to 4 classes.\n",
            "Found 841 images belonging to 4 classes.\n",
            "Found 426 images belonging to 4 classes.\n"
          ]
        }
      ]
    },
    {
      "cell_type": "code",
      "source": [
        "from keras.models import Sequential\n",
        "from keras.layers import Conv2D,MaxPooling2D,Flatten,Dense\n",
        "\n",
        "model=Sequential([Conv2D(32,(3,3), activation='relu', input_shape = (64,64,3)),\n",
        "                  MaxPooling2D(2,2),\n",
        "\n",
        "                  Conv2D(64,(3,3), activation='relu'),\n",
        "                  MaxPooling2D(2,2),\n",
        "\n",
        "                  Flatten(),\n",
        "                  Dense(32, activation='relu'),\n",
        "                  Dense(4, activation='softmax')])\n",
        "\n",
        "model.compile(optimizer = \"rmsprop\",\n",
        "              loss = 'categorical_crossentropy',\n",
        "              metrics=['accuracy'])\n",
        "\n",
        "model.summary()"
      ],
      "metadata": {
        "colab": {
          "base_uri": "https://localhost:8080/"
        },
        "id": "gqO-HoWjHMtC",
        "outputId": "4934b7ab-4aec-403a-af48-dac8eae485cd"
      },
      "execution_count": 6,
      "outputs": [
        {
          "output_type": "stream",
          "name": "stdout",
          "text": [
            "Model: \"sequential\"\n",
            "_________________________________________________________________\n",
            " Layer (type)                Output Shape              Param #   \n",
            "=================================================================\n",
            " conv2d (Conv2D)             (None, 62, 62, 32)        896       \n",
            "                                                                 \n",
            " max_pooling2d (MaxPooling2  (None, 31, 31, 32)        0         \n",
            " D)                                                              \n",
            "                                                                 \n",
            " conv2d_1 (Conv2D)           (None, 29, 29, 64)        18496     \n",
            "                                                                 \n",
            " max_pooling2d_1 (MaxPoolin  (None, 14, 14, 64)        0         \n",
            " g2D)                                                            \n",
            "                                                                 \n",
            " flatten (Flatten)           (None, 12544)             0         \n",
            "                                                                 \n",
            " dense (Dense)               (None, 32)                401440    \n",
            "                                                                 \n",
            " dense_1 (Dense)             (None, 4)                 132       \n",
            "                                                                 \n",
            "=================================================================\n",
            "Total params: 420964 (1.61 MB)\n",
            "Trainable params: 420964 (1.61 MB)\n",
            "Non-trainable params: 0 (0.00 Byte)\n",
            "_________________________________________________________________\n"
          ]
        }
      ]
    },
    {
      "cell_type": "code",
      "source": [
        "model.fit(trainimages,\n",
        "          batch_size=32,\n",
        "          epochs=10,\n",
        "          validation_data=valimages)\n",
        "model.save('cnn_model.keras')"
      ],
      "metadata": {
        "colab": {
          "base_uri": "https://localhost:8080/"
        },
        "id": "L_k3_VTZHkVF",
        "outputId": "7737fcf6-3073-4f5d-da26-936b09e8f44e"
      },
      "execution_count": 32,
      "outputs": [
        {
          "output_type": "stream",
          "name": "stdout",
          "text": [
            "Epoch 1/10\n",
            "93/93 [==============================] - 63s 678ms/step - loss: 1.0461 - accuracy: 0.5447 - val_loss: 0.9683 - val_accuracy: 0.5779\n",
            "Epoch 2/10\n",
            "93/93 [==============================] - 73s 785ms/step - loss: 1.0201 - accuracy: 0.5579 - val_loss: 0.9883 - val_accuracy: 0.5577\n",
            "Epoch 3/10\n",
            "93/93 [==============================] - 71s 769ms/step - loss: 0.9916 - accuracy: 0.5647 - val_loss: 0.9346 - val_accuracy: 0.5933\n",
            "Epoch 4/10\n",
            "93/93 [==============================] - 72s 779ms/step - loss: 0.9516 - accuracy: 0.5874 - val_loss: 0.9419 - val_accuracy: 0.5993\n",
            "Epoch 5/10\n",
            "93/93 [==============================] - 72s 774ms/step - loss: 0.9499 - accuracy: 0.5935 - val_loss: 0.9192 - val_accuracy: 0.6017\n",
            "Epoch 6/10\n",
            "93/93 [==============================] - 73s 784ms/step - loss: 0.9342 - accuracy: 0.5973 - val_loss: 0.8937 - val_accuracy: 0.6040\n",
            "Epoch 7/10\n",
            "93/93 [==============================] - 63s 678ms/step - loss: 0.9143 - accuracy: 0.6122 - val_loss: 0.9291 - val_accuracy: 0.6195\n",
            "Epoch 8/10\n",
            "93/93 [==============================] - 72s 780ms/step - loss: 0.9224 - accuracy: 0.6139 - val_loss: 0.8902 - val_accuracy: 0.6219\n",
            "Epoch 9/10\n",
            "93/93 [==============================] - 71s 765ms/step - loss: 0.9024 - accuracy: 0.6058 - val_loss: 0.8477 - val_accuracy: 0.6587\n",
            "Epoch 10/10\n",
            "93/93 [==============================] - 71s 766ms/step - loss: 0.8729 - accuracy: 0.6292 - val_loss: 0.8665 - val_accuracy: 0.6338\n"
          ]
        }
      ]
    },
    {
      "cell_type": "code",
      "source": [
        "predictions = model.predict(testimages)"
      ],
      "metadata": {
        "colab": {
          "base_uri": "https://localhost:8080/"
        },
        "id": "mP8hqh1vL2_-",
        "outputId": "14c226fd-941c-4a2b-ae05-9ec12452a741"
      },
      "execution_count": 37,
      "outputs": [
        {
          "output_type": "stream",
          "name": "stdout",
          "text": [
            "14/14 [==============================] - 6s 430ms/step\n"
          ]
        }
      ]
    },
    {
      "cell_type": "code",
      "source": [
        "y_pred = np.argmax(predictions, axis=1)"
      ],
      "metadata": {
        "id": "1fu2AV3gL3Og"
      },
      "execution_count": 38,
      "outputs": []
    },
    {
      "cell_type": "code",
      "source": [
        "y_true = testimages.classes"
      ],
      "metadata": {
        "id": "DcsPrgKKL3aL"
      },
      "execution_count": 39,
      "outputs": []
    },
    {
      "cell_type": "code",
      "source": [
        "from sklearn import metrics\n",
        "metrics.confusion_matrix(y_true, y_pred)"
      ],
      "metadata": {
        "id": "vcEkVe1DL3l8",
        "colab": {
          "base_uri": "https://localhost:8080/"
        },
        "outputId": "7ab854ce-f848-4a58-d310-93368d896be6"
      },
      "execution_count": 40,
      "outputs": [
        {
          "output_type": "execute_result",
          "data": {
            "text/plain": [
              "array([[16, 33, 20, 36],\n",
              "       [17, 34, 30, 30],\n",
              "       [ 7, 22, 31, 42],\n",
              "       [ 9, 39, 21, 39]])"
            ]
          },
          "metadata": {},
          "execution_count": 40
        }
      ]
    },
    {
      "cell_type": "code",
      "source": [
        "print(metrics.classification_report(y_true, y_pred))"
      ],
      "metadata": {
        "colab": {
          "base_uri": "https://localhost:8080/"
        },
        "id": "bRGn8TgWOvG2",
        "outputId": "7cf00451-d533-4bca-9298-2390a683563d"
      },
      "execution_count": 41,
      "outputs": [
        {
          "output_type": "stream",
          "name": "stdout",
          "text": [
            "              precision    recall  f1-score   support\n",
            "\n",
            "           0       0.33      0.15      0.21       105\n",
            "           1       0.27      0.31      0.28       111\n",
            "           2       0.30      0.30      0.30       102\n",
            "           3       0.27      0.36      0.31       108\n",
            "\n",
            "    accuracy                           0.28       426\n",
            "   macro avg       0.29      0.28      0.28       426\n",
            "weighted avg       0.29      0.28      0.28       426\n",
            "\n"
          ]
        }
      ]
    },
    {
      "cell_type": "code",
      "source": [
        "metrics.ConfusionMatrixDisplay.from_predictions(y_true, y_pred)"
      ],
      "metadata": {
        "colab": {
          "base_uri": "https://localhost:8080/",
          "height": 466
        },
        "id": "oHZ6HTVmRZI9",
        "outputId": "fe03f656-e780-437a-9927-a6bba2fd82db"
      },
      "execution_count": 42,
      "outputs": [
        {
          "output_type": "execute_result",
          "data": {
            "text/plain": [
              "<sklearn.metrics._plot.confusion_matrix.ConfusionMatrixDisplay at 0x7a352a5c6e60>"
            ]
          },
          "metadata": {},
          "execution_count": 42
        },
        {
          "output_type": "display_data",
          "data": {
            "text/plain": [
              "<Figure size 640x480 with 2 Axes>"
            ],
            "image/png": "[encoded data removed]"
          },
          "metadata": {}
        }
      ]
    },
    {
      "cell_type": "code",
      "source": [],
      "metadata": {
        "id": "msrfsqZf48Sn"
      },
      "execution_count": null,
      "outputs": []
    },
    {
      "cell_type": "code",
      "source": [
        "from tensorflow.keras.preprocessing import image\n",
        "from tensorflow.keras.models import load_model\n",
        "\n",
        "# Load the trained CNN model\n",
        "model = load_model('multiclass_classification_cnn_model.h5')  # Provide the path to your trained model file\n",
        "\n",
        "# Define a function to predict unknown images\n",
        "def predict_unknown_image(image_path):\n",
        "    img = image.load_img(image_path, target_size=(150, 150))  # Assuming images are resized to 150x150\n",
        "    img_array = image.img_to_array(img)\n",
        "    img_array = np.expand_dims(img_array, axis=0)  # Expand dimensions to match batch size\n",
        "    img_array /= 255.0  # Normalize pixel values\n",
        "\n",
        "    prediction = model.predict(img_array)\n",
        "    predicted_class_index = np.argmax(prediction)  # Get the index of the class with the highest probability\n",
        "    class_names = [\"Class A\", \"Class B\", \"Class C\"]  # Example class names, modify as per your multiclass classes\n",
        "    predicted_class_name = class_names[predicted_class_index]\n",
        "\n",
        "    return predicted_class_name\n",
        "\n",
        "# Example usage:\n",
        "unknown_image_path = \"unknown_image.jpg\"  # Provide the path to the unknown image\n",
        "prediction = predict_unknown_image(unknown_image_path)\n",
        "print(\"Prediction:\", prediction)\n"
      ],
      "metadata": {
        "id": "9MsKP4dgRQS9"
      },
      "execution_count": null,
      "outputs": []
    }
  ]
}