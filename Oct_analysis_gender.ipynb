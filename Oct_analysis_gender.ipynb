{
  "nbformat": 4,
  "nbformat_minor": 0,
  "metadata": {
    "colab": {
      "provenance": [],
      "mount_file_id": "1pbExnomODDLCGneSU8sIpaZdmvyX9e1R",
      "authorship_tag": "ABX9TyPEWQIF2W63Q/bzj9lBvJza",
      "include_colab_link": true
    },
    "kernelspec": {
      "name": "python3",
      "display_name": "Python 3"
    },
    "language_info": {
      "name": "python"
    }
  },
  "cells": [
    {
      "cell_type": "markdown",
      "metadata": {
        "id": "view-in-github",
        "colab_type": "text"
      },
      "source": [
        "<a href=\"https://colab.research.google.com/github/drskprabhakar/AI-ML-DL-colab-notebooks-coding-models/blob/main/Oct_analysis_gender.ipynb\" target=\"_parent\"><img src=\"https://colab.research.google.com/assets/colab-badge.svg\" alt=\"Open In Colab\"/></a>"
      ]
    },
    {
      "cell_type": "code",
      "execution_count": 1,
      "metadata": {
        "id": "sXGG2nyUFtGv"
      },
      "outputs": [],
      "source": [
        "import pandas as pd\n",
        "import numpy as np\n",
        "import seaborn\n",
        "import openpyxl"
      ]
    },
    {
      "cell_type": "code",
      "source": [
        "df=openpyxl.load_workbook('/content/drive/MyDrive/OCT analysis age original dataset in hemodialysis patients thesis Dr Poojitha.xlsx')\n",
        "df.sheetnames"
      ],
      "metadata": {
        "colab": {
          "base_uri": "https://localhost:8080/"
        },
        "id": "6iRzjaFPGIrn",
        "outputId": "7915ffe3-7b28-444f-fcf1-9ef1da9f589e"
      },
      "execution_count": 2,
      "outputs": [
        {
          "output_type": "stream",
          "name": "stderr",
          "text": [
            "/usr/local/lib/python3.10/dist-packages/openpyxl/worksheet/_reader.py:329: UserWarning: Web Extension extension is not supported and will be removed\n",
            "  warn(msg)\n"
          ]
        },
        {
          "output_type": "execute_result",
          "data": {
            "text/plain": [
              "['Patient-control demo (CKD-D (2)',\n",
              " 'Patient-control demo (CKD-DM)',\n",
              " 'Patient-control demo (CKD-HTN)',\n",
              " 'Pre+post HD-VA,IOP,CCT-DM',\n",
              " 'Pre+post HD-VA,IOP,CCT-HTN',\n",
              " 'Pre+post HD-RNFL-DM',\n",
              " 'Pre+post HD-CMT-DM',\n",
              " 'Pre+post HD-VFA-DM',\n",
              " 'Pre+post HD-RNFL-HTN',\n",
              " 'Pre+post HD-CMT-HTN',\n",
              " 'Pre+post HD-VFA-HTN']"
            ]
          },
          "metadata": {},
          "execution_count": 2
        }
      ]
    },
    {
      "cell_type": "code",
      "source": [
        "genderdm = pd.read_excel('/content/drive/MyDrive/OCT analysis age original dataset in hemodialysis patients thesis Dr Poojitha.xlsx', sheet_name='Patient-control demo (CKD-D (2)')\n",
        "genderdm.columns\n"
      ],
      "metadata": {
        "colab": {
          "base_uri": "https://localhost:8080/"
        },
        "id": "d9tyPeS-Glb3",
        "outputId": "62df4ba4-5060-4187-a64b-c387ed58bb76"
      },
      "execution_count": 29,
      "outputs": [
        {
          "output_type": "execute_result",
          "data": {
            "text/plain": [
              "Index(['Age-DM', 'Males-DM', 'Females-DM', 'RE-DM', 'LE-DM', 'Age-Control(DM)',\n",
              "       'Males-Control(DM)', 'Females-Control(DM)', 'RE-Control(DM)',\n",
              "       'LE-Control(DM)'],\n",
              "      dtype='object')"
            ]
          },
          "metadata": {},
          "execution_count": 29
        }
      ]
    },
    {
      "cell_type": "code",
      "source": [
        "gender_dm = genderdm.drop(['RE-DM', 'LE-DM', 'Age-Control(DM)','Age-DM',\n",
        "       'RE-Control(DM)',\n",
        "       'LE-Control(DM)'], axis=1)\n",
        "\n"
      ],
      "metadata": {
        "id": "3r3AfOKkHfVS"
      },
      "execution_count": 30,
      "outputs": []
    },
    {
      "cell_type": "code",
      "source": [
        "gender_dm.columns"
      ],
      "metadata": {
        "colab": {
          "base_uri": "https://localhost:8080/"
        },
        "id": "ToWAD0z3IT_m",
        "outputId": "419aedf4-4202-45c5-e7d0-78cf5d506f2a"
      },
      "execution_count": 31,
      "outputs": [
        {
          "output_type": "execute_result",
          "data": {
            "text/plain": [
              "Index(['Males-DM', 'Females-DM', 'Males-Control(DM)', 'Females-Control(DM)'], dtype='object')"
            ]
          },
          "metadata": {},
          "execution_count": 31
        }
      ]
    },
    {
      "cell_type": "code",
      "source": [
        "seaborn.barplot(gender_dm)"
      ],
      "metadata": {
        "colab": {
          "base_uri": "https://localhost:8080/",
          "height": 448
        },
        "id": "0vv8v9-oJ74U",
        "outputId": "134688c1-4d6f-46b5-e429-2aaf3dbba8fc"
      },
      "execution_count": 18,
      "outputs": [
        {
          "output_type": "execute_result",
          "data": {
            "text/plain": [
              "<Axes: >"
            ]
          },
          "metadata": {},
          "execution_count": 18
        },
        {
          "output_type": "display_data",
          "data": {
            "text/plain": [
              "<Figure size 640x480 with 1 Axes>"
            ],
            "image/png": "[encoded data removed]"
          },
          "metadata": {}
        }
      ]
    },
    {
      "cell_type": "code",
      "source": [
        "# prompt: Value counts\n",
        "\n",
        "gender_dm['Males-DM'].value_counts(),gender_dm['Females-DM'].value_counts(),gender_dm['Males-Control(DM)'].value_counts(),gender_dm['Females-Control(DM)'].value_counts()\n"
      ],
      "metadata": {
        "colab": {
          "base_uri": "https://localhost:8080/"
        },
        "id": "T-c3_k7JKa6W",
        "outputId": "673f6505-ab1a-43ea-84c3-4c7b5372ebe1"
      },
      "execution_count": 25,
      "outputs": [
        {
          "output_type": "execute_result",
          "data": {
            "text/plain": [
              "(Males-DM\n",
              " 1    18\n",
              " 0    12\n",
              " Name: count, dtype: int64,\n",
              " Females-DM\n",
              " 0    18\n",
              " 1    12\n",
              " Name: count, dtype: int64,\n",
              " Males-Control(DM)\n",
              " 1    20\n",
              " 0    10\n",
              " Name: count, dtype: int64,\n",
              " Females-Control(DM)\n",
              " 0    20\n",
              " 1    10\n",
              " Name: count, dtype: int64)"
            ]
          },
          "metadata": {},
          "execution_count": 25
        }
      ]
    },
    {
      "cell_type": "code",
      "source": [
        "# prompt: Barplot\n",
        "\n",
        "import matplotlib.pyplot as plt\n",
        "\n",
        "# Sample data (replace with your actual data)\n",
        "males_dm = gender_dm['Males-DM'].value_counts()\n",
        "females_dm = gender_dm['Females-DM'].value_counts()\n",
        "males_control = gender_dm['Males-Control(DM)'].value_counts()\n",
        "females_control = gender_dm['Females-Control(DM)'].value_counts()\n",
        "\n",
        "# Combine data into a list\n",
        "data = [males_dm[1], females_dm[1], males_control[1], females_control[1]]  # Assuming you want counts of a specific value (e.g., 1)\n",
        "labels = ['Males-DM', 'Females-DM', 'Males-Control', 'Females-Control']\n",
        "\n",
        "# Create bar plot\n",
        "plt.bar(labels, data)\n",
        "plt.xlabel('Gender')\n",
        "plt.ylabel('Count')\n",
        "plt.title('Distribution of Gender in DM and Control Groups')\n",
        "plt.show()\n"
      ],
      "metadata": {
        "colab": {
          "base_uri": "https://localhost:8080/",
          "height": 472
        },
        "id": "FsdzB3F8KbIv",
        "outputId": "171352a7-ca63-4653-f8d1-057e321eee11"
      },
      "execution_count": 26,
      "outputs": [
        {
          "output_type": "display_data",
          "data": {
            "text/plain": [
              "<Figure size 640x480 with 1 Axes>"
            ],
            "image/png": "[encoded data removed]"
          },
          "metadata": {}
        }
      ]
    },
    {
      "cell_type": "code",
      "source": [
        "# prompt: Chi square test\n",
        "\n",
        "from scipy.stats import chi2_contingency\n",
        "\n",
        "# Create a contingency table\n",
        "contingency_table = [[males_dm[1], females_dm[1]],\n",
        "                     [males_control[1], females_control[1]]]\n",
        "\n",
        "# Perform chi-square test\n",
        "chi2, p, dof, expected = chi2_contingency(contingency_table)\n",
        "\n",
        "# Print results\n",
        "print(\"Chi-square statistic:\", chi2)\n",
        "print(\"P-value:\", p)\n",
        "print(\"Degrees of freedom:\", dof)\n",
        "print(\"Expected frequencies:\", expected)\n"
      ],
      "metadata": {
        "colab": {
          "base_uri": "https://localhost:8080/"
        },
        "id": "VQkKPPQAKbWC",
        "outputId": "1a96c6b4-4d6a-4e3d-8313-81b4df0b6c89"
      },
      "execution_count": 27,
      "outputs": [
        {
          "output_type": "stream",
          "name": "stdout",
          "text": [
            "Chi-square statistic: 0.07177033492822966\n",
            "P-value: 0.7887764015501196\n",
            "Degrees of freedom: 1\n",
            "Expected frequencies: [[19. 11.]\n",
            " [19. 11.]]\n"
          ]
        }
      ]
    },
    {
      "cell_type": "code",
      "source": [
        "import scipy.stats as stats\n",
        "\n",
        "# Define the contingency table\n",
        "data = [[18, 20],\n",
        "       [12, 10]]\n",
        "\n",
        "# Perform the chi-square test\n",
        "chi2, p, dof, expected = stats.chi2_contingency(data)\n",
        "\n",
        "# Print the results\n",
        "print(f\"Chi2 statistic: {chi2}\")\n",
        "print(f\"P-value: {p}\")\n",
        "print(f\"Degrees of freedom: {dof}\")\n",
        "print(\"Expected frequencies:\")\n",
        "print(expected)\n"
      ],
      "metadata": {
        "colab": {
          "base_uri": "https://localhost:8080/"
        },
        "id": "-ZphtAK8NAe1",
        "outputId": "1010e68c-709a-430f-f59c-6df2fa1163cb"
      },
      "execution_count": 28,
      "outputs": [
        {
          "output_type": "stream",
          "name": "stdout",
          "text": [
            "Chi2 statistic: 0.07177033492822966\n",
            "P-value: 0.7887764015501196\n",
            "Degrees of freedom: 1\n",
            "Expected frequencies:\n",
            "[[19. 19.]\n",
            " [11. 11.]]\n"
          ]
        }
      ]
    },
    {
      "cell_type": "code",
      "source": [
        "genderhtn = pd.read_excel('/content/drive/MyDrive/OCT analysis age original dataset in hemodialysis patients thesis Dr Poojitha.xlsx', sheet_name='Patient-control demo (CKD-HTN)')\n",
        "genderhtn.columns\n"
      ],
      "metadata": {
        "colab": {
          "base_uri": "https://localhost:8080/"
        },
        "id": "RDoGqNNrNA3u",
        "outputId": "7e90cbc1-859a-4513-986e-1409f3063d2c"
      },
      "execution_count": 34,
      "outputs": [
        {
          "output_type": "execute_result",
          "data": {
            "text/plain": [
              "Index(['Age-HTN', 'Males-HTN', 'Females-HTN', 'RE-HTN', 'LE-HTN',\n",
              "       'Age-Control(HTN)', 'Males-Control(HTN)', 'Females-Control(HTN)',\n",
              "       'RE-Control(HTN)', 'LE-Control(HTN)'],\n",
              "      dtype='object')"
            ]
          },
          "metadata": {},
          "execution_count": 34
        }
      ]
    },
    {
      "cell_type": "code",
      "source": [
        "gender_htn = genderhtn.drop(['Age-HTN',  'RE-HTN', 'LE-HTN',\n",
        "       'Age-Control(HTN)',\n",
        "       'RE-Control(HTN)', 'LE-Control(HTN)'], axis=1)\n",
        "gender_htn.columns"
      ],
      "metadata": {
        "colab": {
          "base_uri": "https://localhost:8080/"
        },
        "collapsed": true,
        "id": "VEZyY7BnPisu",
        "outputId": "c3afb7a5-c16b-41c7-9b13-dc09fbb920d0"
      },
      "execution_count": 38,
      "outputs": [
        {
          "output_type": "execute_result",
          "data": {
            "text/plain": [
              "Index(['Males-HTN', 'Females-HTN', 'Males-Control(HTN)',\n",
              "       'Females-Control(HTN)'],\n",
              "      dtype='object')"
            ]
          },
          "metadata": {},
          "execution_count": 38
        }
      ]
    },
    {
      "cell_type": "code",
      "source": [
        "seaborn.barplot(gender_htn)\n"
      ],
      "metadata": {
        "colab": {
          "base_uri": "https://localhost:8080/",
          "height": 448
        },
        "id": "NPRIryDWPjEo",
        "outputId": "e6631a98-cc8c-41b6-f874-929ecfb316ac"
      },
      "execution_count": 39,
      "outputs": [
        {
          "output_type": "execute_result",
          "data": {
            "text/plain": [
              "<Axes: >"
            ]
          },
          "metadata": {},
          "execution_count": 39
        },
        {
          "output_type": "display_data",
          "data": {
            "text/plain": [
              "<Figure size 640x480 with 1 Axes>"
            ],
            "image/png": "[encoded data removed]"
          },
          "metadata": {}
        }
      ]
    },
    {
      "cell_type": "code",
      "source": [
        "# prompt: Value counts\n",
        "\n",
        "gender_htn['Males-HTN'].value_counts(),gender_htn['Females-HTN'].value_counts(),gender_htn['Males-Control(HTN)'].value_counts(),gender_htn['Females-Control(HTN)'].value_counts()\n"
      ],
      "metadata": {
        "colab": {
          "base_uri": "https://localhost:8080/"
        },
        "id": "3MjsP0nPPjSg",
        "outputId": "e77b794d-267d-43f9-861d-9700dcce1cec"
      },
      "execution_count": 40,
      "outputs": [
        {
          "output_type": "execute_result",
          "data": {
            "text/plain": [
              "(Males-HTN\n",
              " 0    17\n",
              " 1    13\n",
              " Name: count, dtype: int64,\n",
              " Females-HTN\n",
              " 1    17\n",
              " 0    13\n",
              " Name: count, dtype: int64,\n",
              " Males-Control(HTN)\n",
              " 1    17\n",
              " 0    13\n",
              " Name: count, dtype: int64,\n",
              " Females-Control(HTN)\n",
              " 0    17\n",
              " 1    13\n",
              " Name: count, dtype: int64)"
            ]
          },
          "metadata": {},
          "execution_count": 40
        }
      ]
    },
    {
      "cell_type": "code",
      "source": [
        "# prompt: Barplot\n",
        "\n",
        "import matplotlib.pyplot as plt\n",
        "# Sample data (replace with your actual data)\n",
        "males_htn = gender_htn['Males-HTN'].value_counts()\n",
        "females_htn = gender_htn['Females-HTN'].value_counts()\n",
        "males_control_htn = gender_htn['Males-Control(HTN)'].value_counts()\n",
        "females_control_htn = gender_htn['Females-Control(HTN)'].value_counts()\n",
        "\n",
        "# Combine data into a list\n",
        "data = [males_htn[1], females_htn[1], males_control_htn[1], females_control_htn[1]]  # Assuming you want counts of a specific value (e.g., 1)\n",
        "labels = ['Males-HTN', 'Females-HTN', 'Males-Control', 'Females-Control']\n",
        "\n",
        "# Create bar plot\n",
        "plt.bar(labels, data)\n",
        "plt.xlabel('Gender')\n",
        "plt.ylabel('Count')\n",
        "plt.title('Distribution of Gender in HTN and Control Groups')\n",
        "plt.show()\n"
      ],
      "metadata": {
        "colab": {
          "base_uri": "https://localhost:8080/",
          "height": 472
        },
        "id": "rgMBDNHiQevc",
        "outputId": "ce268c88-db11-44b2-f19e-61df7c49178c"
      },
      "execution_count": 41,
      "outputs": [
        {
          "output_type": "display_data",
          "data": {
            "text/plain": [
              "<Figure size 640x480 with 1 Axes>"
            ],
            "image/png": "[encoded data removed]"
          },
          "metadata": {}
        }
      ]
    },
    {
      "cell_type": "code",
      "source": [
        "# prompt: Chi square test\n",
        "\n",
        "# Create a contingency table\n",
        "contingency_table = [[males_htn[1], females_htn[1]],\n",
        "                     [males_control_htn[1], females_control_htn[1]]]\n",
        "\n",
        "# Perform chi-square test\n",
        "chi2, p, dof, expected = chi2_contingency(contingency_table)\n",
        "\n",
        "# Print results\n",
        "print(\"Chi-square statistic:\", chi2)\n",
        "print(\"P-value:\", p)\n",
        "print(\"Degrees of freedom:\", dof)\n",
        "print(\"Expected frequencies:\", expected)\n"
      ],
      "metadata": {
        "colab": {
          "base_uri": "https://localhost:8080/"
        },
        "id": "TensUt0WQfBk",
        "outputId": "0513cf53-17bc-4ea9-efbc-d50dac25c204"
      },
      "execution_count": 42,
      "outputs": [
        {
          "output_type": "stream",
          "name": "stdout",
          "text": [
            "Chi-square statistic: 0.6\n",
            "P-value: 0.4385780260809997\n",
            "Degrees of freedom: 1\n",
            "Expected frequencies: [[15. 15.]\n",
            " [15. 15.]]\n"
          ]
        }
      ]
    },
    {
      "cell_type": "code",
      "source": [
        "import scipy.stats as stats\n",
        "\n",
        "# Define the contingency table\n",
        "data = [[13, 17],\n",
        "       [17, 13]]\n",
        "\n",
        "# Perform the chi-square test\n",
        "chi2, p, dof, expected = stats.chi2_contingency(data)\n",
        "\n",
        "# Print the results\n",
        "print(f\"Chi2 statistic: {chi2}\")\n",
        "print(f\"P-value: {p}\")\n",
        "print(f\"Degrees of freedom: {dof}\")\n",
        "print(\"Expected frequencies:\")\n",
        "print(expected)"
      ],
      "metadata": {
        "colab": {
          "base_uri": "https://localhost:8080/"
        },
        "id": "C2nwXL1QQfIe",
        "outputId": "98776ab3-c35b-4033-b0ac-38b96747f44c"
      },
      "execution_count": 43,
      "outputs": [
        {
          "output_type": "stream",
          "name": "stdout",
          "text": [
            "Chi2 statistic: 0.6\n",
            "P-value: 0.4385780260809997\n",
            "Degrees of freedom: 1\n",
            "Expected frequencies:\n",
            "[[15. 15.]\n",
            " [15. 15.]]\n"
          ]
        }
      ]
    },
    {
      "cell_type": "code",
      "source": [
        "import scipy.stats as stats\n",
        "\n",
        "# Define the contingency table\n",
        "data = [[18, 20,13,17],\n",
        "       [12, 10,17,13]]\n",
        "\n",
        "# Perform the chi-square test\n",
        "chi2, p, dof, expected = stats.chi2_contingency(data)\n",
        "\n",
        "# Print the results\n",
        "print(f\"Chi2 statistic: {chi2}\")\n",
        "print(f\"P-value: {p}\")\n",
        "print(f\"Degrees of freedom: {dof}\")\n",
        "print(\"Expected frequencies:\")\n",
        "print(expected)"
      ],
      "metadata": {
        "colab": {
          "base_uri": "https://localhost:8080/"
        },
        "id": "tpwTaz0NQfSW",
        "outputId": "5f57f535-d73d-4a4c-c699-493ece8f0dde"
      },
      "execution_count": 44,
      "outputs": [
        {
          "output_type": "stream",
          "name": "stdout",
          "text": [
            "Chi2 statistic: 3.5294117647058822\n",
            "P-value: 0.31696750048996636\n",
            "Degrees of freedom: 3\n",
            "Expected frequencies:\n",
            "[[17. 17. 17. 17.]\n",
            " [13. 13. 13. 13.]]\n"
          ]
        }
      ]
    },
    {
      "cell_type": "code",
      "source": [
        "df.sheetnames"
      ],
      "metadata": {
        "colab": {
          "base_uri": "https://localhost:8080/"
        },
        "id": "npshUceiPRo-",
        "outputId": "28511b67-b63d-4356-a531-a44f2fe2594c"
      },
      "execution_count": 32,
      "outputs": [
        {
          "output_type": "execute_result",
          "data": {
            "text/plain": [
              "['Patient-control demo (CKD-D (2)',\n",
              " 'Patient-control demo (CKD-DM)',\n",
              " 'Patient-control demo (CKD-HTN)',\n",
              " 'Pre+post HD-VA,IOP,CCT-DM',\n",
              " 'Pre+post HD-VA,IOP,CCT-HTN',\n",
              " 'Pre+post HD-RNFL-DM',\n",
              " 'Pre+post HD-CMT-DM',\n",
              " 'Pre+post HD-VFA-DM',\n",
              " 'Pre+post HD-RNFL-HTN',\n",
              " 'Pre+post HD-CMT-HTN',\n",
              " 'Pre+post HD-VFA-HTN']"
            ]
          },
          "metadata": {},
          "execution_count": 32
        }
      ]
    },
    {
      "cell_type": "code",
      "source": [],
      "metadata": {
        "id": "RHiUFU82PRxZ"
      },
      "execution_count": null,
      "outputs": []
    },
    {
      "cell_type": "code",
      "source": [],
      "metadata": {
        "id": "6baIpPo_PR4D"
      },
      "execution_count": null,
      "outputs": []
    },
    {
      "cell_type": "code",
      "source": [],
      "metadata": {
        "id": "Oh__dyTKPR_U"
      },
      "execution_count": null,
      "outputs": []
    }
  ]
}