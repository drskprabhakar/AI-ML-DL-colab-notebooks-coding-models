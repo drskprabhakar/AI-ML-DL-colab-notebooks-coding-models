{
  "cells": [
    {
      "cell_type": "markdown",
      "metadata": {
        "id": "view-in-github",
        "colab_type": "text"
      },
      "source": [
        "<a href=\"https://colab.research.google.com/github/drskprabhakar/Axial-Length-Prediction-ML-Regression-mode/blob/main/26324DR_cnn_model.ipynb\" target=\"_parent\"><img src=\"https://colab.research.google.com/assets/colab-badge.svg\" alt=\"Open In Colab\"/></a>"
      ]
    },
    {
      "cell_type": "code",
      "execution_count": null,
      "metadata": {
        "colab": {
          "base_uri": "https://localhost:8080/"
        },
        "id": "kqg7dN8Pd8Sc",
        "outputId": "95934504-733e-413a-c037-41777952e45b"
      },
      "outputs": [
        {
          "data": {
            "text/plain": [
              "['DR1', 'DR3', 'DR2']"
            ]
          },
          "execution_count": 1,
          "metadata": {},
          "output_type": "execute_result"
        }
      ],
      "source": [
        "import os\n",
        "os.listdir('/content/drive/MyDrive/DR fundus images/split/train')"
      ]
    },
    {
      "cell_type": "code",
      "execution_count": null,
      "metadata": {
        "id": "N83DLVa3ehKX"
      },
      "outputs": [],
      "source": [
        "# for numerical analysis\n",
        "import numpy as np\n",
        "\n",
        "# for ploting graphs\n",
        "import matplotlib.pyplot as plt\n",
        "# advancec ploting\n",
        "import seaborn as sns\n",
        "\n",
        "# model performance metrics\n",
        "from sklearn.metrics import confusion_matrix, classification_report\n",
        "\n",
        "# utility functions\n",
        "from tensorflow.keras.utils import to_categorical, plot_model\n",
        "# process image\n",
        "from tensorflow.keras.preprocessing.image import ImageDataGenerator, load_img\n",
        "# sequential model\n",
        "from tensorflow.keras.models import Sequential\n",
        "# layers\n",
        "from tensorflow.keras.layers import Conv2D, MaxPooling2D, Dense, Flatten, Dropout\n",
        "# callback functions\n",
        "from tensorflow.keras.callbacks import EarlyStopping, ModelCheckpoint, LearningRateScheduler"
      ]
    },
    {
      "cell_type": "code",
      "execution_count": null,
      "metadata": {
        "colab": {
          "base_uri": "https://localhost:8080/"
        },
        "id": "Q2FnuZbxeh6r",
        "outputId": "4e093a8f-1920-4c85-c0fa-5cb73b565efd"
      },
      "outputs": [
        {
          "name": "stdout",
          "output_type": "stream",
          "text": [
            "Model: \"sequential\"\n",
            "_________________________________________________________________\n",
            " Layer (type)                Output Shape              Param #   \n",
            "=================================================================\n",
            " conv2d (Conv2D)             (None, 62, 62, 32)        896       \n",
            "                                                                 \n",
            " max_pooling2d (MaxPooling2  (None, 31, 31, 32)        0         \n",
            " D)                                                              \n",
            "                                                                 \n",
            " conv2d_1 (Conv2D)           (None, 29, 29, 64)        18496     \n",
            "                                                                 \n",
            " max_pooling2d_1 (MaxPoolin  (None, 14, 14, 64)        0         \n",
            " g2D)                                                            \n",
            "                                                                 \n",
            " conv2d_2 (Conv2D)           (None, 12, 12, 64)        36928     \n",
            "                                                                 \n",
            " max_pooling2d_2 (MaxPoolin  (None, 6, 6, 64)          0         \n",
            " g2D)                                                            \n",
            "                                                                 \n",
            " flatten (Flatten)           (None, 2304)              0         \n",
            "                                                                 \n",
            " dropout (Dropout)           (None, 2304)              0         \n",
            "                                                                 \n",
            " dense (Dense)               (None, 128)               295040    \n",
            "                                                                 \n",
            " dropout_1 (Dropout)         (None, 128)               0         \n",
            "                                                                 \n",
            " dense_1 (Dense)             (None, 3)                 387       \n",
            "                                                                 \n",
            "=================================================================\n",
            "Total params: 351747 (1.34 MB)\n",
            "Trainable params: 351747 (1.34 MB)\n",
            "Non-trainable params: 0 (0.00 Byte)\n",
            "_________________________________________________________________\n"
          ]
        }
      ],
      "source": [
        "model = Sequential()\n",
        "\n",
        "model.add(Conv2D(32, (3,3), activation='relu', input_shape=(64,64, 3)))\n",
        "model.add(MaxPooling2D(2,2))\n",
        "\n",
        "model.add(Conv2D(64, (3,3), activation='relu'))\n",
        "model.add(MaxPooling2D(2,2))\n",
        "\n",
        "model.add(Conv2D(64, (3,3), activation='relu'))\n",
        "model.add(MaxPooling2D(2,2))\n",
        "\n",
        "model.add(Flatten())\n",
        "\n",
        "model.add(Dropout(0.2))\n",
        "model.add(Dense(128, activation='relu'))\n",
        "\n",
        "model.add(Dropout(0.2))\n",
        "model.add(Dense(3, activation='softmax'))\n",
        "\n",
        "model.compile(optimizer='adam',\n",
        "              loss='categorical_crossentropy',\n",
        "              metrics=['accuracy'])\n",
        "\n",
        "model.summary()"
      ]
    },
    {
      "cell_type": "code",
      "execution_count": null,
      "metadata": {
        "colab": {
          "base_uri": "https://localhost:8080/"
        },
        "id": "dEqvpJVneh_8",
        "outputId": "1716c06e-b7a1-48d0-9314-0d7682223322"
      },
      "outputs": [
        {
          "name": "stdout",
          "output_type": "stream",
          "text": [
            "Found 78 images belonging to 3 classes.\n",
            "Found 14 images belonging to 3 classes.\n",
            "Found 14 images belonging to 3 classes.\n"
          ]
        }
      ],
      "source": [
        "datagen = ImageDataGenerator(rescale=1./255)\n",
        "\n",
        "\n",
        "\n",
        "\n",
        "\n",
        "\n",
        "train_data = datagen.flow_from_directory('/content/drive/MyDrive/DR fundus images/split/train',\n",
        "                                         target_size=(64,64),\n",
        "\n",
        "\n",
        "                                         class_mode='categorical')\n",
        "\n",
        "\n",
        "validation_data = datagen.flow_from_directory('/content/drive/MyDrive/DR fundus images/split/val',\n",
        "                                              target_size=(64,64),\n",
        "\n",
        "\n",
        "                                              class_mode='categorical')\n",
        "\n",
        "test_data = datagen.flow_from_directory('/content/drive/MyDrive/DR fundus images/split/test',\n",
        "                                              target_size=(64,64),\n",
        "\n",
        "\n",
        "                                              class_mode='categorical')\n"
      ]
    },
    {
      "cell_type": "code",
      "execution_count": 181,
      "metadata": {
        "colab": {
          "base_uri": "https://localhost:8080/"
        },
        "id": "FgwtdVH4hBx0",
        "outputId": "c255c918-e4aa-4b15-d1f6-4bffa2ae7e91"
      },
      "outputs": [
        {
          "output_type": "stream",
          "name": "stdout",
          "text": [
            "Epoch 1/10\n",
            "3/3 [==============================] - 9s 2s/step - loss: 0.0302 - accuracy: 0.9872 - val_loss: 1.4055 - val_accuracy: 0.7143\n",
            "Epoch 2/10\n",
            "3/3 [==============================] - 6s 2s/step - loss: 0.0419 - accuracy: 0.9872 - val_loss: 1.1968 - val_accuracy: 0.7143\n",
            "Epoch 3/10\n",
            "3/3 [==============================] - 6s 2s/step - loss: 0.0566 - accuracy: 0.9744 - val_loss: 1.2631 - val_accuracy: 0.7143\n",
            "Epoch 4/10\n",
            "3/3 [==============================] - 5s 2s/step - loss: 0.0234 - accuracy: 1.0000 - val_loss: 1.2476 - val_accuracy: 0.7143\n",
            "Epoch 5/10\n",
            "3/3 [==============================] - 6s 3s/step - loss: 0.0362 - accuracy: 1.0000 - val_loss: 1.1339 - val_accuracy: 0.7143\n",
            "Epoch 6/10\n",
            "3/3 [==============================] - 6s 2s/step - loss: 0.0153 - accuracy: 1.0000 - val_loss: 1.1499 - val_accuracy: 0.6429\n",
            "Epoch 7/10\n",
            "3/3 [==============================] - 5s 2s/step - loss: 0.0131 - accuracy: 1.0000 - val_loss: 1.1734 - val_accuracy: 0.6429\n",
            "Epoch 8/10\n",
            "3/3 [==============================] - 6s 3s/step - loss: 0.0273 - accuracy: 0.9872 - val_loss: 1.1148 - val_accuracy: 0.7143\n",
            "Epoch 9/10\n",
            "3/3 [==============================] - 5s 2s/step - loss: 0.0120 - accuracy: 1.0000 - val_loss: 1.0938 - val_accuracy: 0.7143\n",
            "Epoch 10/10\n",
            "3/3 [==============================] - 6s 2s/step - loss: 0.0302 - accuracy: 1.0000 - val_loss: 1.0916 - val_accuracy: 0.7143\n"
          ]
        }
      ],
      "source": [
        "model.fit(train_data,\n",
        "          validation_data=validation_data,\n",
        "          epochs=10,\n",
        "          batch_size=32)\n",
        "model.save('DRcnn_model.keras')"
      ]
    },
    {
      "cell_type": "code",
      "execution_count": 232,
      "metadata": {
        "colab": {
          "base_uri": "https://localhost:8080/"
        },
        "id": "5__SIJEZhCED",
        "outputId": "6780098a-5881-4196-e690-54037e7605dc"
      },
      "outputs": [
        {
          "output_type": "stream",
          "name": "stdout",
          "text": [
            "1/1 [==============================] - 1s 800ms/step\n"
          ]
        }
      ],
      "source": [
        "predictions = model.predict(test_data)"
      ]
    },
    {
      "cell_type": "code",
      "execution_count": 233,
      "metadata": {
        "id": "ze7z6lnDi8nK"
      },
      "outputs": [],
      "source": [
        "y_pred = np.argmax(predictions, axis=1)"
      ]
    },
    {
      "cell_type": "code",
      "execution_count": 230,
      "metadata": {
        "id": "6CZJlendhCcF"
      },
      "outputs": [],
      "source": [
        "y_true = test_data.classes"
      ]
    },
    {
      "cell_type": "code",
      "execution_count": 234,
      "metadata": {
        "colab": {
          "base_uri": "https://localhost:8080/"
        },
        "id": "UW-giomzidb5",
        "outputId": "8c339095-8d6e-4e1e-98ea-831014c86911"
      },
      "outputs": [
        {
          "output_type": "execute_result",
          "data": {
            "text/plain": [
              "array([[2, 0, 1],\n",
              "       [1, 4, 1],\n",
              "       [0, 1, 4]])"
            ]
          },
          "metadata": {},
          "execution_count": 234
        }
      ],
      "source": [
        "from sklearn import metrics\n",
        "metrics.confusion_matrix(y_true, y_pred)"
      ]
    },
    {
      "cell_type": "code",
      "execution_count": 235,
      "metadata": {
        "colab": {
          "base_uri": "https://localhost:8080/"
        },
        "id": "PmN05R4ujYLH",
        "outputId": "190bb754-e7e9-4329-9de6-ebed9c16b270"
      },
      "outputs": [
        {
          "output_type": "stream",
          "name": "stdout",
          "text": [
            "              precision    recall  f1-score   support\n",
            "\n",
            "         DR1       0.67      0.67      0.67         3\n",
            "         DR2       0.80      0.67      0.73         6\n",
            "         DR3       0.67      0.80      0.73         5\n",
            "\n",
            "    accuracy                           0.71        14\n",
            "   macro avg       0.71      0.71      0.71        14\n",
            "weighted avg       0.72      0.71      0.71        14\n",
            "\n"
          ]
        }
      ],
      "source": [
        "print(metrics.classification_report(y_true, y_pred,\n",
        "                                    target_names=['DR1','DR2','DR3']))"
      ]
    },
    {
      "cell_type": "code",
      "execution_count": 236,
      "metadata": {
        "colab": {
          "base_uri": "https://localhost:8080/"
        },
        "id": "0QJcqVS3pKMC",
        "outputId": "72ee4551-c6f3-4ed0-9396-ab0112acec1f"
      },
      "outputs": [
        {
          "output_type": "stream",
          "name": "stdout",
          "text": [
            "1/1 [==============================] - 0s 106ms/step\n",
            "Prediction: DR2\n"
          ]
        }
      ],
      "source": [
        "from tensorflow.keras.preprocessing import image\n",
        "from tensorflow.keras.models import load_model\n",
        "\n",
        "# Load the trained CNN model\n",
        "model = load_model('/content/DRcnn_model.keras')  # Provide the path to your trained model file\n",
        "\n",
        "# Define a function to predict unknown images\n",
        "def predict_unknown_image(image_path):\n",
        "    img = image.load_img(image_path, target_size=(64,64))  # Assuming images are resized to 150x150\n",
        "    img_array = image.img_to_array(img)\n",
        "    img_array = np.expand_dims(img_array, axis=0)  # Expand dimensions to match batch size\n",
        "    img_array /= 255.0  # Normalize pixel values\n",
        "\n",
        "    prediction = model.predict(img_array)\n",
        "    predicted_class_index = np.argmax(prediction)  # Get the index of the class with the highest probability\n",
        "    class_names = [\"DR1\", \"DR2\", \"DR3\"]  # Example class names, modify as per your multiclass classes\n",
        "    predicted_class_name = class_names[predicted_class_index]\n",
        "\n",
        "    return predicted_class_name\n",
        "\n",
        "# Example usage:\n",
        "unknown_image_path = \"/content/drive/MyDrive/DR fundus images/split/test/DR2/1ffa93dd-8d87-11e8-9daf-6045cb817f5b..JPG\" # Provide the path to the unknown image\n",
        "prediction = predict_unknown_image(unknown_image_path)\n",
        "print(\"Prediction:\", prediction)\n"
      ]
    },
    {
      "cell_type": "code",
      "execution_count": 237,
      "metadata": {
        "colab": {
          "base_uri": "https://localhost:8080/"
        },
        "id": "1O2WPN9yjYht",
        "outputId": "ffc02f21-000a-4408-e7a2-39b94672986e"
      },
      "outputs": [
        {
          "output_type": "execute_result",
          "data": {
            "text/plain": [
              "{'DR1': 0, 'DR2': 1, 'DR3': 2}"
            ]
          },
          "metadata": {},
          "execution_count": 237
        }
      ],
      "source": [
        "test_data.class_indices"
      ]
    }
  ],
  "metadata": {
    "colab": {
      "provenance": [],
      "mount_file_id": "12MBdewdj8erKWe_JfH5hojltg_ZyjHbB",
      "authorship_tag": "ABX9TyO3FQYMO5AJeiyHf0O0qq10",
      "include_colab_link": true
    },
    "kernelspec": {
      "display_name": "Python 3",
      "name": "python3"
    },
    "language_info": {
      "name": "python"
    }
  },
  "nbformat": 4,
  "nbformat_minor": 0
}