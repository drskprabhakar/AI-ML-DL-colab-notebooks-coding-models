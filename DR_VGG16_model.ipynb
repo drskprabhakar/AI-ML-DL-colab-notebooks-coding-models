{
  "nbformat": 4,
  "nbformat_minor": 0,
  "metadata": {
    "colab": {
      "provenance": [],
      "gpuType": "T4",
      "mount_file_id": "1Ifc0KYh0lFT3kSVze21ri5jNhYFCidy7",
      "authorship_tag": "ABX9TyOYYLj0GrevWIXHW201KUIt",
      "include_colab_link": true
    },
    "kernelspec": {
      "name": "python3",
      "display_name": "Python 3"
    },
    "language_info": {
      "name": "python"
    },
    "accelerator": "GPU"
  },
  "cells": [
    {
      "cell_type": "markdown",
      "metadata": {
        "id": "view-in-github",
        "colab_type": "text"
      },
      "source": [
        "<a href=\"https://colab.research.google.com/github/drskprabhakar/Axial-Length-Prediction-ML-Regression-mode/blob/main/DR_VGG16_model.ipynb\" target=\"_parent\"><img src=\"https://colab.research.google.com/assets/colab-badge.svg\" alt=\"Open In Colab\"/></a>"
      ]
    },
    {
      "cell_type": "code",
      "execution_count": 1,
      "metadata": {
        "colab": {
          "base_uri": "https://localhost:8080/"
        },
        "id": "K4dZUo-6umIe",
        "outputId": "14b8a5cb-30f1-40c9-c192-bef955565b86"
      },
      "outputs": [
        {
          "output_type": "execute_result",
          "data": {
            "text/plain": [
              "['train', 'val', 'test']"
            ]
          },
          "metadata": {},
          "execution_count": 1
        }
      ],
      "source": [
        "import os\n",
        "import numpy as np\n",
        "os.listdir('/content/drive/MyDrive/DR fundus images/split')"
      ]
    },
    {
      "cell_type": "code",
      "source": [
        "os.listdir('/content/drive/MyDrive/DR fundus images/split/train')"
      ],
      "metadata": {
        "colab": {
          "base_uri": "https://localhost:8080/"
        },
        "id": "iHnehByevJ5a",
        "outputId": "0150c6cb-6795-4299-91e5-e1010f813a22"
      },
      "execution_count": 2,
      "outputs": [
        {
          "output_type": "execute_result",
          "data": {
            "text/plain": [
              "['DR2', 'DR3', 'DR1']"
            ]
          },
          "metadata": {},
          "execution_count": 2
        }
      ]
    },
    {
      "cell_type": "code",
      "source": [
        "from keras.preprocessing.image import ImageDataGenerator\n",
        "datagen = ImageDataGenerator(rescale=1/255)\n",
        "\n",
        "trainimages = datagen.flow_from_directory('/content/drive/MyDrive/DR fundus images/split/train',\n",
        "                                          target_size=(100,100),\n",
        "                                          class_mode='categorical')\n",
        "\n",
        "valimages = datagen.flow_from_directory('/content/drive/MyDrive/DR fundus images/split/val',\n",
        "                                        target_size=(100,100),\n",
        "                                        class_mode='categorical')\n",
        "\n",
        "testimages = datagen.flow_from_directory('/content/drive/MyDrive/DR fundus images/split/test',\n",
        "                                         target_size=(100,100),\n",
        "                                         class_mode='categorical')\n"
      ],
      "metadata": {
        "colab": {
          "base_uri": "https://localhost:8080/"
        },
        "id": "F8fkyDIhvRVZ",
        "outputId": "e4b0c1b0-15f2-4e4f-9e13-17091010ccf0"
      },
      "execution_count": 3,
      "outputs": [
        {
          "output_type": "stream",
          "name": "stdout",
          "text": [
            "Found 78 images belonging to 3 classes.\n",
            "Found 14 images belonging to 3 classes.\n",
            "Found 14 images belonging to 3 classes.\n"
          ]
        }
      ]
    },
    {
      "cell_type": "code",
      "source": [
        "import keras\n",
        "VGG = keras.applications.VGG16(include_top=False,\n",
        "                               weights=\"imagenet\",\n",
        "                               input_shape=(100,100,3))\n",
        "VGG.trainable=False"
      ],
      "metadata": {
        "id": "XzI3ifT6wWYZ",
        "colab": {
          "base_uri": "https://localhost:8080/"
        },
        "outputId": "e0a099e8-8dd6-4354-b0ca-7559e57d6309"
      },
      "execution_count": 4,
      "outputs": [
        {
          "output_type": "stream",
          "name": "stdout",
          "text": [
            "Downloading data from https://storage.googleapis.com/tensorflow/keras-applications/vgg16/vgg16_weights_tf_dim_ordering_tf_kernels_notop.h5\n",
            "58889256/58889256 [==============================] - 1s 0us/step\n"
          ]
        }
      ]
    },
    {
      "cell_type": "code",
      "source": [
        "from keras.models import Sequential\n",
        "model = keras.Sequential([\n",
        "    VGG,\n",
        "    keras.layers.Flatten(),\n",
        "    keras.layers.Dense(64, activation='relu'),\n",
        "    keras.layers.Dense(64, activation='relu'),\n",
        "    keras.layers.Dense(3, activation='softmax')\n",
        "])\n",
        "model.compile(optimizer='adam',\n",
        "              loss='categorical_crossentropy',\n",
        "              metrics=['accuracy'])\n",
        "model.summary()"
      ],
      "metadata": {
        "colab": {
          "base_uri": "https://localhost:8080/"
        },
        "id": "pA71vM1owWoU",
        "outputId": "78bcea56-565e-4ca9-86d8-2e7eb7b7204b"
      },
      "execution_count": 5,
      "outputs": [
        {
          "output_type": "stream",
          "name": "stdout",
          "text": [
            "Model: \"sequential\"\n",
            "_________________________________________________________________\n",
            " Layer (type)                Output Shape              Param #   \n",
            "=================================================================\n",
            " vgg16 (Functional)          (None, 3, 3, 512)         14714688  \n",
            "                                                                 \n",
            " flatten (Flatten)           (None, 4608)              0         \n",
            "                                                                 \n",
            " dense (Dense)               (None, 64)                294976    \n",
            "                                                                 \n",
            " dense_1 (Dense)             (None, 64)                4160      \n",
            "                                                                 \n",
            " dense_2 (Dense)             (None, 3)                 195       \n",
            "                                                                 \n",
            "=================================================================\n",
            "Total params: 15014019 (57.27 MB)\n",
            "Trainable params: 299331 (1.14 MB)\n",
            "Non-trainable params: 14714688 (56.13 MB)\n",
            "_________________________________________________________________\n"
          ]
        }
      ]
    },
    {
      "cell_type": "code",
      "source": [
        "model.fit(trainimages,\n",
        "          batch_size=10,\n",
        "          epochs=5,\n",
        "          validation_data=valimages)\n",
        "model.save('DRVGG16_model.keras')"
      ],
      "metadata": {
        "colab": {
          "base_uri": "https://localhost:8080/"
        },
        "id": "Mq7f12AoxMPs",
        "outputId": "7b59b4e3-fc0f-4586-e1cc-0dc6bf8849b9"
      },
      "execution_count": 23,
      "outputs": [
        {
          "output_type": "stream",
          "name": "stdout",
          "text": [
            "Epoch 1/5\n",
            "3/3 [==============================] - 14s 4s/step - loss: 0.2112 - accuracy: 0.9615 - val_loss: 0.5043 - val_accuracy: 0.7857\n",
            "Epoch 2/5\n",
            "3/3 [==============================] - 14s 3s/step - loss: 0.2003 - accuracy: 0.9615 - val_loss: 0.4948 - val_accuracy: 0.7143\n",
            "Epoch 3/5\n",
            "3/3 [==============================] - 14s 4s/step - loss: 0.1834 - accuracy: 0.9615 - val_loss: 0.4922 - val_accuracy: 0.7143\n",
            "Epoch 4/5\n",
            "3/3 [==============================] - 13s 3s/step - loss: 0.1720 - accuracy: 0.9615 - val_loss: 0.5084 - val_accuracy: 0.7143\n",
            "Epoch 5/5\n",
            "3/3 [==============================] - 13s 3s/step - loss: 0.1551 - accuracy: 0.9744 - val_loss: 0.5338 - val_accuracy: 0.7143\n"
          ]
        }
      ]
    },
    {
      "cell_type": "code",
      "source": [
        "y_pred = model.predict(testimages)\n",
        "y_pred"
      ],
      "metadata": {
        "colab": {
          "base_uri": "https://localhost:8080/"
        },
        "id": "bYnHPs6yzROb",
        "outputId": "2256a33d-c02a-4a76-f2ad-8648949da16b"
      },
      "execution_count": 24,
      "outputs": [
        {
          "output_type": "stream",
          "name": "stdout",
          "text": [
            "1/1 [==============================] - 2s 2s/step\n"
          ]
        },
        {
          "output_type": "execute_result",
          "data": {
            "text/plain": [
              "array([[8.00901413e-01, 8.42105132e-03, 1.90677479e-01],\n",
              "       [6.08088933e-02, 3.98427635e-01, 5.40763497e-01],\n",
              "       [7.89014876e-01, 1.85184497e-02, 1.92466617e-01],\n",
              "       [8.12469609e-03, 7.83774436e-01, 2.08100811e-01],\n",
              "       [1.10290165e-03, 2.31594563e-01, 7.67302573e-01],\n",
              "       [3.19123908e-04, 8.50032330e-01, 1.49648532e-01],\n",
              "       [1.08612515e-02, 1.58958748e-01, 8.30180049e-01],\n",
              "       [1.17416224e-02, 1.57171056e-01, 8.31087351e-01],\n",
              "       [5.48986973e-05, 9.49899733e-01, 5.00453524e-02],\n",
              "       [5.80074498e-04, 1.35324046e-01, 8.64095867e-01],\n",
              "       [2.03480871e-04, 1.32642463e-01, 8.67154062e-01],\n",
              "       [2.60806701e-04, 9.67383832e-02, 9.03000772e-01],\n",
              "       [5.41822636e-04, 6.46510065e-01, 3.52948189e-01],\n",
              "       [8.89252580e-04, 7.29318202e-01, 2.69792557e-01]], dtype=float32)"
            ]
          },
          "metadata": {},
          "execution_count": 24
        }
      ]
    },
    {
      "cell_type": "code",
      "source": [
        "y_pred1 = np.argmax(y_pred, axis=1)\n",
        "y_pred1"
      ],
      "metadata": {
        "colab": {
          "base_uri": "https://localhost:8080/"
        },
        "id": "CsgOkCLLzcyk",
        "outputId": "a0a02c85-f3b1-4a3e-d9c1-fc84c1b63b5c"
      },
      "execution_count": 25,
      "outputs": [
        {
          "output_type": "execute_result",
          "data": {
            "text/plain": [
              "array([0, 2, 0, 1, 2, 1, 2, 2, 1, 2, 2, 2, 1, 1])"
            ]
          },
          "metadata": {},
          "execution_count": 25
        }
      ]
    },
    {
      "cell_type": "code",
      "source": [
        "y_true = testimages.classes\n",
        "y_true"
      ],
      "metadata": {
        "colab": {
          "base_uri": "https://localhost:8080/"
        },
        "id": "_3mvP_t5zsf5",
        "outputId": "aefcba69-8390-4483-8b4a-ebf7ba16edba"
      },
      "execution_count": 9,
      "outputs": [
        {
          "output_type": "execute_result",
          "data": {
            "text/plain": [
              "array([0, 0, 0, 1, 1, 1, 1, 1, 1, 2, 2, 2, 2, 2], dtype=int32)"
            ]
          },
          "metadata": {},
          "execution_count": 9
        }
      ]
    },
    {
      "cell_type": "code",
      "source": [
        "from sklearn import metrics\n",
        "metrics.confusion_matrix(y_true, y_pred1)"
      ],
      "metadata": {
        "colab": {
          "base_uri": "https://localhost:8080/"
        },
        "id": "5XLEVz02zsrl",
        "outputId": "05126992-58d9-48bc-e7a0-af84b27b8c9d"
      },
      "execution_count": 26,
      "outputs": [
        {
          "output_type": "execute_result",
          "data": {
            "text/plain": [
              "array([[2, 0, 1],\n",
              "       [0, 3, 3],\n",
              "       [0, 2, 3]])"
            ]
          },
          "metadata": {},
          "execution_count": 26
        }
      ]
    },
    {
      "cell_type": "code",
      "source": [
        "metrics.ConfusionMatrixDisplay.from_predictions(y_true, y_pred1)"
      ],
      "metadata": {
        "id": "UczqmWLzAQrX",
        "colab": {
          "base_uri": "https://localhost:8080/",
          "height": 473
        },
        "outputId": "8194b9f7-84af-4602-91ec-1b114f9be72c"
      },
      "execution_count": 27,
      "outputs": [
        {
          "output_type": "execute_result",
          "data": {
            "text/plain": [
              "<sklearn.metrics._plot.confusion_matrix.ConfusionMatrixDisplay at 0x79191eeef310>"
            ]
          },
          "metadata": {},
          "execution_count": 27
        },
        {
          "output_type": "display_data",
          "data": {
            "text/plain": [
              "<Figure size 640x480 with 2 Axes>"
            ],
            "image/png": "[encoded data removed]"
          },
          "metadata": {}
        }
      ]
    },
    {
      "cell_type": "code",
      "source": [
        "print(metrics.classification_report(y_true,y_pred1,\n",
        "                                    target_names=['DR1', 'DR2', 'DR3']))"
      ],
      "metadata": {
        "id": "pOCUh5rPAQ62",
        "colab": {
          "base_uri": "https://localhost:8080/"
        },
        "outputId": "6f6aacad-20bc-426a-a413-6484d6c08233"
      },
      "execution_count": 28,
      "outputs": [
        {
          "output_type": "stream",
          "name": "stdout",
          "text": [
            "              precision    recall  f1-score   support\n",
            "\n",
            "         DR1       1.00      0.67      0.80         3\n",
            "         DR2       0.60      0.50      0.55         6\n",
            "         DR3       0.43      0.60      0.50         5\n",
            "\n",
            "    accuracy                           0.57        14\n",
            "   macro avg       0.68      0.59      0.62        14\n",
            "weighted avg       0.62      0.57      0.58        14\n",
            "\n"
          ]
        }
      ]
    },
    {
      "cell_type": "code",
      "source": [
        "import numpy as np\n",
        "import matplotlib.pyplot as plt\n",
        "from sklearn.metrics import roc_curve, auc\n",
        "from sklearn.preprocessing import LabelBinarizer\n",
        "from itertools import cycle\n",
        "\n",
        "# Assuming you have your model predictions and ground truth labels\n",
        "# model_predictions = Your model's predicted probabilities for each class\n",
        "# ground_truth_labels = Ground truth labels for each sample\n",
        "\n",
        "# Convert labels to one-hot encoding\n",
        "label_binarizer = LabelBinarizer()\n",
        "ground_truth_labels_binary = label_binarizer.fit_transform(y_true)\n",
        "\n",
        "# Compute ROC curve and ROC area for each class\n",
        "fpr = dict()\n",
        "tpr = dict()\n",
        "roc_auc = dict()\n",
        "n_classes = len(label_binarizer.classes_)\n",
        "\n",
        "for i in range(n_classes):\n",
        "    fpr[i], tpr[i], _ = roc_curve(ground_truth_labels_binary[:, i], y_pred[:, i])\n",
        "    roc_auc[i] = auc(fpr[i], tpr[i])\n",
        "\n",
        "# Plot ROC curves\n",
        "plt.figure(figsize=(10, 8))\n",
        "colors = cycle(['aqua', 'darkorange', 'cornflowerblue'])\n",
        "for i, color in zip(range(n_classes), colors):\n",
        "    plt.plot(fpr[i], tpr[i], color=color, lw=2,\n",
        "             label='ROC curve of class {0} (area = {1:0.2f})'\n",
        "             ''.format(label_binarizer.classes_[i], roc_auc[i]))\n",
        "\n",
        "plt.plot([0, 1], [0, 1], 'k--', lw=2)\n",
        "plt.xlim([0.0, 1.0])\n",
        "plt.ylim([0.0, 1.05])\n",
        "plt.xlabel('False Positive Rate')\n",
        "plt.ylabel('True Positive Rate')\n",
        "plt.title('Receiver Operating Characteristic for Multiclass Classification')\n",
        "plt.legend(loc=\"lower right\")\n",
        "plt.show()\n"
      ],
      "metadata": {
        "id": "1AHDg1CQARm6",
        "colab": {
          "base_uri": "https://localhost:8080/",
          "height": 582
        },
        "outputId": "4725fcd4-2734-4514-c1a6-32326b9f8deb"
      },
      "execution_count": 30,
      "outputs": [
        {
          "output_type": "display_data",
          "data": {
            "text/plain": [
              "<Figure size 1000x800 with 1 Axes>"
            ],
            "image/png": "[encoded data removed]"
          },
          "metadata": {}
        }
      ]
    },
    {
      "cell_type": "code",
      "source": [
        "import numpy as np\n",
        "import tensorflow as tf\n",
        "from tensorflow.keras.preprocessing import image\n",
        "from tensorflow.keras.models import load_model\n",
        "\n",
        "# Load the trained CNN model\n",
        "model = load_model('/content/DRVGG16_model.keras')  # Provide the path to your trained model file\n",
        "\n",
        "# Define a function to predict unknown images\n",
        "def predict_unknown_image(image_path):\n",
        "    img = image.load_img(image_path, target_size=(100,100))  # Assuming images are resized to 150x150\n",
        "    img_array = image.img_to_array(img)\n",
        "    img_array = np.expand_dims(img_array, axis=0)  # Expand dimensions to match batch size\n",
        "    img_array /= 255.0  # Normalize pixel values\n",
        "\n",
        "    prediction = model.predict(img_array)\n",
        "    predicted_class_index = np.argmax(prediction)  # Get the index of the class with the highest probability\n",
        "    class_names = [\"DR1\", \"DR2\", \"DR3\"]  # Example class names, modify as per your multiclass classes\n",
        "    predicted_class_name = class_names[predicted_class_index]\n",
        "\n",
        "    return predicted_class_name\n",
        "\n",
        "# Example usage:\n",
        "unknown_image_path = \"/content/drive/MyDrive/DR fundus images/split/test/DR3/1ffa92ed-8d87-11e8-9daf-6045cb817f5b..JPG\"\n",
        "# Provide the path to the unknown image\n",
        "prediction = predict_unknown_image(unknown_image_path)\n",
        "print(\"Prediction:\", prediction)\n"
      ],
      "metadata": {
        "colab": {
          "base_uri": "https://localhost:8080/"
        },
        "id": "whCOxv8x9JS-",
        "outputId": "daddb86d-b69f-44ff-d6e8-e4c8b65deee4"
      },
      "execution_count": 34,
      "outputs": [
        {
          "output_type": "stream",
          "name": "stdout",
          "text": [
            "1/1 [==============================] - 0s 433ms/step\n",
            "Prediction: DR2\n"
          ]
        }
      ]
    },
    {
      "cell_type": "code",
      "source": [],
      "metadata": {
        "id": "lyUZZ9t89Jot"
      },
      "execution_count": null,
      "outputs": []
    },
    {
      "cell_type": "code",
      "source": [],
      "metadata": {
        "id": "KJGxmND69J79"
      },
      "execution_count": null,
      "outputs": []
    }
  ]
}